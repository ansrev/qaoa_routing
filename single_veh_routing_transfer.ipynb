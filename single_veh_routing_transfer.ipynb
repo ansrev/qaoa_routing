{
 "cells": [
  {
   "source": [
    "# use case"
   ],
   "cell_type": "markdown",
   "metadata": {}
  },
  {
   "source": [
    "## modified from:\n",
    "## https://github.com/PlanQK/Routing/blob/master/Routing%20in%20directed%20graph.ipynb"
   ],
   "cell_type": "markdown",
   "metadata": {}
  },
  {
   "cell_type": "markdown",
   "metadata": {},
   "source": [
    "# Routing in a directed graph\n",
    "Consider a directed graph with edges $i=0, ..., N$ and edge costs $C_i$. We want to find a path from a start vertex to a target vertex. Let $X_i\\in\\{0,1\\}$ be binary variables indicating if edge $i$ is chosen along the path.\n",
    "\n",
    "The cost function is based on the following requirements:\n",
    "- The start vertex has exactly one outgoing edge.\n",
    "- The start vertex has no incoming edge.\n",
    "- The target vertex has exactly one incoming edge.\n",
    "- The target vertex has no outgoing edge.\n",
    "- Every other vertex has\n",
    "    - either one or zero incoming edges.\n",
    "    - either one or zero outgoing edges.\n",
    "    - an equal number of incoming and outgoing edges.\n"
   ]
  },
  {
   "cell_type": "markdown",
   "metadata": {},
   "source": [
    "## Problem definition"
   ]
  },
  {
   "cell_type": "code",
   "execution_count": 12,
   "metadata": {},
   "outputs": [
    {
     "output_type": "execute_result",
     "data": {
      "text/plain": [
       "P*(Sum(X[VsO[i]], (i, 0, LenVsO - 1)) - 1)**2 + P*(Sum(X[VtI[i]], (i, 0, LenVtI - 1)) - 1)**2 + P*Sum((Sum(X[VI[v, i]], (i, 0, LenVI[v] - 1)) - 1)*Sum(X[VI[v, i]], (i, 0, LenVI[v] - 1)), (v, 0, LenV - 1)) + 2*P*Sum((Sum(X[VO[v, i]], (i, 0, LenVO[v] - 1)) - 1)*Sum(X[VO[v, i]], (i, 0, LenVO[v] - 1)), (v, 0, LenV - 1)) + P*Sum((Sum(X[VI[v, i]], (i, 0, LenVI[v] - 1)) - Sum(X[VO[v, i]], (i, 0, LenVO[v] - 1)))**2, (v, 0, LenV - 1)) + P*Sum(X[VsI[i]], (i, 0, LenVsI - 1)) + P*Sum(X[Vt O[i]], (i, 0, LenVtO - 1)) + Sum(C[i]*X[i], (i, 0, N - 1)) + 0.5*Sum(2*Sum(X[VI[v, i]]*X[VO[v, j]]*transfer[VI[v, i], VO[v, j]], (j, 0, LenVO[v] - 1), (i, 0, LenVI[v] - 1)), (v, 0, LenV - 1))"
      ],
      "text/latex": "$\\displaystyle P \\left(\\sum_{i=0}^{LenVsO - 1} {X}_{{VsO}_{i}} - 1\\right)^{2} + P \\left(\\sum_{i=0}^{LenVtI - 1} {X}_{{VtI}_{i}} - 1\\right)^{2} + P \\sum_{v=0}^{LenV - 1} \\left(\\sum_{i=0}^{{LenVI}_{v} - 1} {X}_{{VI}_{v,i}} - 1\\right) \\sum_{i=0}^{{LenVI}_{v} - 1} {X}_{{VI}_{v,i}} + 2 P \\sum_{v=0}^{LenV - 1} \\left(\\sum_{i=0}^{{LenVO}_{v} - 1} {X}_{{VO}_{v,i}} - 1\\right) \\sum_{i=0}^{{LenVO}_{v} - 1} {X}_{{VO}_{v,i}} + P \\sum_{v=0}^{LenV - 1} \\left(\\sum_{i=0}^{{LenVI}_{v} - 1} {X}_{{VI}_{v,i}} - \\sum_{i=0}^{{LenVO}_{v} - 1} {X}_{{VO}_{v,i}}\\right)^{2} + P \\sum_{i=0}^{LenVsI - 1} {X}_{{VsI}_{i}} + P \\sum_{i=0}^{LenVtO - 1} {X}_{{Vt O}_{i}} + \\sum_{i=0}^{N - 1} {C}_{i} {X}_{i} + 0.5 \\sum_{v=0}^{LenV - 1} 2 \\sum_{\\substack{0 \\leq j \\leq {LenVO}_{v} - 1\\\\0 \\leq i \\leq {LenVI}_{v} - 1}} {X}_{{VI}_{v,i}} {X}_{{VO}_{v,j}} {transfer}_{{VI}_{v,i},{VO}_{v,j}}$"
     },
     "metadata": {},
     "execution_count": 12
    }
   ],
   "source": [
    "## Cost function specification in sympy\n",
    "\n",
    "import sympy as sym\n",
    "\n",
    "# number of edges (Qubits)\n",
    "N = sym.symbols('N')\n",
    "\n",
    "# possible edges X_0, ..., X_{N-1} with values in {0,1}\n",
    "X = sym.IndexedBase('X')\n",
    "\n",
    "# costs for edges\n",
    "C = sym.IndexedBase('C')\n",
    "\n",
    "# penalty\n",
    "P = sym.symbols('P')\n",
    "\n",
    "# indices\n",
    "i, j, k, v = sym.symbols('i j k v')\n",
    "\n",
    "# start vertex: incoming and outgoing edges\n",
    "VsI = sym.IndexedBase('VsI')    # incoming edges\n",
    "LenVsI = sym.symbols('LenVsI')  # number of incoming edges\n",
    "VsO = sym.IndexedBase('VsO')    # outgoing edges\n",
    "LenVsO = sym.symbols('LenVsO')  # number of incoming edges\n",
    "\n",
    "# target vertex: incoming and outgoing edges\n",
    "VtI = sym.IndexedBase('VtI')    # incoming edges\n",
    "LenVtI = sym.symbols('LenVtI')  # number of incoming edges\n",
    "VtO = sym.IndexedBase('Vt O')   # outgoing edges\n",
    "LenVtO = sym.symbols('LenVtO')  # number of incoming edges\n",
    "\n",
    "# middle vertices: incoming and outgoing edges\n",
    "# two indices: VI_(i,k) is the kth incoming edge at vertex i\n",
    "# Similarly, LenVI_i is the number of incoming edges at vertex i\n",
    "# the number of lists in LenVI and LenVO is the number of central vertices and must equal\n",
    "LenV = sym.IndexedBase('LenV')   # number central vertices\n",
    "\n",
    "VI = sym.IndexedBase('VI')        # incoming edges\n",
    "LenVI = sym.IndexedBase('LenVI')  # number of incoming edges\n",
    "VO = sym.IndexedBase('VO')        # outgoing edges\n",
    "LenVO = sym.IndexedBase('LenVO')  # number of outgoing edges\n",
    "\n",
    "transfer = sym.IndexedBase('transfer')\n",
    "\n",
    "cost_function = (sym.Sum( C[i] * X[i] , (i,0,N-1) ) +                    # costs for edge i\n",
    "    P * (sym.Sum( X[VsO[i]], (i, 0, LenVsO-1) ) - 1 )**2 +  # exactly one outgoing edge at start vertex\n",
    "    P * sym.Sum( X[VsI[i]], (i, 0, LenVsI-1) ) +            # no incoming edge at start vertex\n",
    "    P * (sym.Sum( X[VtI[i]], (i, 0, LenVtI-1) ) - 1 )**2 +  # exactly one incoming edge at target vertex\n",
    "    P * sym.Sum( X[VtO[i]], (i, 0, LenVtO-1) ) +            # no outgoing edge at target vertex\n",
    "    P * sym.Sum(                                            # one or zero incoming edges at each central point\n",
    "        sym.Sum(  X[VI[v,i]] , (i, 0, LenVI[v]-1) ) *\n",
    "        (sym.Sum(  X[VI[v,i]] , (i, 0, LenVI[v]-1) ) -1) ,\n",
    "        (v, 0, LenV-1) ) +\n",
    "    P * sym.Sum(                                            # one or zero outgoing edges at each central point\n",
    "        sym.Sum(  X[VO[v,i]] , (i, 0, LenVO[v]-1) ) *\n",
    "        (sym.Sum(  X[VO[v,i]] , (i, 0, LenVO[v]-1) ) -1) ,\n",
    "        (v, 0, LenV-1) )  +\n",
    "    P * sym.Sum(                                            # equal number of incoming and outgoing edges at each central point\n",
    "        (sym.Sum(  X[VI[v,i]] , (i, 0, LenVI[v]-1) ) -\n",
    "        sym.Sum(  X[VO[v,i]] , (i, 0, LenVO[v]-1) ))**2 ,\n",
    "        (v, 0, LenV-1) ) +\n",
    "    P * sym.Sum(                                            # one or zero outgoing edges at each central point\n",
    "        sym.Sum(  X[VO[v,i]] , (i, 0, LenVO[v]-1) ) *\n",
    "        (sym.Sum(  X[VO[v,i]] , (i, 0, LenVO[v]-1) ) -1) ,\n",
    "        (v, 0, LenV-1) )+\n",
    "        \n",
    "        0.5 * sym.Sum( 2 *                                  # follow-up flight leaves a large enough transfer window\n",
    "        sym.Sum(  sym.Sum( X[VI[v,i]] * X[VO[v,j]] *  transfer[ VI[v,i], VO[v,j] ] , (j, 0, LenVO[v]-1) ) , (i, 0, LenVI[v]-1) )\n",
    "         , (v, 0, LenV-1) )\n",
    "        \n",
    "        )\n",
    "cost_function"
   ]
  },
  {
   "cell_type": "code",
   "execution_count": 13,
   "metadata": {},
   "outputs": [],
   "source": [
    "def transfer_check(edge_1, edge_2):\n",
    "    \"\"\"\n",
    "    For two given flights, checks if the time inbetween is \n",
    "    smaller than the minimum transfer time. If yes, returns \n",
    "    the specified penalty value. If no, returns 0.\n",
    "    \"\"\"\n",
    "\n",
    "    landing_time = TestC[edge_1][2]\n",
    "    start_time = TestC[edge_2][1]\n",
    "\n",
    "    if start_time - landing_time < Test_min_transfer_in_min:\n",
    "        return TestP\n",
    "    else:\n",
    "        return 0"
   ]
  },
  {
   "cell_type": "markdown",
   "metadata": {},
   "source": [
    "## Data input"
   ]
  },
  {
   "cell_type": "code",
   "execution_count": 3,
   "metadata": {},
   "outputs": [],
   "source": [
    "TestN = 5               # number of edges\n",
    "TestVsI = []            # indices of incoming edges at start vertex\n",
    "TestVsO = [0,1]         # indices of outgoing edges at start vertex\n",
    "TestVtI = [3,4]         # indices of incoming edges at target vertex\n",
    "TestVtO = []            # indices of outgoing edges at target vertex\n",
    "TestVI = [[0],[1,2]]    # indices of incoming edges at central vertices\n",
    "TestVO = [[2,3],[4]]    # indices of outgoing edges at central vertices\n",
    "\n",
    "#TestC = [2,4,1,7,3]\n",
    "\n",
    "TestC = [[2, 3, 14], [4, 5, 9], [1, 81, 90], [7, 79, 86], [3, 100, 103]] # first component: generic cost. second: start time. third: landing time\n",
    "\n",
    "TestP = 50\n",
    "Test_min_transfer_in_min = 60"
   ]
  },
  {
   "cell_type": "markdown",
   "metadata": {},
   "source": [
    "## Data processing"
   ]
  },
  {
   "cell_type": "code",
   "execution_count": 4,
   "metadata": {},
   "outputs": [
    {
     "output_type": "execute_result",
     "data": {
      "text/plain": [
       "Poly(150.0*X[0]**2 + 100.0*X[0]*X[1] - 100.0*X[0]*X[2] - 100.0*X[0]*X[3] - 148.0*X[0] + 150.0*X[1]**2 + 200.0*X[1]*X[2] - 100.0*X[1]*X[4] - 146.0*X[1] + 250.0*X[2]**2 + 300.0*X[2]*X[3] - 50.0*X[2]*X[4] - 149.0*X[2] + 200.0*X[3]**2 + 100.0*X[3]*X[4] - 193.0*X[3] + 200.0*X[4]**2 - 197.0*X[4] + 100.0, X[0], X[1], X[2], X[3], X[4], domain='RR')"
      ],
      "text/latex": "$\\displaystyle \\operatorname{Poly}{\\left( 150.0 {X}_{0}^{2} + 100.0 {X}_{0}{X}_{1} - 100.0 {X}_{0}{X}_{2} - 100.0 {X}_{0}{X}_{3} - 148.0 {X}_{0} + 150.0 {X}_{1}^{2} + 200.0 {X}_{1}{X}_{2} - 100.0 {X}_{1}{X}_{4} - 146.0 {X}_{1} + 250.0 {X}_{2}^{2} + 300.0 {X}_{2}{X}_{3} - 50.0 {X}_{2}{X}_{4} - 149.0 {X}_{2} + 200.0 {X}_{3}^{2} + 100.0 {X}_{3}{X}_{4} - 193.0 {X}_{3} + 200.0 {X}_{4}^{2} - 197.0 {X}_{4} + 100.0, {X}_{0}, {X}_{1}, {X}_{2}, {X}_{3}, {X}_{4}, domain=\\mathbb{R} \\right)}$"
     },
     "metadata": {},
     "execution_count": 4
    }
   ],
   "source": [
    "## translation of graph structure into dictionaries for sympy\n",
    "\n",
    "single_valued_dict = {\n",
    "    N: TestN,\n",
    "    P: TestP,\n",
    "    LenVsI: len(TestVsI),\n",
    "    LenVsO: len(TestVsO),\n",
    "    LenVtI: len(TestVtI),\n",
    "    LenVtO: len(TestVtO),\n",
    "    LenV:  len(TestVI)\n",
    "}\n",
    "\n",
    "# multi-valued dictionaries\n",
    "dict_VsI = { VsI[k]: TestVsI[k] for k in range(len(TestVsI)) }\n",
    "\n",
    "dict_VsO = { VsO[k]: TestVsO[k] for k in range(len(TestVsO)) }\n",
    "\n",
    "dict_VtI = { VtI[k]: TestVtI[k] for k in range(len(TestVtI)) }\n",
    "\n",
    "dict_VtO = { VtO[k]: TestVtO[k] for k in range(len(TestVtO)) }\n",
    "\n",
    "dict_LenVI = { LenVI[k]: len(TestVI[k]) for k in range(len(TestVI)) }\n",
    "\n",
    "dict_LenVO = { LenVO[k]: len(TestVO[k]) for k in range(len(TestVO)) }\n",
    "\n",
    "dict_VI = { VI[k, i]: TestVI[k][i] for k in range(len(TestVI)) for i in range(len(TestVI[k])) }\n",
    "\n",
    "dict_VO = { VO[k, i]: TestVO[k][i] for k in range(len(TestVO)) for i in range(len(TestVO[k])) }\n",
    "\n",
    "transfer_dict = {transfer[edge_1, edge_2]: transfer_check(edge_1, edge_2) for v in range(len(TestVI)) for edge_1 in TestVI[v] for edge_2 in TestVO[v]}\n",
    "\n",
    "\n",
    "num_qubits = TestN\n",
    "\n",
    "dict_costs = { C[k]: TestC[k][0] for k in range(len(TestC)) } ##\n",
    "\n",
    "# definition of cost polynomial\n",
    "cost_poly = sym.Poly(cost_function\n",
    "                     .subs(single_valued_dict)\n",
    "                     .doit()\n",
    "                     .subs(dict_VsI)\n",
    "                     .subs(dict_VsO)\n",
    "                     .subs(dict_VtI)\n",
    "                     .subs(dict_VtO)\n",
    "                     .doit()\n",
    "                     .subs(dict_LenVI)\n",
    "                     .doit()\n",
    "                     .subs(dict_LenVO)\n",
    "                     .doit()\n",
    "                     .subs(dict_VI)\n",
    "                     .subs(dict_VO)\n",
    "                     .subs(transfer_dict)\n",
    "                     .doit()\n",
    "                     .doit()\n",
    "                     .subs(dict_costs)\n",
    "                     ,\n",
    "                     [X[i] for i in range(num_qubits)])\n",
    "# in order to visualize the QUBO-matrix\n",
    "# do not set P in single_valued_dict\n",
    "# and do not substitute the cost in cost_poly\n",
    "# then proceed as in the minimal optimization example\n",
    "\n",
    "cost_poly"
   ]
  },
  {
   "cell_type": "markdown",
   "metadata": {},
   "source": [
    "## QAOA"
   ]
  },
  {
   "cell_type": "code",
   "execution_count": 5,
   "metadata": {},
   "outputs": [],
   "source": [
    "import qiskit\n",
    "from qiskit.utils import QuantumInstance\n",
    "from qiskit.algorithms import QAOA\n",
    "from qiskit_optimization.problems import QuadraticProgram\n",
    "from qiskit_optimization.algorithms import MinimumEigenOptimizer\n",
    "from qiskit.test.mock import *\n",
    "\n",
    "# generate qiskit's cost function\n",
    "qiskit_cost_function = QuadraticProgram()\n",
    "\n",
    "# define qiskit variables\n",
    "for i in range(num_qubits):\n",
    "    qiskit_cost_function.binary_var('X_' + str(i))\n",
    "\n",
    "# specify qiskit cost function\n",
    "qiskit_cost_function.minimize(\n",
    "    linear = [int(cost_poly.coeff_monomial(X[i]**1)) for i in range(num_qubits)],\n",
    "    quadratic = {\n",
    "        ('X_'+str(i), 'X_'+str(j)): cost_poly.coeff_monomial(X[i]**1 * X[j]**1)\n",
    "        for i in range(num_qubits)\n",
    "        for j in range(i,num_qubits)\n",
    "    })"
   ]
  },
  {
   "cell_type": "code",
   "execution_count": 8,
   "metadata": {},
   "outputs": [],
   "source": [
    "qaoa = QAOA(reps=1,quantum_instance =\n",
    "             QuantumInstance(backend=qiskit.Aer.get_backend('qasm_simulator'), skip_qobj_validation=False))\n",
    "optimizer_qaoa = MinimumEigenOptimizer(qaoa)\n",
    "\n",
    "results = []\n",
    "\n",
    "for i in range(10):\n",
    "    result_qaoa = optimizer_qaoa.solve(qiskit_cost_function)\n",
    "    results.append(result_qaoa)"
   ]
  },
  {
   "source": [
    "## Results"
   ],
   "cell_type": "markdown",
   "metadata": {}
  },
  {
   "cell_type": "code",
   "execution_count": 9,
   "metadata": {},
   "outputs": [
    {
     "output_type": "execute_result",
     "data": {
      "text/plain": [
       "['01001',\n",
       " '01001',\n",
       " '01001',\n",
       " '01001',\n",
       " '01001',\n",
       " '01001',\n",
       " '01001',\n",
       " '10010',\n",
       " '01001',\n",
       " '01001']"
      ]
     },
     "metadata": {},
     "execution_count": 9
    }
   ],
   "source": [
    "qubit_results = []\n",
    "for result in results:\n",
    "    qubit_string = str(result.x).replace(' ', '').replace('.', '')[1:-1]\n",
    "    qubit_results.append(qubit_string)\n",
    "qubit_results"
   ]
  },
  {
   "cell_type": "code",
   "execution_count": 11,
   "metadata": {},
   "outputs": [
    {
     "output_type": "display_data",
     "data": {
      "text/plain": "<Figure size 432x288 with 1 Axes>",
      "image/svg+xml": "<?xml version=\"1.0\" encoding=\"utf-8\" standalone=\"no\"?>\n<!DOCTYPE svg PUBLIC \"-//W3C//DTD SVG 1.1//EN\"\n  \"http://www.w3.org/Graphics/SVG/1.1/DTD/svg11.dtd\">\n<!-- Created with matplotlib (https://matplotlib.org/) -->\n<svg height=\"248.518125pt\" version=\"1.1\" viewBox=\"0 0 363.250568 248.518125\" width=\"363.250568pt\" xmlns=\"http://www.w3.org/2000/svg\" xmlns:xlink=\"http://www.w3.org/1999/xlink\">\n <metadata>\n  <rdf:RDF xmlns:cc=\"http://creativecommons.org/ns#\" xmlns:dc=\"http://purl.org/dc/elements/1.1/\" xmlns:rdf=\"http://www.w3.org/1999/02/22-rdf-syntax-ns#\">\n   <cc:Work>\n    <dc:type rdf:resource=\"http://purl.org/dc/dcmitype/StillImage\"/>\n    <dc:date>2021-07-12T14:36:22.245714</dc:date>\n    <dc:format>image/svg+xml</dc:format>\n    <dc:creator>\n     <cc:Agent>\n      <dc:title>Matplotlib v3.3.2, https://matplotlib.org/</dc:title>\n     </cc:Agent>\n    </dc:creator>\n   </cc:Work>\n  </rdf:RDF>\n </metadata>\n <defs>\n  <style type=\"text/css\">*{stroke-linecap:butt;stroke-linejoin:round;}</style>\n </defs>\n <g id=\"figure_1\">\n  <g id=\"patch_1\">\n   <path d=\"M 0 248.518125 \nL 363.250568 248.518125 \nL 363.250568 0 \nL 0 0 \nz\n\" style=\"fill:none;\"/>\n  </g>\n  <g id=\"axes_1\">\n   <g id=\"patch_2\">\n    <path d=\"M 20.5625 224.64 \nL 355.3625 224.64 \nL 355.3625 7.2 \nL 20.5625 7.2 \nz\n\" style=\"fill:#ffffff;\"/>\n   </g>\n   <g id=\"patch_3\">\n    <path clip-path=\"url(#p12f31af221)\" d=\"M 35.780682 224.64 \nL 66.217045 224.64 \nL 66.217045 17.554286 \nL 35.780682 17.554286 \nz\n\" style=\"fill:#1f77b4;\"/>\n   </g>\n   <g id=\"patch_4\">\n    <path clip-path=\"url(#p12f31af221)\" d=\"M 66.217045 224.64 \nL 96.653409 224.64 \nL 96.653409 224.64 \nL 66.217045 224.64 \nz\n\" style=\"fill:#1f77b4;\"/>\n   </g>\n   <g id=\"patch_5\">\n    <path clip-path=\"url(#p12f31af221)\" d=\"M 96.653409 224.64 \nL 127.089773 224.64 \nL 127.089773 224.64 \nL 96.653409 224.64 \nz\n\" style=\"fill:#1f77b4;\"/>\n   </g>\n   <g id=\"patch_6\">\n    <path clip-path=\"url(#p12f31af221)\" d=\"M 127.089773 224.64 \nL 157.526136 224.64 \nL 157.526136 224.64 \nL 127.089773 224.64 \nz\n\" style=\"fill:#1f77b4;\"/>\n   </g>\n   <g id=\"patch_7\">\n    <path clip-path=\"url(#p12f31af221)\" d=\"M 157.526136 224.64 \nL 187.9625 224.64 \nL 187.9625 224.64 \nL 157.526136 224.64 \nz\n\" style=\"fill:#1f77b4;\"/>\n   </g>\n   <g id=\"patch_8\">\n    <path clip-path=\"url(#p12f31af221)\" d=\"M 187.9625 224.64 \nL 218.398864 224.64 \nL 218.398864 224.64 \nL 187.9625 224.64 \nz\n\" style=\"fill:#1f77b4;\"/>\n   </g>\n   <g id=\"patch_9\">\n    <path clip-path=\"url(#p12f31af221)\" d=\"M 218.398864 224.64 \nL 248.835227 224.64 \nL 248.835227 224.64 \nL 218.398864 224.64 \nz\n\" style=\"fill:#1f77b4;\"/>\n   </g>\n   <g id=\"patch_10\">\n    <path clip-path=\"url(#p12f31af221)\" d=\"M 248.835227 224.64 \nL 279.271591 224.64 \nL 279.271591 224.64 \nL 248.835227 224.64 \nz\n\" style=\"fill:#1f77b4;\"/>\n   </g>\n   <g id=\"patch_11\">\n    <path clip-path=\"url(#p12f31af221)\" d=\"M 279.271591 224.64 \nL 309.707955 224.64 \nL 309.707955 224.64 \nL 279.271591 224.64 \nz\n\" style=\"fill:#1f77b4;\"/>\n   </g>\n   <g id=\"patch_12\">\n    <path clip-path=\"url(#p12f31af221)\" d=\"M 309.707955 224.64 \nL 340.144318 224.64 \nL 340.144318 201.630476 \nL 309.707955 201.630476 \nz\n\" style=\"fill:#1f77b4;\"/>\n   </g>\n   <g id=\"matplotlib.axis_1\">\n    <g id=\"xtick_1\">\n     <g id=\"line2d_1\">\n      <defs>\n       <path d=\"M 0 0 \nL 0 3.5 \n\" id=\"m1ef58a1d32\" style=\"stroke:#000000;stroke-width:0.8;\"/>\n      </defs>\n      <g>\n       <use style=\"stroke:#000000;stroke-width:0.8;\" x=\"35.780682\" xlink:href=\"#m1ef58a1d32\" y=\"224.64\"/>\n      </g>\n     </g>\n     <g id=\"text_1\">\n      <!-- 01001 -->\n      <g transform=\"translate(19.874432 239.238437)scale(0.1 -0.1)\">\n       <defs>\n        <path d=\"M 31.78125 66.40625 \nQ 24.171875 66.40625 20.328125 58.90625 \nQ 16.5 51.421875 16.5 36.375 \nQ 16.5 21.390625 20.328125 13.890625 \nQ 24.171875 6.390625 31.78125 6.390625 \nQ 39.453125 6.390625 43.28125 13.890625 \nQ 47.125 21.390625 47.125 36.375 \nQ 47.125 51.421875 43.28125 58.90625 \nQ 39.453125 66.40625 31.78125 66.40625 \nz\nM 31.78125 74.21875 \nQ 44.046875 74.21875 50.515625 64.515625 \nQ 56.984375 54.828125 56.984375 36.375 \nQ 56.984375 17.96875 50.515625 8.265625 \nQ 44.046875 -1.421875 31.78125 -1.421875 \nQ 19.53125 -1.421875 13.0625 8.265625 \nQ 6.59375 17.96875 6.59375 36.375 \nQ 6.59375 54.828125 13.0625 64.515625 \nQ 19.53125 74.21875 31.78125 74.21875 \nz\n\" id=\"DejaVuSans-48\"/>\n        <path d=\"M 12.40625 8.296875 \nL 28.515625 8.296875 \nL 28.515625 63.921875 \nL 10.984375 60.40625 \nL 10.984375 69.390625 \nL 28.421875 72.90625 \nL 38.28125 72.90625 \nL 38.28125 8.296875 \nL 54.390625 8.296875 \nL 54.390625 0 \nL 12.40625 0 \nz\n\" id=\"DejaVuSans-49\"/>\n       </defs>\n       <use xlink:href=\"#DejaVuSans-48\"/>\n       <use x=\"63.623047\" xlink:href=\"#DejaVuSans-49\"/>\n       <use x=\"127.246094\" xlink:href=\"#DejaVuSans-48\"/>\n       <use x=\"190.869141\" xlink:href=\"#DejaVuSans-48\"/>\n       <use x=\"254.492188\" xlink:href=\"#DejaVuSans-49\"/>\n      </g>\n     </g>\n    </g>\n    <g id=\"xtick_2\">\n     <g id=\"line2d_2\">\n      <g>\n       <use style=\"stroke:#000000;stroke-width:0.8;\" x=\"340.144318\" xlink:href=\"#m1ef58a1d32\" y=\"224.64\"/>\n      </g>\n     </g>\n     <g id=\"text_2\">\n      <!-- 10010 -->\n      <g transform=\"translate(324.238068 239.238437)scale(0.1 -0.1)\">\n       <use xlink:href=\"#DejaVuSans-49\"/>\n       <use x=\"63.623047\" xlink:href=\"#DejaVuSans-48\"/>\n       <use x=\"127.246094\" xlink:href=\"#DejaVuSans-48\"/>\n       <use x=\"190.869141\" xlink:href=\"#DejaVuSans-49\"/>\n       <use x=\"254.492188\" xlink:href=\"#DejaVuSans-48\"/>\n      </g>\n     </g>\n    </g>\n   </g>\n   <g id=\"matplotlib.axis_2\">\n    <g id=\"ytick_1\">\n     <g id=\"line2d_3\">\n      <defs>\n       <path d=\"M 0 0 \nL -3.5 0 \n\" id=\"m76f0346e5e\" style=\"stroke:#000000;stroke-width:0.8;\"/>\n      </defs>\n      <g>\n       <use style=\"stroke:#000000;stroke-width:0.8;\" x=\"20.5625\" xlink:href=\"#m76f0346e5e\" y=\"224.64\"/>\n      </g>\n     </g>\n     <g id=\"text_3\">\n      <!-- 0 -->\n      <g transform=\"translate(7.2 228.439219)scale(0.1 -0.1)\">\n       <use xlink:href=\"#DejaVuSans-48\"/>\n      </g>\n     </g>\n    </g>\n    <g id=\"ytick_2\">\n     <g id=\"line2d_4\">\n      <g>\n       <use style=\"stroke:#000000;stroke-width:0.8;\" x=\"20.5625\" xlink:href=\"#m76f0346e5e\" y=\"178.620952\"/>\n      </g>\n     </g>\n     <g id=\"text_4\">\n      <!-- 2 -->\n      <g transform=\"translate(7.2 182.420171)scale(0.1 -0.1)\">\n       <defs>\n        <path d=\"M 19.1875 8.296875 \nL 53.609375 8.296875 \nL 53.609375 0 \nL 7.328125 0 \nL 7.328125 8.296875 \nQ 12.9375 14.109375 22.625 23.890625 \nQ 32.328125 33.6875 34.8125 36.53125 \nQ 39.546875 41.84375 41.421875 45.53125 \nQ 43.3125 49.21875 43.3125 52.78125 \nQ 43.3125 58.59375 39.234375 62.25 \nQ 35.15625 65.921875 28.609375 65.921875 \nQ 23.96875 65.921875 18.8125 64.3125 \nQ 13.671875 62.703125 7.8125 59.421875 \nL 7.8125 69.390625 \nQ 13.765625 71.78125 18.9375 73 \nQ 24.125 74.21875 28.421875 74.21875 \nQ 39.75 74.21875 46.484375 68.546875 \nQ 53.21875 62.890625 53.21875 53.421875 \nQ 53.21875 48.921875 51.53125 44.890625 \nQ 49.859375 40.875 45.40625 35.40625 \nQ 44.1875 33.984375 37.640625 27.21875 \nQ 31.109375 20.453125 19.1875 8.296875 \nz\n\" id=\"DejaVuSans-50\"/>\n       </defs>\n       <use xlink:href=\"#DejaVuSans-50\"/>\n      </g>\n     </g>\n    </g>\n    <g id=\"ytick_3\">\n     <g id=\"line2d_5\">\n      <g>\n       <use style=\"stroke:#000000;stroke-width:0.8;\" x=\"20.5625\" xlink:href=\"#m76f0346e5e\" y=\"132.601905\"/>\n      </g>\n     </g>\n     <g id=\"text_5\">\n      <!-- 4 -->\n      <g transform=\"translate(7.2 136.401124)scale(0.1 -0.1)\">\n       <defs>\n        <path d=\"M 37.796875 64.3125 \nL 12.890625 25.390625 \nL 37.796875 25.390625 \nz\nM 35.203125 72.90625 \nL 47.609375 72.90625 \nL 47.609375 25.390625 \nL 58.015625 25.390625 \nL 58.015625 17.1875 \nL 47.609375 17.1875 \nL 47.609375 0 \nL 37.796875 0 \nL 37.796875 17.1875 \nL 4.890625 17.1875 \nL 4.890625 26.703125 \nz\n\" id=\"DejaVuSans-52\"/>\n       </defs>\n       <use xlink:href=\"#DejaVuSans-52\"/>\n      </g>\n     </g>\n    </g>\n    <g id=\"ytick_4\">\n     <g id=\"line2d_6\">\n      <g>\n       <use style=\"stroke:#000000;stroke-width:0.8;\" x=\"20.5625\" xlink:href=\"#m76f0346e5e\" y=\"86.582857\"/>\n      </g>\n     </g>\n     <g id=\"text_6\">\n      <!-- 6 -->\n      <g transform=\"translate(7.2 90.382076)scale(0.1 -0.1)\">\n       <defs>\n        <path d=\"M 33.015625 40.375 \nQ 26.375 40.375 22.484375 35.828125 \nQ 18.609375 31.296875 18.609375 23.390625 \nQ 18.609375 15.53125 22.484375 10.953125 \nQ 26.375 6.390625 33.015625 6.390625 \nQ 39.65625 6.390625 43.53125 10.953125 \nQ 47.40625 15.53125 47.40625 23.390625 \nQ 47.40625 31.296875 43.53125 35.828125 \nQ 39.65625 40.375 33.015625 40.375 \nz\nM 52.59375 71.296875 \nL 52.59375 62.3125 \nQ 48.875 64.0625 45.09375 64.984375 \nQ 41.3125 65.921875 37.59375 65.921875 \nQ 27.828125 65.921875 22.671875 59.328125 \nQ 17.53125 52.734375 16.796875 39.40625 \nQ 19.671875 43.65625 24.015625 45.921875 \nQ 28.375 48.1875 33.59375 48.1875 \nQ 44.578125 48.1875 50.953125 41.515625 \nQ 57.328125 34.859375 57.328125 23.390625 \nQ 57.328125 12.15625 50.6875 5.359375 \nQ 44.046875 -1.421875 33.015625 -1.421875 \nQ 20.359375 -1.421875 13.671875 8.265625 \nQ 6.984375 17.96875 6.984375 36.375 \nQ 6.984375 53.65625 15.1875 63.9375 \nQ 23.390625 74.21875 37.203125 74.21875 \nQ 40.921875 74.21875 44.703125 73.484375 \nQ 48.484375 72.75 52.59375 71.296875 \nz\n\" id=\"DejaVuSans-54\"/>\n       </defs>\n       <use xlink:href=\"#DejaVuSans-54\"/>\n      </g>\n     </g>\n    </g>\n    <g id=\"ytick_5\">\n     <g id=\"line2d_7\">\n      <g>\n       <use style=\"stroke:#000000;stroke-width:0.8;\" x=\"20.5625\" xlink:href=\"#m76f0346e5e\" y=\"40.56381\"/>\n      </g>\n     </g>\n     <g id=\"text_7\">\n      <!-- 8 -->\n      <g transform=\"translate(7.2 44.363028)scale(0.1 -0.1)\">\n       <defs>\n        <path d=\"M 31.78125 34.625 \nQ 24.75 34.625 20.71875 30.859375 \nQ 16.703125 27.09375 16.703125 20.515625 \nQ 16.703125 13.921875 20.71875 10.15625 \nQ 24.75 6.390625 31.78125 6.390625 \nQ 38.8125 6.390625 42.859375 10.171875 \nQ 46.921875 13.96875 46.921875 20.515625 \nQ 46.921875 27.09375 42.890625 30.859375 \nQ 38.875 34.625 31.78125 34.625 \nz\nM 21.921875 38.8125 \nQ 15.578125 40.375 12.03125 44.71875 \nQ 8.5 49.078125 8.5 55.328125 \nQ 8.5 64.0625 14.71875 69.140625 \nQ 20.953125 74.21875 31.78125 74.21875 \nQ 42.671875 74.21875 48.875 69.140625 \nQ 55.078125 64.0625 55.078125 55.328125 \nQ 55.078125 49.078125 51.53125 44.71875 \nQ 48 40.375 41.703125 38.8125 \nQ 48.828125 37.15625 52.796875 32.3125 \nQ 56.78125 27.484375 56.78125 20.515625 \nQ 56.78125 9.90625 50.3125 4.234375 \nQ 43.84375 -1.421875 31.78125 -1.421875 \nQ 19.734375 -1.421875 13.25 4.234375 \nQ 6.78125 9.90625 6.78125 20.515625 \nQ 6.78125 27.484375 10.78125 32.3125 \nQ 14.796875 37.15625 21.921875 38.8125 \nz\nM 18.3125 54.390625 \nQ 18.3125 48.734375 21.84375 45.5625 \nQ 25.390625 42.390625 31.78125 42.390625 \nQ 38.140625 42.390625 41.71875 45.5625 \nQ 45.3125 48.734375 45.3125 54.390625 \nQ 45.3125 60.0625 41.71875 63.234375 \nQ 38.140625 66.40625 31.78125 66.40625 \nQ 25.390625 66.40625 21.84375 63.234375 \nQ 18.3125 60.0625 18.3125 54.390625 \nz\n\" id=\"DejaVuSans-56\"/>\n       </defs>\n       <use xlink:href=\"#DejaVuSans-56\"/>\n      </g>\n     </g>\n    </g>\n   </g>\n   <g id=\"patch_13\">\n    <path d=\"M 20.5625 224.64 \nL 20.5625 7.2 \n\" style=\"fill:none;stroke:#000000;stroke-linecap:square;stroke-linejoin:miter;stroke-width:0.8;\"/>\n   </g>\n   <g id=\"patch_14\">\n    <path d=\"M 355.3625 224.64 \nL 355.3625 7.2 \n\" style=\"fill:none;stroke:#000000;stroke-linecap:square;stroke-linejoin:miter;stroke-width:0.8;\"/>\n   </g>\n   <g id=\"patch_15\">\n    <path d=\"M 20.5625 224.64 \nL 355.3625 224.64 \n\" style=\"fill:none;stroke:#000000;stroke-linecap:square;stroke-linejoin:miter;stroke-width:0.8;\"/>\n   </g>\n   <g id=\"patch_16\">\n    <path d=\"M 20.5625 7.2 \nL 355.3625 7.2 \n\" style=\"fill:none;stroke:#000000;stroke-linecap:square;stroke-linejoin:miter;stroke-width:0.8;\"/>\n   </g>\n  </g>\n </g>\n <defs>\n  <clipPath id=\"p12f31af221\">\n   <rect height=\"217.44\" width=\"334.8\" x=\"20.5625\" y=\"7.2\"/>\n  </clipPath>\n </defs>\n</svg>\n",
      "image/png": "[encoded data removed]"
     },
     "metadata": {
      "needs_background": "light"
     }
    }
   ],
   "source": [
    "import matplotlib.pyplot as plt\n",
    "\n",
    "plt.hist(qubit_results, bins = len(qubit_results))\n",
    "plt.show()"
   ]
  },
  {
   "cell_type": "code",
   "execution_count": null,
   "metadata": {},
   "outputs": [],
   "source": []
  }
 ],
 "metadata": {
  "kernelspec": {
   "name": "python3",
   "display_name": "Python 3.7.3 64-bit ('3.7.3': pyenv)"
  },
  "language_info": {
   "codemirror_mode": {
    "name": "ipython",
    "version": 3
   },
   "file_extension": ".py",
   "mimetype": "text/x-python",
   "name": "python",
   "nbconvert_exporter": "python",
   "pygments_lexer": "ipython3",
   "version": "3.7.3"
  },
  "interpreter": {
   "hash": "447f5fa011c7c47899f91a0b2462b94e9399cdbf5b780c102584eca8c3cd54aa"
  }
 },
 "nbformat": 4,
 "nbformat_minor": 4
}