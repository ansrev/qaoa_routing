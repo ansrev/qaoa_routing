{
 "metadata": {
  "language_info": {
   "codemirror_mode": {
    "name": "ipython",
    "version": 3
   },
   "file_extension": ".py",
   "mimetype": "text/x-python",
   "name": "python",
   "nbconvert_exporter": "python",
   "pygments_lexer": "ipython3",
   "version": "3.7.3"
  },
  "orig_nbformat": 2,
  "kernelspec": {
   "name": "python3",
   "display_name": "Python 3.7.3 64-bit ('3.7.3': pyenv)"
  },
  "interpreter": {
   "hash": "447f5fa011c7c47899f91a0b2462b94e9399cdbf5b780c102584eca8c3cd54aa"
  }
 },
 "nbformat": 4,
 "nbformat_minor": 2,
 "cells": [
  {
   "cell_type": "markdown",
   "source": [
    "# Sektion 4 - Travelling Salesperson"
   ],
   "metadata": {}
  },
  {
   "cell_type": "markdown",
   "source": [
    "## Functions"
   ],
   "metadata": {}
  },
  {
   "cell_type": "code",
   "execution_count": 1,
   "source": [
    "def get_unique_nodes(edge_list):\n",
    "    \"\"\"\n",
    "    Assembles a list of all unique nodes appearing in a given graph.\n",
    "    The start node is added by default; every other node is only included\n",
    "    if it can be reached from another node. Isolated nodes will not be \n",
    "    added to the list, unless they happen to be the start node.\n",
    "    \"\"\"\n",
    "    \n",
    "    nr_nodes = 0\n",
    "    unique_node_list = []\n",
    "    unique_node_list.append(start_node)\n",
    "\n",
    "    for edge in edge_list:\n",
    "        if edge[1] not in unique_node_list:\n",
    "            unique_node_list.append(edge[1])\n",
    "\n",
    "    return unique_node_list\n"
   ],
   "outputs": [],
   "metadata": {}
  },
  {
   "cell_type": "code",
   "execution_count": 2,
   "source": [
    "def construct_sliced_graph(edge_list, start_node):\n",
    "    \"\"\"\n",
    "    Constructs a two-dimensional array from a list of edges. Each subarray represents \n",
    "    one time slice. The returned array contains the specified start node in the \n",
    "    first sub-array; based on this start node, every node that can be reached in \n",
    "    n steps is present in the nth subarray. Nodes that can be reached in a different \n",
    "    amount of steps are present in every fitting subarray.\n",
    "    \"\"\"\n",
    "    \n",
    "    sg = [] # sliced graph\n",
    "    sg.append([start_node])\n",
    "    node_counter = 1\n",
    "\n",
    "\n",
    "    nr_unique_nodes = len(get_unique_nodes(edge_list))\n",
    "\n",
    "    for k in range(nr_unique_nodes):\n",
    "    \n",
    "        if len(sg[k]) != 0:\n",
    "            sg.append([])       # add a slice, then fill it\n",
    "            for j in range(len(edge_list)):\n",
    "                if edge_list[j][0] in sg[k] and edge_list[j][1] not in sg[k+1] and (edge_list[j][1] != start_node or k+1 == nr_unique_nodes):\n",
    "                    sg[k+1].append(edge_list[j][1])\n",
    "        else:\n",
    "            break\n",
    "\n",
    "    if start_node in sg[-1]:\n",
    "        sg[-1] = [start_node] # eliminate all other nodes in the last time slice; the last node has to be the start node.\n",
    "    else:\n",
    "        return None \n",
    "        # TODO - error handling; if the start node is not in the last time slice, then the problem is not solvable.\n",
    "\n",
    "    # the last node is always the destination node.\n",
    "    # therefore we can eliminate all nodes in the next-to-last slice that do not lead to the destination node.\n",
    "    # going back that way, we can eliminate nodes that won't lead to our destination.\n",
    "    nr_slices_to_remove = 0\n",
    "\n",
    "    for i in range(len(sg) - 1):\n",
    "        nodes_to_remove = []\n",
    "        index = len(sg) - 1 - i\n",
    "        for j in range(len(sg[index - 1])):\n",
    "            leads_to_next_slice = 0 # number of edges in the next slice that sg[index-1][j] is connected to\n",
    "            for k in range(len(sg[index])):\n",
    "\n",
    "                # for each node in the next slice, add 1 if sg[index-1][j] is connected to it, 0 if not\n",
    "                leads_to_next_slice += next((1 for u, v in enumerate(edge_list) if v[0] == sg[index-1][j] and v[1] == sg[index][k]), 0) \n",
    "\n",
    "            # if leads_to_next_slice is zero, it means sg[index-1][j] is not connected to any node in the next slice; essentially a dead end. \n",
    "            # it is removed, and any node in the previous slice that only connected to it will thus also be a dead end, and will be removed. etc., etc.\n",
    "            if leads_to_next_slice == 0:\n",
    "                nodes_to_remove.append(sg[index-1][j])\n",
    "\n",
    "        for node in nodes_to_remove:\n",
    "            print(nodes_to_remove)\n",
    "            sg[index-1].remove(node)\n",
    "\n",
    "    #slices_to_remove = [] TODO - check if this section can be removed\n",
    "    #for i in range(len(sg)):\n",
    "    #    if len(sg[len(sg) - 1 - i]) == 1 and dest in sg[len(sg) - 1 - i]:\n",
    "    #        slices_to_remove.append(len(sg) - 1 - i)\n",
    "    #    else:\n",
    "    #        break\n",
    "    \n",
    "    #if len(slices_to_remove) > 1:\n",
    "    #    for i in slices_to_remove[:-1]:\n",
    "    #        del sg[i]\n",
    "    #        # print('deleted slice ' + str(i))\n",
    "\n",
    "    return sg"
   ],
   "outputs": [],
   "metadata": {}
  },
  {
   "cell_type": "code",
   "execution_count": 3,
   "source": [
    "def construct_numbered_sliced_graph(sg): \n",
    "    \"\"\"\n",
    "    Based on a two-dimensional array that constructed time slices from a graph,\n",
    "    renumbers the contents by giving each element its index in the corresponding \n",
    "    flattened array.\n",
    "    Example: with input [[0], [1, 3], [2, 3]], output would be [[0], [1, 2], [3, 4]].\n",
    "    \"\"\"\n",
    "    \n",
    "    numbered_sg = [] # numbered sliced graph\n",
    "    node_counter = 0\n",
    "\n",
    "    for m in range(len(sg)):\n",
    "        numbered_sg.append([])\n",
    "        for n in range(len(sg[m])):\n",
    "            numbered_sg[m].append(node_counter)\n",
    "            node_counter+=1\n",
    "    \n",
    "    return numbered_sg"
   ],
   "outputs": [],
   "metadata": {}
  },
  {
   "cell_type": "code",
   "execution_count": 4,
   "source": [
    "def is_node_in_slice(node, slice_index):\n",
    "    \"\"\"Returns 1 if the given node is present in the given slice, 0 if not.\"\"\"\n",
    "    \n",
    "    if node in test_sg[slice_index]:\n",
    "        return 1\n",
    "    else:\n",
    "        return 0"
   ],
   "outputs": [],
   "metadata": {}
  },
  {
   "cell_type": "code",
   "execution_count": 5,
   "source": [
    "def qubit_position(node, slice_index):\n",
    "    \"\"\"\n",
    "    For a given node label, determines the respective qubit index for the node in the given slice.\n",
    "    For a graph g = [[0], [1, 2], [1]], qubit_position(1,2) would return 3, since node 1 in slice 2 \n",
    "    corresponds to the third qubit. Counting for slices as well as qubits begins at 0.\n",
    "    \"\"\"\n",
    "    \n",
    "    if node not in test_sg[slice_index]:\n",
    "        return 0\n",
    "    else:\n",
    "        return test_nsg[slice_index][test_sg[slice_index].index(node)]"
   ],
   "outputs": [],
   "metadata": {}
  },
  {
   "cell_type": "code",
   "execution_count": 6,
   "source": [
    "def construct_graph_matrix(edge_list):\n",
    "    \"\"\"\n",
    "    Constructs a dataframe that contains all edges present in \n",
    "    the graph. The returned dataframe can contain several edges \n",
    "    per two nodes. The entry at matrix[0][1] contains an array \n",
    "    of all edges that go from node 0 to node 1.\n",
    "    \"\"\"\n",
    "    \n",
    "    node_labels = get_unique_nodes(edge_list)\n",
    "    graph_matrix = pd.DataFrame([[[] for _ in range(len(node_labels))] for _ in range(len(node_labels))], node_labels, node_labels)\n",
    "    \n",
    "    for edge in edge_list:\n",
    "        start = edge[0]\n",
    "        end = edge[1]\n",
    "        graph_matrix[start][end].append(edge)\n",
    "\n",
    "    return graph_matrix"
   ],
   "outputs": [],
   "metadata": {}
  },
  {
   "cell_type": "code",
   "execution_count": 7,
   "source": [
    "def construct_cost_matrix(edge_matrix):\n",
    "    \"\"\"\n",
    "    Constructs a dataframe that contains the cost for the edge \n",
    "    between any given pair of nodes a and b. If there is no \n",
    "    outgoing edge from a to b, the cost will be equal to the\n",
    "    fixed penalty value. If there is exactly one edge, its cost\n",
    "    will be used. If there are several, the smallest cost is \n",
    "    used.\n",
    "    \"\"\"\n",
    "\n",
    "    node_labels = edge_matrix.columns\n",
    "    cost_matrix = pd.DataFrame([[[] for _ in range(len(node_labels))] for _ in range(len(node_labels))], node_labels, node_labels)\n",
    "\n",
    "    for i in node_labels:\n",
    "        for j in node_labels:\n",
    "            entries = edge_matrix[i][j]\n",
    "            if len(entries) == 0:\n",
    "                cost_matrix[i][j] = (penalty_value)\n",
    "            elif len(entries) == 1:\n",
    "                cost_matrix[i][j] = (entries[0][2]) ### ebenfalls TODO. muss sich nach der struktur richten. ist aber eig keine priorität; es ist ok, das hier so zu hardcoden\n",
    "            else:\n",
    "                best_cost = penalty_value # penalty by default bigger than the biggest edge cost\n",
    "                for entry in entries:\n",
    "                    if entry[2] < best_cost:\n",
    "                        best_cost = entry[2]\n",
    "                cost_matrix[i][j] = best_cost\n",
    "    return cost_matrix"
   ],
   "outputs": [],
   "metadata": {}
  },
  {
   "cell_type": "code",
   "execution_count": 8,
   "source": [
    "def find_index(node, time_slice, sliced_graph, numbered_sg):\n",
    "    \"\"\"\n",
    "    For a given node, time slice, and sliced graph, determines the qubit index \n",
    "    of the node. If the node is not present in the given slice in the graph, \n",
    "    returns -1.\n",
    "    \"\"\"\n",
    "    \n",
    "    #numbered_graph = construct_numbered_sliced_graph(sliced_graph)\n",
    "    for i in range(len(sliced_graph[time_slice])):\n",
    "        if sliced_graph[time_slice][i] == node:\n",
    "            return numbered_sg[time_slice][i]\n",
    "    else:\n",
    "        return -1"
   ],
   "outputs": [],
   "metadata": {}
  },
  {
   "cell_type": "code",
   "execution_count": 9,
   "source": [
    "def fix_nodes(start, destination, sliced_graph, numbered_sg, cost_func):\n",
    "    \"\"\"\n",
    "    In the given cost function, fixes specific nodes according to already known \n",
    "    values for the qubits. The qubits representing the start and destination nodes \n",
    "    are fixed at 1; any other nodes in the last time slice are fixed at 0. \n",
    "    \"\"\"\n",
    "    \n",
    "    start_node_index = 'X_' + str(find_index(start, 0, sliced_graph, numbered_sg))\n",
    "    cost_func.linear_constraint(linear={start_node_index: 1}, sense='==', rhs=1, name='start_node')\n",
    "\n",
    "    dest_node_index = 'X_' + str(find_index(destination, -1, sliced_graph, numbered_sg))\n",
    "    cost_func.linear_constraint(linear={dest_node_index: 1}, sense='==', rhs=1, name='destination_node')\n",
    "\n",
    "    #counter = 0\n",
    "    #for i in sliced_graph[-1]:\n",
    "    #    if i != destination:\n",
    "    #        index = 'X_' + str(find_index(i, -1, sliced_graph))\n",
    "    #        cost_func.linear_constraint(linear={index: 1}, sense='==', rhs=0, name=('last_slice_constraint_' + str(counter)))\n",
    "\n",
    "    # only the start node is in the first slice. so no iteration over other nodes needed\n",
    "    # same with last slice\n",
    "\n",
    "    return"
   ],
   "outputs": [],
   "metadata": {}
  },
  {
   "cell_type": "code",
   "execution_count": 10,
   "source": [
    "def get_node_info_from_index(node_index, sg, nsg):\n",
    "    \"\"\" For a given qubit index, returns the corresponding time slice and the node label. \"\"\"\n",
    "\n",
    "    for time_slice in range(len(nsg)):\n",
    "        if node_index in nsg[time_slice]:\n",
    "\n",
    "            pos = nsg[time_slice].index(node_index)\n",
    "            node_label = sg[time_slice][pos]\n",
    "\n",
    "            return time_slice, node_label"
   ],
   "outputs": [],
   "metadata": {}
  },
  {
   "cell_type": "code",
   "execution_count": 11,
   "source": [
    "def result_evaluation(result, sg, nsg, cost_matrix):\n",
    "    \"\"\" For a given qubit string, returns an explanation of the nodes that are passed per time slice. \"\"\"\n",
    "    \n",
    "    counter = 0\n",
    "    previous_node = None\n",
    "    total_cost = 0\n",
    "    solution_not_valid = False\n",
    "\n",
    "    for i in range(len(result)):\n",
    "        if result[i] == '1':\n",
    "            time_slice, node_label = get_node_info_from_index(i, sg, nsg)\n",
    "            if time_slice != counter:\n",
    "                solution_not_valid = True\n",
    "\n",
    "            if counter == 0:\n",
    "                previous_node = node_label\n",
    "            else:\n",
    "                cost = cost_matrix[previous_node][node_label]\n",
    "                total_cost += cost\n",
    "                print(('\\t\\t\\t\\tcost: {}').format(cost))\n",
    "                previous_node = node_label\n",
    "\n",
    "\n",
    "            print(('node {} at time slice {}').format(node_label, time_slice))\n",
    "\n",
    "            counter += 1\n",
    "\n",
    "            \n",
    "    print(('\\ntotal cost: {}').format(total_cost))\n",
    "    if total_cost >= 500 or solution_not_valid:\n",
    "        print('\\nIt seems like no valid solution could be found. This solution disregards at least one constraint.')\n",
    "\n",
    "    return"
   ],
   "outputs": [],
   "metadata": {}
  },
  {
   "cell_type": "markdown",
   "source": [
    "## Preprocessing"
   ],
   "metadata": {}
  },
  {
   "cell_type": "code",
   "execution_count": 12,
   "source": [
    "import sympy as sym\n",
    "import matplotlib.pyplot as plt\n",
    "import pandas as pd"
   ],
   "outputs": [],
   "metadata": {}
  },
  {
   "cell_type": "code",
   "execution_count": 13,
   "source": [
    "#graph = [(0, 1, 1.0), (0, 3, 1.0), (1, 3, 1.0), (3, 2, 1.0), (2, 1, 1.0), (2, 4, 1.0), (4, 0, 1.0)]\n",
    "\n",
    "graph = [(0, 1, 2.0), (0, 3, 5.0), (1, 2, 1.0), (1, 4, 3.0), (2, 0, 4.0), (2, 4, 2.0), (3, 0, 5.0), (3, 2, 4.0), (3, 1, 3.0), (4, 3, 4.0), (4, 0, 1.0)]\n",
    "\n",
    "start_node = 0\n",
    "destination_node = start_node\n",
    "penalty_value = 500"
   ],
   "outputs": [],
   "metadata": {}
  },
  {
   "cell_type": "code",
   "execution_count": 14,
   "source": [
    "unique_nodes = get_unique_nodes(graph)\n",
    "nr_nodes = len(unique_nodes)\n",
    "uniques_except_start = unique_nodes.copy()\n",
    "uniques_except_start.remove(start_node)"
   ],
   "outputs": [],
   "metadata": {}
  },
  {
   "cell_type": "code",
   "execution_count": 15,
   "source": [
    "test_sg = construct_sliced_graph(graph, destination_node)\n",
    "\n",
    "nodes_total = 0\n",
    "for i in range(len(test_sg)):\n",
    "    for j in range(len(test_sg[i])):\n",
    "        nodes_total += 1\n",
    "\n",
    "nr_qubits = nodes_total\n",
    "nr_qubits"
   ],
   "outputs": [
    {
     "output_type": "stream",
     "name": "stdout",
     "text": [
      "[1]\n"
     ]
    },
    {
     "output_type": "execute_result",
     "data": {
      "text/plain": [
       "13"
      ]
     },
     "metadata": {},
     "execution_count": 15
    }
   ],
   "metadata": {}
  },
  {
   "cell_type": "code",
   "execution_count": 16,
   "source": [
    "test_sg"
   ],
   "outputs": [
    {
     "output_type": "execute_result",
     "data": {
      "text/plain": [
       "[[0], [1, 3], [2, 4, 1], [2, 4, 3], [4, 2, 3], [0]]"
      ]
     },
     "metadata": {},
     "execution_count": 16
    }
   ],
   "metadata": {}
  },
  {
   "cell_type": "code",
   "execution_count": 17,
   "source": [
    "test_nsg = construct_numbered_sliced_graph(test_sg)\n",
    "test_nsg"
   ],
   "outputs": [
    {
     "output_type": "execute_result",
     "data": {
      "text/plain": [
       "[[0], [1, 2], [3, 4, 5], [6, 7, 8], [9, 10, 11], [12]]"
      ]
     },
     "metadata": {},
     "execution_count": 17
    }
   ],
   "metadata": {}
  },
  {
   "cell_type": "code",
   "execution_count": 18,
   "source": [
    "matrix = construct_graph_matrix(graph)\n",
    "matrix"
   ],
   "outputs": [
    {
     "output_type": "execute_result",
     "data": {
      "text/plain": [
       "               0              1              3              2              4\n",
       "0             []             []  [(3, 0, 5.0)]  [(2, 0, 4.0)]  [(4, 0, 1.0)]\n",
       "1  [(0, 1, 2.0)]             []  [(3, 1, 3.0)]             []             []\n",
       "3  [(0, 3, 5.0)]             []             []             []  [(4, 3, 4.0)]\n",
       "2             []  [(1, 2, 1.0)]  [(3, 2, 4.0)]             []             []\n",
       "4             []  [(1, 4, 3.0)]             []  [(2, 4, 2.0)]             []"
      ],
      "text/html": [
       "<div>\n",
       "<style scoped>\n",
       "    .dataframe tbody tr th:only-of-type {\n",
       "        vertical-align: middle;\n",
       "    }\n",
       "\n",
       "    .dataframe tbody tr th {\n",
       "        vertical-align: top;\n",
       "    }\n",
       "\n",
       "    .dataframe thead th {\n",
       "        text-align: right;\n",
       "    }\n",
       "</style>\n",
       "<table border=\"1\" class=\"dataframe\">\n",
       "  <thead>\n",
       "    <tr style=\"text-align: right;\">\n",
       "      <th></th>\n",
       "      <th>0</th>\n",
       "      <th>1</th>\n",
       "      <th>3</th>\n",
       "      <th>2</th>\n",
       "      <th>4</th>\n",
       "    </tr>\n",
       "  </thead>\n",
       "  <tbody>\n",
       "    <tr>\n",
       "      <th>0</th>\n",
       "      <td>[]</td>\n",
       "      <td>[]</td>\n",
       "      <td>[(3, 0, 5.0)]</td>\n",
       "      <td>[(2, 0, 4.0)]</td>\n",
       "      <td>[(4, 0, 1.0)]</td>\n",
       "    </tr>\n",
       "    <tr>\n",
       "      <th>1</th>\n",
       "      <td>[(0, 1, 2.0)]</td>\n",
       "      <td>[]</td>\n",
       "      <td>[(3, 1, 3.0)]</td>\n",
       "      <td>[]</td>\n",
       "      <td>[]</td>\n",
       "    </tr>\n",
       "    <tr>\n",
       "      <th>3</th>\n",
       "      <td>[(0, 3, 5.0)]</td>\n",
       "      <td>[]</td>\n",
       "      <td>[]</td>\n",
       "      <td>[]</td>\n",
       "      <td>[(4, 3, 4.0)]</td>\n",
       "    </tr>\n",
       "    <tr>\n",
       "      <th>2</th>\n",
       "      <td>[]</td>\n",
       "      <td>[(1, 2, 1.0)]</td>\n",
       "      <td>[(3, 2, 4.0)]</td>\n",
       "      <td>[]</td>\n",
       "      <td>[]</td>\n",
       "    </tr>\n",
       "    <tr>\n",
       "      <th>4</th>\n",
       "      <td>[]</td>\n",
       "      <td>[(1, 4, 3.0)]</td>\n",
       "      <td>[]</td>\n",
       "      <td>[(2, 4, 2.0)]</td>\n",
       "      <td>[]</td>\n",
       "    </tr>\n",
       "  </tbody>\n",
       "</table>\n",
       "</div>"
      ]
     },
     "metadata": {},
     "execution_count": 18
    }
   ],
   "metadata": {}
  },
  {
   "cell_type": "code",
   "execution_count": 19,
   "source": [
    "edge_cost_matrix = construct_cost_matrix(matrix)\n",
    "edge_cost_matrix"
   ],
   "outputs": [
    {
     "output_type": "execute_result",
     "data": {
      "text/plain": [
       "     0    1    3    2    4\n",
       "0  500  500    5    4    1\n",
       "1    2  500    3  500  500\n",
       "3    5  500  500  500    4\n",
       "2  500    1    4  500  500\n",
       "4  500    3  500    2  500"
      ],
      "text/html": [
       "<div>\n",
       "<style scoped>\n",
       "    .dataframe tbody tr th:only-of-type {\n",
       "        vertical-align: middle;\n",
       "    }\n",
       "\n",
       "    .dataframe tbody tr th {\n",
       "        vertical-align: top;\n",
       "    }\n",
       "\n",
       "    .dataframe thead th {\n",
       "        text-align: right;\n",
       "    }\n",
       "</style>\n",
       "<table border=\"1\" class=\"dataframe\">\n",
       "  <thead>\n",
       "    <tr style=\"text-align: right;\">\n",
       "      <th></th>\n",
       "      <th>0</th>\n",
       "      <th>1</th>\n",
       "      <th>3</th>\n",
       "      <th>2</th>\n",
       "      <th>4</th>\n",
       "    </tr>\n",
       "  </thead>\n",
       "  <tbody>\n",
       "    <tr>\n",
       "      <th>0</th>\n",
       "      <td>500</td>\n",
       "      <td>500</td>\n",
       "      <td>5</td>\n",
       "      <td>4</td>\n",
       "      <td>1</td>\n",
       "    </tr>\n",
       "    <tr>\n",
       "      <th>1</th>\n",
       "      <td>2</td>\n",
       "      <td>500</td>\n",
       "      <td>3</td>\n",
       "      <td>500</td>\n",
       "      <td>500</td>\n",
       "    </tr>\n",
       "    <tr>\n",
       "      <th>3</th>\n",
       "      <td>5</td>\n",
       "      <td>500</td>\n",
       "      <td>500</td>\n",
       "      <td>500</td>\n",
       "      <td>4</td>\n",
       "    </tr>\n",
       "    <tr>\n",
       "      <th>2</th>\n",
       "      <td>500</td>\n",
       "      <td>1</td>\n",
       "      <td>4</td>\n",
       "      <td>500</td>\n",
       "      <td>500</td>\n",
       "    </tr>\n",
       "    <tr>\n",
       "      <th>4</th>\n",
       "      <td>500</td>\n",
       "      <td>3</td>\n",
       "      <td>500</td>\n",
       "      <td>2</td>\n",
       "      <td>500</td>\n",
       "    </tr>\n",
       "  </tbody>\n",
       "</table>\n",
       "</div>"
      ]
     },
     "metadata": {},
     "execution_count": 19
    }
   ],
   "metadata": {}
  },
  {
   "cell_type": "code",
   "execution_count": 20,
   "source": [
    "test_nsg = construct_numbered_sliced_graph(test_sg)\n",
    "test_nsg"
   ],
   "outputs": [
    {
     "output_type": "execute_result",
     "data": {
      "text/plain": [
       "[[0], [1, 2], [3, 4, 5], [6, 7, 8], [9, 10, 11], [12]]"
      ]
     },
     "metadata": {},
     "execution_count": 20
    }
   ],
   "metadata": {}
  },
  {
   "cell_type": "markdown",
   "source": [
    "## Cost Function"
   ],
   "metadata": {}
  },
  {
   "cell_type": "code",
   "execution_count": 21,
   "source": [
    "X = sym.IndexedBase('X') # X0 ist das erste Qubit, X1 das zweite, etc.\n",
    "c = sym.symbols('c')\n",
    "v = sym.symbols('v')\n",
    "y = sym.symbols('y')\n",
    "q = sym.symbols('q')\n",
    "w = sym.symbols('w')\n",
    "P = sym.symbols('P')\n",
    "\n",
    "\n",
    "d = sym.IndexedBase('d')\n",
    "sg = sym.IndexedBase('sg')\n",
    "nodeinslice = sym.IndexedBase('nodeinslice')\n",
    "qubitpos = sym.IndexedBase('qubitpos')\n",
    "\n",
    "\n",
    "slicedgraph = sym.IndexedBase('slicedgraph')\n",
    "nrnodesexceptstart = sym.symbols('nrnodesexceptstart')\n",
    "\n",
    "nsg = sym.IndexedBase('nsg')\n",
    "nrslices = sym.symbols('nrslices')\n",
    "lenslice = sym.IndexedBase('lenslice')"
   ],
   "outputs": [],
   "metadata": {}
  },
  {
   "cell_type": "code",
   "execution_count": 22,
   "source": [
    "cost_function = sym.Sum(                                # iteration over slices\n",
    "                    (sym.Sum(                           # iteration over nodes in that slice. in each slice, exactly one node needs to be passed. change later to 0 or 1\n",
    "                        X[nsg[c,v]],               # zugehörige binary variable\n",
    "                        (v, 0, lenslice[c] - 1)\n",
    "                        )\n",
    "                        - 1 )**2 * P,\n",
    "\n",
    "                    (c, 0, nrslices-1)) + 0.5 * sym.Sum(   \n",
    "                        2 * (sym.Sum(  sym.Sum(  X[nsg[q,y]] * X[nsg[q+1,w]] * d[sg[q,y], sg[q+1,w]],  (w, 0, lenslice[q + 1] - 1) ) , (y, 0, lenslice[q] - 1))),\n",
    "                        (q, 0, nrslices - 2)) + P * sym.Sum(   (sym.Sum( nodeinslice[v,c] * X[qubitpos[v, c]] , (c, 1, (nrslices-2)) ) -1)**2      , (v, 1, nrnodesexceptstart) )\n",
    "\n",
    "# TODO. an dieser stelle derzeit noch ein workaround mit 0.5 * 2, da aus irgendeinem grund die dreifache summe ohne den zwischenfaktor 2 nicht evaluiert wird??\n",
    "\n",
    "# bei der dritten summe werden alle slices bis auf die erste und letzte gecheckt. diese enthalten nur start/dest node.\n",
    "                    \n",
    "cost_function"
   ],
   "outputs": [
    {
     "output_type": "execute_result",
     "data": {
      "text/plain": [
       "P*Sum((Sum(X[qubitpos[v, c]]*nodeinslice[v, c], (c, 1, nrslices - 2)) - 1)**2, (v, 1, nrnodesexceptstart)) + Sum(P*(Sum(X[nsg[c, v]], (v, 0, lenslice[c] - 1)) - 1)**2, (c, 0, nrslices - 1)) + 0.5*Sum(2*Sum(X[nsg[q + 1, w]]*X[nsg[q, y]]*d[sg[q, y], sg[q + 1, w]], (w, 0, lenslice[q + 1] - 1), (y, 0, lenslice[q] - 1)), (q, 0, nrslices - 2))"
      ],
      "text/latex": [
       "$\\displaystyle P \\sum_{v=1}^{nrnodesexceptstart} \\left(\\sum_{c=1}^{nrslices - 2} {X}_{{qubitpos}_{v,c}} {nodeinslice}_{v,c} - 1\\right)^{2} + \\sum_{c=0}^{nrslices - 1} P \\left(\\sum_{v=0}^{{lenslice}_{c} - 1} {X}_{{nsg}_{c,v}} - 1\\right)^{2} + 0.5 \\sum_{q=0}^{nrslices - 2} 2 \\sum_{\\substack{0 \\leq w \\leq {lenslice}_{q + 1} - 1\\\\0 \\leq y \\leq {lenslice}_{q} - 1}} {X}_{{nsg}_{q + 1,w}} {X}_{{nsg}_{q,y}} {d}_{{sg}_{q,y},{sg}_{q + 1,w}}$"
      ]
     },
     "metadata": {},
     "execution_count": 22
    }
   ],
   "metadata": {}
  },
  {
   "cell_type": "code",
   "execution_count": 23,
   "source": [
    "# translation of data into dictionaries for sympy\n",
    "single_valued_dict = {\n",
    "    nrslices: len(test_sg), \n",
    "    nrnodesexceptstart: len(uniques_except_start),\n",
    "    P: penalty_value\n",
    "    }\n",
    "\n",
    "numbered_sliced_graph_dict = {\n",
    "    nsg[i, j]: test_nsg[i][j] for i in range(len(test_nsg)) for j in range(len(test_nsg[i]))\n",
    "}\n",
    "\n",
    "sliced_graph_dict = {\n",
    "    sg[i, j]: test_sg[i][j] for i in range(len(test_sg)) for j in range(len(test_sg[i]))\n",
    "}\n",
    "nodeinslice_dict = {\n",
    "    nodeinslice[v, c]: is_node_in_slice(v, c) for v in range(len(unique_nodes)) for c in range(len(test_sg))\n",
    "}\n",
    "\n",
    "qubit_pos_dict = {\n",
    "    qubitpos[v,c]: qubit_position(v,c) for v in range(len(unique_nodes)) for c in range(len(test_sg))\n",
    "}\n",
    "\n",
    "len_slice_dict = {\n",
    "    lenslice[i]: len(test_sg[i]) for i in range(len(test_sg))\n",
    "}\n",
    "\n",
    "d_dict = {\n",
    "    d[i, j]: edge_cost_matrix[i][j] \n",
    "    for i in range(nr_nodes)\n",
    "    for j in range(nr_nodes)\n",
    "}\n",
    "\n",
    "# definition of the cost polynomial\n",
    "cost_poly = sym.Poly(cost_function\n",
    "                     .subs(single_valued_dict)\n",
    "                     .doit()\n",
    "                     .subs(len_slice_dict)\n",
    "                     .doit()\n",
    "                     .subs(nodeinslice_dict)\n",
    "                     .subs(qubit_pos_dict)\n",
    "                     .subs(numbered_sliced_graph_dict)\n",
    "                     .subs(sliced_graph_dict)\n",
    "                     .doit()\n",
    "                     .subs(d_dict)\n",
    "                     .doit(),\n",
    "                     [X[i] for i in range(nr_qubits)])\n",
    "cost_poly"
   ],
   "outputs": [
    {
     "output_type": "execute_result",
     "data": {
      "text/plain": [
       "Poly(500.0*X[0]**2 + 2.0*X[0]*X[1] + 5.0*X[0]*X[2] - 1000.0*X[0] + 1000.0*X[1]**2 + 1000.0*X[1]*X[2] + 1.0*X[1]*X[3] + 3.0*X[1]*X[4] + 1500.0*X[1]*X[5] - 2000.0*X[1] + 1000.0*X[2]**2 + 4.0*X[2]*X[3] + 500.0*X[2]*X[4] + 3.0*X[2]*X[5] + 1000.0*X[2]*X[8] + 1000.0*X[2]*X[11] - 2000.0*X[2] + 1000.0*X[3]**2 + 1000.0*X[3]*X[4] + 1000.0*X[3]*X[5] + 1500.0*X[3]*X[6] + 2.0*X[3]*X[7] + 500.0*X[3]*X[8] + 1000.0*X[3]*X[10] - 2000.0*X[3] + 1000.0*X[4]**2 + 1000.0*X[4]*X[5] + 500.0*X[4]*X[6] + 1500.0*X[4]*X[7] + 4.0*X[4]*X[8] + 1000.0*X[4]*X[9] - 2000.0*X[4] + 1000.0*X[5]**2 + 1.0*X[5]*X[6] + 3.0*X[5]*X[7] + 500.0*X[5]*X[8] - 2000.0*X[5] + 1000.0*X[6]**2 + 1000.0*X[6]*X[7] + 1000.0*X[6]*X[8] + 2.0*X[6]*X[9] + 1500.0*X[6]*X[10] + 500.0*X[6]*X[11] - 2000.0*X[6] + 1000.0*X[7]**2 + 1000.0*X[7]*X[8] + 1500.0*X[7]*X[9] + 500.0*X[7]*X[10] + 4.0*X[7]*X[11] - 2000.0*X[7] + 1000.0*X[8]**2 + 500.0*X[8]*X[9] + 4.0*X[8]*X[10] + 1500.0*X[8]*X[11] - 2000.0*X[8] + 1000.0*X[9]**2 + 1000.0*X[9]*X[10] + 1000.0*X[9]*X[11] + 1.0*X[9]*X[12] - 2000.0*X[9] + 1000.0*X[10]**2 + 1000.0*X[10]*X[11] + 4.0*X[10]*X[12] - 2000.0*X[10] + 1000.0*X[11]**2 + 5.0*X[11]*X[12] - 2000.0*X[11] + 500.0*X[12]**2 - 1000.0*X[12] + 5000.0, X[0], X[1], X[2], X[3], X[4], X[5], X[6], X[7], X[8], X[9], X[10], X[11], X[12], domain='RR')"
      ],
      "text/latex": [
       "$\\displaystyle \\operatorname{Poly}{\\left( 500.0 {X}_{0}^{2} + 2.0 {X}_{0}{X}_{1} + 5.0 {X}_{0}{X}_{2} - 1000.0 {X}_{0} + 1000.0 {X}_{1}^{2} + 1000.0 {X}_{1}{X}_{2} + 1.0 {X}_{1}{X}_{3} + 3.0 {X}_{1}{X}_{4} + 1500.0 {X}_{1}{X}_{5} - 2000.0 {X}_{1} + 1000.0 {X}_{2}^{2} + 4.0 {X}_{2}{X}_{3} + 500.0 {X}_{2}{X}_{4} + 3.0 {X}_{2}{X}_{5} + 1000.0 {X}_{2}{X}_{8} + 1000.0 {X}_{2}{X}_{11} - 2000.0 {X}_{2} + 1000.0 {X}_{3}^{2} + 1000.0 {X}_{3}{X}_{4} + 1000.0 {X}_{3}{X}_{5} + 1500.0 {X}_{3}{X}_{6} + 2.0 {X}_{3}{X}_{7} + 500.0 {X}_{3}{X}_{8} + 1000.0 {X}_{3}{X}_{10} - 2000.0 {X}_{3} + 1000.0 {X}_{4}^{2} + 1000.0 {X}_{4}{X}_{5} + 500.0 {X}_{4}{X}_{6} + 1500.0 {X}_{4}{X}_{7} + 4.0 {X}_{4}{X}_{8} + 1000.0 {X}_{4}{X}_{9} - 2000.0 {X}_{4} + 1000.0 {X}_{5}^{2} + 1.0 {X}_{5}{X}_{6} + 3.0 {X}_{5}{X}_{7} + 500.0 {X}_{5}{X}_{8} - 2000.0 {X}_{5} + 1000.0 {X}_{6}^{2} + 1000.0 {X}_{6}{X}_{7} + 1000.0 {X}_{6}{X}_{8} + 2.0 {X}_{6}{X}_{9} + 1500.0 {X}_{6}{X}_{10} + 500.0 {X}_{6}{X}_{11} - 2000.0 {X}_{6} + 1000.0 {X}_{7}^{2} + 1000.0 {X}_{7}{X}_{8} + 1500.0 {X}_{7}{X}_{9} + 500.0 {X}_{7}{X}_{10} + 4.0 {X}_{7}{X}_{11} - 2000.0 {X}_{7} + 1000.0 {X}_{8}^{2} + 500.0 {X}_{8}{X}_{9} + 4.0 {X}_{8}{X}_{10} + 1500.0 {X}_{8}{X}_{11} - 2000.0 {X}_{8} + 1000.0 {X}_{9}^{2} + 1000.0 {X}_{9}{X}_{10} + 1000.0 {X}_{9}{X}_{11} + 1.0 {X}_{9}{X}_{12} - 2000.0 {X}_{9} + 1000.0 {X}_{10}^{2} + 1000.0 {X}_{10}{X}_{11} + 4.0 {X}_{10}{X}_{12} - 2000.0 {X}_{10} + 1000.0 {X}_{11}^{2} + 5.0 {X}_{11}{X}_{12} - 2000.0 {X}_{11} + 500.0 {X}_{12}^{2} - 1000.0 {X}_{12} + 5000.0, {X}_{0}, {X}_{1}, {X}_{2}, {X}_{3}, {X}_{4}, {X}_{5}, {X}_{6}, {X}_{7}, {X}_{8}, {X}_{9}, {X}_{10}, {X}_{11}, {X}_{12}, domain=\\mathbb{R} \\right)}$"
      ]
     },
     "metadata": {},
     "execution_count": 23
    }
   ],
   "metadata": {}
  },
  {
   "cell_type": "markdown",
   "source": [
    "## QAOA"
   ],
   "metadata": {}
  },
  {
   "cell_type": "code",
   "execution_count": 24,
   "source": [
    "import qiskit\n",
    "from qiskit.algorithms import QAOA, VQE\n",
    "\n",
    "from qiskit_optimization.algorithms import MinimumEigenOptimizer, RecursiveMinimumEigenOptimizer, CplexOptimizer, GroverOptimizer\n",
    "from qiskit.utils import QuantumInstance\n",
    "from qiskit_optimization.problems import QuadraticProgram\n",
    "from qiskit.algorithms.optimizers import COBYLA, L_BFGS_B, SPSA, SLSQP\n",
    "\n",
    "\n",
    "# generate qiskit's cost function\n",
    "qiskit_cost_function = QuadraticProgram()\n",
    "\n",
    "# define qiskit variables\n",
    "for i in range(nr_qubits):\n",
    "    qiskit_cost_function.binary_var('X_' + str(i))\n",
    "\n",
    "# specify qiskit cost function\n",
    "qiskit_cost_function.minimize(\n",
    "    linear = [int(cost_poly.coeff_monomial(X[i]**1)) for i in range(nr_qubits)],\n",
    "    quadratic = {\n",
    "        ('X_'+str(i), 'X_'+str(j)): cost_poly.coeff_monomial(X[i]**1 * X[j]**1)\n",
    "        for i in range(nr_qubits)\n",
    "        for j in range(i,nr_qubits)\n",
    "    }\n",
    "    )\n",
    "\n",
    "fix_nodes(start_node, destination_node, test_sg, test_nsg, qiskit_cost_function)\n",
    "\n",
    "print(qiskit_cost_function.export_as_lp_string())"
   ],
   "outputs": [
    {
     "output_type": "stream",
     "name": "stdout",
     "text": [
      "\\ This file has been generated by DOcplex\n",
      "\\ ENCODING=ISO-8859-1\n",
      "\\Problem name: CPLEX\n",
      "\n",
      "Minimize\n",
      " obj: - 1000 X_0 - 2000 X_1 - 2000 X_2 - 2000 X_3 - 2000 X_4 - 2000 X_5\n",
      "      - 2000 X_6 - 2000 X_7 - 2000 X_8 - 2000 X_9 - 2000 X_10 - 2000 X_11\n",
      "      - 1000 X_12 + [ 1000 X_0^2 + 4 X_0*X_1 + 10 X_0*X_2 + 2000 X_1^2\n",
      "      + 2000 X_1*X_2 + 2 X_1*X_3 + 6 X_1*X_4 + 3000 X_1*X_5 + 2000 X_2^2\n",
      "      + 8 X_2*X_3 + 1000 X_2*X_4 + 6 X_2*X_5 + 2000 X_2*X_8 + 2000 X_2*X_11\n",
      "      + 2000 X_3^2 + 2000 X_3*X_4 + 2000 X_3*X_5 + 3000 X_3*X_6 + 4 X_3*X_7\n",
      "      + 1000 X_3*X_8 + 2000 X_3*X_10 + 2000 X_4^2 + 2000 X_4*X_5 + 1000 X_4*X_6\n",
      "      + 3000 X_4*X_7 + 8 X_4*X_8 + 2000 X_4*X_9 + 2000 X_5^2 + 2 X_5*X_6\n",
      "      + 6 X_5*X_7 + 1000 X_5*X_8 + 2000 X_6^2 + 2000 X_6*X_7 + 2000 X_6*X_8\n",
      "      + 4 X_6*X_9 + 3000 X_6*X_10 + 1000 X_6*X_11 + 2000 X_7^2 + 2000 X_7*X_8\n",
      "      + 3000 X_7*X_9 + 1000 X_7*X_10 + 8 X_7*X_11 + 2000 X_8^2 + 1000 X_8*X_9\n",
      "      + 8 X_8*X_10 + 3000 X_8*X_11 + 2000 X_9^2 + 2000 X_9*X_10 + 2000 X_9*X_11\n",
      "      + 2 X_9*X_12 + 2000 X_10^2 + 2000 X_10*X_11 + 8 X_10*X_12 + 2000 X_11^2\n",
      "      + 10 X_11*X_12 + 1000 X_12^2 ]/2\n",
      "Subject To\n",
      " start_node: X_0 = 1\n",
      " destination_node: X_12 = 1\n",
      "\n",
      "Bounds\n",
      " 0 <= X_0 <= 1\n",
      " 0 <= X_1 <= 1\n",
      " 0 <= X_2 <= 1\n",
      " 0 <= X_3 <= 1\n",
      " 0 <= X_4 <= 1\n",
      " 0 <= X_5 <= 1\n",
      " 0 <= X_6 <= 1\n",
      " 0 <= X_7 <= 1\n",
      " 0 <= X_8 <= 1\n",
      " 0 <= X_9 <= 1\n",
      " 0 <= X_10 <= 1\n",
      " 0 <= X_11 <= 1\n",
      " 0 <= X_12 <= 1\n",
      "\n",
      "Binaries\n",
      " X_0 X_1 X_2 X_3 X_4 X_5 X_6 X_7 X_8 X_9 X_10 X_11 X_12\n",
      "End\n",
      "\n"
     ]
    }
   ],
   "metadata": {}
  },
  {
   "cell_type": "code",
   "execution_count": 25,
   "source": [
    "# execute QAOA on local simulator\n",
    "qaoa = QAOA(quantum_instance =\n",
    "             QuantumInstance(backend=qiskit.Aer.get_backend('qasm_simulator'), skip_qobj_validation=False))\n",
    "optimizer_qaoa = MinimumEigenOptimizer(qaoa)\n",
    "\n",
    "results = []\n",
    "\n",
    "for i in range(10):\n",
    "    result_qaoa = optimizer_qaoa.solve(qiskit_cost_function)\n",
    "    print(result_qaoa)\n",
    "    results.append(result_qaoa)"
   ],
   "outputs": [],
   "metadata": {}
  },
  {
   "cell_type": "markdown",
   "source": [
    "## Results"
   ],
   "metadata": {}
  },
  {
   "cell_type": "code",
   "execution_count": 26,
   "source": [
    "# path cost: Wegkosten\n",
    "# actual_opt_cost: Optimierungskosten. Schließt Wegkosten und Penalty-Terms ein. Ist immer positiv.\n",
    "# path: qubit-ergebnis\n",
    "result_df = pd.DataFrame(columns = ['actual_opt_cost', 'path'])\n",
    "\n",
    "for r in results:\n",
    "\n",
    "    path_string = str(r.x).replace(' ', '').replace('.', '')[1:-1]\n",
    "\n",
    "    result_df = result_df.append({'actual_opt_cost': r.fval + 2 * penalty_value, 'path': path_string}, ignore_index=True)\n",
    "\n",
    "print(\"QAOA:\")\n",
    "print(result_df.sort_values(by=['actual_opt_cost']))"
   ],
   "outputs": [
    {
     "output_type": "execute_result",
     "data": {
      "text/plain": [
       "optimal function value: -3995.0\n",
       "optimal value: [1. 1. 0. 1. 0. 0. 0. 1. 0. 0. 0. 0. 1.]\n",
       "status: SUCCESS"
      ]
     },
     "metadata": {},
     "execution_count": 26
    }
   ],
   "metadata": {}
  },
  {
   "cell_type": "code",
   "execution_count": 27,
   "source": [
    "# JRL adding VQE\n",
    "from qiskit.circuit.library import TwoLocal\n",
    "\n",
    "backend = qiskit.Aer.get_backend('qasm_simulator')\n",
    "optimizer = SPSA(maxiter=250)\n",
    "ry = TwoLocal(nr_qubits, 'ry', 'cz', reps=15, entanglement='linear')\n",
    "vqe = VQE(ry, optimizer=optimizer, quantum_instance=QuantumInstance(backend=backend))\n",
    "\n",
    "optimizer_vqe = MinimumEigenOptimizer(vqe)\n",
    "\n",
    "results_vqe = []\n",
    "\n",
    "for i in range(10): # JRL\n",
    "    print(\"i \",i) # JRL\n",
    "    result_vqe = optimizer_vqe.solve(qiskit_cost_function)\n",
    "    results_vqe.append(result_vqe)\n",
    "    print(\"result_vqe \", result_vqe) # JRL\n"
   ],
   "outputs": [
    {
     "output_type": "execute_result",
     "data": {
      "text/plain": [
       "-4091.5"
      ]
     },
     "metadata": {},
     "execution_count": 27
    }
   ],
   "metadata": {}
  },
  {
   "cell_type": "code",
   "execution_count": null,
   "source": [
    "result_vqe_df = pd.DataFrame(columns = ['actual_opt_cost', 'path'])\n",
    "\n",
    "for r in results_vqe:\n",
    "    \n",
    "    path_string = str(r.x).replace(' ', '').replace('.', '')[1:-1]\n",
    "\n",
    "    result_vqe_df = result_vqe_df.append({'actual_opt_cost': r.fval + 6 * penalty_value, 'path': path_string}, ignore_index=True)\n",
    "\n",
    "print(\"VQE:\")\n",
    "print(result_vqe_df.sort_values(by=['actual_opt_cost']))"
   ],
   "outputs": [],
   "metadata": {}
  },
  {
   "cell_type": "code",
   "execution_count": 28,
   "source": [
    "optimizer = CplexOptimizer() if CplexOptimizer.is_cplex_installed() else None\n",
    "\n",
    "results_classic = []\n",
    "\n",
    "for i in range(1):\n",
    "    result = optimizer.solve(qiskit_cost_function)\n",
    "    results_classic.append(result)"
   ],
   "outputs": [],
   "metadata": {}
  },
  {
   "cell_type": "code",
   "execution_count": 29,
   "source": [
    "average_cost_classic = 0\n",
    "for r in results_classic:\n",
    "    average_cost_classic += r.fval\n",
    "average_cost_classic / len(results_classic)"
   ],
   "outputs": [
    {
     "output_type": "execute_result",
     "data": {
      "text/plain": [
       "-4988.0"
      ]
     },
     "metadata": {},
     "execution_count": 29
    }
   ],
   "metadata": {}
  },
  {
   "cell_type": "code",
   "execution_count": 30,
   "source": [
    "test_sg"
   ],
   "outputs": [
    {
     "output_type": "execute_result",
     "data": {
      "text/plain": [
       "[[0], [1, 3], [2, 4, 1], [2, 4, 3], [4, 2, 3], [0]]"
      ]
     },
     "metadata": {},
     "execution_count": 30
    }
   ],
   "metadata": {}
  },
  {
   "cell_type": "code",
   "execution_count": 31,
   "source": [
    "test_nsg"
   ],
   "outputs": [
    {
     "output_type": "execute_result",
     "data": {
      "text/plain": [
       "[[0], [1, 2], [3, 4, 5], [6, 7, 8], [9, 10, 11], [12]]"
      ]
     },
     "metadata": {},
     "execution_count": 31
    }
   ],
   "metadata": {}
  },
  {
   "cell_type": "code",
   "execution_count": 32,
   "source": [
    "qubit_results = []\n",
    "for result in results:\n",
    "    qubit_string = str(result.x).replace(' ', '').replace('.', '').replace('-', '')[1:-1]\n",
    "    qubit_results.append(qubit_string)"
   ],
   "outputs": [],
   "metadata": {}
  },
  {
   "cell_type": "code",
   "execution_count": 33,
   "source": [
    "plt.hist(qubit_results, bins = len(qubit_results))\n",
    "plt.xticks(rotation='vertical')\n",
    "plt.figure(figsize=(10,10)) \n",
    "plt.show()"
   ],
   "outputs": [
    {
     "output_type": "display_data",
     "data": {
      "text/plain": [
       "<Figure size 432x288 with 1 Axes>"
      ],
      "image/svg+xml": "<?xml version=\"1.0\" encoding=\"utf-8\" standalone=\"no\"?>\n<!DOCTYPE svg PUBLIC \"-//W3C//DTD SVG 1.1//EN\"\n  \"http://www.w3.org/Graphics/SVG/1.1/DTD/svg11.dtd\">\n<!-- Created with matplotlib (https://matplotlib.org/) -->\n<svg height=\"321.5525pt\" version=\"1.1\" viewBox=\"0 0 372.103125 321.5525\" width=\"372.103125pt\" xmlns=\"http://www.w3.org/2000/svg\" xmlns:xlink=\"http://www.w3.org/1999/xlink\">\n <metadata>\n  <rdf:RDF xmlns:cc=\"http://creativecommons.org/ns#\" xmlns:dc=\"http://purl.org/dc/elements/1.1/\" xmlns:rdf=\"http://www.w3.org/1999/02/22-rdf-syntax-ns#\">\n   <cc:Work>\n    <dc:type rdf:resource=\"http://purl.org/dc/dcmitype/StillImage\"/>\n    <dc:date>2021-08-20T15:52:50.356544</dc:date>\n    <dc:format>image/svg+xml</dc:format>\n    <dc:creator>\n     <cc:Agent>\n      <dc:title>Matplotlib v3.3.2, https://matplotlib.org/</dc:title>\n     </cc:Agent>\n    </dc:creator>\n   </cc:Work>\n  </rdf:RDF>\n </metadata>\n <defs>\n  <style type=\"text/css\">*{stroke-linecap:butt;stroke-linejoin:round;}</style>\n </defs>\n <g id=\"figure_1\">\n  <g id=\"patch_1\">\n   <path d=\"M 0 321.5525 \nL 372.103125 321.5525 \nL 372.103125 0 \nL 0 0 \nz\n\" style=\"fill:none;\"/>\n  </g>\n  <g id=\"axes_1\">\n   <g id=\"patch_2\">\n    <path d=\"M 30.103125 224.64 \nL 364.903125 224.64 \nL 364.903125 7.2 \nL 30.103125 7.2 \nz\n\" style=\"fill:#ffffff;\"/>\n   </g>\n   <g id=\"patch_3\">\n    <path clip-path=\"url(#p4db651083b)\" d=\"M 45.321307 224.64 \nL 75.75767 224.64 \nL 75.75767 17.554286 \nL 45.321307 17.554286 \nz\n\" style=\"fill:#1f77b4;\"/>\n   </g>\n   <g id=\"patch_4\">\n    <path clip-path=\"url(#p4db651083b)\" d=\"M 75.75767 224.64 \nL 106.194034 224.64 \nL 106.194034 155.611429 \nL 75.75767 155.611429 \nz\n\" style=\"fill:#1f77b4;\"/>\n   </g>\n   <g id=\"patch_5\">\n    <path clip-path=\"url(#p4db651083b)\" d=\"M 106.194034 224.64 \nL 136.630398 224.64 \nL 136.630398 155.611429 \nL 106.194034 155.611429 \nz\n\" style=\"fill:#1f77b4;\"/>\n   </g>\n   <g id=\"patch_6\">\n    <path clip-path=\"url(#p4db651083b)\" d=\"M 136.630398 224.64 \nL 167.066761 224.64 \nL 167.066761 224.64 \nL 136.630398 224.64 \nz\n\" style=\"fill:#1f77b4;\"/>\n   </g>\n   <g id=\"patch_7\">\n    <path clip-path=\"url(#p4db651083b)\" d=\"M 167.066761 224.64 \nL 197.503125 224.64 \nL 197.503125 155.611429 \nL 167.066761 155.611429 \nz\n\" style=\"fill:#1f77b4;\"/>\n   </g>\n   <g id=\"patch_8\">\n    <path clip-path=\"url(#p4db651083b)\" d=\"M 197.503125 224.64 \nL 227.939489 224.64 \nL 227.939489 155.611429 \nL 197.503125 155.611429 \nz\n\" style=\"fill:#1f77b4;\"/>\n   </g>\n   <g id=\"patch_9\">\n    <path clip-path=\"url(#p4db651083b)\" d=\"M 227.939489 224.64 \nL 258.375852 224.64 \nL 258.375852 224.64 \nL 227.939489 224.64 \nz\n\" style=\"fill:#1f77b4;\"/>\n   </g>\n   <g id=\"patch_10\">\n    <path clip-path=\"url(#p4db651083b)\" d=\"M 258.375852 224.64 \nL 288.812216 224.64 \nL 288.812216 155.611429 \nL 258.375852 155.611429 \nz\n\" style=\"fill:#1f77b4;\"/>\n   </g>\n   <g id=\"patch_11\">\n    <path clip-path=\"url(#p4db651083b)\" d=\"M 288.812216 224.64 \nL 319.24858 224.64 \nL 319.24858 155.611429 \nL 288.812216 155.611429 \nz\n\" style=\"fill:#1f77b4;\"/>\n   </g>\n   <g id=\"patch_12\">\n    <path clip-path=\"url(#p4db651083b)\" d=\"M 319.24858 224.64 \nL 349.684943 224.64 \nL 349.684943 155.611429 \nL 319.24858 155.611429 \nz\n\" style=\"fill:#1f77b4;\"/>\n   </g>\n   <g id=\"matplotlib.axis_1\">\n    <g id=\"xtick_1\">\n     <g id=\"line2d_1\">\n      <defs>\n       <path d=\"M 0 0 \nL 0 3.5 \n\" id=\"mdd5a74846c\" style=\"stroke:#000000;stroke-width:0.8;\"/>\n      </defs>\n      <g>\n       <use style=\"stroke:#000000;stroke-width:0.8;\" x=\"45.321307\" xlink:href=\"#mdd5a74846c\" y=\"224.64\"/>\n      </g>\n     </g>\n     <g id=\"text_1\">\n      <!-- 1101000100001 -->\n      <g transform=\"translate(48.080682 314.3525)rotate(-90)scale(0.1 -0.1)\">\n       <defs>\n        <path d=\"M 12.40625 8.296875 \nL 28.515625 8.296875 \nL 28.515625 63.921875 \nL 10.984375 60.40625 \nL 10.984375 69.390625 \nL 28.421875 72.90625 \nL 38.28125 72.90625 \nL 38.28125 8.296875 \nL 54.390625 8.296875 \nL 54.390625 0 \nL 12.40625 0 \nz\n\" id=\"DejaVuSans-49\"/>\n        <path d=\"M 31.78125 66.40625 \nQ 24.171875 66.40625 20.328125 58.90625 \nQ 16.5 51.421875 16.5 36.375 \nQ 16.5 21.390625 20.328125 13.890625 \nQ 24.171875 6.390625 31.78125 6.390625 \nQ 39.453125 6.390625 43.28125 13.890625 \nQ 47.125 21.390625 47.125 36.375 \nQ 47.125 51.421875 43.28125 58.90625 \nQ 39.453125 66.40625 31.78125 66.40625 \nz\nM 31.78125 74.21875 \nQ 44.046875 74.21875 50.515625 64.515625 \nQ 56.984375 54.828125 56.984375 36.375 \nQ 56.984375 17.96875 50.515625 8.265625 \nQ 44.046875 -1.421875 31.78125 -1.421875 \nQ 19.53125 -1.421875 13.0625 8.265625 \nQ 6.59375 17.96875 6.59375 36.375 \nQ 6.59375 54.828125 13.0625 64.515625 \nQ 19.53125 74.21875 31.78125 74.21875 \nz\n\" id=\"DejaVuSans-48\"/>\n       </defs>\n       <use xlink:href=\"#DejaVuSans-49\"/>\n       <use x=\"63.623047\" xlink:href=\"#DejaVuSans-49\"/>\n       <use x=\"127.246094\" xlink:href=\"#DejaVuSans-48\"/>\n       <use x=\"190.869141\" xlink:href=\"#DejaVuSans-49\"/>\n       <use x=\"254.492188\" xlink:href=\"#DejaVuSans-48\"/>\n       <use x=\"318.115234\" xlink:href=\"#DejaVuSans-48\"/>\n       <use x=\"381.738281\" xlink:href=\"#DejaVuSans-48\"/>\n       <use x=\"445.361328\" xlink:href=\"#DejaVuSans-49\"/>\n       <use x=\"508.984375\" xlink:href=\"#DejaVuSans-48\"/>\n       <use x=\"572.607422\" xlink:href=\"#DejaVuSans-48\"/>\n       <use x=\"636.230469\" xlink:href=\"#DejaVuSans-48\"/>\n       <use x=\"699.853516\" xlink:href=\"#DejaVuSans-48\"/>\n       <use x=\"763.476562\" xlink:href=\"#DejaVuSans-49\"/>\n      </g>\n     </g>\n    </g>\n    <g id=\"xtick_2\">\n     <g id=\"line2d_2\">\n      <g>\n       <use style=\"stroke:#000000;stroke-width:0.8;\" x=\"88.801826\" xlink:href=\"#mdd5a74846c\" y=\"224.64\"/>\n      </g>\n     </g>\n     <g id=\"text_2\">\n      <!-- 1100000100011 -->\n      <g transform=\"translate(91.561201 314.3525)rotate(-90)scale(0.1 -0.1)\">\n       <use xlink:href=\"#DejaVuSans-49\"/>\n       <use x=\"63.623047\" xlink:href=\"#DejaVuSans-49\"/>\n       <use x=\"127.246094\" xlink:href=\"#DejaVuSans-48\"/>\n       <use x=\"190.869141\" xlink:href=\"#DejaVuSans-48\"/>\n       <use x=\"254.492188\" xlink:href=\"#DejaVuSans-48\"/>\n       <use x=\"318.115234\" xlink:href=\"#DejaVuSans-48\"/>\n       <use x=\"381.738281\" xlink:href=\"#DejaVuSans-48\"/>\n       <use x=\"445.361328\" xlink:href=\"#DejaVuSans-49\"/>\n       <use x=\"508.984375\" xlink:href=\"#DejaVuSans-48\"/>\n       <use x=\"572.607422\" xlink:href=\"#DejaVuSans-48\"/>\n       <use x=\"636.230469\" xlink:href=\"#DejaVuSans-48\"/>\n       <use x=\"699.853516\" xlink:href=\"#DejaVuSans-49\"/>\n       <use x=\"763.476562\" xlink:href=\"#DejaVuSans-49\"/>\n      </g>\n     </g>\n    </g>\n    <g id=\"xtick_3\">\n     <g id=\"line2d_3\">\n      <g>\n       <use style=\"stroke:#000000;stroke-width:0.8;\" x=\"132.282346\" xlink:href=\"#mdd5a74846c\" y=\"224.64\"/>\n      </g>\n     </g>\n     <g id=\"text_3\">\n      <!-- 1100100000101 -->\n      <g transform=\"translate(135.041721 314.3525)rotate(-90)scale(0.1 -0.1)\">\n       <use xlink:href=\"#DejaVuSans-49\"/>\n       <use x=\"63.623047\" xlink:href=\"#DejaVuSans-49\"/>\n       <use x=\"127.246094\" xlink:href=\"#DejaVuSans-48\"/>\n       <use x=\"190.869141\" xlink:href=\"#DejaVuSans-48\"/>\n       <use x=\"254.492188\" xlink:href=\"#DejaVuSans-49\"/>\n       <use x=\"318.115234\" xlink:href=\"#DejaVuSans-48\"/>\n       <use x=\"381.738281\" xlink:href=\"#DejaVuSans-48\"/>\n       <use x=\"445.361328\" xlink:href=\"#DejaVuSans-48\"/>\n       <use x=\"508.984375\" xlink:href=\"#DejaVuSans-48\"/>\n       <use x=\"572.607422\" xlink:href=\"#DejaVuSans-48\"/>\n       <use x=\"636.230469\" xlink:href=\"#DejaVuSans-49\"/>\n       <use x=\"699.853516\" xlink:href=\"#DejaVuSans-48\"/>\n       <use x=\"763.476562\" xlink:href=\"#DejaVuSans-49\"/>\n      </g>\n     </g>\n    </g>\n    <g id=\"xtick_4\">\n     <g id=\"line2d_4\">\n      <g>\n       <use style=\"stroke:#000000;stroke-width:0.8;\" x=\"175.762865\" xlink:href=\"#mdd5a74846c\" y=\"224.64\"/>\n      </g>\n     </g>\n     <g id=\"text_4\">\n      <!-- 1100000011001 -->\n      <g transform=\"translate(178.52224 314.3525)rotate(-90)scale(0.1 -0.1)\">\n       <use xlink:href=\"#DejaVuSans-49\"/>\n       <use x=\"63.623047\" xlink:href=\"#DejaVuSans-49\"/>\n       <use x=\"127.246094\" xlink:href=\"#DejaVuSans-48\"/>\n       <use x=\"190.869141\" xlink:href=\"#DejaVuSans-48\"/>\n       <use x=\"254.492188\" xlink:href=\"#DejaVuSans-48\"/>\n       <use x=\"318.115234\" xlink:href=\"#DejaVuSans-48\"/>\n       <use x=\"381.738281\" xlink:href=\"#DejaVuSans-48\"/>\n       <use x=\"445.361328\" xlink:href=\"#DejaVuSans-48\"/>\n       <use x=\"508.984375\" xlink:href=\"#DejaVuSans-49\"/>\n       <use x=\"572.607422\" xlink:href=\"#DejaVuSans-49\"/>\n       <use x=\"636.230469\" xlink:href=\"#DejaVuSans-48\"/>\n       <use x=\"699.853516\" xlink:href=\"#DejaVuSans-48\"/>\n       <use x=\"763.476562\" xlink:href=\"#DejaVuSans-49\"/>\n      </g>\n     </g>\n    </g>\n    <g id=\"xtick_5\">\n     <g id=\"line2d_5\">\n      <g>\n       <use style=\"stroke:#000000;stroke-width:0.8;\" x=\"219.243385\" xlink:href=\"#mdd5a74846c\" y=\"224.64\"/>\n      </g>\n     </g>\n     <g id=\"text_5\">\n      <!-- 1101000100011 -->\n      <g transform=\"translate(222.00276 314.3525)rotate(-90)scale(0.1 -0.1)\">\n       <use xlink:href=\"#DejaVuSans-49\"/>\n       <use x=\"63.623047\" xlink:href=\"#DejaVuSans-49\"/>\n       <use x=\"127.246094\" xlink:href=\"#DejaVuSans-48\"/>\n       <use x=\"190.869141\" xlink:href=\"#DejaVuSans-49\"/>\n       <use x=\"254.492188\" xlink:href=\"#DejaVuSans-48\"/>\n       <use x=\"318.115234\" xlink:href=\"#DejaVuSans-48\"/>\n       <use x=\"381.738281\" xlink:href=\"#DejaVuSans-48\"/>\n       <use x=\"445.361328\" xlink:href=\"#DejaVuSans-49\"/>\n       <use x=\"508.984375\" xlink:href=\"#DejaVuSans-48\"/>\n       <use x=\"572.607422\" xlink:href=\"#DejaVuSans-48\"/>\n       <use x=\"636.230469\" xlink:href=\"#DejaVuSans-48\"/>\n       <use x=\"699.853516\" xlink:href=\"#DejaVuSans-49\"/>\n       <use x=\"763.476562\" xlink:href=\"#DejaVuSans-49\"/>\n      </g>\n     </g>\n    </g>\n    <g id=\"xtick_6\">\n     <g id=\"line2d_6\">\n      <g>\n       <use style=\"stroke:#000000;stroke-width:0.8;\" x=\"262.723904\" xlink:href=\"#mdd5a74846c\" y=\"224.64\"/>\n      </g>\n     </g>\n     <g id=\"text_6\">\n      <!-- 1101000001001 -->\n      <g transform=\"translate(265.483279 314.3525)rotate(-90)scale(0.1 -0.1)\">\n       <use xlink:href=\"#DejaVuSans-49\"/>\n       <use x=\"63.623047\" xlink:href=\"#DejaVuSans-49\"/>\n       <use x=\"127.246094\" xlink:href=\"#DejaVuSans-48\"/>\n       <use x=\"190.869141\" xlink:href=\"#DejaVuSans-49\"/>\n       <use x=\"254.492188\" xlink:href=\"#DejaVuSans-48\"/>\n       <use x=\"318.115234\" xlink:href=\"#DejaVuSans-48\"/>\n       <use x=\"381.738281\" xlink:href=\"#DejaVuSans-48\"/>\n       <use x=\"445.361328\" xlink:href=\"#DejaVuSans-48\"/>\n       <use x=\"508.984375\" xlink:href=\"#DejaVuSans-48\"/>\n       <use x=\"572.607422\" xlink:href=\"#DejaVuSans-49\"/>\n       <use x=\"636.230469\" xlink:href=\"#DejaVuSans-48\"/>\n       <use x=\"699.853516\" xlink:href=\"#DejaVuSans-48\"/>\n       <use x=\"763.476562\" xlink:href=\"#DejaVuSans-49\"/>\n      </g>\n     </g>\n    </g>\n    <g id=\"xtick_7\">\n     <g id=\"line2d_7\">\n      <g>\n       <use style=\"stroke:#000000;stroke-width:0.8;\" x=\"306.204424\" xlink:href=\"#mdd5a74846c\" y=\"224.64\"/>\n      </g>\n     </g>\n     <g id=\"text_7\">\n      <!-- 1111000100001 -->\n      <g transform=\"translate(308.963799 314.3525)rotate(-90)scale(0.1 -0.1)\">\n       <use xlink:href=\"#DejaVuSans-49\"/>\n       <use x=\"63.623047\" xlink:href=\"#DejaVuSans-49\"/>\n       <use x=\"127.246094\" xlink:href=\"#DejaVuSans-49\"/>\n       <use x=\"190.869141\" xlink:href=\"#DejaVuSans-49\"/>\n       <use x=\"254.492188\" xlink:href=\"#DejaVuSans-48\"/>\n       <use x=\"318.115234\" xlink:href=\"#DejaVuSans-48\"/>\n       <use x=\"381.738281\" xlink:href=\"#DejaVuSans-48\"/>\n       <use x=\"445.361328\" xlink:href=\"#DejaVuSans-49\"/>\n       <use x=\"508.984375\" xlink:href=\"#DejaVuSans-48\"/>\n       <use x=\"572.607422\" xlink:href=\"#DejaVuSans-48\"/>\n       <use x=\"636.230469\" xlink:href=\"#DejaVuSans-48\"/>\n       <use x=\"699.853516\" xlink:href=\"#DejaVuSans-48\"/>\n       <use x=\"763.476562\" xlink:href=\"#DejaVuSans-49\"/>\n      </g>\n     </g>\n    </g>\n    <g id=\"xtick_8\">\n     <g id=\"line2d_8\">\n      <g>\n       <use style=\"stroke:#000000;stroke-width:0.8;\" x=\"349.684943\" xlink:href=\"#mdd5a74846c\" y=\"224.64\"/>\n      </g>\n     </g>\n     <g id=\"text_8\">\n      <!-- 1010010100101 -->\n      <g transform=\"translate(352.444318 314.3525)rotate(-90)scale(0.1 -0.1)\">\n       <use xlink:href=\"#DejaVuSans-49\"/>\n       <use x=\"63.623047\" xlink:href=\"#DejaVuSans-48\"/>\n       <use x=\"127.246094\" xlink:href=\"#DejaVuSans-49\"/>\n       <use x=\"190.869141\" xlink:href=\"#DejaVuSans-48\"/>\n       <use x=\"254.492188\" xlink:href=\"#DejaVuSans-48\"/>\n       <use x=\"318.115234\" xlink:href=\"#DejaVuSans-49\"/>\n       <use x=\"381.738281\" xlink:href=\"#DejaVuSans-48\"/>\n       <use x=\"445.361328\" xlink:href=\"#DejaVuSans-49\"/>\n       <use x=\"508.984375\" xlink:href=\"#DejaVuSans-48\"/>\n       <use x=\"572.607422\" xlink:href=\"#DejaVuSans-48\"/>\n       <use x=\"636.230469\" xlink:href=\"#DejaVuSans-49\"/>\n       <use x=\"699.853516\" xlink:href=\"#DejaVuSans-48\"/>\n       <use x=\"763.476562\" xlink:href=\"#DejaVuSans-49\"/>\n      </g>\n     </g>\n    </g>\n   </g>\n   <g id=\"matplotlib.axis_2\">\n    <g id=\"ytick_1\">\n     <g id=\"line2d_9\">\n      <defs>\n       <path d=\"M 0 0 \nL -3.5 0 \n\" id=\"m2b5a652857\" style=\"stroke:#000000;stroke-width:0.8;\"/>\n      </defs>\n      <g>\n       <use style=\"stroke:#000000;stroke-width:0.8;\" x=\"30.103125\" xlink:href=\"#m2b5a652857\" y=\"224.64\"/>\n      </g>\n     </g>\n     <g id=\"text_9\">\n      <!-- 0.0 -->\n      <g transform=\"translate(7.2 228.439219)scale(0.1 -0.1)\">\n       <defs>\n        <path d=\"M 10.6875 12.40625 \nL 21 12.40625 \nL 21 0 \nL 10.6875 0 \nz\n\" id=\"DejaVuSans-46\"/>\n       </defs>\n       <use xlink:href=\"#DejaVuSans-48\"/>\n       <use x=\"63.623047\" xlink:href=\"#DejaVuSans-46\"/>\n       <use x=\"95.410156\" xlink:href=\"#DejaVuSans-48\"/>\n      </g>\n     </g>\n    </g>\n    <g id=\"ytick_2\">\n     <g id=\"line2d_10\">\n      <g>\n       <use style=\"stroke:#000000;stroke-width:0.8;\" x=\"30.103125\" xlink:href=\"#m2b5a652857\" y=\"190.125714\"/>\n      </g>\n     </g>\n     <g id=\"text_10\">\n      <!-- 0.5 -->\n      <g transform=\"translate(7.2 193.924933)scale(0.1 -0.1)\">\n       <defs>\n        <path d=\"M 10.796875 72.90625 \nL 49.515625 72.90625 \nL 49.515625 64.59375 \nL 19.828125 64.59375 \nL 19.828125 46.734375 \nQ 21.96875 47.46875 24.109375 47.828125 \nQ 26.265625 48.1875 28.421875 48.1875 \nQ 40.625 48.1875 47.75 41.5 \nQ 54.890625 34.8125 54.890625 23.390625 \nQ 54.890625 11.625 47.5625 5.09375 \nQ 40.234375 -1.421875 26.90625 -1.421875 \nQ 22.3125 -1.421875 17.546875 -0.640625 \nQ 12.796875 0.140625 7.71875 1.703125 \nL 7.71875 11.625 \nQ 12.109375 9.234375 16.796875 8.0625 \nQ 21.484375 6.890625 26.703125 6.890625 \nQ 35.15625 6.890625 40.078125 11.328125 \nQ 45.015625 15.765625 45.015625 23.390625 \nQ 45.015625 31 40.078125 35.4375 \nQ 35.15625 39.890625 26.703125 39.890625 \nQ 22.75 39.890625 18.8125 39.015625 \nQ 14.890625 38.140625 10.796875 36.28125 \nz\n\" id=\"DejaVuSans-53\"/>\n       </defs>\n       <use xlink:href=\"#DejaVuSans-48\"/>\n       <use x=\"63.623047\" xlink:href=\"#DejaVuSans-46\"/>\n       <use x=\"95.410156\" xlink:href=\"#DejaVuSans-53\"/>\n      </g>\n     </g>\n    </g>\n    <g id=\"ytick_3\">\n     <g id=\"line2d_11\">\n      <g>\n       <use style=\"stroke:#000000;stroke-width:0.8;\" x=\"30.103125\" xlink:href=\"#m2b5a652857\" y=\"155.611429\"/>\n      </g>\n     </g>\n     <g id=\"text_11\">\n      <!-- 1.0 -->\n      <g transform=\"translate(7.2 159.410647)scale(0.1 -0.1)\">\n       <use xlink:href=\"#DejaVuSans-49\"/>\n       <use x=\"63.623047\" xlink:href=\"#DejaVuSans-46\"/>\n       <use x=\"95.410156\" xlink:href=\"#DejaVuSans-48\"/>\n      </g>\n     </g>\n    </g>\n    <g id=\"ytick_4\">\n     <g id=\"line2d_12\">\n      <g>\n       <use style=\"stroke:#000000;stroke-width:0.8;\" x=\"30.103125\" xlink:href=\"#m2b5a652857\" y=\"121.097143\"/>\n      </g>\n     </g>\n     <g id=\"text_12\">\n      <!-- 1.5 -->\n      <g transform=\"translate(7.2 124.896362)scale(0.1 -0.1)\">\n       <use xlink:href=\"#DejaVuSans-49\"/>\n       <use x=\"63.623047\" xlink:href=\"#DejaVuSans-46\"/>\n       <use x=\"95.410156\" xlink:href=\"#DejaVuSans-53\"/>\n      </g>\n     </g>\n    </g>\n    <g id=\"ytick_5\">\n     <g id=\"line2d_13\">\n      <g>\n       <use style=\"stroke:#000000;stroke-width:0.8;\" x=\"30.103125\" xlink:href=\"#m2b5a652857\" y=\"86.582857\"/>\n      </g>\n     </g>\n     <g id=\"text_13\">\n      <!-- 2.0 -->\n      <g transform=\"translate(7.2 90.382076)scale(0.1 -0.1)\">\n       <defs>\n        <path d=\"M 19.1875 8.296875 \nL 53.609375 8.296875 \nL 53.609375 0 \nL 7.328125 0 \nL 7.328125 8.296875 \nQ 12.9375 14.109375 22.625 23.890625 \nQ 32.328125 33.6875 34.8125 36.53125 \nQ 39.546875 41.84375 41.421875 45.53125 \nQ 43.3125 49.21875 43.3125 52.78125 \nQ 43.3125 58.59375 39.234375 62.25 \nQ 35.15625 65.921875 28.609375 65.921875 \nQ 23.96875 65.921875 18.8125 64.3125 \nQ 13.671875 62.703125 7.8125 59.421875 \nL 7.8125 69.390625 \nQ 13.765625 71.78125 18.9375 73 \nQ 24.125 74.21875 28.421875 74.21875 \nQ 39.75 74.21875 46.484375 68.546875 \nQ 53.21875 62.890625 53.21875 53.421875 \nQ 53.21875 48.921875 51.53125 44.890625 \nQ 49.859375 40.875 45.40625 35.40625 \nQ 44.1875 33.984375 37.640625 27.21875 \nQ 31.109375 20.453125 19.1875 8.296875 \nz\n\" id=\"DejaVuSans-50\"/>\n       </defs>\n       <use xlink:href=\"#DejaVuSans-50\"/>\n       <use x=\"63.623047\" xlink:href=\"#DejaVuSans-46\"/>\n       <use x=\"95.410156\" xlink:href=\"#DejaVuSans-48\"/>\n      </g>\n     </g>\n    </g>\n    <g id=\"ytick_6\">\n     <g id=\"line2d_14\">\n      <g>\n       <use style=\"stroke:#000000;stroke-width:0.8;\" x=\"30.103125\" xlink:href=\"#m2b5a652857\" y=\"52.068571\"/>\n      </g>\n     </g>\n     <g id=\"text_14\">\n      <!-- 2.5 -->\n      <g transform=\"translate(7.2 55.86779)scale(0.1 -0.1)\">\n       <use xlink:href=\"#DejaVuSans-50\"/>\n       <use x=\"63.623047\" xlink:href=\"#DejaVuSans-46\"/>\n       <use x=\"95.410156\" xlink:href=\"#DejaVuSans-53\"/>\n      </g>\n     </g>\n    </g>\n    <g id=\"ytick_7\">\n     <g id=\"line2d_15\">\n      <g>\n       <use style=\"stroke:#000000;stroke-width:0.8;\" x=\"30.103125\" xlink:href=\"#m2b5a652857\" y=\"17.554286\"/>\n      </g>\n     </g>\n     <g id=\"text_15\">\n      <!-- 3.0 -->\n      <g transform=\"translate(7.2 21.353504)scale(0.1 -0.1)\">\n       <defs>\n        <path d=\"M 40.578125 39.3125 \nQ 47.65625 37.796875 51.625 33 \nQ 55.609375 28.21875 55.609375 21.1875 \nQ 55.609375 10.40625 48.1875 4.484375 \nQ 40.765625 -1.421875 27.09375 -1.421875 \nQ 22.515625 -1.421875 17.65625 -0.515625 \nQ 12.796875 0.390625 7.625 2.203125 \nL 7.625 11.71875 \nQ 11.71875 9.328125 16.59375 8.109375 \nQ 21.484375 6.890625 26.8125 6.890625 \nQ 36.078125 6.890625 40.9375 10.546875 \nQ 45.796875 14.203125 45.796875 21.1875 \nQ 45.796875 27.640625 41.28125 31.265625 \nQ 36.765625 34.90625 28.71875 34.90625 \nL 20.21875 34.90625 \nL 20.21875 43.015625 \nL 29.109375 43.015625 \nQ 36.375 43.015625 40.234375 45.921875 \nQ 44.09375 48.828125 44.09375 54.296875 \nQ 44.09375 59.90625 40.109375 62.90625 \nQ 36.140625 65.921875 28.71875 65.921875 \nQ 24.65625 65.921875 20.015625 65.03125 \nQ 15.375 64.15625 9.8125 62.3125 \nL 9.8125 71.09375 \nQ 15.4375 72.65625 20.34375 73.4375 \nQ 25.25 74.21875 29.59375 74.21875 \nQ 40.828125 74.21875 47.359375 69.109375 \nQ 53.90625 64.015625 53.90625 55.328125 \nQ 53.90625 49.265625 50.4375 45.09375 \nQ 46.96875 40.921875 40.578125 39.3125 \nz\n\" id=\"DejaVuSans-51\"/>\n       </defs>\n       <use xlink:href=\"#DejaVuSans-51\"/>\n       <use x=\"63.623047\" xlink:href=\"#DejaVuSans-46\"/>\n       <use x=\"95.410156\" xlink:href=\"#DejaVuSans-48\"/>\n      </g>\n     </g>\n    </g>\n   </g>\n   <g id=\"patch_13\">\n    <path d=\"M 30.103125 224.64 \nL 30.103125 7.2 \n\" style=\"fill:none;stroke:#000000;stroke-linecap:square;stroke-linejoin:miter;stroke-width:0.8;\"/>\n   </g>\n   <g id=\"patch_14\">\n    <path d=\"M 364.903125 224.64 \nL 364.903125 7.2 \n\" style=\"fill:none;stroke:#000000;stroke-linecap:square;stroke-linejoin:miter;stroke-width:0.8;\"/>\n   </g>\n   <g id=\"patch_15\">\n    <path d=\"M 30.103125 224.64 \nL 364.903125 224.64 \n\" style=\"fill:none;stroke:#000000;stroke-linecap:square;stroke-linejoin:miter;stroke-width:0.8;\"/>\n   </g>\n   <g id=\"patch_16\">\n    <path d=\"M 30.103125 7.2 \nL 364.903125 7.2 \n\" style=\"fill:none;stroke:#000000;stroke-linecap:square;stroke-linejoin:miter;stroke-width:0.8;\"/>\n   </g>\n  </g>\n </g>\n <defs>\n  <clipPath id=\"p4db651083b\">\n   <rect height=\"217.44\" width=\"334.8\" x=\"30.103125\" y=\"7.2\"/>\n  </clipPath>\n </defs>\n</svg>\n",
      "image/png": "[encoded data removed]"
     },
     "metadata": {
      "needs_background": "light"
     }
    },
    {
     "output_type": "display_data",
     "data": {
      "text/plain": [
       "<Figure size 720x720 with 0 Axes>"
      ]
     },
     "metadata": {}
    }
   ],
   "metadata": {}
  },
  {
   "cell_type": "code",
   "execution_count": 34,
   "source": [
    "result_evaluation(qubit_results[0], test_sg, test_nsg, edge_cost_matrix)"
   ],
   "outputs": [
    {
     "output_type": "stream",
     "name": "stdout",
     "text": [
      "node 0 at time slice 0\n",
      "\t\t\t\tcost: 2.0\n",
      "node 1 at time slice 1\n",
      "\t\t\t\tcost: 1.0\n",
      "node 2 at time slice 2\n",
      "\t\t\t\tcost: 2.0\n",
      "node 4 at time slice 3\n",
      "\t\t\t\tcost: 1.0\n",
      "node 0 at time slice 5\n",
      "\n",
      "total cost: 6.0\n",
      "\n",
      "It seems like no valid solution could be found. This solution disregards at least one constraint.\n"
     ]
    }
   ],
   "metadata": {}
  }
 ]
}