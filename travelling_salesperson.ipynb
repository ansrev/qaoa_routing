{
 "cells": [
  {
   "cell_type": "markdown",
   "source": [
    "# Travelling Salesperson Problem"
   ],
   "metadata": {}
  },
  {
   "cell_type": "markdown",
   "source": [
    "## Functions"
   ],
   "metadata": {}
  },
  {
   "cell_type": "code",
   "execution_count": 68,
   "source": [
    "def get_unique_nodes(edge_list):\n",
    "    \"\"\"\n",
    "    Assembles a list of all unique nodes appearing in a given graph.\n",
    "    The start node is added by default; every other node is only included\n",
    "    if it can be reached from another node. Isolated nodes will not be \n",
    "    added to the list, unless they happen to be the start node.\n",
    "    \"\"\"\n",
    "    \n",
    "    nr_nodes = 0\n",
    "    unique_node_list = []\n",
    "    unique_node_list.append(start_node)\n",
    "\n",
    "    for edge in edge_list:\n",
    "        if edge[1] not in unique_node_list:\n",
    "            unique_node_list.append(edge[1])\n",
    "\n",
    "    return unique_node_list\n"
   ],
   "outputs": [],
   "metadata": {}
  },
  {
   "cell_type": "code",
   "execution_count": 69,
   "source": [
    "def construct_sliced_graph(edge_list, start_node):\n",
    "    \"\"\"\n",
    "    Constructs a two-dimensional array from a list of edges. Each subarray represents \n",
    "    one time slice. The returned array contains the specified start node in the \n",
    "    first sub-array; based on this start node, every node that can be reached in \n",
    "    n steps is present in the nth subarray. Nodes that can be reached in a different \n",
    "    amount of steps are present in every fitting subarray.\n",
    "    \"\"\"\n",
    "    \n",
    "    sg = [] # sliced graph\n",
    "    sg.append([start_node])\n",
    "    node_counter = 1\n",
    "\n",
    "\n",
    "    nr_unique_nodes = len(get_unique_nodes(edge_list))\n",
    "\n",
    "    for k in range(nr_unique_nodes):\n",
    "    \n",
    "        if len(sg[k]) != 0:\n",
    "            sg.append([])       # add a slice, then fill it\n",
    "            for j in range(len(edge_list)):\n",
    "                if edge_list[j][0] in sg[k] and edge_list[j][1] not in sg[k+1] and (edge_list[j][1] != start_node or k+1 == nr_unique_nodes):\n",
    "                    sg[k+1].append(edge_list[j][1])\n",
    "        else:\n",
    "            break\n",
    "\n",
    "    if start_node in sg[-1]:\n",
    "        sg[-1] = [start_node] # eliminate all other nodes in the last time slice; the last node has to be the start node.\n",
    "    else:\n",
    "        return None \n",
    "\n",
    "    # the last node is always the destination node.\n",
    "    # therefore we can eliminate all nodes in the next-to-last slice that do not lead to the destination node.\n",
    "    # going back that way, we can eliminate nodes that won't lead to our destination.\n",
    "    \n",
    "    nr_slices_to_remove = 0\n",
    "\n",
    "    for i in range(len(sg) - 1):\n",
    "        nodes_to_remove = []\n",
    "        index = len(sg) - 1 - i\n",
    "        for j in range(len(sg[index - 1])):\n",
    "            leads_to_next_slice = 0 # number of edges in the next slice that sg[index-1][j] is connected to\n",
    "            for k in range(len(sg[index])):\n",
    "\n",
    "                # for each node in the next slice, add 1 if sg[index-1][j] is connected to it, 0 if not\n",
    "                leads_to_next_slice += next((1 for u, v in enumerate(edge_list) if v[0] == sg[index-1][j] and v[1] == sg[index][k]), 0) \n",
    "\n",
    "            # if leads_to_next_slice is zero, it means sg[index-1][j] is not connected to any node in the next slice; essentially a dead end. \n",
    "            # it is removed, and any node in the previous slice that only connected to it will thus also be a dead end, and will be removed. etc., etc.\n",
    "            if leads_to_next_slice == 0:\n",
    "                nodes_to_remove.append(sg[index-1][j])\n",
    "\n",
    "        for node in nodes_to_remove:\n",
    "            print(nodes_to_remove)\n",
    "            sg[index-1].remove(node)\n",
    "\n",
    "    return sg"
   ],
   "outputs": [],
   "metadata": {}
  },
  {
   "cell_type": "code",
   "execution_count": 70,
   "source": [
    "def construct_numbered_sliced_graph(sg): \n",
    "    \"\"\"\n",
    "    Based on a two-dimensional array that constructed time slices from a graph,\n",
    "    renumbers the contents by giving each element its index in the corresponding \n",
    "    flattened array.\n",
    "    Example: with input [[0], [1, 3], [2, 3]], output would be [[0], [1, 2], [3, 4]].\n",
    "    \"\"\"\n",
    "    \n",
    "    numbered_sg = [] # numbered sliced graph\n",
    "    node_counter = 0\n",
    "\n",
    "    for m in range(len(sg)):\n",
    "        numbered_sg.append([])\n",
    "        for n in range(len(sg[m])):\n",
    "            numbered_sg[m].append(node_counter)\n",
    "            node_counter+=1\n",
    "    \n",
    "    return numbered_sg"
   ],
   "outputs": [],
   "metadata": {}
  },
  {
   "cell_type": "code",
   "execution_count": 71,
   "source": [
    "def is_node_in_slice(node, slice_index):\n",
    "    \"\"\"Returns 1 if the given node is present in the given slice, 0 if not.\"\"\"\n",
    "    \n",
    "    if node in test_sg[slice_index]:\n",
    "        return 1\n",
    "    else:\n",
    "        return 0"
   ],
   "outputs": [],
   "metadata": {}
  },
  {
   "cell_type": "code",
   "execution_count": 72,
   "source": [
    "def qubit_position(node, slice_index):\n",
    "    \"\"\"\n",
    "    For a given node label, determines the respective qubit index for the node in the given slice.\n",
    "    For a graph g = [[0], [1, 2], [1]], qubit_position(1,2) would return 3, since node 1 in slice 2 \n",
    "    corresponds to the third qubit. Counting for slices as well as qubits begins at 0.\n",
    "    \"\"\"\n",
    "    \n",
    "    if node not in test_sg[slice_index]:\n",
    "        return 0\n",
    "    else:\n",
    "        return test_nsg[slice_index][test_sg[slice_index].index(node)]"
   ],
   "outputs": [],
   "metadata": {}
  },
  {
   "cell_type": "code",
   "execution_count": 73,
   "source": [
    "def construct_graph_matrix(edge_list):\n",
    "    \"\"\"\n",
    "    Constructs a dataframe that contains all edges present in \n",
    "    the graph. The returned dataframe can contain several edges \n",
    "    per two nodes. The entry at matrix[0][1] contains an array \n",
    "    of all edges that go from node 0 to node 1.\n",
    "    \"\"\"\n",
    "    \n",
    "    node_labels = get_unique_nodes(edge_list)\n",
    "    graph_matrix = pd.DataFrame([[[] for _ in range(len(node_labels))] for _ in range(len(node_labels))], node_labels, node_labels)\n",
    "    \n",
    "    for edge in edge_list:\n",
    "        start = edge[0]\n",
    "        end = edge[1]\n",
    "        graph_matrix[start][end].append(edge)\n",
    "\n",
    "    return graph_matrix"
   ],
   "outputs": [],
   "metadata": {}
  },
  {
   "cell_type": "code",
   "execution_count": 74,
   "source": [
    "def construct_cost_matrix(edge_matrix):\n",
    "    \"\"\"\n",
    "    Constructs a dataframe that contains the cost for the edge \n",
    "    between any given pair of nodes a and b. If there is no \n",
    "    outgoing edge from a to b, the cost will be equal to the\n",
    "    fixed penalty value. If there is exactly one edge, its cost\n",
    "    will be used. If there are several, the smallest cost is \n",
    "    used.\n",
    "    \"\"\"\n",
    "\n",
    "    node_labels = edge_matrix.columns\n",
    "    cost_matrix = pd.DataFrame([[[] for _ in range(len(node_labels))] for _ in range(len(node_labels))], node_labels, node_labels)\n",
    "\n",
    "    for i in node_labels:\n",
    "        for j in node_labels:\n",
    "            entries = edge_matrix[i][j]\n",
    "            if len(entries) == 0:\n",
    "                cost_matrix[i][j] = (penalty_value)\n",
    "            elif len(entries) == 1:\n",
    "                cost_matrix[i][j] = (entries[0][2]) ### ebenfalls TODO. muss sich nach der struktur richten. ist aber eig keine priorität; es ist ok, das hier so zu hardcoden\n",
    "            else:\n",
    "                best_cost = penalty_value # penalty by default bigger than the biggest edge cost\n",
    "                for entry in entries:\n",
    "                    if entry[2] < best_cost:\n",
    "                        best_cost = entry[2]\n",
    "                cost_matrix[i][j] = best_cost\n",
    "    return cost_matrix"
   ],
   "outputs": [],
   "metadata": {}
  },
  {
   "cell_type": "code",
   "execution_count": 75,
   "source": [
    "def find_index(node, time_slice, sliced_graph, numbered_sg):\n",
    "    \"\"\"\n",
    "    For a given node, time slice, and sliced graph, determines the qubit index \n",
    "    of the node. If the node is not present in the given slice in the graph, \n",
    "    returns -1.\n",
    "    \"\"\"\n",
    "    \n",
    "    for i in range(len(sliced_graph[time_slice])):\n",
    "        if sliced_graph[time_slice][i] == node:\n",
    "            return numbered_sg[time_slice][i]\n",
    "    else:\n",
    "        return -1"
   ],
   "outputs": [],
   "metadata": {}
  },
  {
   "cell_type": "code",
   "execution_count": 76,
   "source": [
    "def fix_nodes(start, destination, sliced_graph, numbered_sg, cost_func):\n",
    "    \"\"\"\n",
    "    In the given cost function, fixes specific nodes according to already known \n",
    "    values for the qubits. The qubits representing the start and destination nodes \n",
    "    are fixed at 1; any other nodes in the last time slice are fixed at 0. \n",
    "    \"\"\"\n",
    "    \n",
    "    start_node_index = 'X_' + str(find_index(start, 0, sliced_graph, numbered_sg))\n",
    "    cost_func.linear_constraint(linear={start_node_index: 1}, sense='==', rhs=1, name='start_node')\n",
    "\n",
    "    dest_node_index = 'X_' + str(find_index(destination, -1, sliced_graph, numbered_sg))\n",
    "    cost_func.linear_constraint(linear={dest_node_index: 1}, sense='==', rhs=1, name='destination_node')\n",
    "\n",
    "    # no need to set other nodes in the first and last slice to 0 because there are none (see preprocessing).\n",
    "\n",
    "    return"
   ],
   "outputs": [],
   "metadata": {}
  },
  {
   "cell_type": "code",
   "execution_count": 77,
   "source": [
    "def get_node_info_from_index(node_index, sg, nsg):\n",
    "    \"\"\" For a given qubit index, returns the corresponding time slice and the node label. \"\"\"\n",
    "\n",
    "    for time_slice in range(len(nsg)):\n",
    "        if node_index in nsg[time_slice]:\n",
    "\n",
    "            pos = nsg[time_slice].index(node_index)\n",
    "            node_label = sg[time_slice][pos]\n",
    "\n",
    "            return time_slice, node_label"
   ],
   "outputs": [],
   "metadata": {}
  },
  {
   "cell_type": "code",
   "execution_count": 109,
   "source": [
    "def result_evaluation(result, sg, nsg, cost_matrix):\n",
    "    \"\"\" For a given qubit string, returns an explanation of the nodes that are passed per time slice.\"\"\"\n",
    "    \n",
    "    counter = 0\n",
    "    previous_node = None\n",
    "    total_cost = 0\n",
    "    solution_not_valid = False\n",
    "\n",
    "    for i in range(len(result)):\n",
    "        if result[i] == '1':\n",
    "            time_slice, node_label = get_node_info_from_index(i, sg, nsg)\n",
    "            if time_slice != counter:\n",
    "                solution_not_valid = True\n",
    "\n",
    "            if counter == 0:\n",
    "                previous_node = node_label\n",
    "            else:\n",
    "                cost = cost_matrix[previous_node][node_label]\n",
    "                total_cost += cost\n",
    "                print(('\\t\\t\\t\\tcost: {}').format(cost))\n",
    "                previous_node = node_label\n",
    "\n",
    "\n",
    "            print(('node {} at time slice {}').format(node_label, time_slice))\n",
    "\n",
    "            counter += 1\n",
    "\n",
    "            \n",
    "    print(('\\ntotal cost: {}').format(total_cost))\n",
    "    if total_cost >= penalty_value or solution_not_valid:\n",
    "        print('\\nIt seems like no valid solution could be found. This solution disregards at least one constraint.')\n",
    "\n",
    "    return"
   ],
   "outputs": [],
   "metadata": {}
  },
  {
   "cell_type": "markdown",
   "source": [
    "## Preprocessing"
   ],
   "metadata": {}
  },
  {
   "cell_type": "code",
   "execution_count": 79,
   "source": [
    "import sympy as sym\n",
    "import matplotlib.pyplot as plt\n",
    "import pandas as pd"
   ],
   "outputs": [],
   "metadata": {}
  },
  {
   "cell_type": "code",
   "execution_count": 80,
   "source": [
    "# the problem is defined as a graph (here, a collection of edges with the format (start, end, edge weight))\n",
    "# as well as a defined start node which is also the destination node\n",
    "# the penalty value can be changed\n",
    "\n",
    "graph = [(0, 1, 2.0), (0, 3, 5.0), (1, 2, 1.0), (1, 4, 3.0), (2, 0, 4.0), (2, 4, 2.0), (3, 0, 5.0), (3, 2, 4.0), (3, 1, 3.0), (4, 3, 4.0), (4, 0, 1.0)]\n",
    "\n",
    "start_node = 0\n",
    "destination_node = start_node\n",
    "penalty_value = 50"
   ],
   "outputs": [],
   "metadata": {}
  },
  {
   "cell_type": "code",
   "execution_count": 81,
   "source": [
    "unique_nodes = get_unique_nodes(graph)\n",
    "nr_nodes = len(unique_nodes)\n",
    "uniques_except_start = unique_nodes.copy()\n",
    "uniques_except_start.remove(start_node)"
   ],
   "outputs": [],
   "metadata": {}
  },
  {
   "cell_type": "code",
   "execution_count": 82,
   "source": [
    "test_sg = construct_sliced_graph(graph, destination_node)\n",
    "\n",
    "nodes_total = 0\n",
    "for i in range(len(test_sg)):\n",
    "    for j in range(len(test_sg[i])):\n",
    "        nodes_total += 1\n",
    "\n",
    "nr_qubits = nodes_total\n",
    "nr_qubits"
   ],
   "outputs": [
    {
     "output_type": "stream",
     "name": "stdout",
     "text": [
      "[1]\n"
     ]
    },
    {
     "output_type": "execute_result",
     "data": {
      "text/plain": [
       "13"
      ]
     },
     "metadata": {},
     "execution_count": 82
    }
   ],
   "metadata": {}
  },
  {
   "cell_type": "code",
   "execution_count": 83,
   "source": [
    "test_sg"
   ],
   "outputs": [
    {
     "output_type": "execute_result",
     "data": {
      "text/plain": [
       "[[0], [1, 3], [2, 4, 1], [2, 4, 3], [4, 2, 3], [0]]"
      ]
     },
     "metadata": {},
     "execution_count": 83
    }
   ],
   "metadata": {}
  },
  {
   "cell_type": "code",
   "execution_count": 84,
   "source": [
    "test_nsg = construct_numbered_sliced_graph(test_sg)\n",
    "test_nsg"
   ],
   "outputs": [
    {
     "output_type": "execute_result",
     "data": {
      "text/plain": [
       "[[0], [1, 2], [3, 4, 5], [6, 7, 8], [9, 10, 11], [12]]"
      ]
     },
     "metadata": {},
     "execution_count": 84
    }
   ],
   "metadata": {}
  },
  {
   "cell_type": "code",
   "execution_count": 85,
   "source": [
    "matrix = construct_graph_matrix(graph)\n",
    "matrix"
   ],
   "outputs": [
    {
     "output_type": "execute_result",
     "data": {
      "text/plain": [
       "               0              1              3              2              4\n",
       "0             []             []  [(3, 0, 5.0)]  [(2, 0, 4.0)]  [(4, 0, 1.0)]\n",
       "1  [(0, 1, 2.0)]             []  [(3, 1, 3.0)]             []             []\n",
       "3  [(0, 3, 5.0)]             []             []             []  [(4, 3, 4.0)]\n",
       "2             []  [(1, 2, 1.0)]  [(3, 2, 4.0)]             []             []\n",
       "4             []  [(1, 4, 3.0)]             []  [(2, 4, 2.0)]             []"
      ],
      "text/html": [
       "<div>\n",
       "<style scoped>\n",
       "    .dataframe tbody tr th:only-of-type {\n",
       "        vertical-align: middle;\n",
       "    }\n",
       "\n",
       "    .dataframe tbody tr th {\n",
       "        vertical-align: top;\n",
       "    }\n",
       "\n",
       "    .dataframe thead th {\n",
       "        text-align: right;\n",
       "    }\n",
       "</style>\n",
       "<table border=\"1\" class=\"dataframe\">\n",
       "  <thead>\n",
       "    <tr style=\"text-align: right;\">\n",
       "      <th></th>\n",
       "      <th>0</th>\n",
       "      <th>1</th>\n",
       "      <th>3</th>\n",
       "      <th>2</th>\n",
       "      <th>4</th>\n",
       "    </tr>\n",
       "  </thead>\n",
       "  <tbody>\n",
       "    <tr>\n",
       "      <th>0</th>\n",
       "      <td>[]</td>\n",
       "      <td>[]</td>\n",
       "      <td>[(3, 0, 5.0)]</td>\n",
       "      <td>[(2, 0, 4.0)]</td>\n",
       "      <td>[(4, 0, 1.0)]</td>\n",
       "    </tr>\n",
       "    <tr>\n",
       "      <th>1</th>\n",
       "      <td>[(0, 1, 2.0)]</td>\n",
       "      <td>[]</td>\n",
       "      <td>[(3, 1, 3.0)]</td>\n",
       "      <td>[]</td>\n",
       "      <td>[]</td>\n",
       "    </tr>\n",
       "    <tr>\n",
       "      <th>3</th>\n",
       "      <td>[(0, 3, 5.0)]</td>\n",
       "      <td>[]</td>\n",
       "      <td>[]</td>\n",
       "      <td>[]</td>\n",
       "      <td>[(4, 3, 4.0)]</td>\n",
       "    </tr>\n",
       "    <tr>\n",
       "      <th>2</th>\n",
       "      <td>[]</td>\n",
       "      <td>[(1, 2, 1.0)]</td>\n",
       "      <td>[(3, 2, 4.0)]</td>\n",
       "      <td>[]</td>\n",
       "      <td>[]</td>\n",
       "    </tr>\n",
       "    <tr>\n",
       "      <th>4</th>\n",
       "      <td>[]</td>\n",
       "      <td>[(1, 4, 3.0)]</td>\n",
       "      <td>[]</td>\n",
       "      <td>[(2, 4, 2.0)]</td>\n",
       "      <td>[]</td>\n",
       "    </tr>\n",
       "  </tbody>\n",
       "</table>\n",
       "</div>"
      ]
     },
     "metadata": {},
     "execution_count": 85
    }
   ],
   "metadata": {}
  },
  {
   "cell_type": "code",
   "execution_count": 86,
   "source": [
    "edge_cost_matrix = construct_cost_matrix(matrix)\n",
    "edge_cost_matrix"
   ],
   "outputs": [
    {
     "output_type": "execute_result",
     "data": {
      "text/plain": [
       "    0   1   3   2   4\n",
       "0  50  50   5   4   1\n",
       "1   2  50   3  50  50\n",
       "3   5  50  50  50   4\n",
       "2  50   1   4  50  50\n",
       "4  50   3  50   2  50"
      ],
      "text/html": [
       "<div>\n",
       "<style scoped>\n",
       "    .dataframe tbody tr th:only-of-type {\n",
       "        vertical-align: middle;\n",
       "    }\n",
       "\n",
       "    .dataframe tbody tr th {\n",
       "        vertical-align: top;\n",
       "    }\n",
       "\n",
       "    .dataframe thead th {\n",
       "        text-align: right;\n",
       "    }\n",
       "</style>\n",
       "<table border=\"1\" class=\"dataframe\">\n",
       "  <thead>\n",
       "    <tr style=\"text-align: right;\">\n",
       "      <th></th>\n",
       "      <th>0</th>\n",
       "      <th>1</th>\n",
       "      <th>3</th>\n",
       "      <th>2</th>\n",
       "      <th>4</th>\n",
       "    </tr>\n",
       "  </thead>\n",
       "  <tbody>\n",
       "    <tr>\n",
       "      <th>0</th>\n",
       "      <td>50</td>\n",
       "      <td>50</td>\n",
       "      <td>5</td>\n",
       "      <td>4</td>\n",
       "      <td>1</td>\n",
       "    </tr>\n",
       "    <tr>\n",
       "      <th>1</th>\n",
       "      <td>2</td>\n",
       "      <td>50</td>\n",
       "      <td>3</td>\n",
       "      <td>50</td>\n",
       "      <td>50</td>\n",
       "    </tr>\n",
       "    <tr>\n",
       "      <th>3</th>\n",
       "      <td>5</td>\n",
       "      <td>50</td>\n",
       "      <td>50</td>\n",
       "      <td>50</td>\n",
       "      <td>4</td>\n",
       "    </tr>\n",
       "    <tr>\n",
       "      <th>2</th>\n",
       "      <td>50</td>\n",
       "      <td>1</td>\n",
       "      <td>4</td>\n",
       "      <td>50</td>\n",
       "      <td>50</td>\n",
       "    </tr>\n",
       "    <tr>\n",
       "      <th>4</th>\n",
       "      <td>50</td>\n",
       "      <td>3</td>\n",
       "      <td>50</td>\n",
       "      <td>2</td>\n",
       "      <td>50</td>\n",
       "    </tr>\n",
       "  </tbody>\n",
       "</table>\n",
       "</div>"
      ]
     },
     "metadata": {},
     "execution_count": 86
    }
   ],
   "metadata": {}
  },
  {
   "cell_type": "markdown",
   "source": [
    "## Cost Function"
   ],
   "metadata": {}
  },
  {
   "cell_type": "code",
   "execution_count": 87,
   "source": [
    "# define all necessary variables\n",
    "\n",
    "X = sym.IndexedBase('X') # counter variable for qubits\n",
    "c = sym.symbols('c') # counter variable for slices\n",
    "v = sym.symbols('v') # counter variable for vertices (nodes)\n",
    "y = sym.symbols('y') # counter variable for vertices\n",
    "q = sym.symbols('q') # counter variable for slices\n",
    "w = sym.symbols('w') # counter variable for vertices\n",
    "P = sym.symbols('P') # penalty value\n",
    "\n",
    "\n",
    "d = sym.IndexedBase('d') # represents the function d, which returns the edge cost between two vertices\n",
    "nodeinslice = sym.IndexedBase('nodeinslice') # represents the function is_node_in_slice, which returns 1 if the given node is in the given slice, and 0 if not \n",
    "qubitpos = sym.IndexedBase('qubitpos') # overall index of the qubit of a vertex v in a slice c\n",
    "\n",
    "nrnodesexceptstart = sym.symbols('nrnodesexceptstart') # number of nodes excepting the start node\n",
    "\n",
    "sg = sym.IndexedBase('sg') \n",
    "nsg = sym.IndexedBase('nsg')\n",
    "nrslices = sym.symbols('nrslices')\n",
    "lenslice = sym.IndexedBase('lenslice')"
   ],
   "outputs": [],
   "metadata": {}
  },
  {
   "cell_type": "code",
   "execution_count": 88,
   "source": [
    "cost_function = sym.Sum(\n",
    "                    (sym.Sum(\n",
    "                        X[nsg[c,v]],              \n",
    "                        (v, 0, lenslice[c] - 1)\n",
    "                        )\n",
    "                        - 1 )**2 * P,\n",
    "\n",
    "                    (c, 0, nrslices-1)) + 0.5 * sym.Sum(   \n",
    "                        2 * (sym.Sum(  sym.Sum(  X[nsg[q,y]] * X[nsg[q+1,w]] * d[sg[q,y], sg[q+1,w]],  (w, 0, lenslice[q + 1] - 1) ) , (y, 0, lenslice[q] - 1))),\n",
    "                        (q, 0, nrslices - 2)) + P * sym.Sum(   (sym.Sum( nodeinslice[v,c] * X[qubitpos[v, c]] , (c, 1, (nrslices-2)) ) -1)**2      , (v, 1, nrnodesexceptstart) )\n",
    "\n",
    "# workaround -- multiplying with 0.5 and then 2, since sympy does not evaluate the triple sum otherwise\n",
    "\n",
    "cost_function"
   ],
   "outputs": [
    {
     "output_type": "execute_result",
     "data": {
      "text/plain": [
       "P*Sum((Sum(X[qubitpos[v, c]]*nodeinslice[v, c], (c, 1, nrslices - 2)) - 1)**2, (v, 1, nrnodesexceptstart)) + Sum(P*(Sum(X[nsg[c, v]], (v, 0, lenslice[c] - 1)) - 1)**2, (c, 0, nrslices - 1)) + 0.5*Sum(2*Sum(X[nsg[q + 1, w]]*X[nsg[q, y]]*d[sg[q, y], sg[q + 1, w]], (w, 0, lenslice[q + 1] - 1), (y, 0, lenslice[q] - 1)), (q, 0, nrslices - 2))"
      ],
      "text/latex": [
       "$\\displaystyle P \\sum_{v=1}^{nrnodesexceptstart} \\left(\\sum_{c=1}^{nrslices - 2} {X}_{{qubitpos}_{v,c}} {nodeinslice}_{v,c} - 1\\right)^{2} + \\sum_{c=0}^{nrslices - 1} P \\left(\\sum_{v=0}^{{lenslice}_{c} - 1} {X}_{{nsg}_{c,v}} - 1\\right)^{2} + 0.5 \\sum_{q=0}^{nrslices - 2} 2 \\sum_{\\substack{0 \\leq w \\leq {lenslice}_{q + 1} - 1\\\\0 \\leq y \\leq {lenslice}_{q} - 1}} {X}_{{nsg}_{q + 1,w}} {X}_{{nsg}_{q,y}} {d}_{{sg}_{q,y},{sg}_{q + 1,w}}$"
      ]
     },
     "metadata": {},
     "execution_count": 88
    }
   ],
   "metadata": {}
  },
  {
   "cell_type": "code",
   "execution_count": 89,
   "source": [
    "# translation of data into dictionaries for sympy\n",
    "single_valued_dict = {\n",
    "    nrslices: len(test_sg), \n",
    "    nrnodesexceptstart: len(uniques_except_start),\n",
    "    P: penalty_value\n",
    "    }\n",
    "\n",
    "numbered_sliced_graph_dict = {\n",
    "    nsg[i, j]: test_nsg[i][j] for i in range(len(test_nsg)) for j in range(len(test_nsg[i]))\n",
    "}\n",
    "\n",
    "sliced_graph_dict = {\n",
    "    sg[i, j]: test_sg[i][j] for i in range(len(test_sg)) for j in range(len(test_sg[i]))\n",
    "}\n",
    "nodeinslice_dict = {\n",
    "    nodeinslice[v, c]: is_node_in_slice(v, c) for v in range(len(unique_nodes)) for c in range(len(test_sg))\n",
    "}\n",
    "\n",
    "qubit_pos_dict = {\n",
    "    qubitpos[v,c]: qubit_position(v,c) for v in range(len(unique_nodes)) for c in range(len(test_sg))\n",
    "}\n",
    "\n",
    "len_slice_dict = {\n",
    "    lenslice[i]: len(test_sg[i]) for i in range(len(test_sg))\n",
    "}\n",
    "\n",
    "d_dict = {\n",
    "    d[i, j]: edge_cost_matrix[i][j] \n",
    "    for i in range(nr_nodes)\n",
    "    for j in range(nr_nodes)\n",
    "}\n",
    "\n",
    "# definition of the cost polynomial\n",
    "cost_poly = sym.Poly(cost_function\n",
    "                     .subs(single_valued_dict)\n",
    "                     .doit()\n",
    "                     .subs(len_slice_dict)\n",
    "                     .doit()\n",
    "                     .subs(nodeinslice_dict)\n",
    "                     .subs(qubit_pos_dict)\n",
    "                     .subs(numbered_sliced_graph_dict)\n",
    "                     .subs(sliced_graph_dict)\n",
    "                     .doit()\n",
    "                     .subs(d_dict)\n",
    "                     .doit(),\n",
    "                     [X[i] for i in range(nr_qubits)])\n",
    "cost_poly\n",
    "\n",
    "# the only variables in the cost polynomial should be X_0, X_1, X_2 etc. if not, then some of the variables have not been evaluated; order of evaluation is important.\n",
    "# if the evaluation of parts of the polynomial depends on the evaluation of another, then doit() is necessary in between in order to evaluate that first part."
   ],
   "outputs": [
    {
     "output_type": "execute_result",
     "data": {
      "text/plain": [
       "Poly(50.0*X[0]**2 + 2.0*X[0]*X[1] + 5.0*X[0]*X[2] - 100.0*X[0] + 100.0*X[1]**2 + 100.0*X[1]*X[2] + 1.0*X[1]*X[3] + 3.0*X[1]*X[4] + 150.0*X[1]*X[5] - 200.0*X[1] + 100.0*X[2]**2 + 4.0*X[2]*X[3] + 50.0*X[2]*X[4] + 3.0*X[2]*X[5] + 100.0*X[2]*X[8] + 100.0*X[2]*X[11] - 200.0*X[2] + 100.0*X[3]**2 + 100.0*X[3]*X[4] + 100.0*X[3]*X[5] + 150.0*X[3]*X[6] + 2.0*X[3]*X[7] + 50.0*X[3]*X[8] + 100.0*X[3]*X[10] - 200.0*X[3] + 100.0*X[4]**2 + 100.0*X[4]*X[5] + 50.0*X[4]*X[6] + 150.0*X[4]*X[7] + 4.0*X[4]*X[8] + 100.0*X[4]*X[9] - 200.0*X[4] + 100.0*X[5]**2 + 1.0*X[5]*X[6] + 3.0*X[5]*X[7] + 50.0*X[5]*X[8] - 200.0*X[5] + 100.0*X[6]**2 + 100.0*X[6]*X[7] + 100.0*X[6]*X[8] + 2.0*X[6]*X[9] + 150.0*X[6]*X[10] + 50.0*X[6]*X[11] - 200.0*X[6] + 100.0*X[7]**2 + 100.0*X[7]*X[8] + 150.0*X[7]*X[9] + 50.0*X[7]*X[10] + 4.0*X[7]*X[11] - 200.0*X[7] + 100.0*X[8]**2 + 50.0*X[8]*X[9] + 4.0*X[8]*X[10] + 150.0*X[8]*X[11] - 200.0*X[8] + 100.0*X[9]**2 + 100.0*X[9]*X[10] + 100.0*X[9]*X[11] + 1.0*X[9]*X[12] - 200.0*X[9] + 100.0*X[10]**2 + 100.0*X[10]*X[11] + 4.0*X[10]*X[12] - 200.0*X[10] + 100.0*X[11]**2 + 5.0*X[11]*X[12] - 200.0*X[11] + 50.0*X[12]**2 - 100.0*X[12] + 500.0, X[0], X[1], X[2], X[3], X[4], X[5], X[6], X[7], X[8], X[9], X[10], X[11], X[12], domain='RR')"
      ],
      "text/latex": [
       "$\\displaystyle \\operatorname{Poly}{\\left( 50.0 {X}_{0}^{2} + 2.0 {X}_{0}{X}_{1} + 5.0 {X}_{0}{X}_{2} - 100.0 {X}_{0} + 100.0 {X}_{1}^{2} + 100.0 {X}_{1}{X}_{2} + 1.0 {X}_{1}{X}_{3} + 3.0 {X}_{1}{X}_{4} + 150.0 {X}_{1}{X}_{5} - 200.0 {X}_{1} + 100.0 {X}_{2}^{2} + 4.0 {X}_{2}{X}_{3} + 50.0 {X}_{2}{X}_{4} + 3.0 {X}_{2}{X}_{5} + 100.0 {X}_{2}{X}_{8} + 100.0 {X}_{2}{X}_{11} - 200.0 {X}_{2} + 100.0 {X}_{3}^{2} + 100.0 {X}_{3}{X}_{4} + 100.0 {X}_{3}{X}_{5} + 150.0 {X}_{3}{X}_{6} + 2.0 {X}_{3}{X}_{7} + 50.0 {X}_{3}{X}_{8} + 100.0 {X}_{3}{X}_{10} - 200.0 {X}_{3} + 100.0 {X}_{4}^{2} + 100.0 {X}_{4}{X}_{5} + 50.0 {X}_{4}{X}_{6} + 150.0 {X}_{4}{X}_{7} + 4.0 {X}_{4}{X}_{8} + 100.0 {X}_{4}{X}_{9} - 200.0 {X}_{4} + 100.0 {X}_{5}^{2} + 1.0 {X}_{5}{X}_{6} + 3.0 {X}_{5}{X}_{7} + 50.0 {X}_{5}{X}_{8} - 200.0 {X}_{5} + 100.0 {X}_{6}^{2} + 100.0 {X}_{6}{X}_{7} + 100.0 {X}_{6}{X}_{8} + 2.0 {X}_{6}{X}_{9} + 150.0 {X}_{6}{X}_{10} + 50.0 {X}_{6}{X}_{11} - 200.0 {X}_{6} + 100.0 {X}_{7}^{2} + 100.0 {X}_{7}{X}_{8} + 150.0 {X}_{7}{X}_{9} + 50.0 {X}_{7}{X}_{10} + 4.0 {X}_{7}{X}_{11} - 200.0 {X}_{7} + 100.0 {X}_{8}^{2} + 50.0 {X}_{8}{X}_{9} + 4.0 {X}_{8}{X}_{10} + 150.0 {X}_{8}{X}_{11} - 200.0 {X}_{8} + 100.0 {X}_{9}^{2} + 100.0 {X}_{9}{X}_{10} + 100.0 {X}_{9}{X}_{11} + 1.0 {X}_{9}{X}_{12} - 200.0 {X}_{9} + 100.0 {X}_{10}^{2} + 100.0 {X}_{10}{X}_{11} + 4.0 {X}_{10}{X}_{12} - 200.0 {X}_{10} + 100.0 {X}_{11}^{2} + 5.0 {X}_{11}{X}_{12} - 200.0 {X}_{11} + 50.0 {X}_{12}^{2} - 100.0 {X}_{12} + 500.0, {X}_{0}, {X}_{1}, {X}_{2}, {X}_{3}, {X}_{4}, {X}_{5}, {X}_{6}, {X}_{7}, {X}_{8}, {X}_{9}, {X}_{10}, {X}_{11}, {X}_{12}, domain=\\mathbb{R} \\right)}$"
      ]
     },
     "metadata": {},
     "execution_count": 89
    }
   ],
   "metadata": {}
  },
  {
   "cell_type": "markdown",
   "source": [
    "## Setup"
   ],
   "metadata": {}
  },
  {
   "cell_type": "code",
   "execution_count": 90,
   "source": [
    "import qiskit\n",
    "from qiskit.algorithms import QAOA, VQE\n",
    "\n",
    "from qiskit_optimization.algorithms import MinimumEigenOptimizer, RecursiveMinimumEigenOptimizer, CplexOptimizer, GroverOptimizer\n",
    "from qiskit.utils import QuantumInstance\n",
    "from qiskit_optimization.problems import QuadraticProgram\n",
    "from qiskit.algorithms.optimizers import COBYLA, L_BFGS_B, SPSA, SLSQP\n",
    "\n",
    "\n",
    "# generate qiskit's cost function\n",
    "qiskit_cost_function = QuadraticProgram()\n",
    "\n",
    "# define qiskit variables\n",
    "for i in range(nr_qubits):\n",
    "    qiskit_cost_function.binary_var('X_' + str(i))\n",
    "\n",
    "# specify qiskit cost function\n",
    "qiskit_cost_function.minimize(\n",
    "    linear = [int(cost_poly.coeff_monomial(X[i]**1)) for i in range(nr_qubits)],\n",
    "    quadratic = {\n",
    "        ('X_'+str(i), 'X_'+str(j)): cost_poly.coeff_monomial(X[i]**1 * X[j]**1)\n",
    "        for i in range(nr_qubits)\n",
    "        for j in range(i,nr_qubits)\n",
    "    }\n",
    "    )\n",
    "\n",
    "fix_nodes(start_node, destination_node, test_sg, test_nsg, qiskit_cost_function)\n",
    "\n",
    "print(qiskit_cost_function.export_as_lp_string())"
   ],
   "outputs": [
    {
     "output_type": "stream",
     "name": "stdout",
     "text": [
      "\\ This file has been generated by DOcplex\n",
      "\\ ENCODING=ISO-8859-1\n",
      "\\Problem name: CPLEX\n",
      "\n",
      "Minimize\n",
      " obj: - 100 X_0 - 200 X_1 - 200 X_2 - 200 X_3 - 200 X_4 - 200 X_5 - 200 X_6\n",
      "      - 200 X_7 - 200 X_8 - 200 X_9 - 200 X_10 - 200 X_11 - 100 X_12 + [\n",
      "      100 X_0^2 + 4 X_0*X_1 + 10 X_0*X_2 + 200 X_1^2 + 200 X_1*X_2 + 2 X_1*X_3\n",
      "      + 6 X_1*X_4 + 300 X_1*X_5 + 200 X_2^2 + 8 X_2*X_3 + 100 X_2*X_4\n",
      "      + 6 X_2*X_5 + 200 X_2*X_8 + 200 X_2*X_11 + 200 X_3^2 + 200 X_3*X_4\n",
      "      + 200 X_3*X_5 + 300 X_3*X_6 + 4 X_3*X_7 + 100 X_3*X_8 + 200 X_3*X_10\n",
      "      + 200 X_4^2 + 200 X_4*X_5 + 100 X_4*X_6 + 300 X_4*X_7 + 8 X_4*X_8\n",
      "      + 200 X_4*X_9 + 200 X_5^2 + 2 X_5*X_6 + 6 X_5*X_7 + 100 X_5*X_8\n",
      "      + 200 X_6^2 + 200 X_6*X_7 + 200 X_6*X_8 + 4 X_6*X_9 + 300 X_6*X_10\n",
      "      + 100 X_6*X_11 + 200 X_7^2 + 200 X_7*X_8 + 300 X_7*X_9 + 100 X_7*X_10\n",
      "      + 8 X_7*X_11 + 200 X_8^2 + 100 X_8*X_9 + 8 X_8*X_10 + 300 X_8*X_11\n",
      "      + 200 X_9^2 + 200 X_9*X_10 + 200 X_9*X_11 + 2 X_9*X_12 + 200 X_10^2\n",
      "      + 200 X_10*X_11 + 8 X_10*X_12 + 200 X_11^2 + 10 X_11*X_12 + 100 X_12^2 ]/2\n",
      "Subject To\n",
      " start_node: X_0 = 1\n",
      " destination_node: X_12 = 1\n",
      "\n",
      "Bounds\n",
      " 0 <= X_0 <= 1\n",
      " 0 <= X_1 <= 1\n",
      " 0 <= X_2 <= 1\n",
      " 0 <= X_3 <= 1\n",
      " 0 <= X_4 <= 1\n",
      " 0 <= X_5 <= 1\n",
      " 0 <= X_6 <= 1\n",
      " 0 <= X_7 <= 1\n",
      " 0 <= X_8 <= 1\n",
      " 0 <= X_9 <= 1\n",
      " 0 <= X_10 <= 1\n",
      " 0 <= X_11 <= 1\n",
      " 0 <= X_12 <= 1\n",
      "\n",
      "Binaries\n",
      " X_0 X_1 X_2 X_3 X_4 X_5 X_6 X_7 X_8 X_9 X_10 X_11 X_12\n",
      "End\n",
      "\n"
     ]
    }
   ],
   "metadata": {}
  },
  {
   "cell_type": "code",
   "execution_count": 91,
   "source": [
    "# this is not included in the cost function that will be passed to the algorithm, so it will be added later to get the actual result\n",
    "# (only linear and quadratic terms are included)\n",
    "offset = cost_poly.coeff_monomial(1)\n",
    "offset"
   ],
   "outputs": [
    {
     "output_type": "execute_result",
     "data": {
      "text/plain": [
       "500.000000000000"
      ],
      "text/latex": [
       "$\\displaystyle 500.0$"
      ]
     },
     "metadata": {},
     "execution_count": 91
    }
   ],
   "metadata": {}
  },
  {
   "cell_type": "markdown",
   "source": [
    "## QAOA"
   ],
   "metadata": {}
  },
  {
   "cell_type": "code",
   "execution_count": 92,
   "source": [
    "# execute QAOA on local simulator\n",
    "optimizer = SPSA(maxiter=200)\n",
    "backend = qiskit.Aer.get_backend('qasm_simulator')\n",
    "\n",
    "qaoa = QAOA(reps=5, optimizer=optimizer, quantum_instance =\n",
    "             QuantumInstance(backend=backend))\n",
    "optimizer_qaoa = MinimumEigenOptimizer(qaoa)\n",
    "\n",
    "results = []\n",
    "\n",
    "for i in range(10):\n",
    "    print(i)\n",
    "    result_qaoa = optimizer_qaoa.solve(qiskit_cost_function)\n",
    "    results.append(result_qaoa)"
   ],
   "outputs": [],
   "metadata": {}
  },
  {
   "cell_type": "code",
   "execution_count": 93,
   "source": [
    "# actual_opt_cost: optimization cost. includes path cost and incurred penalties. always > 0.\n",
    "# path: qubit-result\n",
    "result_df = pd.DataFrame(columns = ['actual_opt_cost', 'path'])\n",
    "\n",
    "for r in results:\n",
    "    path_string = str(r.x).replace(' ', '').replace('.', '')[1:-1]\n",
    "    result_df = result_df.append({'actual_opt_cost': r.fval + offset, 'path': path_string}, ignore_index=True)\n",
    "\n",
    "print(\"QAOA:\")\n",
    "print(result_df.sort_values(by=['actual_opt_cost']))"
   ],
   "outputs": [
    {
     "output_type": "stream",
     "name": "stdout",
     "text": [
      "QAOA:\n",
      "    actual_opt_cost           path\n",
      "7  12.0000000000000  1010011001001\n",
      "0  17.0000000000000  1100100010101\n",
      "5  17.0000000000000  1100100010101\n",
      "9  17.0000000000000  1100100010101\n",
      "3  104.000000000000  1000011001001\n",
      "6  104.000000000000  1101000001001\n",
      "8  104.000000000000  1101000011001\n",
      "1  105.000000000000  1101000100001\n",
      "4  108.000000000000  1101000000011\n",
      "2  109.000000000000  1101000001011\n"
     ]
    }
   ],
   "metadata": {}
  },
  {
   "cell_type": "markdown",
   "source": [
    "## VQE"
   ],
   "metadata": {}
  },
  {
   "cell_type": "code",
   "execution_count": 94,
   "source": [
    "from qiskit.circuit.library import TwoLocal\n",
    "\n",
    "backend = qiskit.Aer.get_backend('qasm_simulator')\n",
    "optimizer = SPSA(maxiter=200)\n",
    "ry = TwoLocal(nr_qubits, 'ry', 'cz', reps=5, entanglement='linear') # ansatz\n",
    "vqe = VQE(ry, optimizer=optimizer, quantum_instance=QuantumInstance(backend=backend))\n",
    "\n",
    "optimizer_vqe = MinimumEigenOptimizer(vqe)\n",
    "\n",
    "results_vqe = []\n",
    "\n",
    "for i in range(10):\n",
    "    print(i)\n",
    "    result_vqe = optimizer_vqe.solve(qiskit_cost_function)\n",
    "    results_vqe.append(result_vqe)"
   ],
   "outputs": [],
   "metadata": {}
  },
  {
   "cell_type": "code",
   "execution_count": 95,
   "source": [
    "result_vqe_df = pd.DataFrame(columns = ['actual_opt_cost', 'path'])\n",
    "\n",
    "for r in results_vqe:\n",
    "    path_string = str(r.x).replace(' ', '').replace('.', '')[1:-1]\n",
    "    result_vqe_df = result_vqe_df.append({'actual_opt_cost': r.fval + offset, 'path': path_string}, ignore_index=True)\n",
    "\n",
    "print(\"VQE:\")\n",
    "print(result_vqe_df.sort_values(by=['actual_opt_cost']))"
   ],
   "outputs": [
    {
     "output_type": "stream",
     "name": "stdout",
     "text": [
      "VQE:\n",
      "    actual_opt_cost           path\n",
      "4  12.0000000000000  1010011001001\n",
      "7  12.0000000000000  1010011001001\n",
      "2  14.0000000000000  1101000100011\n",
      "3  14.0000000000000  1101000100011\n",
      "6  14.0000000000000  1101000100011\n",
      "1  65.0000000000000  1010010100101\n",
      "5  104.000000000000  1000011001001\n",
      "8  104.000000000000  1101000011001\n",
      "0  108.000000000000  1010001001001\n",
      "9  109.000000000000  1010011000001\n"
     ]
    }
   ],
   "metadata": {}
  },
  {
   "cell_type": "code",
   "execution_count": 108,
   "source": [
    "# printing the path for solution 4\n",
    "# for printing another result, change the first number in the iloc call\n",
    "result_evaluation(result_vqe_df.iloc[4,1], test_sg, test_nsg, edge_cost_matrix) "
   ],
   "outputs": [
    {
     "output_type": "stream",
     "name": "stdout",
     "text": [
      "node 0 at time slice 0\n",
      "\t\t\t\tcost: 5.0\n",
      "node 3 at time slice 1\n",
      "\t\t\t\tcost: 3.0\n",
      "node 1 at time slice 2\n",
      "\t\t\t\tcost: 1.0\n",
      "node 2 at time slice 3\n",
      "\t\t\t\tcost: 2.0\n",
      "node 4 at time slice 4\n",
      "\t\t\t\tcost: 1.0\n",
      "node 0 at time slice 5\n",
      "\n",
      "total cost: 12.0\n"
     ]
    }
   ],
   "metadata": {}
  },
  {
   "cell_type": "markdown",
   "source": [
    "## CPlexOptimizer"
   ],
   "metadata": {}
  },
  {
   "cell_type": "code",
   "execution_count": 96,
   "source": [
    "# ------ CplexOptimizer needs to be installed for this and the next cell to work ------\n",
    "\n",
    "# optimizer = CplexOptimizer() if CplexOptimizer.is_cplex_installed() else None\n",
    "\n",
    "# results_classic = []\n",
    "\n",
    "# for i in range(1):\n",
    "#     result = optimizer.solve(qiskit_cost_function)\n",
    "#     results_classic.append(result)"
   ],
   "outputs": [],
   "metadata": {}
  },
  {
   "cell_type": "code",
   "execution_count": 97,
   "source": [
    "### actual_opt_cost: optimization cost. includes path cost and incurred penalties. always > 0.\n",
    "### path: qubit-result\n",
    "\n",
    "# result_df_classic = pd.DataFrame(columns = ['actual_opt_cost', 'path'])\n",
    "\n",
    "# for r in results_classic:\n",
    "#     path_string = str(r.x).replace(' ', '').replace('.', '')[1:-1]\n",
    "#     result_df_classic = result_df_classic.append({'actual_opt_cost': r.fval + offset, 'path': path_string}, ignore_index=True)\n",
    "\n",
    "# print(\"CPlexOptimizer:\")\n",
    "# print(result_df_vqe.sort_values(by=['actual_opt_cost']))"
   ],
   "outputs": [],
   "metadata": {}
  }
 ],
 "metadata": {
  "interpreter": {
   "hash": "447f5fa011c7c47899f91a0b2462b94e9399cdbf5b780c102584eca8c3cd54aa"
  },
  "kernelspec": {
   "display_name": "Python 3",
   "language": "python",
   "name": "python3"
  },
  "language_info": {
   "codemirror_mode": {
    "name": "ipython",
    "version": 3
   },
   "file_extension": ".py",
   "mimetype": "text/x-python",
   "name": "python",
   "nbconvert_exporter": "python",
   "pygments_lexer": "ipython3",
   "version": "3.8.5"
  }
 },
 "nbformat": 4,
 "nbformat_minor": 2
}