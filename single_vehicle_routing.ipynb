{
 "cells": [
  {
   "cell_type": "markdown",
   "source": [
    "# Sektion 2 - Single Vehicle Routing"
   ],
   "metadata": {}
  },
  {
   "cell_type": "markdown",
   "source": [
    "## modified from:\n",
    "## https://github.com/PlanQK/Routing/blob/master/Routing%20in%20directed%20graph.ipynb"
   ],
   "metadata": {}
  },
  {
   "cell_type": "markdown",
   "source": [
    "# Routing in a directed graph\n",
    "Consider a directed graph with edges $i=0, ..., N$ and edge costs $C_i$. We want to find a path from a start vertex to a target vertex. Let $X_i\\in\\{0,1\\}$ be binary variables indicating if edge $i$ is chosen along the path.\n",
    "\n",
    "The cost function is based on the following requirements:\n",
    "- The start vertex has exactly one outgoing edge.\n",
    "- The start vertex has no incoming edge.\n",
    "- The target vertex has exactly one incoming edge.\n",
    "- The target vertex has no outgoing edge.\n",
    "- Every other vertex has\n",
    "    - either one or zero incoming edges.\n",
    "    - either one or zero outgoing edges.\n",
    "    - an equal number of incoming and outgoing edges.\n"
   ],
   "metadata": {}
  },
  {
   "cell_type": "markdown",
   "source": [
    "## Problem definition"
   ],
   "metadata": {}
  },
  {
   "cell_type": "code",
   "execution_count": null,
   "source": [
    "## Cost function specification in sympy\n",
    "\n",
    "import sympy as sym\n",
    "import pandas as pd\n",
    "\n",
    "# number of edges (Qubits)\n",
    "N = sym.symbols('N')\n",
    "\n",
    "# possible edges X_0, ..., X_{N-1} with values in {0,1}\n",
    "X = sym.IndexedBase('X')\n",
    "\n",
    "# costs for edges\n",
    "C = sym.IndexedBase('C')\n",
    "\n",
    "# penalty\n",
    "P = sym.symbols('P')\n",
    "\n",
    "# indices\n",
    "i, j, k, v = sym.symbols('i j k v')\n",
    "\n",
    "# start vertex: incoming and outgoing edges\n",
    "VsI = sym.IndexedBase('VsI')    # incoming edges\n",
    "LenVsI = sym.symbols('LenVsI')  # number of incoming edges\n",
    "VsO = sym.IndexedBase('VsO')    # outgoing edges\n",
    "LenVsO = sym.symbols('LenVsO')  # number of incoming edges\n",
    "\n",
    "# target vertex: incoming and outgoing edges\n",
    "VtI = sym.IndexedBase('VtI')    # incoming edges\n",
    "LenVtI = sym.symbols('LenVtI')  # number of incoming edges\n",
    "VtO = sym.IndexedBase('Vt O')   # outgoing edges\n",
    "LenVtO = sym.symbols('LenVtO')  # number of incoming edges\n",
    "\n",
    "# middle vertices: incoming and outgoing edges\n",
    "# two indices: VI_(i,k) is the kth incoming edge at vertex i\n",
    "# Similarly, LenVI_i is the number of incoming edges at vertex i\n",
    "# the number of lists in LenVI and LenVO is the number of central vertices and must equal\n",
    "LenV = sym.IndexedBase('LenV')   # number central vertices\n",
    "\n",
    "VI = sym.IndexedBase('VI')        # incoming edges\n",
    "LenVI = sym.IndexedBase('LenVI')  # number of incoming edges\n",
    "VO = sym.IndexedBase('VO')        # outgoing edges\n",
    "LenVO = sym.IndexedBase('LenVO')  # number of outgoing edges\n",
    "\n",
    "cost_function = (\n",
    "    sym.Sum( C[i] * X[i] , (i,0,N-1) ) +                    # costs for edge i\n",
    "    P * (sym.Sum( X[VsO[i]], (i, 0, LenVsO-1) ) - 1 )**2 +  # exactly one outgoing edge at start vertex\n",
    "    P * sym.Sum( X[VsI[i]], (i, 0, LenVsI-1) ) +            # no incoming edge at start vertex\n",
    "    P * (sym.Sum( X[VtI[i]], (i, 0, LenVtI-1) ) - 1 )**2 +  # exactly one incoming edge at target vertex\n",
    "    P * sym.Sum( X[VtO[i]], (i, 0, LenVtO-1) ) +            # no incoming edge at target vertex\n",
    "    P * sym.Sum(                                            # one or zero incoming edges at each central point\n",
    "        sym.Sum(  X[VI[v,i]] , (i, 0, LenVI[v]-1) ) *\n",
    "        (sym.Sum(  X[VI[v,i]] , (i, 0, LenVI[v]-1) ) -1) ,\n",
    "        (v, 0, LenV-1) ) +\n",
    "    P * sym.Sum(                                            # one or zero outgoing edges at each central point\n",
    "        sym.Sum(  X[VO[v,i]] , (i, 0, LenVO[v]-1) ) *\n",
    "        (sym.Sum(  X[VO[v,i]] , (i, 0, LenVO[v]-1) ) -1) ,\n",
    "        (v, 0, LenV-1) ) +\n",
    "    P * sym.Sum(                                            # equal number of incoming and outgoing edges at each central point\n",
    "        (sym.Sum(  X[VI[v,i]] , (i, 0, LenVI[v]-1) ) -\n",
    "        sym.Sum(  X[VO[v,i]] , (i, 0, LenVO[v]-1) ))**2 ,\n",
    "        (v, 0, LenV-1) ) )\n",
    "cost_function"
   ],
   "outputs": [],
   "metadata": {}
  },
  {
   "cell_type": "code",
   "execution_count": null,
   "source": [
    "## graph structure\n",
    "## external input\n",
    "\n",
    "TestN = 5                   # number of edges\n",
    "TestVsI = []                # indices of incoming edges at start vertex\n",
    "TestVsO = [0,1]             # indices of outgoing edges at start vertex\n",
    "TestVtI = [3,4]             # indices of incoming edges at target vertex\n",
    "TestVtO = []                # indices of outgoing edges at target vertex\n",
    "TestVI = [[0],[1,2]]        # indices of incoming edges at central vertices\n",
    "TestVO = [[2,3],[4]]        # indices of outgoing edges at central vertices\n",
    "\n",
    "## edge costs\n",
    "## external input\n",
    "\n",
    "TestC = [2,4,1,7,3]\n",
    "TestP = 10"
   ],
   "outputs": [],
   "metadata": {}
  },
  {
   "cell_type": "markdown",
   "source": [
    "## Data input"
   ],
   "metadata": {}
  },
  {
   "cell_type": "code",
   "execution_count": null,
   "source": [
    "# diese Zelle einfach über die andere setzen, wenn mit dem kleineren graph getestet werden soll.\n",
    "# die untere zelle ist die, die verwendet wird.\n",
    "\n",
    "# dieser Graph ist als Bild unter graph-G1.png zu sehen\n",
    "\n",
    "TestN = 17                  # number of edges\n",
    "TestVsI = []                # indices of incoming edges at start vertex\n",
    "TestVsO = [0,1,2,3]         # indices of outgoing edges at start vertex\n",
    "TestVtI = [7,11,14,15]      # indices of incoming edges at target vertex\n",
    "TestVtO = [16]                # indices of outgoing edges at target vertex\n",
    "TestVI = [[0,12],[1,8],[2],[5,9],[3],[4,6],[10],[13,16]]        # indices of incoming edges at central vertices\n",
    "TestVO = [[4],[5,6,7],[8,9],[10,11],[12],[13,14],[15],[]]        # indices of outgoing edges at central vertices\n",
    "\n",
    "## edge costs\n",
    "#        0 1 2 3  4  5 6 7  8 9 10 11 12 13 14 15 16\n",
    "TestC = [6,4,1,2, 1, 3,2,5, 2,4, 4,2, 5, 3,3, 3, 4]\n",
    "TestP = 50"
   ],
   "outputs": [],
   "metadata": {}
  },
  {
   "cell_type": "markdown",
   "source": [
    "## Data processing"
   ],
   "metadata": {}
  },
  {
   "cell_type": "code",
   "execution_count": null,
   "source": [
    "## translation of graph structure into dictionaries for sympy\n",
    "\n",
    "single_valued_dict = {\n",
    "    N: TestN,\n",
    "    P: TestP,\n",
    "    LenVsI: len(TestVsI),\n",
    "    LenVsO: len(TestVsO),\n",
    "    LenVtI: len(TestVtI),\n",
    "    LenVtO: len(TestVtO),\n",
    "    LenV:  len(TestVI)\n",
    "}\n",
    "\n",
    "# multi-valued dictionaries\n",
    "dict_VsI = { VsI[k]: TestVsI[k] for k in range(len(TestVsI)) }\n",
    "\n",
    "dict_VsO = { VsO[k]: TestVsO[k] for k in range(len(TestVsO)) }\n",
    "\n",
    "dict_VtI = { VtI[k]: TestVtI[k] for k in range(len(TestVtI)) }\n",
    "\n",
    "dict_VtO = { VtO[k]: TestVtO[k] for k in range(len(TestVtO)) }\n",
    "\n",
    "dict_LenVI = { LenVI[k]: len(TestVI[k]) for k in range(len(TestVI)) }\n",
    "\n",
    "dict_LenVO = { LenVO[k]: len(TestVO[k]) for k in range(len(TestVO)) }\n",
    "\n",
    "dict_VI = { VI[k, i]: TestVI[k][i] for k in range(len(TestVI)) for i in range(len(TestVI[k])) }\n",
    "\n",
    "dict_VO = { VO[k, i]: TestVO[k][i] for k in range(len(TestVO)) for i in range(len(TestVO[k])) }\n",
    "\n",
    "num_qubits = TestN\n",
    "\n",
    "dict_costs = { C[k]: TestC[k] for k in range(len(TestC)) }\n",
    "\n",
    "\n",
    "# definition of cost polynomial\n",
    "cost_poly = sym.Poly(cost_function\n",
    "                     .subs(single_valued_dict)\n",
    "                     .doit()\n",
    "                     .subs(dict_VsI)\n",
    "                     .subs(dict_VsO)\n",
    "                     .subs(dict_VtI)\n",
    "                     .subs(dict_VtO)\n",
    "                     .subs(dict_LenVI)\n",
    "                     .subs(dict_LenVO)\n",
    "                     .doit()\n",
    "                     .subs(dict_VI)\n",
    "                     .subs(dict_VO)\n",
    "                     .subs(dict_costs)\n",
    "                     ,\n",
    "                     [X[i] for i in range(num_qubits)])\n",
    "\n",
    "# um den funktionswert eines bestimmten ergebnisses zu testen, einfach für r einsetzen\n",
    "# und die nächsten drei zeilen ausführen (ent-kommentieren)\n",
    "\n",
    "#r = [1, 0, 1, 0, 1]\n",
    "#X_dict = { X[i]: r[i] for i in range(len(r))}\n",
    "#cost_function.subs(single_valued_dict).doit().subs(dict_VsI).subs(dict_VsO).subs(dict_VtI).subs(dict_VtO).subs(dict_LenVI).subs(dict_LenVO).doit().subs(dict_VI).subs(dict_VO).subs(dict_costs).subs(X_dict)\n",
    "\n",
    "cost_poly"
   ],
   "outputs": [],
   "metadata": {}
  },
  {
   "cell_type": "markdown",
   "source": [
    "## QAOA"
   ],
   "metadata": {}
  },
  {
   "cell_type": "code",
   "execution_count": null,
   "source": [
    "import qiskit\n",
    "from qiskit.utils import QuantumInstance\n",
    "from qiskit.algorithms import QAOA, VQE\n",
    "from qiskit_optimization.problems import QuadraticProgram\n",
    "from qiskit_optimization.algorithms import MinimumEigenOptimizer\n",
    "from qiskit.test.mock import *\n",
    "from qiskit.providers.aer import AerSimulator\n",
    "from qiskit.algorithms.optimizers import COBYLA, L_BFGS_B, SPSA, SLSQP\n",
    "\n",
    "# generate qiskit's cost function\n",
    "qiskit_cost_function = QuadraticProgram()\n",
    "\n",
    "# define qiskit variables\n",
    "for i in range(num_qubits):\n",
    "    qiskit_cost_function.binary_var('X_' + str(i))\n",
    "\n",
    "# specify qiskit cost function\n",
    "qiskit_cost_function.minimize(\n",
    "    linear = [int(cost_poly.coeff_monomial(X[i]**1)) for i in range(num_qubits)],\n",
    "    quadratic = {\n",
    "        ('X_'+str(i), 'X_'+str(j)): cost_poly.coeff_monomial(X[i]**1 * X[j]**1)\n",
    "        for i in range(num_qubits)\n",
    "        for j in range(i,num_qubits)\n",
    "    })\n",
    "\n",
    "print(qiskit_cost_function.export_as_lp_string())"
   ],
   "outputs": [],
   "metadata": {}
  },
  {
   "cell_type": "code",
   "execution_count": null,
   "source": [
    "from qiskit.algorithms.optimizers import COBYLA, L_BFGS_B, SPSA, SLSQP # JRL"
   ],
   "outputs": [],
   "metadata": {}
  },
  {
   "cell_type": "code",
   "execution_count": null,
   "source": [
    "maxiter = 1\n",
    "optimizer = SPSA(maxiter=maxiter)\n",
    "reps = 1\n",
    "\n",
    "qaoa = QAOA(reps=reps, optimizer=optimizer, quantum_instance =\n",
    "             QuantumInstance(backend=qiskit.Aer.get_backend('qasm_simulator')))\n",
    "optimizer_qaoa = MinimumEigenOptimizer(qaoa)\n",
    "\n",
    "results = []\n",
    "\n",
    "for i in range(10):\n",
    "    print(\"iteration \", i)\n",
    "    result_qaoa = optimizer_qaoa.solve(qiskit_cost_function)\n",
    "    print(result_qaoa)\n",
    "    results.append(result_qaoa)"
   ],
   "outputs": [],
   "metadata": {}
  },
  {
   "cell_type": "markdown",
   "source": [
    "## Results"
   ],
   "metadata": {}
  },
  {
   "cell_type": "code",
   "execution_count": null,
   "source": [
    "qubit_results = []\n",
    "for result in results:\n",
    "    qubit_string = str(result.x).replace(' ', '').replace('.', '')[1:-1]\n",
    "    qubit_results.append(qubit_string)\n"
   ],
   "outputs": [],
   "metadata": {}
  },
  {
   "cell_type": "code",
   "execution_count": null,
   "source": [
    "import matplotlib.pyplot as plt\n",
    "\n",
    "plt.figure(figsize=(10,10))\n",
    "plt.hist(qubit_results, bins = len(qubit_results))\n",
    "plt.xticks(rotation='vertical')\n",
    "\n",
    "plt.legend(loc='upper right')\n",
    "plt.show()"
   ],
   "outputs": [],
   "metadata": {}
  },
  {
   "cell_type": "code",
   "execution_count": null,
   "source": [
    "from qiskit_optimization.algorithms import MinimumEigenOptimizer, RecursiveMinimumEigenOptimizer, CplexOptimizer\n",
    "\n",
    "optimizer = CplexOptimizer() if CplexOptimizer.is_cplex_installed() else None\n",
    "\n",
    "results_classic = []\n",
    "\n",
    "for i in range(100):\n",
    "    result = optimizer.solve(qiskit_cost_function)\n",
    "    results_classic.append(result)"
   ],
   "outputs": [],
   "metadata": {}
  },
  {
   "cell_type": "code",
   "execution_count": null,
   "source": [
    "# path cost: Wegkosten\n",
    "# actual_opt_cost: Optimierungskosten. Schließt Wegkosten und Penalty-Terms ein. Ist immer positiv.\n",
    "# path: qubit-ergebnis\n",
    "result_df_classic = pd.DataFrame(columns = ['path_cost', 'actual_opt_cost', 'path'])\n",
    "\n",
    "for r in results_classic:\n",
    "    \n",
    "    path_cost = 0\n",
    "    for q in range(len(r.x)):\n",
    "        if r.x[q] == 1:\n",
    "            path_cost += TestC[q]\n",
    "    path_string = str(r.x).replace(' ', '').replace('.', '')[1:-1]\n",
    "\n",
    "    result_df_classic = result_df_classic.append({'path_cost': path_cost, 'actual_opt_cost': r.fval + 2 * TestP, 'path': path_string}, ignore_index=True)\n",
    "\n",
    "print(\"Cplex-Optimizer:\")\n",
    "print(result_df_classic.sort_values(by=['actual_opt_cost']))"
   ],
   "outputs": [],
   "metadata": {}
  },
  {
   "cell_type": "markdown",
   "source": [
    "### VQE"
   ],
   "metadata": {}
  },
  {
   "cell_type": "code",
   "execution_count": null,
   "source": [
    "# JRL adding VQE\n",
    "from qiskit.circuit.library import TwoLocal\n",
    "optimizer=SPSA(maxiter=500)\n",
    "backend=qiskit.Aer.get_backend('qasm_simulator')\n",
    "\n",
    "ry = TwoLocal(num_qubits, 'ry', 'cz', reps=5, entanglement='linear')\n",
    "vqe = VQE(ry, optimizer=optimizer, quantum_instance=QuantumInstance(backend=backend))\n",
    "optimizer_vqe = MinimumEigenOptimizer(vqe)\n",
    "\n",
    "results_vqe = []\n",
    "\n",
    "#for i in range(10):\n",
    "for i in range(10): # JRL\n",
    "    print(\"i \",i) # JRL\n",
    "    result_vqe = optimizer_vqe.solve(qiskit_cost_function)\n",
    "    results_vqe.append(result_vqe)\n",
    "    print(\"result_vqe \", result_vqe) # JRL\n"
   ],
   "outputs": [],
   "metadata": {}
  },
  {
   "cell_type": "code",
   "execution_count": null,
   "source": [
    "# path cost: Wegkosten\n",
    "# actual_opt_cost: Optimierungskosten. Schließt Wegkosten und Penalty-Terms ein. Ist immer positiv.\n",
    "# path: qubit-ergebnis\n",
    "result_df_vqe = pd.DataFrame(columns = ['path_cost', 'actual_opt_cost', 'path'])\n",
    "\n",
    "for r in results_vqe:\n",
    "    \n",
    "    path_cost = 0\n",
    "    for q in range(len(r.x)):\n",
    "        if r.x[q] == 1:\n",
    "            path_cost += TestC[q]\n",
    "    path_string = str(r.x).replace(' ', '').replace('.', '')[1:-1]\n",
    "\n",
    "    result_df_vqe = result_df_vqe.append({'path_cost': path_cost, 'actual_opt_cost': r.fval + 2 * TestP, 'path': path_string}, ignore_index=True)\n",
    "\n",
    "print(\"VQE:\")\n",
    "print(result_df_vqe.sort_values(by=['actual_opt_cost']))"
   ],
   "outputs": [],
   "metadata": {}
  },
  {
   "cell_type": "markdown",
   "source": [],
   "metadata": {}
  }
 ],
 "metadata": {
  "kernelspec": {
   "name": "python3",
   "display_name": "Python 3.7.3 64-bit ('3.7.3': pyenv)"
  },
  "language_info": {
   "codemirror_mode": {
    "name": "ipython",
    "version": 3
   },
   "file_extension": ".py",
   "mimetype": "text/x-python",
   "name": "python",
   "nbconvert_exporter": "python",
   "pygments_lexer": "ipython3",
   "version": "3.7.3"
  },
  "interpreter": {
   "hash": "447f5fa011c7c47899f91a0b2462b94e9399cdbf5b780c102584eca8c3cd54aa"
  }
 },
 "nbformat": 4,
 "nbformat_minor": 4
}