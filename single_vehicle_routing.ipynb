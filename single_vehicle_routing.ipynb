{
 "cells": [
  {
   "cell_type": "markdown",
   "source": [
    "# Sektion 2 - Single Vehicle Routing"
   ],
   "metadata": {}
  },
  {
   "cell_type": "markdown",
   "source": [
    "## modified from:\n",
    "## https://github.com/PlanQK/Routing/blob/master/Routing%20in%20directed%20graph.ipynb"
   ],
   "metadata": {}
  },
  {
   "cell_type": "markdown",
   "source": [
    "# Routing in a directed graph\n",
    "Consider a directed graph with edges $i=0, ..., N$ and edge costs $C_i$. We want to find a path from a start vertex to a target vertex. Let $X_i\\in\\{0,1\\}$ be binary variables indicating if edge $i$ is chosen along the path.\n",
    "\n",
    "The cost function is based on the following requirements:\n",
    "- The start vertex has exactly one outgoing edge.\n",
    "- The start vertex has no incoming edge.\n",
    "- The target vertex has exactly one incoming edge.\n",
    "- The target vertex has no outgoing edge.\n",
    "- Every other vertex has\n",
    "    - either one or zero incoming edges.\n",
    "    - either one or zero outgoing edges.\n",
    "    - an equal number of incoming and outgoing edges.\n"
   ],
   "metadata": {}
  },
  {
   "cell_type": "markdown",
   "source": [
    "## Problem definition"
   ],
   "metadata": {}
  },
  {
   "cell_type": "code",
   "execution_count": 1,
   "source": [
    "## Cost function specification in sympy\n",
    "\n",
    "import sympy as sym\n",
    "import pandas as pd\n",
    "\n",
    "# number of edges (Qubits)\n",
    "N = sym.symbols('N')\n",
    "\n",
    "# possible edges X_0, ..., X_{N-1} with values in {0,1}\n",
    "X = sym.IndexedBase('X')\n",
    "\n",
    "# costs for edges\n",
    "C = sym.IndexedBase('C')\n",
    "\n",
    "# penalty\n",
    "P = sym.symbols('P')\n",
    "\n",
    "# indices\n",
    "i, j, k, v = sym.symbols('i j k v')\n",
    "\n",
    "# start vertex: incoming and outgoing edges\n",
    "VsI = sym.IndexedBase('VsI')    # incoming edges\n",
    "LenVsI = sym.symbols('LenVsI')  # number of incoming edges\n",
    "VsO = sym.IndexedBase('VsO')    # outgoing edges\n",
    "LenVsO = sym.symbols('LenVsO')  # number of incoming edges\n",
    "\n",
    "# target vertex: incoming and outgoing edges\n",
    "VtI = sym.IndexedBase('VtI')    # incoming edges\n",
    "LenVtI = sym.symbols('LenVtI')  # number of incoming edges\n",
    "VtO = sym.IndexedBase('Vt O')   # outgoing edges\n",
    "LenVtO = sym.symbols('LenVtO')  # number of incoming edges\n",
    "\n",
    "# middle vertices: incoming and outgoing edges\n",
    "# two indices: VI_(i,k) is the kth incoming edge at vertex i\n",
    "# Similarly, LenVI_i is the number of incoming edges at vertex i\n",
    "# the number of lists in LenVI and LenVO is the number of central vertices and must equal\n",
    "LenV = sym.IndexedBase('LenV')   # number central vertices\n",
    "\n",
    "VI = sym.IndexedBase('VI')        # incoming edges\n",
    "LenVI = sym.IndexedBase('LenVI')  # number of incoming edges\n",
    "VO = sym.IndexedBase('VO')        # outgoing edges\n",
    "LenVO = sym.IndexedBase('LenVO')  # number of outgoing edges\n",
    "\n",
    "cost_function = (\n",
    "    sym.Sum( C[i] * X[i] , (i,0,N-1) ) +                    # costs for edge i\n",
    "    P * (sym.Sum( X[VsO[i]], (i, 0, LenVsO-1) ) - 1 )**2 +  # exactly one outgoing edge at start vertex\n",
    "    P * sym.Sum( X[VsI[i]], (i, 0, LenVsI-1) ) +            # no incoming edge at start vertex\n",
    "    P * (sym.Sum( X[VtI[i]], (i, 0, LenVtI-1) ) - 1 )**2 +  # exactly one incoming edge at target vertex\n",
    "    P * sym.Sum( X[VtO[i]], (i, 0, LenVtO-1) ) +            # no incoming edge at target vertex\n",
    "    P * sym.Sum(                                            # one or zero incoming edges at each central point\n",
    "        sym.Sum(  X[VI[v,i]] , (i, 0, LenVI[v]-1) ) *\n",
    "        (sym.Sum(  X[VI[v,i]] , (i, 0, LenVI[v]-1) ) -1) ,\n",
    "        (v, 0, LenV-1) ) +\n",
    "    P * sym.Sum(                                            # one or zero outgoing edges at each central point\n",
    "        sym.Sum(  X[VO[v,i]] , (i, 0, LenVO[v]-1) ) *\n",
    "        (sym.Sum(  X[VO[v,i]] , (i, 0, LenVO[v]-1) ) -1) ,\n",
    "        (v, 0, LenV-1) ) +\n",
    "    P * sym.Sum(                                            # equal number of incoming and outgoing edges at each central point\n",
    "        (sym.Sum(  X[VI[v,i]] , (i, 0, LenVI[v]-1) ) -\n",
    "        sym.Sum(  X[VO[v,i]] , (i, 0, LenVO[v]-1) ))**2 ,\n",
    "        (v, 0, LenV-1) ) )\n",
    "cost_function"
   ],
   "outputs": [
    {
     "output_type": "execute_result",
     "data": {
      "text/plain": [
       "P*(Sum(X[VsO[i]], (i, 0, LenVsO - 1)) - 1)**2 + P*(Sum(X[VtI[i]], (i, 0, LenVtI - 1)) - 1)**2 + P*Sum((Sum(X[VI[v, i]], (i, 0, LenVI[v] - 1)) - 1)*Sum(X[VI[v, i]], (i, 0, LenVI[v] - 1)), (v, 0, LenV - 1)) + P*Sum((Sum(X[VO[v, i]], (i, 0, LenVO[v] - 1)) - 1)*Sum(X[VO[v, i]], (i, 0, LenVO[v] - 1)), (v, 0, LenV - 1)) + P*Sum((Sum(X[VI[v, i]], (i, 0, LenVI[v] - 1)) - Sum(X[VO[v, i]], (i, 0, LenVO[v] - 1)))**2, (v, 0, LenV - 1)) + P*Sum(X[VsI[i]], (i, 0, LenVsI - 1)) + P*Sum(X[Vt O[i]], (i, 0, LenVtO - 1)) + Sum(C[i]*X[i], (i, 0, N - 1))"
      ],
      "text/latex": [
       "$\\displaystyle P \\left(\\sum_{i=0}^{LenVsO - 1} {X}_{{VsO}_{i}} - 1\\right)^{2} + P \\left(\\sum_{i=0}^{LenVtI - 1} {X}_{{VtI}_{i}} - 1\\right)^{2} + P \\sum_{v=0}^{LenV - 1} \\left(\\sum_{i=0}^{{LenVI}_{v} - 1} {X}_{{VI}_{v,i}} - 1\\right) \\sum_{i=0}^{{LenVI}_{v} - 1} {X}_{{VI}_{v,i}} + P \\sum_{v=0}^{LenV - 1} \\left(\\sum_{i=0}^{{LenVO}_{v} - 1} {X}_{{VO}_{v,i}} - 1\\right) \\sum_{i=0}^{{LenVO}_{v} - 1} {X}_{{VO}_{v,i}} + P \\sum_{v=0}^{LenV - 1} \\left(\\sum_{i=0}^{{LenVI}_{v} - 1} {X}_{{VI}_{v,i}} - \\sum_{i=0}^{{LenVO}_{v} - 1} {X}_{{VO}_{v,i}}\\right)^{2} + P \\sum_{i=0}^{LenVsI - 1} {X}_{{VsI}_{i}} + P \\sum_{i=0}^{LenVtO - 1} {X}_{{Vt O}_{i}} + \\sum_{i=0}^{N - 1} {C}_{i} {X}_{i}$"
      ]
     },
     "metadata": {},
     "execution_count": 1
    }
   ],
   "metadata": {}
  },
  {
   "cell_type": "markdown",
   "source": [
    "## Data input"
   ],
   "metadata": {}
  },
  {
   "cell_type": "code",
   "execution_count": 2,
   "source": [
    "## graph structure\n",
    "## external input\n",
    "\n",
    "TestN = 5                   # number of edges\n",
    "TestVsI = []                # indices of incoming edges at start vertex\n",
    "TestVsO = [0,1]             # indices of outgoing edges at start vertex\n",
    "TestVtI = [3,4]             # indices of incoming edges at target vertex\n",
    "TestVtO = []                # indices of outgoing edges at target vertex\n",
    "TestVI = [[0],[1,2]]        # indices of incoming edges at central vertices\n",
    "TestVO = [[2,3],[4]]        # indices of outgoing edges at central vertices\n",
    "\n",
    "## edge costs\n",
    "## external input\n",
    "\n",
    "TestC = [2,4,1,7,3]\n",
    "TestP = 50"
   ],
   "outputs": [],
   "metadata": {}
  },
  {
   "cell_type": "code",
   "execution_count": 3,
   "source": [
    "# diese Zelle einfach über die andere setzen, wenn mit dem kleineren graph getestet werden soll.\n",
    "# die untere zelle ist die, die verwendet wird.\n",
    "\n",
    "# dieser Graph ist als Bild unter graph-G1.png zu sehen\n",
    "\n",
    "TestN = 17                  # number of edges\n",
    "TestVsI = []                # indices of incoming edges at start vertex\n",
    "TestVsO = [0,1,2,3]         # indices of outgoing edges at start vertex\n",
    "TestVtI = [7,11,14,15]      # indices of incoming edges at target vertex\n",
    "TestVtO = [16]                # indices of outgoing edges at target vertex\n",
    "TestVI = [[0,12],[1,8],[2],[5,9],[3],[4,6],[10],[13,16]]        # indices of incoming edges at central vertices\n",
    "TestVO = [[4],[5,6,7],[8,9],[10,11],[12],[13,14],[15],[]]        # indices of outgoing edges at central vertices\n",
    "\n",
    "## edge costs\n",
    "#        0 1 2 3  4  5 6 7  8 9 10 11 12 13 14 15 16\n",
    "TestC = [6,4,1,2, 1, 3,2,5, 2,4, 4,2, 5, 3,3, 3, 4]\n",
    "TestP = 50"
   ],
   "outputs": [],
   "metadata": {}
  },
  {
   "cell_type": "markdown",
   "source": [
    "## Data processing"
   ],
   "metadata": {}
  },
  {
   "cell_type": "code",
   "execution_count": 4,
   "source": [
    "## translation of graph structure into dictionaries for sympy\n",
    "\n",
    "single_valued_dict = {\n",
    "    N: TestN,\n",
    "    P: TestP,\n",
    "    LenVsI: len(TestVsI),\n",
    "    LenVsO: len(TestVsO),\n",
    "    LenVtI: len(TestVtI),\n",
    "    LenVtO: len(TestVtO),\n",
    "    LenV:  len(TestVI)\n",
    "}\n",
    "\n",
    "# multi-valued dictionaries\n",
    "dict_VsI = { VsI[k]: TestVsI[k] for k in range(len(TestVsI)) }\n",
    "\n",
    "dict_VsO = { VsO[k]: TestVsO[k] for k in range(len(TestVsO)) }\n",
    "\n",
    "dict_VtI = { VtI[k]: TestVtI[k] for k in range(len(TestVtI)) }\n",
    "\n",
    "dict_VtO = { VtO[k]: TestVtO[k] for k in range(len(TestVtO)) }\n",
    "\n",
    "dict_LenVI = { LenVI[k]: len(TestVI[k]) for k in range(len(TestVI)) }\n",
    "\n",
    "dict_LenVO = { LenVO[k]: len(TestVO[k]) for k in range(len(TestVO)) }\n",
    "\n",
    "dict_VI = { VI[k, i]: TestVI[k][i] for k in range(len(TestVI)) for i in range(len(TestVI[k])) }\n",
    "\n",
    "dict_VO = { VO[k, i]: TestVO[k][i] for k in range(len(TestVO)) for i in range(len(TestVO[k])) }\n",
    "\n",
    "num_qubits = TestN\n",
    "\n",
    "dict_costs = { C[k]: TestC[k] for k in range(len(TestC)) }\n",
    "\n",
    "\n",
    "# definition of cost polynomial\n",
    "cost_poly = sym.Poly(cost_function\n",
    "                     .subs(single_valued_dict)\n",
    "                     .doit()\n",
    "                     .subs(dict_VsI)\n",
    "                     .subs(dict_VsO)\n",
    "                     .subs(dict_VtI)\n",
    "                     .subs(dict_VtO)\n",
    "                     .subs(dict_LenVI)\n",
    "                     .subs(dict_LenVO)\n",
    "                     .doit()\n",
    "                     .subs(dict_VI)\n",
    "                     .subs(dict_VO)\n",
    "                     .subs(dict_costs)\n",
    "                     ,\n",
    "                     [X[i] for i in range(num_qubits)])\n",
    "\n",
    "# um den funktionswert eines bestimmten ergebnisses zu testen, einfach für r einsetzen\n",
    "# und die nächsten drei zeilen ausführen (ent-kommentieren)\n",
    "\n",
    "#r = [1, 0, 1, 0, 1]\n",
    "#X_dict = { X[i]: r[i] for i in range(len(r))}\n",
    "#cost_function.subs(single_valued_dict).doit().subs(dict_VsI).subs(dict_VsO).subs(dict_VtI).subs(dict_VtO).subs(dict_LenVI).subs(dict_LenVO).doit().subs(dict_VI).subs(dict_VO).subs(dict_costs).subs(X_dict)\n",
    "\n",
    "cost_poly"
   ],
   "outputs": [
    {
     "output_type": "execute_result",
     "data": {
      "text/plain": [
       "Poly(150*X[0]**2 + 100*X[0]*X[1] + 100*X[0]*X[2] + 100*X[0]*X[3] - 100*X[0]*X[4] + 200*X[0]*X[12] - 144*X[0] + 150*X[1]**2 + 100*X[1]*X[2] + 100*X[1]*X[3] - 100*X[1]*X[5] - 100*X[1]*X[6] - 100*X[1]*X[7] + 200*X[1]*X[8] - 146*X[1] + 150*X[2]**2 + 100*X[2]*X[3] - 100*X[2]*X[8] - 100*X[2]*X[9] - 149*X[2] + 150*X[3]**2 - 100*X[3]*X[12] - 148*X[3] + 200*X[4]**2 + 200*X[4]*X[6] - 100*X[4]*X[12] - 100*X[4]*X[13] - 100*X[4]*X[14] - 99*X[4] + 200*X[5]**2 + 200*X[5]*X[6] + 200*X[5]*X[7] - 100*X[5]*X[8] + 200*X[5]*X[9] - 100*X[5]*X[10] - 100*X[5]*X[11] - 97*X[5] + 200*X[6]**2 + 200*X[6]*X[7] - 100*X[6]*X[8] - 100*X[6]*X[13] - 100*X[6]*X[14] - 98*X[6] + 150*X[7]**2 - 100*X[7]*X[8] + 100*X[7]*X[11] + 100*X[7]*X[14] + 100*X[7]*X[15] - 145*X[7] + 200*X[8]**2 + 200*X[8]*X[9] - 98*X[8] + 200*X[9]**2 - 100*X[9]*X[10] - 100*X[9]*X[11] - 96*X[9] + 200*X[10]**2 + 200*X[10]*X[11] - 100*X[10]*X[15] - 96*X[10] + 150*X[11]**2 + 100*X[11]*X[14] + 100*X[11]*X[15] - 148*X[11] + 200*X[12]**2 - 95*X[12] + 200*X[13]**2 + 200*X[13]*X[14] + 200*X[13]*X[16] - 97*X[13] + 150*X[14]**2 + 100*X[14]*X[15] - 147*X[14] + 150*X[15]**2 - 147*X[15] + 100*X[16]**2 + 4*X[16] + 100, X[0], X[1], X[2], X[3], X[4], X[5], X[6], X[7], X[8], X[9], X[10], X[11], X[12], X[13], X[14], X[15], X[16], domain='ZZ')"
      ],
      "text/latex": [
       "$\\displaystyle \\operatorname{Poly}{\\left( 150 {X}_{0}^{2} + 100 {X}_{0}{X}_{1} + 100 {X}_{0}{X}_{2} + 100 {X}_{0}{X}_{3} - 100 {X}_{0}{X}_{4} + 200 {X}_{0}{X}_{12} - 144 {X}_{0} + 150 {X}_{1}^{2} + 100 {X}_{1}{X}_{2} + 100 {X}_{1}{X}_{3} - 100 {X}_{1}{X}_{5} - 100 {X}_{1}{X}_{6} - 100 {X}_{1}{X}_{7} + 200 {X}_{1}{X}_{8} - 146 {X}_{1} + 150 {X}_{2}^{2} + 100 {X}_{2}{X}_{3} - 100 {X}_{2}{X}_{8} - 100 {X}_{2}{X}_{9} - 149 {X}_{2} + 150 {X}_{3}^{2} - 100 {X}_{3}{X}_{12} - 148 {X}_{3} + 200 {X}_{4}^{2} + 200 {X}_{4}{X}_{6} - 100 {X}_{4}{X}_{12} - 100 {X}_{4}{X}_{13} - 100 {X}_{4}{X}_{14} - 99 {X}_{4} + 200 {X}_{5}^{2} + 200 {X}_{5}{X}_{6} + 200 {X}_{5}{X}_{7} - 100 {X}_{5}{X}_{8} + 200 {X}_{5}{X}_{9} - 100 {X}_{5}{X}_{10} - 100 {X}_{5}{X}_{11} - 97 {X}_{5} + 200 {X}_{6}^{2} + 200 {X}_{6}{X}_{7} - 100 {X}_{6}{X}_{8} - 100 {X}_{6}{X}_{13} - 100 {X}_{6}{X}_{14} - 98 {X}_{6} + 150 {X}_{7}^{2} - 100 {X}_{7}{X}_{8} + 100 {X}_{7}{X}_{11} + 100 {X}_{7}{X}_{14} + 100 {X}_{7}{X}_{15} - 145 {X}_{7} + 200 {X}_{8}^{2} + 200 {X}_{8}{X}_{9} - 98 {X}_{8} + 200 {X}_{9}^{2} - 100 {X}_{9}{X}_{10} - 100 {X}_{9}{X}_{11} - 96 {X}_{9} + 200 {X}_{10}^{2} + 200 {X}_{10}{X}_{11} - 100 {X}_{10}{X}_{15} - 96 {X}_{10} + 150 {X}_{11}^{2} + 100 {X}_{11}{X}_{14} + 100 {X}_{11}{X}_{15} - 148 {X}_{11} + 200 {X}_{12}^{2} - 95 {X}_{12} + 200 {X}_{13}^{2} + 200 {X}_{13}{X}_{14} + 200 {X}_{13}{X}_{16} - 97 {X}_{13} + 150 {X}_{14}^{2} + 100 {X}_{14}{X}_{15} - 147 {X}_{14} + 150 {X}_{15}^{2} - 147 {X}_{15} + 100 {X}_{16}^{2} + 4 {X}_{16} + 100, {X}_{0}, {X}_{1}, {X}_{2}, {X}_{3}, {X}_{4}, {X}_{5}, {X}_{6}, {X}_{7}, {X}_{8}, {X}_{9}, {X}_{10}, {X}_{11}, {X}_{12}, {X}_{13}, {X}_{14}, {X}_{15}, {X}_{16}, domain=\\mathbb{Z} \\right)}$"
      ]
     },
     "metadata": {},
     "execution_count": 4
    }
   ],
   "metadata": {}
  },
  {
   "cell_type": "markdown",
   "source": [
    "## QAOA"
   ],
   "metadata": {}
  },
  {
   "cell_type": "code",
   "execution_count": 5,
   "source": [
    "import qiskit\n",
    "from qiskit.utils import QuantumInstance\n",
    "from qiskit.algorithms import QAOA\n",
    "from qiskit_optimization.problems import QuadraticProgram\n",
    "from qiskit_optimization.algorithms import MinimumEigenOptimizer\n",
    "from qiskit.test.mock import *\n",
    "from qiskit.providers.aer import AerSimulator\n",
    "\n",
    "# generate qiskit's cost function\n",
    "qiskit_cost_function = QuadraticProgram()\n",
    "\n",
    "# define qiskit variables\n",
    "for i in range(num_qubits):\n",
    "    qiskit_cost_function.binary_var('X_' + str(i))\n",
    "\n",
    "# specify qiskit cost function\n",
    "qiskit_cost_function.minimize(\n",
    "    linear = [int(cost_poly.coeff_monomial(X[i]**1)) for i in range(num_qubits)],\n",
    "    quadratic = {\n",
    "        ('X_'+str(i), 'X_'+str(j)): cost_poly.coeff_monomial(X[i]**1 * X[j]**1)\n",
    "        for i in range(num_qubits)\n",
    "        for j in range(i,num_qubits)\n",
    "    })\n",
    "\n",
    "print(qiskit_cost_function.export_as_lp_string())"
   ],
   "outputs": [
    {
     "output_type": "stream",
     "name": "stdout",
     "text": [
      "\\ This file has been generated by DOcplex\n",
      "\\ ENCODING=ISO-8859-1\n",
      "\\Problem name: CPLEX\n",
      "\n",
      "Minimize\n",
      " obj: - 144 X_0 - 146 X_1 - 149 X_2 - 148 X_3 - 99 X_4 - 97 X_5 - 98 X_6\n",
      "      - 145 X_7 - 98 X_8 - 96 X_9 - 96 X_10 - 148 X_11 - 95 X_12 - 97 X_13\n",
      "      - 147 X_14 - 147 X_15 + 4 X_16 + [ 300 X_0^2 + 200 X_0*X_1 + 200 X_0*X_2\n",
      "      + 200 X_0*X_3 - 200 X_0*X_4 + 400 X_0*X_12 + 300 X_1^2 + 200 X_1*X_2\n",
      "      + 200 X_1*X_3 - 200 X_1*X_5 - 200 X_1*X_6 - 200 X_1*X_7 + 400 X_1*X_8\n",
      "      + 300 X_2^2 + 200 X_2*X_3 - 200 X_2*X_8 - 200 X_2*X_9 + 300 X_3^2\n",
      "      - 200 X_3*X_12 + 400 X_4^2 + 400 X_4*X_6 - 200 X_4*X_12 - 200 X_4*X_13\n",
      "      - 200 X_4*X_14 + 400 X_5^2 + 400 X_5*X_6 + 400 X_5*X_7 - 200 X_5*X_8\n",
      "      + 400 X_5*X_9 - 200 X_5*X_10 - 200 X_5*X_11 + 400 X_6^2 + 400 X_6*X_7\n",
      "      - 200 X_6*X_8 - 200 X_6*X_13 - 200 X_6*X_14 + 300 X_7^2 - 200 X_7*X_8\n",
      "      + 200 X_7*X_11 + 200 X_7*X_14 + 200 X_7*X_15 + 400 X_8^2 + 400 X_8*X_9\n",
      "      + 400 X_9^2 - 200 X_9*X_10 - 200 X_9*X_11 + 400 X_10^2 + 400 X_10*X_11\n",
      "      - 200 X_10*X_15 + 300 X_11^2 + 200 X_11*X_14 + 200 X_11*X_15 + 400 X_12^2\n",
      "      + 400 X_13^2 + 400 X_13*X_14 + 400 X_13*X_16 + 300 X_14^2 + 200 X_14*X_15\n",
      "      + 300 X_15^2 + 200 X_16^2 ]/2\n",
      "Subject To\n",
      "\n",
      "Bounds\n",
      " 0 <= X_0 <= 1\n",
      " 0 <= X_1 <= 1\n",
      " 0 <= X_2 <= 1\n",
      " 0 <= X_3 <= 1\n",
      " 0 <= X_4 <= 1\n",
      " 0 <= X_5 <= 1\n",
      " 0 <= X_6 <= 1\n",
      " 0 <= X_7 <= 1\n",
      " 0 <= X_8 <= 1\n",
      " 0 <= X_9 <= 1\n",
      " 0 <= X_10 <= 1\n",
      " 0 <= X_11 <= 1\n",
      " 0 <= X_12 <= 1\n",
      " 0 <= X_13 <= 1\n",
      " 0 <= X_14 <= 1\n",
      " 0 <= X_15 <= 1\n",
      " 0 <= X_16 <= 1\n",
      "\n",
      "Binaries\n",
      " X_0 X_1 X_2 X_3 X_4 X_5 X_6 X_7 X_8 X_9 X_10 X_11 X_12 X_13 X_14 X_15 X_16\n",
      "End\n",
      "\n"
     ]
    }
   ],
   "metadata": {}
  },
  {
   "cell_type": "code",
   "execution_count": 6,
   "source": [
    "qaoa = QAOA(reps=1,quantum_instance =\n",
    "             QuantumInstance(backend=qiskit.Aer.get_backend('qasm_simulator')))\n",
    "optimizer_qaoa = MinimumEigenOptimizer(qaoa)\n",
    "\n",
    "results = []\n",
    "\n",
    "for i in range(10):\n",
    "    result_qaoa = optimizer_qaoa.solve(qiskit_cost_function)\n",
    "    results.append(result_qaoa)"
   ],
   "outputs": [],
   "metadata": {}
  },
  {
   "cell_type": "markdown",
   "source": [
    "## Results"
   ],
   "metadata": {}
  },
  {
   "cell_type": "code",
   "execution_count": 7,
   "source": [
    "qubit_results = []\n",
    "for result in results:\n",
    "    qubit_string = str(result.x).replace(' ', '').replace('.', '')[1:-1]\n",
    "    qubit_results.append(qubit_string)\n"
   ],
   "outputs": [],
   "metadata": {}
  },
  {
   "cell_type": "code",
   "execution_count": 18,
   "source": [
    "import matplotlib.pyplot as plt\n",
    "\n",
    "plt.figure(figsize=(10,10))\n",
    "plt.hist(qubit_results, bins = len(qubit_results))\n",
    "plt.xticks(rotation='vertical')\n",
    "\n",
    "plt.legend(loc='upper right')\n",
    "plt.show()"
   ],
   "outputs": [
    {
     "output_type": "stream",
     "name": "stderr",
     "text": [
      "No handles with labels found to put in legend.\n"
     ]
    },
    {
     "output_type": "display_data",
     "data": {
      "text/plain": [
       "<Figure size 720x720 with 1 Axes>"
      ],
      "image/svg+xml": "<?xml version=\"1.0\" encoding=\"utf-8\" standalone=\"no\"?>\n<!DOCTYPE svg PUBLIC \"-//W3C//DTD SVG 1.1//EN\"\n  \"http://www.w3.org/Graphics/SVG/1.1/DTD/svg11.dtd\">\n<!-- Created with matplotlib (https://matplotlib.org/) -->\n<svg height=\"673.1625pt\" version=\"1.1\" viewBox=\"0 0 595.303125 673.1625\" width=\"595.303125pt\" xmlns=\"http://www.w3.org/2000/svg\" xmlns:xlink=\"http://www.w3.org/1999/xlink\">\n <metadata>\n  <rdf:RDF xmlns:cc=\"http://creativecommons.org/ns#\" xmlns:dc=\"http://purl.org/dc/elements/1.1/\" xmlns:rdf=\"http://www.w3.org/1999/02/22-rdf-syntax-ns#\">\n   <cc:Work>\n    <dc:type rdf:resource=\"http://purl.org/dc/dcmitype/StillImage\"/>\n    <dc:date>2021-08-21T10:17:13.131323</dc:date>\n    <dc:format>image/svg+xml</dc:format>\n    <dc:creator>\n     <cc:Agent>\n      <dc:title>Matplotlib v3.3.2, https://matplotlib.org/</dc:title>\n     </cc:Agent>\n    </dc:creator>\n   </cc:Work>\n  </rdf:RDF>\n </metadata>\n <defs>\n  <style type=\"text/css\">*{stroke-linecap:butt;stroke-linejoin:round;}</style>\n </defs>\n <g id=\"figure_1\">\n  <g id=\"patch_1\">\n   <path d=\"M -0 673.1625 \nL 595.303125 673.1625 \nL 595.303125 0 \nL -0 0 \nz\n\" style=\"fill:none;\"/>\n  </g>\n  <g id=\"axes_1\">\n   <g id=\"patch_2\">\n    <path d=\"M 30.103125 550.8 \nL 588.103125 550.8 \nL 588.103125 7.2 \nL 30.103125 7.2 \nz\n\" style=\"fill:#ffffff;\"/>\n   </g>\n   <g id=\"patch_3\">\n    <path clip-path=\"url(#pa358fd99d2)\" d=\"M 55.466761 550.8 \nL 106.194034 550.8 \nL 106.194034 33.085714 \nL 55.466761 33.085714 \nz\n\" style=\"fill:#1f77b4;\"/>\n   </g>\n   <g id=\"patch_4\">\n    <path clip-path=\"url(#pa358fd99d2)\" d=\"M 106.194034 550.8 \nL 156.921307 550.8 \nL 156.921307 33.085714 \nL 106.194034 33.085714 \nz\n\" style=\"fill:#1f77b4;\"/>\n   </g>\n   <g id=\"patch_5\">\n    <path clip-path=\"url(#pa358fd99d2)\" d=\"M 156.921307 550.8 \nL 207.64858 550.8 \nL 207.64858 33.085714 \nL 156.921307 33.085714 \nz\n\" style=\"fill:#1f77b4;\"/>\n   </g>\n   <g id=\"patch_6\">\n    <path clip-path=\"url(#pa358fd99d2)\" d=\"M 207.64858 550.8 \nL 258.375852 550.8 \nL 258.375852 33.085714 \nL 207.64858 33.085714 \nz\n\" style=\"fill:#1f77b4;\"/>\n   </g>\n   <g id=\"patch_7\">\n    <path clip-path=\"url(#pa358fd99d2)\" d=\"M 258.375852 550.8 \nL 309.103125 550.8 \nL 309.103125 33.085714 \nL 258.375852 33.085714 \nz\n\" style=\"fill:#1f77b4;\"/>\n   </g>\n   <g id=\"patch_8\">\n    <path clip-path=\"url(#pa358fd99d2)\" d=\"M 309.103125 550.8 \nL 359.830398 550.8 \nL 359.830398 33.085714 \nL 309.103125 33.085714 \nz\n\" style=\"fill:#1f77b4;\"/>\n   </g>\n   <g id=\"patch_9\">\n    <path clip-path=\"url(#pa358fd99d2)\" d=\"M 359.830398 550.8 \nL 410.55767 550.8 \nL 410.55767 33.085714 \nL 359.830398 33.085714 \nz\n\" style=\"fill:#1f77b4;\"/>\n   </g>\n   <g id=\"patch_10\">\n    <path clip-path=\"url(#pa358fd99d2)\" d=\"M 410.55767 550.8 \nL 461.284943 550.8 \nL 461.284943 33.085714 \nL 410.55767 33.085714 \nz\n\" style=\"fill:#1f77b4;\"/>\n   </g>\n   <g id=\"patch_11\">\n    <path clip-path=\"url(#pa358fd99d2)\" d=\"M 461.284943 550.8 \nL 512.012216 550.8 \nL 512.012216 33.085714 \nL 461.284943 33.085714 \nz\n\" style=\"fill:#1f77b4;\"/>\n   </g>\n   <g id=\"patch_12\">\n    <path clip-path=\"url(#pa358fd99d2)\" d=\"M 512.012216 550.8 \nL 562.739489 550.8 \nL 562.739489 33.085714 \nL 512.012216 33.085714 \nz\n\" style=\"fill:#1f77b4;\"/>\n   </g>\n   <g id=\"matplotlib.axis_1\">\n    <g id=\"xtick_1\">\n     <g id=\"line2d_1\">\n      <defs>\n       <path d=\"M 0 0 \nL 0 3.5 \n\" id=\"mbe3fc3b139\" style=\"stroke:#000000;stroke-width:0.8;\"/>\n      </defs>\n      <g>\n       <use style=\"stroke:#000000;stroke-width:0.8;\" x=\"55.466761\" xlink:href=\"#mbe3fc3b139\" y=\"550.8\"/>\n      </g>\n     </g>\n     <g id=\"text_1\">\n      <!-- 10000010000000100 -->\n      <g transform=\"translate(58.226136 665.9625)rotate(-90)scale(0.1 -0.1)\">\n       <defs>\n        <path d=\"M 12.40625 8.296875 \nL 28.515625 8.296875 \nL 28.515625 63.921875 \nL 10.984375 60.40625 \nL 10.984375 69.390625 \nL 28.421875 72.90625 \nL 38.28125 72.90625 \nL 38.28125 8.296875 \nL 54.390625 8.296875 \nL 54.390625 0 \nL 12.40625 0 \nz\n\" id=\"DejaVuSans-49\"/>\n        <path d=\"M 31.78125 66.40625 \nQ 24.171875 66.40625 20.328125 58.90625 \nQ 16.5 51.421875 16.5 36.375 \nQ 16.5 21.390625 20.328125 13.890625 \nQ 24.171875 6.390625 31.78125 6.390625 \nQ 39.453125 6.390625 43.28125 13.890625 \nQ 47.125 21.390625 47.125 36.375 \nQ 47.125 51.421875 43.28125 58.90625 \nQ 39.453125 66.40625 31.78125 66.40625 \nz\nM 31.78125 74.21875 \nQ 44.046875 74.21875 50.515625 64.515625 \nQ 56.984375 54.828125 56.984375 36.375 \nQ 56.984375 17.96875 50.515625 8.265625 \nQ 44.046875 -1.421875 31.78125 -1.421875 \nQ 19.53125 -1.421875 13.0625 8.265625 \nQ 6.59375 17.96875 6.59375 36.375 \nQ 6.59375 54.828125 13.0625 64.515625 \nQ 19.53125 74.21875 31.78125 74.21875 \nz\n\" id=\"DejaVuSans-48\"/>\n       </defs>\n       <use xlink:href=\"#DejaVuSans-49\"/>\n       <use x=\"63.623047\" xlink:href=\"#DejaVuSans-48\"/>\n       <use x=\"127.246094\" xlink:href=\"#DejaVuSans-48\"/>\n       <use x=\"190.869141\" xlink:href=\"#DejaVuSans-48\"/>\n       <use x=\"254.492188\" xlink:href=\"#DejaVuSans-48\"/>\n       <use x=\"318.115234\" xlink:href=\"#DejaVuSans-48\"/>\n       <use x=\"381.738281\" xlink:href=\"#DejaVuSans-49\"/>\n       <use x=\"445.361328\" xlink:href=\"#DejaVuSans-48\"/>\n       <use x=\"508.984375\" xlink:href=\"#DejaVuSans-48\"/>\n       <use x=\"572.607422\" xlink:href=\"#DejaVuSans-48\"/>\n       <use x=\"636.230469\" xlink:href=\"#DejaVuSans-48\"/>\n       <use x=\"699.853516\" xlink:href=\"#DejaVuSans-48\"/>\n       <use x=\"763.476562\" xlink:href=\"#DejaVuSans-48\"/>\n       <use x=\"827.099609\" xlink:href=\"#DejaVuSans-48\"/>\n       <use x=\"890.722656\" xlink:href=\"#DejaVuSans-49\"/>\n       <use x=\"954.345703\" xlink:href=\"#DejaVuSans-48\"/>\n       <use x=\"1017.96875\" xlink:href=\"#DejaVuSans-48\"/>\n      </g>\n     </g>\n    </g>\n    <g id=\"xtick_2\">\n     <g id=\"line2d_2\">\n      <g>\n       <use style=\"stroke:#000000;stroke-width:0.8;\" x=\"111.830398\" xlink:href=\"#mbe3fc3b139\" y=\"550.8\"/>\n      </g>\n     </g>\n     <g id=\"text_2\">\n      <!-- 00110100100100000 -->\n      <g transform=\"translate(114.589773 665.9625)rotate(-90)scale(0.1 -0.1)\">\n       <use xlink:href=\"#DejaVuSans-48\"/>\n       <use x=\"63.623047\" xlink:href=\"#DejaVuSans-48\"/>\n       <use x=\"127.246094\" xlink:href=\"#DejaVuSans-49\"/>\n       <use x=\"190.869141\" xlink:href=\"#DejaVuSans-49\"/>\n       <use x=\"254.492188\" xlink:href=\"#DejaVuSans-48\"/>\n       <use x=\"318.115234\" xlink:href=\"#DejaVuSans-49\"/>\n       <use x=\"381.738281\" xlink:href=\"#DejaVuSans-48\"/>\n       <use x=\"445.361328\" xlink:href=\"#DejaVuSans-48\"/>\n       <use x=\"508.984375\" xlink:href=\"#DejaVuSans-49\"/>\n       <use x=\"572.607422\" xlink:href=\"#DejaVuSans-48\"/>\n       <use x=\"636.230469\" xlink:href=\"#DejaVuSans-48\"/>\n       <use x=\"699.853516\" xlink:href=\"#DejaVuSans-49\"/>\n       <use x=\"763.476562\" xlink:href=\"#DejaVuSans-48\"/>\n       <use x=\"827.099609\" xlink:href=\"#DejaVuSans-48\"/>\n       <use x=\"890.722656\" xlink:href=\"#DejaVuSans-48\"/>\n       <use x=\"954.345703\" xlink:href=\"#DejaVuSans-48\"/>\n       <use x=\"1017.96875\" xlink:href=\"#DejaVuSans-48\"/>\n      </g>\n     </g>\n    </g>\n    <g id=\"xtick_3\">\n     <g id=\"line2d_3\">\n      <g>\n       <use style=\"stroke:#000000;stroke-width:0.8;\" x=\"168.194034\" xlink:href=\"#mbe3fc3b139\" y=\"550.8\"/>\n      </g>\n     </g>\n     <g id=\"text_3\">\n      <!-- 10100001100000000 -->\n      <g transform=\"translate(170.953409 665.9625)rotate(-90)scale(0.1 -0.1)\">\n       <use xlink:href=\"#DejaVuSans-49\"/>\n       <use x=\"63.623047\" xlink:href=\"#DejaVuSans-48\"/>\n       <use x=\"127.246094\" xlink:href=\"#DejaVuSans-49\"/>\n       <use x=\"190.869141\" xlink:href=\"#DejaVuSans-48\"/>\n       <use x=\"254.492188\" xlink:href=\"#DejaVuSans-48\"/>\n       <use x=\"318.115234\" xlink:href=\"#DejaVuSans-48\"/>\n       <use x=\"381.738281\" xlink:href=\"#DejaVuSans-48\"/>\n       <use x=\"445.361328\" xlink:href=\"#DejaVuSans-49\"/>\n       <use x=\"508.984375\" xlink:href=\"#DejaVuSans-49\"/>\n       <use x=\"572.607422\" xlink:href=\"#DejaVuSans-48\"/>\n       <use x=\"636.230469\" xlink:href=\"#DejaVuSans-48\"/>\n       <use x=\"699.853516\" xlink:href=\"#DejaVuSans-48\"/>\n       <use x=\"763.476562\" xlink:href=\"#DejaVuSans-48\"/>\n       <use x=\"827.099609\" xlink:href=\"#DejaVuSans-48\"/>\n       <use x=\"890.722656\" xlink:href=\"#DejaVuSans-48\"/>\n       <use x=\"954.345703\" xlink:href=\"#DejaVuSans-48\"/>\n       <use x=\"1017.96875\" xlink:href=\"#DejaVuSans-48\"/>\n      </g>\n     </g>\n    </g>\n    <g id=\"xtick_4\">\n     <g id=\"line2d_4\">\n      <g>\n       <use style=\"stroke:#000000;stroke-width:0.8;\" x=\"224.55767\" xlink:href=\"#mbe3fc3b139\" y=\"550.8\"/>\n      </g>\n     </g>\n     <g id=\"text_4\">\n      <!-- 00100010010101000 -->\n      <g transform=\"translate(227.317045 665.9625)rotate(-90)scale(0.1 -0.1)\">\n       <use xlink:href=\"#DejaVuSans-48\"/>\n       <use x=\"63.623047\" xlink:href=\"#DejaVuSans-48\"/>\n       <use x=\"127.246094\" xlink:href=\"#DejaVuSans-49\"/>\n       <use x=\"190.869141\" xlink:href=\"#DejaVuSans-48\"/>\n       <use x=\"254.492188\" xlink:href=\"#DejaVuSans-48\"/>\n       <use x=\"318.115234\" xlink:href=\"#DejaVuSans-48\"/>\n       <use x=\"381.738281\" xlink:href=\"#DejaVuSans-49\"/>\n       <use x=\"445.361328\" xlink:href=\"#DejaVuSans-48\"/>\n       <use x=\"508.984375\" xlink:href=\"#DejaVuSans-48\"/>\n       <use x=\"572.607422\" xlink:href=\"#DejaVuSans-49\"/>\n       <use x=\"636.230469\" xlink:href=\"#DejaVuSans-48\"/>\n       <use x=\"699.853516\" xlink:href=\"#DejaVuSans-49\"/>\n       <use x=\"763.476562\" xlink:href=\"#DejaVuSans-48\"/>\n       <use x=\"827.099609\" xlink:href=\"#DejaVuSans-49\"/>\n       <use x=\"890.722656\" xlink:href=\"#DejaVuSans-48\"/>\n       <use x=\"954.345703\" xlink:href=\"#DejaVuSans-48\"/>\n       <use x=\"1017.96875\" xlink:href=\"#DejaVuSans-48\"/>\n      </g>\n     </g>\n    </g>\n    <g id=\"xtick_5\">\n     <g id=\"line2d_5\">\n      <g>\n       <use style=\"stroke:#000000;stroke-width:0.8;\" x=\"280.921307\" xlink:href=\"#mbe3fc3b139\" y=\"550.8\"/>\n      </g>\n     </g>\n     <g id=\"text_5\">\n      <!-- 00100001000000000 -->\n      <g transform=\"translate(283.680682 665.9625)rotate(-90)scale(0.1 -0.1)\">\n       <use xlink:href=\"#DejaVuSans-48\"/>\n       <use x=\"63.623047\" xlink:href=\"#DejaVuSans-48\"/>\n       <use x=\"127.246094\" xlink:href=\"#DejaVuSans-49\"/>\n       <use x=\"190.869141\" xlink:href=\"#DejaVuSans-48\"/>\n       <use x=\"254.492188\" xlink:href=\"#DejaVuSans-48\"/>\n       <use x=\"318.115234\" xlink:href=\"#DejaVuSans-48\"/>\n       <use x=\"381.738281\" xlink:href=\"#DejaVuSans-48\"/>\n       <use x=\"445.361328\" xlink:href=\"#DejaVuSans-49\"/>\n       <use x=\"508.984375\" xlink:href=\"#DejaVuSans-48\"/>\n       <use x=\"572.607422\" xlink:href=\"#DejaVuSans-48\"/>\n       <use x=\"636.230469\" xlink:href=\"#DejaVuSans-48\"/>\n       <use x=\"699.853516\" xlink:href=\"#DejaVuSans-48\"/>\n       <use x=\"763.476562\" xlink:href=\"#DejaVuSans-48\"/>\n       <use x=\"827.099609\" xlink:href=\"#DejaVuSans-48\"/>\n       <use x=\"890.722656\" xlink:href=\"#DejaVuSans-48\"/>\n       <use x=\"954.345703\" xlink:href=\"#DejaVuSans-48\"/>\n       <use x=\"1017.96875\" xlink:href=\"#DejaVuSans-48\"/>\n      </g>\n     </g>\n    </g>\n    <g id=\"xtick_6\">\n     <g id=\"line2d_6\">\n      <g>\n       <use style=\"stroke:#000000;stroke-width:0.8;\" x=\"337.284943\" xlink:href=\"#mbe3fc3b139\" y=\"550.8\"/>\n      </g>\n     </g>\n     <g id=\"text_6\">\n      <!-- 00010000000010000 -->\n      <g transform=\"translate(340.044318 665.9625)rotate(-90)scale(0.1 -0.1)\">\n       <use xlink:href=\"#DejaVuSans-48\"/>\n       <use x=\"63.623047\" xlink:href=\"#DejaVuSans-48\"/>\n       <use x=\"127.246094\" xlink:href=\"#DejaVuSans-48\"/>\n       <use x=\"190.869141\" xlink:href=\"#DejaVuSans-49\"/>\n       <use x=\"254.492188\" xlink:href=\"#DejaVuSans-48\"/>\n       <use x=\"318.115234\" xlink:href=\"#DejaVuSans-48\"/>\n       <use x=\"381.738281\" xlink:href=\"#DejaVuSans-48\"/>\n       <use x=\"445.361328\" xlink:href=\"#DejaVuSans-48\"/>\n       <use x=\"508.984375\" xlink:href=\"#DejaVuSans-48\"/>\n       <use x=\"572.607422\" xlink:href=\"#DejaVuSans-48\"/>\n       <use x=\"636.230469\" xlink:href=\"#DejaVuSans-48\"/>\n       <use x=\"699.853516\" xlink:href=\"#DejaVuSans-48\"/>\n       <use x=\"763.476562\" xlink:href=\"#DejaVuSans-49\"/>\n       <use x=\"827.099609\" xlink:href=\"#DejaVuSans-48\"/>\n       <use x=\"890.722656\" xlink:href=\"#DejaVuSans-48\"/>\n       <use x=\"954.345703\" xlink:href=\"#DejaVuSans-48\"/>\n       <use x=\"1017.96875\" xlink:href=\"#DejaVuSans-48\"/>\n      </g>\n     </g>\n    </g>\n    <g id=\"xtick_7\">\n     <g id=\"line2d_7\">\n      <g>\n       <use style=\"stroke:#000000;stroke-width:0.8;\" x=\"393.64858\" xlink:href=\"#mbe3fc3b139\" y=\"550.8\"/>\n      </g>\n     </g>\n     <g id=\"text_7\">\n      <!-- 00011100000010100 -->\n      <g transform=\"translate(396.407955 665.9625)rotate(-90)scale(0.1 -0.1)\">\n       <use xlink:href=\"#DejaVuSans-48\"/>\n       <use x=\"63.623047\" xlink:href=\"#DejaVuSans-48\"/>\n       <use x=\"127.246094\" xlink:href=\"#DejaVuSans-48\"/>\n       <use x=\"190.869141\" xlink:href=\"#DejaVuSans-49\"/>\n       <use x=\"254.492188\" xlink:href=\"#DejaVuSans-49\"/>\n       <use x=\"318.115234\" xlink:href=\"#DejaVuSans-49\"/>\n       <use x=\"381.738281\" xlink:href=\"#DejaVuSans-48\"/>\n       <use x=\"445.361328\" xlink:href=\"#DejaVuSans-48\"/>\n       <use x=\"508.984375\" xlink:href=\"#DejaVuSans-48\"/>\n       <use x=\"572.607422\" xlink:href=\"#DejaVuSans-48\"/>\n       <use x=\"636.230469\" xlink:href=\"#DejaVuSans-48\"/>\n       <use x=\"699.853516\" xlink:href=\"#DejaVuSans-48\"/>\n       <use x=\"763.476562\" xlink:href=\"#DejaVuSans-49\"/>\n       <use x=\"827.099609\" xlink:href=\"#DejaVuSans-48\"/>\n       <use x=\"890.722656\" xlink:href=\"#DejaVuSans-49\"/>\n       <use x=\"954.345703\" xlink:href=\"#DejaVuSans-48\"/>\n       <use x=\"1017.96875\" xlink:href=\"#DejaVuSans-48\"/>\n      </g>\n     </g>\n    </g>\n    <g id=\"xtick_8\">\n     <g id=\"line2d_8\">\n      <g>\n       <use style=\"stroke:#000000;stroke-width:0.8;\" x=\"450.012216\" xlink:href=\"#mbe3fc3b139\" y=\"550.8\"/>\n      </g>\n     </g>\n     <g id=\"text_8\">\n      <!-- 00011000000010010 -->\n      <g transform=\"translate(452.771591 665.9625)rotate(-90)scale(0.1 -0.1)\">\n       <use xlink:href=\"#DejaVuSans-48\"/>\n       <use x=\"63.623047\" xlink:href=\"#DejaVuSans-48\"/>\n       <use x=\"127.246094\" xlink:href=\"#DejaVuSans-48\"/>\n       <use x=\"190.869141\" xlink:href=\"#DejaVuSans-49\"/>\n       <use x=\"254.492188\" xlink:href=\"#DejaVuSans-49\"/>\n       <use x=\"318.115234\" xlink:href=\"#DejaVuSans-48\"/>\n       <use x=\"381.738281\" xlink:href=\"#DejaVuSans-48\"/>\n       <use x=\"445.361328\" xlink:href=\"#DejaVuSans-48\"/>\n       <use x=\"508.984375\" xlink:href=\"#DejaVuSans-48\"/>\n       <use x=\"572.607422\" xlink:href=\"#DejaVuSans-48\"/>\n       <use x=\"636.230469\" xlink:href=\"#DejaVuSans-48\"/>\n       <use x=\"699.853516\" xlink:href=\"#DejaVuSans-48\"/>\n       <use x=\"763.476562\" xlink:href=\"#DejaVuSans-49\"/>\n       <use x=\"827.099609\" xlink:href=\"#DejaVuSans-48\"/>\n       <use x=\"890.722656\" xlink:href=\"#DejaVuSans-48\"/>\n       <use x=\"954.345703\" xlink:href=\"#DejaVuSans-49\"/>\n       <use x=\"1017.96875\" xlink:href=\"#DejaVuSans-48\"/>\n      </g>\n     </g>\n    </g>\n    <g id=\"xtick_9\">\n     <g id=\"line2d_9\">\n      <g>\n       <use style=\"stroke:#000000;stroke-width:0.8;\" x=\"506.375852\" xlink:href=\"#mbe3fc3b139\" y=\"550.8\"/>\n      </g>\n     </g>\n     <g id=\"text_9\">\n      <!-- 00010000011000010 -->\n      <g transform=\"translate(509.135227 665.9625)rotate(-90)scale(0.1 -0.1)\">\n       <use xlink:href=\"#DejaVuSans-48\"/>\n       <use x=\"63.623047\" xlink:href=\"#DejaVuSans-48\"/>\n       <use x=\"127.246094\" xlink:href=\"#DejaVuSans-48\"/>\n       <use x=\"190.869141\" xlink:href=\"#DejaVuSans-49\"/>\n       <use x=\"254.492188\" xlink:href=\"#DejaVuSans-48\"/>\n       <use x=\"318.115234\" xlink:href=\"#DejaVuSans-48\"/>\n       <use x=\"381.738281\" xlink:href=\"#DejaVuSans-48\"/>\n       <use x=\"445.361328\" xlink:href=\"#DejaVuSans-48\"/>\n       <use x=\"508.984375\" xlink:href=\"#DejaVuSans-48\"/>\n       <use x=\"572.607422\" xlink:href=\"#DejaVuSans-49\"/>\n       <use x=\"636.230469\" xlink:href=\"#DejaVuSans-49\"/>\n       <use x=\"699.853516\" xlink:href=\"#DejaVuSans-48\"/>\n       <use x=\"763.476562\" xlink:href=\"#DejaVuSans-48\"/>\n       <use x=\"827.099609\" xlink:href=\"#DejaVuSans-48\"/>\n       <use x=\"890.722656\" xlink:href=\"#DejaVuSans-48\"/>\n       <use x=\"954.345703\" xlink:href=\"#DejaVuSans-49\"/>\n       <use x=\"1017.96875\" xlink:href=\"#DejaVuSans-48\"/>\n      </g>\n     </g>\n    </g>\n    <g id=\"xtick_10\">\n     <g id=\"line2d_10\">\n      <g>\n       <use style=\"stroke:#000000;stroke-width:0.8;\" x=\"562.739489\" xlink:href=\"#mbe3fc3b139\" y=\"550.8\"/>\n      </g>\n     </g>\n     <g id=\"text_10\">\n      <!-- 00100000010100001 -->\n      <g transform=\"translate(565.498864 665.9625)rotate(-90)scale(0.1 -0.1)\">\n       <use xlink:href=\"#DejaVuSans-48\"/>\n       <use x=\"63.623047\" xlink:href=\"#DejaVuSans-48\"/>\n       <use x=\"127.246094\" xlink:href=\"#DejaVuSans-49\"/>\n       <use x=\"190.869141\" xlink:href=\"#DejaVuSans-48\"/>\n       <use x=\"254.492188\" xlink:href=\"#DejaVuSans-48\"/>\n       <use x=\"318.115234\" xlink:href=\"#DejaVuSans-48\"/>\n       <use x=\"381.738281\" xlink:href=\"#DejaVuSans-48\"/>\n       <use x=\"445.361328\" xlink:href=\"#DejaVuSans-48\"/>\n       <use x=\"508.984375\" xlink:href=\"#DejaVuSans-48\"/>\n       <use x=\"572.607422\" xlink:href=\"#DejaVuSans-49\"/>\n       <use x=\"636.230469\" xlink:href=\"#DejaVuSans-48\"/>\n       <use x=\"699.853516\" xlink:href=\"#DejaVuSans-49\"/>\n       <use x=\"763.476562\" xlink:href=\"#DejaVuSans-48\"/>\n       <use x=\"827.099609\" xlink:href=\"#DejaVuSans-48\"/>\n       <use x=\"890.722656\" xlink:href=\"#DejaVuSans-48\"/>\n       <use x=\"954.345703\" xlink:href=\"#DejaVuSans-48\"/>\n       <use x=\"1017.96875\" xlink:href=\"#DejaVuSans-49\"/>\n      </g>\n     </g>\n    </g>\n   </g>\n   <g id=\"matplotlib.axis_2\">\n    <g id=\"ytick_1\">\n     <g id=\"line2d_11\">\n      <defs>\n       <path d=\"M 0 0 \nL -3.5 0 \n\" id=\"md2d9a772e3\" style=\"stroke:#000000;stroke-width:0.8;\"/>\n      </defs>\n      <g>\n       <use style=\"stroke:#000000;stroke-width:0.8;\" x=\"30.103125\" xlink:href=\"#md2d9a772e3\" y=\"550.8\"/>\n      </g>\n     </g>\n     <g id=\"text_11\">\n      <!-- 0.0 -->\n      <g transform=\"translate(7.2 554.599219)scale(0.1 -0.1)\">\n       <defs>\n        <path d=\"M 10.6875 12.40625 \nL 21 12.40625 \nL 21 0 \nL 10.6875 0 \nz\n\" id=\"DejaVuSans-46\"/>\n       </defs>\n       <use xlink:href=\"#DejaVuSans-48\"/>\n       <use x=\"63.623047\" xlink:href=\"#DejaVuSans-46\"/>\n       <use x=\"95.410156\" xlink:href=\"#DejaVuSans-48\"/>\n      </g>\n     </g>\n    </g>\n    <g id=\"ytick_2\">\n     <g id=\"line2d_12\">\n      <g>\n       <use style=\"stroke:#000000;stroke-width:0.8;\" x=\"30.103125\" xlink:href=\"#md2d9a772e3\" y=\"447.257143\"/>\n      </g>\n     </g>\n     <g id=\"text_12\">\n      <!-- 0.2 -->\n      <g transform=\"translate(7.2 451.056362)scale(0.1 -0.1)\">\n       <defs>\n        <path d=\"M 19.1875 8.296875 \nL 53.609375 8.296875 \nL 53.609375 0 \nL 7.328125 0 \nL 7.328125 8.296875 \nQ 12.9375 14.109375 22.625 23.890625 \nQ 32.328125 33.6875 34.8125 36.53125 \nQ 39.546875 41.84375 41.421875 45.53125 \nQ 43.3125 49.21875 43.3125 52.78125 \nQ 43.3125 58.59375 39.234375 62.25 \nQ 35.15625 65.921875 28.609375 65.921875 \nQ 23.96875 65.921875 18.8125 64.3125 \nQ 13.671875 62.703125 7.8125 59.421875 \nL 7.8125 69.390625 \nQ 13.765625 71.78125 18.9375 73 \nQ 24.125 74.21875 28.421875 74.21875 \nQ 39.75 74.21875 46.484375 68.546875 \nQ 53.21875 62.890625 53.21875 53.421875 \nQ 53.21875 48.921875 51.53125 44.890625 \nQ 49.859375 40.875 45.40625 35.40625 \nQ 44.1875 33.984375 37.640625 27.21875 \nQ 31.109375 20.453125 19.1875 8.296875 \nz\n\" id=\"DejaVuSans-50\"/>\n       </defs>\n       <use xlink:href=\"#DejaVuSans-48\"/>\n       <use x=\"63.623047\" xlink:href=\"#DejaVuSans-46\"/>\n       <use x=\"95.410156\" xlink:href=\"#DejaVuSans-50\"/>\n      </g>\n     </g>\n    </g>\n    <g id=\"ytick_3\">\n     <g id=\"line2d_13\">\n      <g>\n       <use style=\"stroke:#000000;stroke-width:0.8;\" x=\"30.103125\" xlink:href=\"#md2d9a772e3\" y=\"343.714286\"/>\n      </g>\n     </g>\n     <g id=\"text_13\">\n      <!-- 0.4 -->\n      <g transform=\"translate(7.2 347.513504)scale(0.1 -0.1)\">\n       <defs>\n        <path d=\"M 37.796875 64.3125 \nL 12.890625 25.390625 \nL 37.796875 25.390625 \nz\nM 35.203125 72.90625 \nL 47.609375 72.90625 \nL 47.609375 25.390625 \nL 58.015625 25.390625 \nL 58.015625 17.1875 \nL 47.609375 17.1875 \nL 47.609375 0 \nL 37.796875 0 \nL 37.796875 17.1875 \nL 4.890625 17.1875 \nL 4.890625 26.703125 \nz\n\" id=\"DejaVuSans-52\"/>\n       </defs>\n       <use xlink:href=\"#DejaVuSans-48\"/>\n       <use x=\"63.623047\" xlink:href=\"#DejaVuSans-46\"/>\n       <use x=\"95.410156\" xlink:href=\"#DejaVuSans-52\"/>\n      </g>\n     </g>\n    </g>\n    <g id=\"ytick_4\">\n     <g id=\"line2d_14\">\n      <g>\n       <use style=\"stroke:#000000;stroke-width:0.8;\" x=\"30.103125\" xlink:href=\"#md2d9a772e3\" y=\"240.171429\"/>\n      </g>\n     </g>\n     <g id=\"text_14\">\n      <!-- 0.6 -->\n      <g transform=\"translate(7.2 243.970647)scale(0.1 -0.1)\">\n       <defs>\n        <path d=\"M 33.015625 40.375 \nQ 26.375 40.375 22.484375 35.828125 \nQ 18.609375 31.296875 18.609375 23.390625 \nQ 18.609375 15.53125 22.484375 10.953125 \nQ 26.375 6.390625 33.015625 6.390625 \nQ 39.65625 6.390625 43.53125 10.953125 \nQ 47.40625 15.53125 47.40625 23.390625 \nQ 47.40625 31.296875 43.53125 35.828125 \nQ 39.65625 40.375 33.015625 40.375 \nz\nM 52.59375 71.296875 \nL 52.59375 62.3125 \nQ 48.875 64.0625 45.09375 64.984375 \nQ 41.3125 65.921875 37.59375 65.921875 \nQ 27.828125 65.921875 22.671875 59.328125 \nQ 17.53125 52.734375 16.796875 39.40625 \nQ 19.671875 43.65625 24.015625 45.921875 \nQ 28.375 48.1875 33.59375 48.1875 \nQ 44.578125 48.1875 50.953125 41.515625 \nQ 57.328125 34.859375 57.328125 23.390625 \nQ 57.328125 12.15625 50.6875 5.359375 \nQ 44.046875 -1.421875 33.015625 -1.421875 \nQ 20.359375 -1.421875 13.671875 8.265625 \nQ 6.984375 17.96875 6.984375 36.375 \nQ 6.984375 53.65625 15.1875 63.9375 \nQ 23.390625 74.21875 37.203125 74.21875 \nQ 40.921875 74.21875 44.703125 73.484375 \nQ 48.484375 72.75 52.59375 71.296875 \nz\n\" id=\"DejaVuSans-54\"/>\n       </defs>\n       <use xlink:href=\"#DejaVuSans-48\"/>\n       <use x=\"63.623047\" xlink:href=\"#DejaVuSans-46\"/>\n       <use x=\"95.410156\" xlink:href=\"#DejaVuSans-54\"/>\n      </g>\n     </g>\n    </g>\n    <g id=\"ytick_5\">\n     <g id=\"line2d_15\">\n      <g>\n       <use style=\"stroke:#000000;stroke-width:0.8;\" x=\"30.103125\" xlink:href=\"#md2d9a772e3\" y=\"136.628571\"/>\n      </g>\n     </g>\n     <g id=\"text_15\">\n      <!-- 0.8 -->\n      <g transform=\"translate(7.2 140.42779)scale(0.1 -0.1)\">\n       <defs>\n        <path d=\"M 31.78125 34.625 \nQ 24.75 34.625 20.71875 30.859375 \nQ 16.703125 27.09375 16.703125 20.515625 \nQ 16.703125 13.921875 20.71875 10.15625 \nQ 24.75 6.390625 31.78125 6.390625 \nQ 38.8125 6.390625 42.859375 10.171875 \nQ 46.921875 13.96875 46.921875 20.515625 \nQ 46.921875 27.09375 42.890625 30.859375 \nQ 38.875 34.625 31.78125 34.625 \nz\nM 21.921875 38.8125 \nQ 15.578125 40.375 12.03125 44.71875 \nQ 8.5 49.078125 8.5 55.328125 \nQ 8.5 64.0625 14.71875 69.140625 \nQ 20.953125 74.21875 31.78125 74.21875 \nQ 42.671875 74.21875 48.875 69.140625 \nQ 55.078125 64.0625 55.078125 55.328125 \nQ 55.078125 49.078125 51.53125 44.71875 \nQ 48 40.375 41.703125 38.8125 \nQ 48.828125 37.15625 52.796875 32.3125 \nQ 56.78125 27.484375 56.78125 20.515625 \nQ 56.78125 9.90625 50.3125 4.234375 \nQ 43.84375 -1.421875 31.78125 -1.421875 \nQ 19.734375 -1.421875 13.25 4.234375 \nQ 6.78125 9.90625 6.78125 20.515625 \nQ 6.78125 27.484375 10.78125 32.3125 \nQ 14.796875 37.15625 21.921875 38.8125 \nz\nM 18.3125 54.390625 \nQ 18.3125 48.734375 21.84375 45.5625 \nQ 25.390625 42.390625 31.78125 42.390625 \nQ 38.140625 42.390625 41.71875 45.5625 \nQ 45.3125 48.734375 45.3125 54.390625 \nQ 45.3125 60.0625 41.71875 63.234375 \nQ 38.140625 66.40625 31.78125 66.40625 \nQ 25.390625 66.40625 21.84375 63.234375 \nQ 18.3125 60.0625 18.3125 54.390625 \nz\n\" id=\"DejaVuSans-56\"/>\n       </defs>\n       <use xlink:href=\"#DejaVuSans-48\"/>\n       <use x=\"63.623047\" xlink:href=\"#DejaVuSans-46\"/>\n       <use x=\"95.410156\" xlink:href=\"#DejaVuSans-56\"/>\n      </g>\n     </g>\n    </g>\n    <g id=\"ytick_6\">\n     <g id=\"line2d_16\">\n      <g>\n       <use style=\"stroke:#000000;stroke-width:0.8;\" x=\"30.103125\" xlink:href=\"#md2d9a772e3\" y=\"33.085714\"/>\n      </g>\n     </g>\n     <g id=\"text_16\">\n      <!-- 1.0 -->\n      <g transform=\"translate(7.2 36.884933)scale(0.1 -0.1)\">\n       <use xlink:href=\"#DejaVuSans-49\"/>\n       <use x=\"63.623047\" xlink:href=\"#DejaVuSans-46\"/>\n       <use x=\"95.410156\" xlink:href=\"#DejaVuSans-48\"/>\n      </g>\n     </g>\n    </g>\n   </g>\n   <g id=\"patch_13\">\n    <path d=\"M 30.103125 550.8 \nL 30.103125 7.2 \n\" style=\"fill:none;stroke:#000000;stroke-linecap:square;stroke-linejoin:miter;stroke-width:0.8;\"/>\n   </g>\n   <g id=\"patch_14\">\n    <path d=\"M 588.103125 550.8 \nL 588.103125 7.2 \n\" style=\"fill:none;stroke:#000000;stroke-linecap:square;stroke-linejoin:miter;stroke-width:0.8;\"/>\n   </g>\n   <g id=\"patch_15\">\n    <path d=\"M 30.103125 550.8 \nL 588.103125 550.8 \n\" style=\"fill:none;stroke:#000000;stroke-linecap:square;stroke-linejoin:miter;stroke-width:0.8;\"/>\n   </g>\n   <g id=\"patch_16\">\n    <path d=\"M 30.103125 7.2 \nL 588.103125 7.2 \n\" style=\"fill:none;stroke:#000000;stroke-linecap:square;stroke-linejoin:miter;stroke-width:0.8;\"/>\n   </g>\n   <g id=\"legend_1\">\n    <g id=\"patch_17\">\n     <path d=\"M 577.103125 20.2 \nL 581.103125 20.2 \nQ 583.103125 20.2 583.103125 18.2 \nL 583.103125 14.2 \nQ 583.103125 12.2 581.103125 12.2 \nL 577.103125 12.2 \nQ 575.103125 12.2 575.103125 14.2 \nL 575.103125 18.2 \nQ 575.103125 20.2 577.103125 20.2 \nz\n\" style=\"fill:#ffffff;opacity:0.8;stroke:#cccccc;stroke-linejoin:miter;\"/>\n    </g>\n   </g>\n  </g>\n </g>\n <defs>\n  <clipPath id=\"pa358fd99d2\">\n   <rect height=\"543.6\" width=\"558\" x=\"30.103125\" y=\"7.2\"/>\n  </clipPath>\n </defs>\n</svg>\n",
      "image/png": "[encoded data removed]"
     },
     "metadata": {
      "needs_background": "light"
     }
    }
   ],
   "metadata": {}
  },
  {
   "cell_type": "code",
   "execution_count": 9,
   "source": [
    "qubit_results.count('00100000010100000')"
   ],
   "outputs": [
    {
     "output_type": "execute_result",
     "data": {
      "text/plain": [
       "0"
      ]
     },
     "metadata": {},
     "execution_count": 9
    }
   ],
   "metadata": {}
  },
  {
   "cell_type": "code",
   "execution_count": 10,
   "source": [
    "from qiskit_optimization.algorithms import MinimumEigenOptimizer, RecursiveMinimumEigenOptimizer, CplexOptimizer\n",
    "\n",
    "optimizer = CplexOptimizer() if CplexOptimizer.is_cplex_installed() else None\n",
    "\n",
    "results_classic = []\n",
    "\n",
    "for i in range(10):\n",
    "    result = optimizer.solve(qiskit_cost_function)\n",
    "    results_classic.append(result)"
   ],
   "outputs": [],
   "metadata": {}
  },
  {
   "cell_type": "code",
   "execution_count": 16,
   "source": [
    "# path cost: Wegkosten\n",
    "# actual_opt_cost: Optimierungskosten. Schließt Wegkosten und Penalty-Terms ein. Ist immer positiv.\n",
    "# path: qubit-ergebnis\n",
    "result_df_classic = pd.DataFrame(columns = ['path_cost', 'actual_opt_cost', 'path'])\n",
    "\n",
    "for r in results_classic:\n",
    "    \n",
    "    path_cost = 0\n",
    "    for q in range(len(r.x)):\n",
    "        if r.x[q] == 1:\n",
    "            path_cost += TestC[q]\n",
    "    path_string = str(r.x).replace(' ', '').replace('.', '')[1:-1]\n",
    "\n",
    "    result_df_classic = result_df_classic.append({'path_cost': path_cost, 'actual_opt_cost': r.fval + 2 * TestP, 'path': path_string}, ignore_index=True)\n",
    "\n",
    "print(\"Cplex-Optimizer:\")\n",
    "print(result_df_classic.sort_values(by=['actual_opt_cost']))"
   ],
   "outputs": [
    {
     "output_type": "stream",
     "name": "stdout",
     "text": [
      "Cplex-Optimizer:\n",
      "  path_cost  actual_opt_cost               path\n",
      "0         7              7.0  00100000010100000\n",
      "1         7              7.0  00100000010100000\n",
      "2         7              7.0  00100000010100000\n",
      "3         7              7.0  00100000010100000\n",
      "4         7              7.0  00100000010100000\n",
      "5         7              7.0  00100000010100000\n",
      "6         7              7.0  00100000010100000\n",
      "7         7              7.0  00100000010100000\n",
      "8         7              7.0  00100000010100000\n",
      "9         7              7.0  00100000010100000\n"
     ]
    }
   ],
   "metadata": {}
  },
  {
   "cell_type": "code",
   "execution_count": 17,
   "source": [
    "\n",
    "result_df = pd.DataFrame(columns = ['path_cost', 'actual_opt_cost', 'path'])\n",
    "\n",
    "for r in results:\n",
    "    \n",
    "    path_cost = 0\n",
    "    for q in range(len(r.x)):\n",
    "        if r.x[q] == 1:\n",
    "            path_cost += TestC[q]\n",
    "    path_string = str(r.x).replace(' ', '').replace('.', '')[1:-1]\n",
    "\n",
    "    result_df = result_df.append({'path_cost': path_cost, 'actual_opt_cost': r.fval + 2 * TestP, 'path': path_string}, ignore_index=True)\n",
    "\n",
    "print(\"QAOA:\")\n",
    "print(result_df.sort_values(by=['actual_opt_cost']))"
   ],
   "outputs": [
    {
     "output_type": "stream",
     "name": "stdout",
     "text": [
      "QAOA:\n",
      "  path_cost  actual_opt_cost               path\n",
      "4         6            106.0  00100001000000000\n",
      "5         7            107.0  00010000000010000\n",
      "1        10            110.0  00110100100100000\n",
      "0        11            111.0  10000010000000100\n",
      "7        11            111.0  00011000000010010\n",
      "9        11            111.0  00100000010100001\n",
      "3        12            112.0  00100010010101000\n",
      "8        13            113.0  00010000011000010\n",
      "2        14            114.0  10100001100000000\n",
      "6        14            114.0  00011100000010100\n"
     ]
    }
   ],
   "metadata": {}
  },
  {
   "cell_type": "code",
   "execution_count": 14,
   "source": [
    "# the mean optimization cost of the qaoa results\n",
    "print((result_df['actual_opt_cost']).mean())"
   ],
   "outputs": [
    {
     "output_type": "stream",
     "name": "stdout",
     "text": [
      "110.9\n"
     ]
    }
   ],
   "metadata": {}
  }
 ],
 "metadata": {
  "kernelspec": {
   "name": "python3",
   "display_name": "Python 3.7.3 64-bit ('3.7.3': pyenv)"
  },
  "language_info": {
   "codemirror_mode": {
    "name": "ipython",
    "version": 3
   },
   "file_extension": ".py",
   "mimetype": "text/x-python",
   "name": "python",
   "nbconvert_exporter": "python",
   "pygments_lexer": "ipython3",
   "version": "3.7.3"
  },
  "interpreter": {
   "hash": "447f5fa011c7c47899f91a0b2462b94e9399cdbf5b780c102584eca8c3cd54aa"
  }
 },
 "nbformat": 4,
 "nbformat_minor": 4
}