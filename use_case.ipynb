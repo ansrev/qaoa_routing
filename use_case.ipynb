{
 "metadata": {
  "language_info": {
   "codemirror_mode": {
    "name": "ipython",
    "version": 3
   },
   "file_extension": ".py",
   "mimetype": "text/x-python",
   "name": "python",
   "nbconvert_exporter": "python",
   "pygments_lexer": "ipython3",
   "version": "3.7.3"
  },
  "orig_nbformat": 4,
  "kernelspec": {
   "name": "python3",
   "display_name": "Python 3.7.3 64-bit ('3.7.3': pyenv)"
  },
  "interpreter": {
   "hash": "447f5fa011c7c47899f91a0b2462b94e9399cdbf5b780c102584eca8c3cd54aa"
  }
 },
 "nbformat": 4,
 "nbformat_minor": 2,
 "cells": [
  {
   "source": [],
   "cell_type": "markdown",
   "metadata": {}
  },
  {
   "cell_type": "code",
   "execution_count": 1,
   "metadata": {},
   "outputs": [],
   "source": [
    "class Flight:\n",
    "    def __init__(self, start, dest, cost, start_time, landing_time, capacity):\n",
    "        self.start = start\n",
    "        self.dest = dest\n",
    "        self.cost = cost\n",
    "        self.start_time = start_time\n",
    "        self.landing_time = landing_time\n",
    "        self.capacity = capacity"
   ]
  },
  {
   "cell_type": "code",
   "execution_count": 2,
   "metadata": {},
   "outputs": [],
   "source": [
    "def get_node_info_from_index(node_index, sg, nsg):\n",
    "    \"\"\" For a given qubit index, returns the corresponding time slice and the node label. \"\"\"\n",
    "\n",
    "    for time_slice in range(len(nsg)):\n",
    "        if node_index in nsg[time_slice]:\n",
    "\n",
    "            pos = nsg[time_slice].index(node_index)\n",
    "            node_label = sg[time_slice][pos]\n",
    "\n",
    "            return time_slice, node_label"
   ]
  },
  {
   "cell_type": "code",
   "execution_count": 3,
   "metadata": {},
   "outputs": [],
   "source": [
    "def result_evaluation(result, offset, sg, nsg, cost_matrix):\n",
    "    \"\"\"\n",
    "    For a given qubit string, returns an explanation of the nodes that are passed per time slice.\n",
    "    \"\"\"\n",
    "    counter = 0\n",
    "    previous_node = None\n",
    "    total_cost = 0\n",
    "    solution_not_valid = False\n",
    "\n",
    "    for i in range(len(result)):\n",
    "        if result[i] == '1':\n",
    "            time_slice, node_label = get_node_info_from_index(i + offset, sg, nsg)\n",
    "            if time_slice != counter:\n",
    "                solution_not_valid = True\n",
    "\n",
    "            if counter == 0:\n",
    "                previous_node = node_label\n",
    "            else:\n",
    "                cost = cost_matrix[previous_node][node_label]\n",
    "                total_cost += cost\n",
    "                print(('\\t\\t\\t\\tcost: {}').format(cost))\n",
    "                previous_node = node_label\n",
    "\n",
    "\n",
    "            print(('node {} at time slice {}').format(node_label, time_slice))\n",
    "\n",
    "            counter += 1\n",
    "\n",
    "            \n",
    "    print(('\\ntotal cost: {}').format(total_cost))\n",
    "    if total_cost >= 500 or solution_not_valid:\n",
    "        print('\\nIt seems like no valid solution could be found. This solution disregards at least one constraint.')\n",
    "\n",
    "    return"
   ]
  },
  {
   "cell_type": "code",
   "execution_count": 4,
   "metadata": {},
   "outputs": [],
   "source": [
    "def get_unique_nodes(edge_list):\n",
    "    \"\"\"\n",
    "    Creates a list of all unique nodes appearing in a given graph.\n",
    "    The start node is added by default; every other node is only included\n",
    "    if it can be reached from another node. Isolated nodes will not be \n",
    "    added to the list, unless they happen to be the start node.\n",
    "    \"\"\"\n",
    "    \n",
    "    nr_nodes = 0\n",
    "    unique_nodes = []\n",
    "\n",
    "    for edge in edge_list:\n",
    "        if edge[0] not in unique_nodes:\n",
    "            unique_nodes.append(edge[0])\n",
    "        if edge[1] not in unique_nodes:\n",
    "            unique_nodes.append(edge[1])\n",
    "\n",
    "    return unique_nodes"
   ]
  },
  {
   "cell_type": "code",
   "execution_count": 5,
   "metadata": {},
   "outputs": [],
   "source": [
    "def construct_sliced_graph(flight_dict, start, dest):\n",
    "    \"\"\"\n",
    "    Constructs a two-dimensional array from a list of edges. Each subarray represents \n",
    "    one time slice. The returned array contains the specified start node in the \n",
    "    first sub-array; based on this start node, every node that can be reached in \n",
    "    n steps is present in the nth subarray. Nodes that can be reached in a different \n",
    "    amount of steps are present in every fitting subarray.\n",
    "    \"\"\"\n",
    "\n",
    "    # we define a new dict 'flights' here, this is local\n",
    "    # gets updated with the zero-cost edge with both start and destination = dest\n",
    "    flight_dict.update({'Z' + str(dest) : Flight(dest, dest, 0,0,0,0)})\n",
    "    flights = flight_dict.copy()\n",
    "    \n",
    "    for f in list(flights.keys()):\n",
    "        if f[0] == 'Z' and f[1:] != str(dest):\n",
    "            del flights[f]\n",
    "\n",
    "\n",
    "    sg = []\n",
    "    sg.append([flight for flight in flights if flights[flight].start == start])\n",
    "\n",
    "    nr_unique_nodes = len(get_unique_nodes(flights))\n",
    "\n",
    "    for k in range(nr_unique_nodes):\n",
    "        if len(sg[k]) != 0 and not (len(sg[k]) == 1 and flights[sg[k][0]].dest == dest):\n",
    "            sg.append([])\n",
    "            for f1 in flights:\n",
    "                for f2 in sg[k]:\n",
    "                    if flights[f1].start == flights[f2].dest:\n",
    "                        sg[k+1].append(f1)\n",
    "                        break \n",
    "        else:\n",
    "            break\n",
    "\n",
    "    # sort out any flights in the last slice that do not lead to destination\n",
    "    sg[-1] = [f for f in sg[-1] if flights[f].dest == dest]\n",
    "\n",
    "    # going back, we can eliminate edges (flights) that won't lead \n",
    "    # to places that the flights in the next slice depart from, \n",
    "    # a.k.a. dead ends\n",
    "\n",
    "    for i in range(len(sg) - 1):\n",
    "        edges_to_remove = []\n",
    "        index = len(sg) - 1 - i  # since we count backwards\n",
    "\n",
    "        for j in sg[index - 1]:\n",
    "            leads_to_next_slice = 0  # number of edges in the next slice that sg[index-1][j] is connected to\n",
    "            dest_j = flights[j].dest\n",
    "            for k in sg[index]:\n",
    "\n",
    "                # for each node in the next slice, add 1 if sg[index-1][j] is connected to it, 0 if not\n",
    "                if dest_j == flights[k].start:\n",
    "                    leads_to_next_slice += 1\n",
    "                \n",
    "\n",
    "            # if leads_to_next_slice is zero, it means sg[index-1][j] is not connected to any node in the next slice; essentially a dead end. \n",
    "            # it is removed, and any node in the previous slice that only connected to it will thus also be a dead end, and will be removed. etc., etc.\n",
    "            if leads_to_next_slice == 0:\n",
    "                edges_to_remove.append(j)\n",
    "\n",
    "        for edge in edges_to_remove:\n",
    "            sg[index-1].remove(edge)\n",
    "\n",
    "    slices_to_remove = []\n",
    "    for i in range(len(sg)):\n",
    "        index = len(sg) - 1 - i\n",
    "\n",
    "        if len(sg[index]) == 1 and flights[sg[index][0]].dest == dest:\n",
    "            slices_to_remove.append(index)\n",
    "        else:\n",
    "            break\n",
    "    \n",
    "    if len(slices_to_remove) > 1:\n",
    "        for i in slices_to_remove[:-1]:\n",
    "            del sg[i]\n",
    "\n",
    "    return sg"
   ]
  },
  {
   "cell_type": "code",
   "execution_count": 6,
   "metadata": {},
   "outputs": [],
   "source": [
    "def construct_numbered_sliced_graph(sg, offset):\n",
    "    \"\"\"\n",
    "    Based on a two-dimensional array that constructed time slices from a graph,\n",
    "    renumbers the contents by giving each element its index in the corresponding \n",
    "    flattened array. Since the numbered sliced graph is used for getting the qubit \n",
    "    indices of the nodes, and since there are several sliced graphs, an offset is\n",
    "    necessary.\n",
    "    Example: With input ([[0], [1, 3], [2, 3]], 0), output would be [[0], [1, 2], [3, 4]].\n",
    "    With input ([[0], [1, 3], [2, 3], [4, 3]], 5), output would be [[5], [6, 7], [8, 9], [10, 11]].\n",
    "    \"\"\"\n",
    "    \n",
    "    nsg = [] # numbered sliced graph\n",
    "    node_counter = 0\n",
    "\n",
    "    for m in range(len(sg)):\n",
    "        nsg.append([])\n",
    "        for n in range(len(sg[m])):\n",
    "            nsg[m].append(node_counter + offset)\n",
    "            node_counter+=1\n",
    "    \n",
    "    return nsg, node_counter"
   ]
  },
  {
   "cell_type": "code",
   "execution_count": 7,
   "metadata": {},
   "outputs": [],
   "source": [
    "def flight_cost(flight):\n",
    "    \"\"\"\n",
    "    Returns the flight cost for a given flight, identified by its flight number.\n",
    "    \"\"\"\n",
    "    return flights[flight].cost"
   ]
  },
  {
   "cell_type": "code",
   "execution_count": 8,
   "metadata": {},
   "outputs": [],
   "source": [
    "def transfer_check(flight_1, flight_2, passenger_index):\n",
    "    \"\"\"\n",
    "    TO DO\n",
    "\n",
    "    For two given flights, checks if the time inbetween is \n",
    "    smaller than the minimum transfer time. If yes, returns \n",
    "    the specified penalty value. If no, returns 0.\n",
    "    \"\"\"\n",
    "\n",
    "    dest_flight_1 = flights[flight_1].dest\n",
    "    start_flight_2 = flights[flight_2].start\n",
    "\n",
    "    destination = passengers[passenger_index]\n",
    "\n",
    "    if dest_flight_1 == start_flight_2 and dest_flight_1 == destination:\n",
    "        return 0\n",
    "    elif dest_flight_1 != start_flight_2: # the flights are not connecting flights\n",
    "        return penalty\n",
    "    else:\n",
    "        landing_time = flights[flight_1].landing_time\n",
    "        start_time = flights[flight_2].start_time\n",
    "\n",
    "        if start_time - landing_time < 1: #Test_min_transfer_in_min:\n",
    "            return penalty\n",
    "        else:\n",
    "            return 0"
   ]
  },
  {
   "source": [
    "def transfer_time(flight_1, flight_2):\n",
    "    \"\"\"For two given flights, returns the time transfer time.\"\"\"\n",
    "\n",
    "    landing_time = flights.get(flight_1)[4]\n",
    "    start_time = flights.get(flight_2)[3]\n",
    "\n",
    "    transfer = start_time - landing_time\n",
    "\n",
    "    if transfer < 0:\n",
    "        return 0\n",
    "    else:\n",
    "        return transfer"
   ],
   "cell_type": "markdown",
   "metadata": {}
  },
  {
   "cell_type": "code",
   "execution_count": 9,
   "metadata": {},
   "outputs": [],
   "source": [
    "def connection_check(flight_1, flight_2):\n",
    "    \"\"\"\n",
    "    For two given flights, checks if the destination of\n",
    "    the first is the start of the second, i.e. if they are\n",
    "    connecting flights. If yes, return 0, if not, return\n",
    "    the specified penalty value.\n",
    "    \"\"\"\n",
    "\n",
    "    destination = flights[flight_1].landing_time #[1] #.landing_time\n",
    "    start = flights[flight_2].start_time #[0]\n",
    "\n",
    "    if destination != start:\n",
    "        return penalty\n",
    "    else:\n",
    "        return 0"
   ]
  },
  {
   "source": [
    "def capacity_polynomial(flight, nrpassengers):\n",
    "\n",
    "    if flight[0] == 'Z':\n",
    "        return 0\n",
    "    \n",
    "    qubit_indices = []\n",
    "\n",
    "    for k in range(len(passengers)):\n",
    "        for c in range(len(test_sg[k])):\n",
    "            for e in range(len(test_sg[k][c])):\n",
    "                if test_sg[k][c][e] == flight:\n",
    "                    qubit_indices.append(X[test_nsg[k][c][e]])\n",
    "    \n",
    "    capacity = flights[flight].capacity #[5]\n",
    "\n",
    "    sum_vars = 0\n",
    "    for i in qubit_indices:\n",
    "        sum_vars += i\n",
    "\n",
    "    #return sum_vars\n",
    "    global nr_qubits\n",
    "\n",
    "    #nr_addends = nrpassengers if nrpassengers < capacity else capacity # maybe one could just reference the passenger var\n",
    "    #nr_addends = nr_addends if nr_addends < len(qubit_indices) else len(qubit_indices)\n",
    "    nr_addends = capacity\n",
    "\n",
    "    #print(nr_addends)\n",
    "\n",
    "    if nr_addends == 0:\n",
    "        return 0  # this is okay if all flights with capacity 0 are sorted out at the beginning\n",
    "    #elif nr_addends == 1:\n",
    "    #    return P * (sum_vars - 1) * sum_vars\n",
    "    else:\n",
    "        # we need nr_addends - 1 vars\n",
    "        polynomial = 0\n",
    "        minuends = [0]\n",
    "\n",
    "        for i in qubit_indices:\n",
    "            minuends[0] += i \n",
    "\n",
    "        for i in range(1, nr_addends):\n",
    "            minuends.append(0)\n",
    "            for j in range(i, nr_addends):\n",
    "                minuends[i] += X[nr_qubits + j - 1]\n",
    "        minuends.append(0)\n",
    "\n",
    "        print(minuends)\n",
    "            \n",
    "        for i in range(len(minuends) - 1):\n",
    "            polynomial += P * ((minuends[i] - (nr_addends - i)) * (minuends[i] - minuends[i + 1]))\n",
    "\n",
    "            #polynomial += -20 * P * ((  ((minuends[i])**2)**(1/2) - ((nr_addends - i)**2)**(1/2)  ) * (   ((minuends[i])**2)**(1/2) - ((minuends[i + 1])**2)**(1/2)   ))\n",
    "\n",
    "\n",
    "\n",
    "            #polynomial += P * (( (nr_addends - i)  -  minuends[i] ) * ( minuends[i] - minuends[i + 1]))\n",
    "\n",
    "\n",
    "        nr_qubits += nr_addends - 1\n",
    "\n",
    "        return polynomial"
   ],
   "cell_type": "code",
   "metadata": {},
   "execution_count": 10,
   "outputs": []
  },
  {
   "cell_type": "code",
   "execution_count": 11,
   "metadata": {},
   "outputs": [],
   "source": [
    "import sympy as sym\n",
    "import matplotlib.pyplot as plt\n",
    "import pandas as pd\n",
    "import time"
   ]
  },
  {
   "cell_type": "code",
   "execution_count": 12,
   "metadata": {},
   "outputs": [],
   "source": [
    "# data\n",
    "flights = {\n",
    "    'A11': Flight(0, 1, 150, 8, 9, 3),\n",
    "    'A12': Flight(0, 2, 20, 8, 11, 3),\n",
    "    'A13': Flight(2, 1, 70, 11, 12, 3),\n",
    "    'A14': Flight(1, 3, 30, 11, 12, 1),\n",
    "    'A15': Flight(2, 3, 200, 11, 12, 1)\n",
    "}\n",
    "\n",
    "start_node = 0\n",
    "passengers = [1, 1, 1]\n",
    "\n",
    "penalty = 5000"
   ]
  },
  {
   "source": [
    "test_sg = [\n",
    "    [\n",
    "        ['A11', 'A12'],\n",
    "        ['A13', 'A14', 'A15', 'B00'],\n",
    "        ['A14', 'B00']\n",
    "    ],\n",
    "    [\n",
    "        ['A11', 'A12'],\n",
    "        ['A13', 'A14', 'A15'],\n",
    "        ['A14', 'C00']\n",
    "    ]\n",
    "]"
   ],
   "cell_type": "markdown",
   "metadata": {}
  },
  {
   "cell_type": "code",
   "execution_count": 13,
   "metadata": {},
   "outputs": [
    {
     "output_type": "execute_result",
     "data": {
      "text/plain": [
       "15"
      ]
     },
     "metadata": {},
     "execution_count": 13
    }
   ],
   "source": [
    "test_sg = []\n",
    "test_nsg = []\n",
    "nodes_total = 0\n",
    "\n",
    "for k in range(len(passengers)):\n",
    "    test_sg.append(construct_sliced_graph(flights, start_node, passengers[k]))\n",
    "\n",
    "    numbered_subgraph, nr_nodes_subgraph = construct_numbered_sliced_graph(test_sg[k], offset=nodes_total)\n",
    "    test_nsg.append(numbered_subgraph)\n",
    "\n",
    "    nodes_total += nr_nodes_subgraph\n",
    "\n",
    "nr_qubits = nodes_total\n",
    "nr_qubits"
   ]
  },
  {
   "cell_type": "code",
   "execution_count": 14,
   "metadata": {},
   "outputs": [
    {
     "output_type": "execute_result",
     "data": {
      "text/plain": [
       "[[['A11', 'A12'], ['A13', 'Z1'], ['Z1']],\n",
       " [['A11', 'A12'], ['A13', 'Z1'], ['Z1']],\n",
       " [['A11', 'A12'], ['A13', 'Z1'], ['Z1']]]"
      ]
     },
     "metadata": {},
     "execution_count": 14
    }
   ],
   "source": [
    "test_sg"
   ]
  },
  {
   "cell_type": "code",
   "execution_count": 15,
   "metadata": {},
   "outputs": [
    {
     "output_type": "execute_result",
     "data": {
      "text/plain": [
       "[[[0, 1], [2, 3], [4]], [[5, 6], [7, 8], [9]], [[10, 11], [12, 13], [14]]]"
      ]
     },
     "metadata": {},
     "execution_count": 15
    }
   ],
   "source": [
    "test_nsg"
   ]
  },
  {
   "source": [
    "test_nsg = [\n",
    "    [\n",
    "        [0, 1],\n",
    "        [2, 3, 4, 5],\n",
    "        [6, 7]\n",
    "    ],\n",
    "    [\n",
    "        [8, 9],\n",
    "        [10, 11, 12],\n",
    "        [13, 14]\n",
    "    ]\n",
    "]"
   ],
   "cell_type": "markdown",
   "metadata": {}
  },
  {
   "cell_type": "code",
   "execution_count": 16,
   "metadata": {},
   "outputs": [
    {
     "output_type": "execute_result",
     "data": {
      "text/plain": [
       "['A11', 'A12', 'A13', 'A14', 'A15', 'Z1']"
      ]
     },
     "metadata": {},
     "execution_count": 16
    }
   ],
   "source": [
    "flight_list = list(flights.keys())\n",
    "flight_list"
   ]
  },
  {
   "cell_type": "code",
   "execution_count": 17,
   "metadata": {},
   "outputs": [],
   "source": [
    "k = sym.symbols('k') # passengers\n",
    "c = sym.symbols('c') # slices\n",
    "e = sym.symbols('e') # edges\n",
    "f = sym.symbols('f') # edges\n",
    "X = sym.IndexedBase('X') # binary vars for qubits\n",
    "P = sym.symbols('P') # penalty\n",
    "\n",
    "edge1 = sym.symbols('edge1') # edges\n",
    "edge2 = sym.symbols('edge2') # edges\n",
    "\n",
    "nrpassengers = sym.symbols('nrpassengers')\n",
    "nrflights = sym.symbols('nrflights')\n",
    "\n",
    "nrslices = sym.IndexedBase('nrslices')\n",
    "nredges = sym.IndexedBase('nredges')\n",
    "\n",
    "sg = sym.IndexedBase('sg')\n",
    "nsg = sym.IndexedBase('nsg')\n",
    "\n",
    "validtransfer = sym.IndexedBase('validtransfer')\n",
    "transfertime = sym.IndexedBase('transfertime')\n",
    "connection = sym.IndexedBase('connection')\n",
    "cost = sym.IndexedBase('cost')\n",
    "flightduration = sym.IndexedBase('flightduration')\n",
    "capacity = sym.IndexedBase('capacity')\n",
    "\n",
    "flightlist = sym.IndexedBase('flightlist')"
   ]
  },
  {
   "cell_type": "code",
   "execution_count": 18,
   "metadata": {},
   "outputs": [
    {
     "output_type": "execute_result",
     "data": {
      "text/plain": [
       "Sum(P*(Sum(X[nsg[k, c, e]], (e, 0, nredges[k, c])) - 1)**2, (c, 0, nrslices[k] - 1), (k, 0, nrpassengers - 1))"
      ],
      "text/latex": "$\\displaystyle \\sum_{\\substack{0 \\leq c \\leq {nrslices}_{k} - 1\\\\0 \\leq k \\leq nrpassengers - 1}} P \\left(\\sum_{e=0}^{{nredges}_{k,c}} {X}_{{nsg}_{k,c,e}} - 1\\right)^{2}$"
     },
     "metadata": {},
     "execution_count": 18
    }
   ],
   "source": [
    "# only one flight in each time slice\n",
    "cost_function = sym.Sum(\n",
    "    sym.Sum(\n",
    "        P * (sym.Sum(\n",
    "            X[nsg[k,c,e]]\n",
    "            , (e, 0, nredges[k,c])\n",
    "    ) - 1)**2\n",
    "        , (c, 0, nrslices[k] - 1)\n",
    "    )\n",
    "    , (k, 0, nrpassengers-1)\n",
    ")\n",
    "cost_function"
   ]
  },
  {
   "cell_type": "code",
   "execution_count": 19,
   "metadata": {},
   "outputs": [
    {
     "output_type": "execute_result",
     "data": {
      "text/plain": [
       "Sum(P*(Sum(X[nsg[k, c, e]], (e, 0, nredges[k, c])) - 1)**2 + Sum(X[nsg[k, c, e]], (e, 0, nredges[k, c])), (c, 0, nrslices[k] - 1), (k, 0, nrpassengers - 1))"
      ],
      "text/latex": "$\\displaystyle \\sum_{\\substack{0 \\leq c \\leq {nrslices}_{k} - 1\\\\0 \\leq k \\leq nrpassengers - 1}} \\left(P \\left(\\sum_{e=0}^{{nredges}_{k,c}} {X}_{{nsg}_{k,c,e}} - 1\\right)^{2} + \\sum_{e=0}^{{nredges}_{k,c}} {X}_{{nsg}_{k,c,e}}\\right)$"
     },
     "metadata": {},
     "execution_count": 19
    }
   ],
   "source": [
    "# only one flight in each time slice\n",
    "# cost of flights\n",
    "cost_function = sym.Sum(\n",
    "    sym.Sum(\n",
    "        P * (sym.Sum(\n",
    "            X[nsg[k,c,e]]\n",
    "            , (e, 0, nredges[k,c])\n",
    "    ) - 1)**2 + \n",
    "    sym.Sum(\n",
    "        X[nsg[k,c,e]], (e, 0, nredges[k,c])\n",
    "    )\n",
    "        , (c, 0, nrslices[k] - 1)\n",
    "    )\n",
    "    , (k, 0, nrpassengers-1)\n",
    ")\n",
    "cost_function"
   ]
  },
  {
   "cell_type": "code",
   "execution_count": 20,
   "metadata": {},
   "outputs": [
    {
     "output_type": "execute_result",
     "data": {
      "text/plain": [
       "Sum(Sum(P*(Sum(X[nsg[k, c, e]], (e, 0, nredges[k, c] - 1)) - 1)**2, (c, 0, nrslices[k] - 1)) + 2*Sum(0.5*Sum(X[nsg[k, c, e]]*cost[sg[k, c, e]], (e, 0, nredges[k, c] - 1)), (c, 0, nrslices[k] - 1)) + Sum(2*Sum(0.5*Sum(X[nsg[k, c + 1, edge2]]*X[nsg[k, c, edge1]]*validtransfer[sg[k, c, edge1], sg[k, c + 1, edge2], k], (edge2, 0, nredges[k, c + 1] - 1)), (edge1, 0, nredges[k, c] - 1)), (c, 0, nrslices[k] - 2)), (k, 0, nrpassengers - 1))"
      ],
      "text/latex": "$\\displaystyle \\sum_{k=0}^{nrpassengers - 1} \\left(\\sum_{c=0}^{{nrslices}_{k} - 1} P \\left(\\sum_{e=0}^{{nredges}_{k,c} - 1} {X}_{{nsg}_{k,c,e}} - 1\\right)^{2} + 2 \\sum_{c=0}^{{nrslices}_{k} - 1} 0.5 \\sum_{e=0}^{{nredges}_{k,c} - 1} {X}_{{nsg}_{k,c,e}} {cost}_{{sg}_{k,c,e}} + \\sum_{c=0}^{{nrslices}_{k} - 2} 2 \\sum_{edge_{1}=0}^{{nredges}_{k,c} - 1} 0.5 \\sum_{edge_{2}=0}^{{nredges}_{k,c + 1} - 1} {X}_{{nsg}_{k,c + 1,edge_{2}}} {X}_{{nsg}_{k,c,edge_{1}}} {validtransfer}_{{sg}_{k,c,edge_{1}},{sg}_{k,c + 1,edge_{2}},k}\\right)$"
     },
     "metadata": {},
     "execution_count": 20
    }
   ],
   "source": [
    "# only one flight in each time slice\n",
    "# cost of flights\n",
    "# enough transfer time\n",
    "cost_function = sym.Sum(\n",
    "    sym.Sum(\n",
    "        P * (sym.Sum(\n",
    "            X[nsg[k,c,e]]\n",
    "            , (e, 0, nredges[k,c]-1)\n",
    "    ) - 1)**2\n",
    "    # + \n",
    "    #sym.Sum(\n",
    "    #    X[nsg[k,c,e]], (e, 0, nredges[k,c]-1)\n",
    "    #)\n",
    "        , (c, 0, nrslices[k]-1)\n",
    "    ) + 2 *\n",
    "    sym.Sum(\n",
    "        0.5 *\n",
    "        sym.Sum(\n",
    "            X[nsg[k,c,e]] * cost[sg[k,c,e]], (e, 0, nredges[k,c]-1)\n",
    "    )\n",
    "        , (c, 0, nrslices[k]-1)\n",
    "    ) + \n",
    "\n",
    "    sym.Sum( 2 *\n",
    "        sym.Sum( 0.5 *\n",
    "            sym.Sum(\n",
    "                (X[nsg[k,c,edge1]] * X[nsg[k,c+1,edge2]] * validtransfer[sg[k,c,edge1], sg[k,c+1,edge2], k])                \n",
    "                , (edge2, 0, nredges[k,c+1]-1)\n",
    "            )\n",
    "            , (edge1, 0, nredges[k,c]-1)\n",
    "        )\n",
    "        , (c, 0, nrslices[k]-2)\n",
    "    )\n",
    "    \n",
    "    \n",
    "    #+ \n",
    "    #sym.Sum( 2 *\n",
    "    #    sym.Sum( 0.5 *\n",
    "    #        sym.Sum(\n",
    "    #            \n",
    "    #            (X[nsg[k,c,edge1]] * X[nsg[k,c+1,edge2]] * connection[sg[k,c,edge1], sg[k,c+1,edge2]])\n",
    "    #            , (edge2, 0, nredges[k,c+1]-1)\n",
    "    #        )\n",
    "    #        , (edge1, 0, nredges[k,c]-1)\n",
    "    #    )\n",
    "    #    , (c, 0, nrslices[k]-2)\n",
    "    #)\n",
    "    , (k, 0, nrpassengers-1)\n",
    ")\n",
    "cost_function"
   ]
  },
  {
   "cell_type": "code",
   "execution_count": 21,
   "metadata": {},
   "outputs": [
    {
     "output_type": "execute_result",
     "data": {
      "text/plain": [
       "Sum(Sum(P*(Sum(X[nsg[k, c, e]], (e, 0, nredges[k, c] - 1)) - 1)**2, (c, 0, nrslices[k] - 1)) + 2*Sum(0.5*Sum(X[nsg[k, c, e]]*cost[sg[k, c, e]], (e, 0, nredges[k, c] - 1)), (c, 0, nrslices[k] - 1)) + Sum(2*Sum(0.5*Sum(X[nsg[k, c + 1, edge2]]*X[nsg[k, c, edge1]]*validtransfer[sg[k, c, edge1], sg[k, c + 1, edge2], k], (edge2, 0, nredges[k, c + 1] - 1)), (edge1, 0, nredges[k, c] - 1)), (c, 0, nrslices[k] - 2)), (k, 0, nrpassengers - 1))"
      ],
      "text/latex": "$\\displaystyle \\sum_{k=0}^{nrpassengers - 1} \\left(\\sum_{c=0}^{{nrslices}_{k} - 1} P \\left(\\sum_{e=0}^{{nredges}_{k,c} - 1} {X}_{{nsg}_{k,c,e}} - 1\\right)^{2} + 2 \\sum_{c=0}^{{nrslices}_{k} - 1} 0.5 \\sum_{e=0}^{{nredges}_{k,c} - 1} {X}_{{nsg}_{k,c,e}} {cost}_{{sg}_{k,c,e}} + \\sum_{c=0}^{{nrslices}_{k} - 2} 2 \\sum_{edge_{1}=0}^{{nredges}_{k,c} - 1} 0.5 \\sum_{edge_{2}=0}^{{nredges}_{k,c + 1} - 1} {X}_{{nsg}_{k,c + 1,edge_{2}}} {X}_{{nsg}_{k,c,edge_{1}}} {validtransfer}_{{sg}_{k,c,edge_{1}},{sg}_{k,c + 1,edge_{2}},k}\\right)$"
     },
     "metadata": {},
     "execution_count": 21
    }
   ],
   "source": [
    "# only one flight in each time slice\n",
    "# cost of flights\n",
    "# enough transfer time\n",
    "# [capacity constraint]\n",
    "cost_function = sym.Sum(\n",
    "    sym.Sum(\n",
    "        P * (sym.Sum(\n",
    "            X[nsg[k,c,e]]\n",
    "            , (e, 0, nredges[k,c]-1)\n",
    "            ) - 1)**2\n",
    "        , (c, 0, nrslices[k]-1)\n",
    "    ) + 2 *\n",
    "    sym.Sum(\n",
    "        0.5 *\n",
    "        sym.Sum(\n",
    "            X[nsg[k,c,e]] * cost[sg[k,c,e]], (e, 0, nredges[k,c]-1)\n",
    "    )\n",
    "        , (c, 0, nrslices[k]-1)\n",
    "    ) + \n",
    "\n",
    "    sym.Sum( 2 *\n",
    "        sym.Sum( 0.5 *\n",
    "            sym.Sum(\n",
    "                (X[nsg[k,c,edge1]] * X[nsg[k,c+1,edge2]] * validtransfer[sg[k,c,edge1], sg[k,c+1,edge2], k])\n",
    "                \n",
    "                , (edge2, 0, nredges[k,c+1]-1)\n",
    "            )\n",
    "            , (edge1, 0, nredges[k,c]-1)\n",
    "        )\n",
    "        , (c, 0, nrslices[k]-2)\n",
    "    )\n",
    "    \n",
    "    \n",
    "    , (k, 0, nrpassengers-1) \n",
    ")\n",
    "cost_function"
   ]
  },
  {
   "source": [
    "cost_function = sym.Sum(\n",
    "    sym.Sum(\n",
    "        P * (sym.Sum(\n",
    "            X[nsg[k,c,e]]\n",
    "            , (e, 0, nredges[k,c]-1)\n",
    "            ) - 1)**2\n",
    "        , (c, 0, nrslices[k]-1)\n",
    "    ) + 2 *\n",
    "    sym.Sum(\n",
    "        0.5 *\n",
    "        sym.Sum(\n",
    "            X[nsg[k,c,e]] * flightduration[sg[k,c,e]], (e, 0, nredges[k,c]-1)\n",
    "    )\n",
    "        , (c, 0, nrslices[k]-1)\n",
    "    ) \n",
    "    + \n",
    "\n",
    "    sym.Sum( 2 *\n",
    "        sym.Sum( 0.5 *\n",
    "            sym.Sum(\n",
    "                (X[nsg[k,c,edge1]] * X[nsg[k,c+1,edge2]] * validtransfer[sg[k,c,edge1], sg[k,c+1,edge2], k])\n",
    "                + transfertime[sg[k,c,edge1], sg[k,c+1,edge2]]\n",
    "\n",
    "                \n",
    "                , (edge2, 0, nredges[k,c+1]-1)\n",
    "            )\n",
    "            , (edge1, 0, nredges[k,c]-1)\n",
    "        )\n",
    "        , (c, 0, nrslices[k]-2)\n",
    "    )\n",
    "    \n",
    "    \n",
    "    , (k, 0, nrpassengers-1) \n",
    ")\n",
    "cost_function"
   ],
   "cell_type": "markdown",
   "metadata": {}
  },
  {
   "cell_type": "code",
   "execution_count": 22,
   "metadata": {},
   "outputs": [
    {
     "output_type": "execute_result",
     "data": {
      "text/plain": [
       "15"
      ]
     },
     "metadata": {},
     "execution_count": 22
    }
   ],
   "source": [
    "nr_qubits"
   ]
  },
  {
   "cell_type": "code",
   "execution_count": 23,
   "metadata": {},
   "outputs": [],
   "source": [
    "single_values_dict = {\n",
    "    P: penalty,\n",
    "    nrpassengers: len(passengers), \n",
    "    nrflights: len(flights)\n",
    "    }\n",
    "\n",
    "nsg_dict = {\n",
    "    nsg[k,c,e]: test_nsg[k][c][e] \n",
    "    for k in range(len(passengers)) \n",
    "    for c in range(len(test_nsg[k])) \n",
    "    for e in range(len(test_nsg[k][c]))\n",
    "}\n",
    "\n",
    "sg_dict = {\n",
    "    sg[k,c,e]: test_sg[k][c][e] \n",
    "    for k in range(len(passengers)) \n",
    "    for c in range(len(test_sg[k])) \n",
    "    for e in range(len(test_sg[k][c]))\n",
    "}\n",
    "\n",
    "nr_slices_dict = {\n",
    "    nrslices[k]: len(test_sg[k]) \n",
    "    for k in range(len(passengers))\n",
    "}\n",
    "\n",
    "nr_edges_dict = {\n",
    "    nredges[k,c]: len(test_sg[k][c]) \n",
    "    for k in range(len(passengers)) \n",
    "    for c in range(len(test_sg[k]))\n",
    "}\n",
    "\n",
    "cost_dict = {\n",
    "    cost[edge]: flight_cost(edge)\n",
    "    for k in range(len(passengers)) \n",
    "    for c in range(len(test_sg[k])) \n",
    "    for edge in test_sg[k][c]\n",
    "}\n",
    "\n",
    "valid_transfer_dict = {\n",
    "    validtransfer[edge1, edge2, k]: transfer_check(edge1, edge2, k) \n",
    "    for k in range(len(passengers)) \n",
    "    for c in range(len(test_sg[k]) - 1) \n",
    "    for edge1 in test_sg[k][c] \n",
    "    for edge2 in test_sg[k][c+1]\n",
    "}\n",
    "\n",
    "#transfer_time_dict = {\n",
    "#    transfertime[f1, f2]: transfer_time(f1, f2) \n",
    "#    for f1 in flights\n",
    "#    for f2 in flights\n",
    "#}\n",
    "\n",
    "#flight_duration_dict = {\n",
    "#    flightduration[f]: flights[f][3] - flights[f][2]\n",
    "#    for f in flights\n",
    "#}\n",
    "\n",
    "flight_list_dict = {\n",
    "    flightlist[f]: flight_list[f]\n",
    "    for f in range(len(flights))\n",
    "}\n",
    "\n",
    "#capacity_dict = {\n",
    "#    capacity[flight]: capacity_polynomial(flight, len(passengers)) \n",
    "#    for flight in flights \n",
    "#}"
   ]
  },
  {
   "cell_type": "code",
   "execution_count": 24,
   "metadata": {},
   "outputs": [
    {
     "output_type": "execute_result",
     "data": {
      "text/plain": [
       "[[['A11', 'A12'], ['A13', 'Z1'], ['Z1']],\n",
       " [['A11', 'A12'], ['A13', 'Z1'], ['Z1']],\n",
       " [['A11', 'A12'], ['A13', 'Z1'], ['Z1']]]"
      ]
     },
     "metadata": {},
     "execution_count": 24
    }
   ],
   "source": [
    "test_sg"
   ]
  },
  {
   "source": [
    "#capacity_dict"
   ],
   "cell_type": "code",
   "metadata": {},
   "execution_count": 25,
   "outputs": []
  },
  {
   "source": [
    "cost_dict"
   ],
   "cell_type": "code",
   "metadata": {},
   "execution_count": 26,
   "outputs": [
    {
     "output_type": "execute_result",
     "data": {
      "text/plain": [
       "{cost[A11]: 150, cost[A12]: 20, cost[A13]: 70, cost[Z1]: 0}"
      ]
     },
     "metadata": {},
     "execution_count": 26
    }
   ]
  },
  {
   "source": [
    "for i in range(len(flights)):\n",
    "    print(i)"
   ],
   "cell_type": "markdown",
   "metadata": {}
  },
  {
   "source": [
    "for f in flights:\n",
    "    print(f)"
   ],
   "cell_type": "markdown",
   "metadata": {}
  },
  {
   "source": [
    "test_sg"
   ],
   "cell_type": "markdown",
   "metadata": {}
  },
  {
   "source": [
    "valid_transfer_dict"
   ],
   "cell_type": "markdown",
   "metadata": {}
  },
  {
   "cell_type": "code",
   "execution_count": 27,
   "metadata": {},
   "outputs": [
    {
     "output_type": "stream",
     "name": "stdout",
     "text": [
      "16.865605115890503\n"
     ]
    },
    {
     "output_type": "execute_result",
     "data": {
      "text/plain": [
       "Poly(5000*X[0]**2 + 10000*X[0]*X[1] + 5000*X[0]*X[2] - 9850*X[0] + 5000*X[1]**2 + 5000*X[1]*X[2] + 5000*X[1]*X[3] - 9980*X[1] + 5000*X[2]**2 + 10000*X[2]*X[3] - 9930*X[2] + 5000*X[3]**2 - 10000*X[3] + 5000*X[4]**2 - 10000*X[4] + 5000*X[5]**2 + 10000*X[5]*X[6] + 5000*X[5]*X[7] - 9850*X[5] + 5000*X[6]**2 + 5000*X[6]*X[7] + 5000*X[6]*X[8] - 9980*X[6] + 5000*X[7]**2 + 10000*X[7]*X[8] - 9930*X[7] + 5000*X[8]**2 - 10000*X[8] + 5000*X[9]**2 - 10000*X[9] + 5000*X[10]**2 + 10000*X[10]*X[11] + 5000*X[10]*X[12] - 9850*X[10] + 5000*X[11]**2 + 5000*X[11]*X[12] + 5000*X[11]*X[13] - 9980*X[11] + 5000*X[12]**2 + 10000*X[12]*X[13] - 9930*X[12] + 5000*X[13]**2 - 10000*X[13] + 5000*X[14]**2 - 10000*X[14] + 45000, X[0], X[1], X[2], X[3], X[4], X[5], X[6], X[7], X[8], X[9], X[10], X[11], X[12], X[13], X[14], domain='ZZ')"
      ],
      "text/latex": "$\\displaystyle \\operatorname{Poly}{\\left( 5000 {X}_{0}^{2} + 10000 {X}_{0}{X}_{1} + 5000 {X}_{0}{X}_{2} - 9850 {X}_{0} + 5000 {X}_{1}^{2} + 5000 {X}_{1}{X}_{2} + 5000 {X}_{1}{X}_{3} - 9980 {X}_{1} + 5000 {X}_{2}^{2} + 10000 {X}_{2}{X}_{3} - 9930 {X}_{2} + 5000 {X}_{3}^{2} - 10000 {X}_{3} + 5000 {X}_{4}^{2} - 10000 {X}_{4} + 5000 {X}_{5}^{2} + 10000 {X}_{5}{X}_{6} + 5000 {X}_{5}{X}_{7} - 9850 {X}_{5} + 5000 {X}_{6}^{2} + 5000 {X}_{6}{X}_{7} + 5000 {X}_{6}{X}_{8} - 9980 {X}_{6} + 5000 {X}_{7}^{2} + 10000 {X}_{7}{X}_{8} - 9930 {X}_{7} + 5000 {X}_{8}^{2} - 10000 {X}_{8} + 5000 {X}_{9}^{2} - 10000 {X}_{9} + 5000 {X}_{10}^{2} + 10000 {X}_{10}{X}_{11} + 5000 {X}_{10}{X}_{12} - 9850 {X}_{10} + 5000 {X}_{11}^{2} + 5000 {X}_{11}{X}_{12} + 5000 {X}_{11}{X}_{13} - 9980 {X}_{11} + 5000 {X}_{12}^{2} + 10000 {X}_{12}{X}_{13} - 9930 {X}_{12} + 5000 {X}_{13}^{2} - 10000 {X}_{13} + 5000 {X}_{14}^{2} - 10000 {X}_{14} + 45000, {X}_{0}, {X}_{1}, {X}_{2}, {X}_{3}, {X}_{4}, {X}_{5}, {X}_{6}, {X}_{7}, {X}_{8}, {X}_{9}, {X}_{10}, {X}_{11}, {X}_{12}, {X}_{13}, {X}_{14}, domain=\\mathbb{Z} \\right)}$"
     },
     "metadata": {},
     "execution_count": 27
    }
   ],
   "source": [
    "start = time.time()\n",
    "cost_poly = sym.Poly(cost_function\n",
    "                     .subs(single_values_dict)\n",
    "                     .doit()\n",
    "                     .subs(nr_slices_dict)\n",
    "                     .doit()\n",
    "                     .subs(nr_edges_dict)\n",
    "                     .doit()\n",
    "                     .subs(sg_dict)\n",
    "                     .subs(nsg_dict)\n",
    "                     .doit()\n",
    "                     .subs(valid_transfer_dict)\n",
    "                     #.subs(transfer_time_dict)\n",
    "                     .subs(cost_dict)\n",
    "                     #.subs(flight_duration_dict)\n",
    "\n",
    "                     .subs(flight_list_dict)\n",
    "                     .doit()\n",
    "                     #.subs(capacity_dict)\n",
    "                     .subs(single_values_dict)\n",
    "                     ,\n",
    "                     [X[i] for i in range(nr_qubits)])\n",
    "end = time.time()\n",
    "print(end-start)\n",
    "cost_poly"
   ]
  },
  {
   "cell_type": "code",
   "execution_count": 28,
   "metadata": {},
   "outputs": [
    {
     "output_type": "stream",
     "name": "stdout",
     "text": [
      "\\ This file has been generated by DOcplex\n\\ ENCODING=ISO-8859-1\n\\Problem name: CPLEX\n\nMinimize\n obj: - 9850 X_0 - 9980 X_1 - 9930 X_2 - 10000 X_3 - 10000 X_4 - 9850 X_5\n      - 9980 X_6 - 9930 X_7 - 10000 X_8 - 10000 X_9 - 9850 X_10 - 9980 X_11\n      - 9930 X_12 - 10000 X_13 - 10000 X_14 + [ 10000 X_0^2 + 20000 X_0*X_1\n      + 10000 X_0*X_2 + 10000 X_1^2 + 10000 X_1*X_2 + 10000 X_1*X_3\n      + 10000 X_2^2 + 20000 X_2*X_3 + 10000 X_3^2 + 10000 X_4^2 + 10000 X_5^2\n      + 20000 X_5*X_6 + 10000 X_5*X_7 + 10000 X_6^2 + 10000 X_6*X_7\n      + 10000 X_6*X_8 + 10000 X_7^2 + 20000 X_7*X_8 + 10000 X_8^2 + 10000 X_9^2\n      + 10000 X_10^2 + 20000 X_10*X_11 + 10000 X_10*X_12 + 10000 X_11^2\n      + 10000 X_11*X_12 + 10000 X_11*X_13 + 10000 X_12^2 + 20000 X_12*X_13\n      + 10000 X_13^2 + 10000 X_14^2 ]/2\nSubject To\n\nBounds\n 0 <= X_0 <= 1\n 0 <= X_1 <= 1\n 0 <= X_2 <= 1\n 0 <= X_3 <= 1\n 0 <= X_4 <= 1\n 0 <= X_5 <= 1\n 0 <= X_6 <= 1\n 0 <= X_7 <= 1\n 0 <= X_8 <= 1\n 0 <= X_9 <= 1\n 0 <= X_10 <= 1\n 0 <= X_11 <= 1\n 0 <= X_12 <= 1\n 0 <= X_13 <= 1\n 0 <= X_14 <= 1\n\nBinaries\n X_0 X_1 X_2 X_3 X_4 X_5 X_6 X_7 X_8 X_9 X_10 X_11 X_12 X_13 X_14\nEnd\n\n"
     ]
    }
   ],
   "source": [
    "import qiskit\n",
    "from qiskit.algorithms import QAOA\n",
    "\n",
    "from qiskit_optimization.algorithms import MinimumEigenOptimizer, RecursiveMinimumEigenOptimizer, CplexOptimizer\n",
    "from qiskit.utils import QuantumInstance\n",
    "from qiskit_optimization.problems import QuadraticProgram\n",
    "\n",
    "# generate qiskit's cost function\n",
    "qiskit_cost_function = QuadraticProgram()\n",
    "\n",
    "# define qiskit variables \n",
    "for i in range(nr_qubits):#nrqubits in range here\n",
    "    qiskit_cost_function.binary_var('X_' + str(i))\n",
    "\n",
    "# specify qiskit cost function\n",
    "qiskit_cost_function.minimize(\n",
    "    linear = [int(cost_poly.coeff_monomial(X[i]**1)) for i in range(nr_qubits)], #nrqubits in range here\n",
    "    quadratic = {\n",
    "        ('X_'+str(i), 'X_'+str(j)): cost_poly.coeff_monomial(X[i]**1 * X[j]**1)\n",
    "        for i in range(nr_qubits) #nrqubits in range here\n",
    "        for j in range(i,nr_qubits) #nrqubits in range here\n",
    "    }\n",
    "    )\n",
    "#for i in range(nr_vehicles):\n",
    "#    fix_nodes(vehicles[i][0], vehicles[i][1], i, test_sg[i], test_nsg[i], qiskit_cost_function)\n",
    "\n",
    "print(qiskit_cost_function.export_as_lp_string())"
   ]
  },
  {
   "source": [
    "quadratic = {\n",
    "        ('X_'+str(i), 'X_'+str(j)): cost_poly.coeff_monomial(X[i]**1 * X[j]**1)\n",
    "        for i in range(nr_qubits) #nrqubits in range here\n",
    "        for j in range(i,nr_qubits) #nrqubits in range here\n",
    "    }\n",
    "quadratic"
   ],
   "cell_type": "markdown",
   "metadata": {}
  },
  {
   "cell_type": "code",
   "execution_count": 29,
   "metadata": {},
   "outputs": [
    {
     "output_type": "execute_result",
     "data": {
      "text/plain": [
       "[[['A11', 'A12'], ['A13', 'Z1'], ['Z1']],\n",
       " [['A11', 'A12'], ['A13', 'Z1'], ['Z1']],\n",
       " [['A11', 'A12'], ['A13', 'Z1'], ['Z1']]]"
      ]
     },
     "metadata": {},
     "execution_count": 29
    }
   ],
   "source": [
    "test_sg"
   ]
  },
  {
   "cell_type": "code",
   "execution_count": 33,
   "metadata": {},
   "outputs": [],
   "source": [
    "def get_qubit_indices(flight):\n",
    "    qubit_indices = []\n",
    "\n",
    "    for k in range(len(passengers)):\n",
    "        for c in range(len(test_sg[k])):\n",
    "            for e in range(len(test_sg[k][c])):\n",
    "                if test_sg[k][c][e] == flight:\n",
    "                    qubit_indices.append(test_nsg[k][c][e])\n",
    "\n",
    "    return qubit_indices"
   ]
  },
  {
   "cell_type": "code",
   "execution_count": 34,
   "metadata": {},
   "outputs": [],
   "source": [
    "def add_capacity_constraints(cost_func, flights, nrpassengers):\n",
    "    for flight in flights:\n",
    "        if flight[0] != 'Z':\n",
    "\n",
    "            capacity = flights[flight].capacity\n",
    "            upper_bound = nrpassengers if nrpassengers < capacity else capacity\n",
    "            \n",
    "            qubit_indices = get_qubit_indices(flight)\n",
    "\n",
    "            if upper_bound > len(qubit_indices):\n",
    "                upper_bound = len(qubit_indices)\n",
    "\n",
    "            linear_coefficients = {} # specifies which qubits and which linear coefficient for each qubit. the coefficients will always be 1, since we just add them\n",
    "\n",
    "            print(qubit_indices)\n",
    "\n",
    "            for q in qubit_indices:\n",
    "                qubit_name = 'X_' + str(q)\n",
    "                linear_coefficients.update({q: 1})\n",
    "\n",
    "            #print(linear_coefficients)\n",
    "            cost_func.linear_constraint(linear=linear_coefficients, sense='<=', rhs=upper_bound, name=('capacity_constraint_' + flight))"
   ]
  },
  {
   "cell_type": "code",
   "execution_count": 35,
   "metadata": {},
   "outputs": [
    {
     "output_type": "stream",
     "name": "stdout",
     "text": [
      "[0, 5, 10]\n[1, 6, 11]\n[2, 7, 12]\n[]\n[]\n"
     ]
    }
   ],
   "source": [
    "add_capacity_constraints(qiskit_cost_function, flights, len(passengers))"
   ]
  },
  {
   "cell_type": "code",
   "execution_count": 36,
   "metadata": {},
   "outputs": [],
   "source": [
    "#qiskit_cost_function.linear_constraint(linear={'X_0': 1, 'X_5': 1}, sense='<=', rhs=2, name='capacity7')"
   ]
  },
  {
   "cell_type": "code",
   "execution_count": 37,
   "metadata": {},
   "outputs": [
    {
     "output_type": "stream",
     "name": "stdout",
     "text": [
      "\\ This file has been generated by DOcplex\n\\ ENCODING=ISO-8859-1\n\\Problem name: CPLEX\n\nMinimize\n obj: - 9850 X_0 - 9980 X_1 - 9930 X_2 - 10000 X_3 - 10000 X_4 - 9850 X_5\n      - 9980 X_6 - 9930 X_7 - 10000 X_8 - 10000 X_9 - 9850 X_10 - 9980 X_11\n      - 9930 X_12 - 10000 X_13 - 10000 X_14 + [ 10000 X_0^2 + 20000 X_0*X_1\n      + 10000 X_0*X_2 + 10000 X_1^2 + 10000 X_1*X_2 + 10000 X_1*X_3\n      + 10000 X_2^2 + 20000 X_2*X_3 + 10000 X_3^2 + 10000 X_4^2 + 10000 X_5^2\n      + 20000 X_5*X_6 + 10000 X_5*X_7 + 10000 X_6^2 + 10000 X_6*X_7\n      + 10000 X_6*X_8 + 10000 X_7^2 + 20000 X_7*X_8 + 10000 X_8^2 + 10000 X_9^2\n      + 10000 X_10^2 + 20000 X_10*X_11 + 10000 X_10*X_12 + 10000 X_11^2\n      + 10000 X_11*X_12 + 10000 X_11*X_13 + 10000 X_12^2 + 20000 X_12*X_13\n      + 10000 X_13^2 + 10000 X_14^2 ]/2\nSubject To\n capacity_constraint_A11: X_0 + X_5 + X_10 <= 3\n capacity_constraint_A12: X_1 + X_6 + X_11 <= 3\n capacity_constraint_A13: X_2 + X_7 + X_12 <= 3\n\nBounds\n 0 <= X_0 <= 1\n 0 <= X_1 <= 1\n 0 <= X_2 <= 1\n 0 <= X_3 <= 1\n 0 <= X_4 <= 1\n 0 <= X_5 <= 1\n 0 <= X_6 <= 1\n 0 <= X_7 <= 1\n 0 <= X_8 <= 1\n 0 <= X_9 <= 1\n 0 <= X_10 <= 1\n 0 <= X_11 <= 1\n 0 <= X_12 <= 1\n 0 <= X_13 <= 1\n 0 <= X_14 <= 1\n\nBinaries\n X_0 X_1 X_2 X_3 X_4 X_5 X_6 X_7 X_8 X_9 X_10 X_11 X_12 X_13 X_14\nEnd\n\n"
     ]
    }
   ],
   "source": [
    "print(qiskit_cost_function.export_as_lp_string())"
   ]
  },
  {
   "cell_type": "code",
   "execution_count": 38,
   "metadata": {},
   "outputs": [],
   "source": [
    "# execute QAOA on local simulator\n",
    "qaoa = QAOA(quantum_instance =\n",
    "             QuantumInstance(backend=qiskit.Aer.get_backend('qasm_simulator'), skip_qobj_validation=False))\n",
    "optimizer_qaoa = MinimumEigenOptimizer(qaoa)\n",
    "\n",
    "result_qaoa = optimizer_qaoa.solve(qiskit_cost_function)\n",
    "\n",
    "\n",
    "\n",
    "results = []\n",
    "\n",
    "for i in range(1):\n",
    "    result_qaoa = optimizer_qaoa.solve(qiskit_cost_function)\n",
    "    results.append(result_qaoa)"
   ]
  },
  {
   "cell_type": "code",
   "execution_count": 39,
   "metadata": {},
   "outputs": [
    {
     "output_type": "execute_result",
     "data": {
      "text/plain": [
       "optimal function value: -39550.0\n",
       "optimal value: [1. 0. 0. 1. 0. 1. 0. 0. 1. 1. 1. 0. 0. 1. 1.]\n",
       "status: SUCCESS"
      ]
     },
     "metadata": {},
     "execution_count": 39
    }
   ],
   "source": [
    "results[0]"
   ]
  },
  {
   "cell_type": "code",
   "execution_count": 40,
   "metadata": {},
   "outputs": [],
   "source": [
    "optimizer = CplexOptimizer() if CplexOptimizer.is_cplex_installed() else None\n",
    "\n",
    "results_classic = []\n",
    "\n",
    "for i in range(2):\n",
    "    result = optimizer.solve(qiskit_cost_function)\n",
    "    results_classic.append(result)"
   ]
  },
  {
   "cell_type": "code",
   "execution_count": 41,
   "metadata": {},
   "outputs": [
    {
     "output_type": "execute_result",
     "data": {
      "text/plain": [
       "[optimal function value: -44550.0\n",
       " optimal value: [1. 0. 0. 1. 1. 1. 0. 0. 1. 1. 1. 0. 0. 1. 1.]\n",
       " status: SUCCESS,\n",
       " optimal function value: -44550.0\n",
       " optimal value: [1. 0. 0. 1. 1. 1. 0. 0. 1. 1. 1. 0. 0. 1. 1.]\n",
       " status: SUCCESS]"
      ]
     },
     "metadata": {},
     "execution_count": 41
    }
   ],
   "source": [
    "results_classic"
   ]
  },
  {
   "cell_type": "code",
   "execution_count": 42,
   "metadata": {},
   "outputs": [
    {
     "output_type": "execute_result",
     "data": {
      "text/plain": [
       "[[['A11', 'A12'], ['A13', 'Z1'], ['Z1']],\n",
       " [['A11', 'A12'], ['A13', 'Z1'], ['Z1']],\n",
       " [['A11', 'A12'], ['A13', 'Z1'], ['Z1']]]"
      ]
     },
     "metadata": {},
     "execution_count": 42
    }
   ],
   "source": [
    "test_sg"
   ]
  },
  {
   "cell_type": "code",
   "execution_count": 43,
   "metadata": {},
   "outputs": [
    {
     "output_type": "execute_result",
     "data": {
      "text/plain": [
       "[1, 1, 1]"
      ]
     },
     "metadata": {},
     "execution_count": 43
    }
   ],
   "source": [
    "passengers"
   ]
  },
  {
   "cell_type": "code",
   "execution_count": 44,
   "metadata": {},
   "outputs": [
    {
     "output_type": "execute_result",
     "data": {
      "text/plain": [
       "15"
      ]
     },
     "metadata": {},
     "execution_count": 44
    }
   ],
   "source": [
    "nr_qubits"
   ]
  },
  {
   "cell_type": "code",
   "execution_count": 45,
   "metadata": {},
   "outputs": [
    {
     "output_type": "execute_result",
     "data": {
      "text/plain": [
       "['100101001110011']"
      ]
     },
     "metadata": {},
     "execution_count": 45
    }
   ],
   "source": [
    "qubit_results = []\n",
    "for result in results:\n",
    "    qubit_string = str(result.x).replace(' ', '').replace('.', '').replace('-', '')[1:-1]\n",
    "    qubit_results.append(qubit_string)\n",
    "qubit_results"
   ]
  },
  {
   "cell_type": "code",
   "execution_count": 46,
   "metadata": {},
   "outputs": [
    {
     "output_type": "execute_result",
     "data": {
      "text/plain": [
       "'10010100'"
      ]
     },
     "metadata": {},
     "execution_count": 46
    }
   ],
   "source": [
    "qubit_results[0][0:8]"
   ]
  },
  {
   "cell_type": "code",
   "execution_count": 47,
   "metadata": {},
   "outputs": [],
   "source": [
    "def interpret_results(result, offset):\n",
    "    for i in range(len(result)):\n",
    "        return\n",
    "        # qubit index is i + offset\n",
    "        # find the nsg entry equal to qubit index\n",
    "        # then get the sg entry\n",
    "        # and return the flight information\n"
   ]
  },
  {
   "cell_type": "code",
   "execution_count": null,
   "metadata": {},
   "outputs": [],
   "source": []
  },
  {
   "cell_type": "code",
   "execution_count": 48,
   "metadata": {},
   "outputs": [
    {
     "output_type": "stream",
     "name": "stdout",
     "text": [
      "[X[11] + X[1] + X[6], X[15] + X[16], X[16], 0]\n"
     ]
    },
    {
     "output_type": "execute_result",
     "data": {
      "text/plain": [
       "P*(X[16] - 1)*X[16] + P*(X[15] + X[16] - 2)*X[15] + P*(X[11] + X[1] + X[6] - 3)*(X[11] - X[15] - X[16] + X[1] + X[6])"
      ],
      "text/latex": "$\\displaystyle P \\left({X}_{16} - 1\\right) {X}_{16} + P \\left({X}_{15} + {X}_{16} - 2\\right) {X}_{15} + P \\left({X}_{11} + {X}_{1} + {X}_{6} - 3\\right) \\left({X}_{11} - {X}_{15} - {X}_{16} + {X}_{1} + {X}_{6}\\right)$"
     },
     "metadata": {},
     "execution_count": 48
    }
   ],
   "source": [
    "#qi = get_qubit_indices('A12')\n",
    "capacity_polynomial('A12', 4)"
   ]
  },
  {
   "cell_type": "code",
   "execution_count": 49,
   "metadata": {},
   "outputs": [
    {
     "output_type": "execute_result",
     "data": {
      "text/plain": [
       "[[['A11', 'A12'], ['A13', 'Z1'], ['Z1']],\n",
       " [['A11', 'A12'], ['A13', 'Z1'], ['Z1']],\n",
       " [['A11', 'A12'], ['A13', 'Z1'], ['Z1']]]"
      ]
     },
     "metadata": {},
     "execution_count": 49
    }
   ],
   "source": [
    "test_sg"
   ]
  },
  {
   "source": [
    "sort out all flights like in the other preprocessing, plus all flights with capacity 0. obvious, but not trivial i think"
   ],
   "cell_type": "markdown",
   "metadata": {}
  },
  {
   "source": [
    "number of sums is not always equal to capacity + 1; if the number of passengers is lower then we can instead use that as an upper bound\n",
    "\n",
    "wait... also if the number of flights is lower. because they can only at most be 1 * flights"
   ],
   "cell_type": "markdown",
   "metadata": {}
  },
  {
   "cell_type": "code",
   "execution_count": 50,
   "metadata": {},
   "outputs": [
    {
     "output_type": "error",
     "ename": "NameError",
     "evalue": "name 'number_qubits' is not defined",
     "traceback": [
      "\u001b[0;31m---------------------------------------------------------------------------\u001b[0m",
      "\u001b[0;31mNameError\u001b[0m                                 Traceback (most recent call last)",
      "\u001b[0;32m<ipython-input-50-4358906f761e>\u001b[0m in \u001b[0;36m<module>\u001b[0;34m\u001b[0m\n\u001b[1;32m      5\u001b[0m     \u001b[0mminuends\u001b[0m\u001b[0;34m.\u001b[0m\u001b[0mappend\u001b[0m\u001b[0;34m(\u001b[0m\u001b[0;36m0\u001b[0m\u001b[0;34m)\u001b[0m\u001b[0;34m\u001b[0m\u001b[0;34m\u001b[0m\u001b[0m\n\u001b[1;32m      6\u001b[0m     \u001b[0;32mfor\u001b[0m \u001b[0mj\u001b[0m \u001b[0;32min\u001b[0m \u001b[0mrange\u001b[0m\u001b[0;34m(\u001b[0m\u001b[0mi\u001b[0m\u001b[0;34m,\u001b[0m \u001b[0;36m4\u001b[0m\u001b[0;34m)\u001b[0m\u001b[0;34m:\u001b[0m\u001b[0;34m\u001b[0m\u001b[0;34m\u001b[0m\u001b[0m\n\u001b[0;32m----> 7\u001b[0;31m         \u001b[0mminuends\u001b[0m\u001b[0;34m[\u001b[0m\u001b[0mi\u001b[0m\u001b[0;34m]\u001b[0m \u001b[0;34m+=\u001b[0m \u001b[0mX\u001b[0m\u001b[0;34m[\u001b[0m\u001b[0mnumber_qubits\u001b[0m \u001b[0;34m+\u001b[0m \u001b[0mj\u001b[0m\u001b[0;34m]\u001b[0m\u001b[0;34m\u001b[0m\u001b[0;34m\u001b[0m\u001b[0m\n\u001b[0m\u001b[1;32m      8\u001b[0m \u001b[0mminuends\u001b[0m\u001b[0;34m.\u001b[0m\u001b[0mappend\u001b[0m\u001b[0;34m(\u001b[0m\u001b[0;36m0\u001b[0m\u001b[0;34m)\u001b[0m\u001b[0;34m\u001b[0m\u001b[0;34m\u001b[0m\u001b[0m\n\u001b[1;32m      9\u001b[0m \u001b[0;34m\u001b[0m\u001b[0m\n",
      "\u001b[0;31mNameError\u001b[0m: name 'number_qubits' is not defined"
     ]
    }
   ],
   "source": [
    "minuends = [X[0]] \n",
    "polynomial = 0\n",
    "\n",
    "for i in range(1, 4):\n",
    "    minuends.append(0)\n",
    "    for j in range(i, 4):\n",
    "        minuends[i] += X[number_qubits + j]\n",
    "minuends.append(0)\n",
    "    \n",
    "for i in range(len(minuends) - 1):\n",
    "    polynomial += ((minuends[i] - (4 - i)) * (minuends[i] - minuends[i + 1]))\n",
    "\n",
    "\n",
    "minuends\n",
    "polynomial"
   ]
  },
  {
   "cell_type": "code",
   "execution_count": null,
   "metadata": {},
   "outputs": [],
   "source": []
  }
 ]
}