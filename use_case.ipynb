{
 "metadata": {
  "language_info": {
   "codemirror_mode": {
    "name": "ipython",
    "version": 3
   },
   "file_extension": ".py",
   "mimetype": "text/x-python",
   "name": "python",
   "nbconvert_exporter": "python",
   "pygments_lexer": "ipython3",
   "version": "3.7.3"
  },
  "orig_nbformat": 4,
  "kernelspec": {
   "name": "python3",
   "display_name": "Python 3.7.3 64-bit ('3.7.3': pyenv)"
  },
  "interpreter": {
   "hash": "447f5fa011c7c47899f91a0b2462b94e9399cdbf5b780c102584eca8c3cd54aa"
  }
 },
 "nbformat": 4,
 "nbformat_minor": 2,
 "cells": [
  {
   "cell_type": "code",
   "execution_count": 1,
   "metadata": {},
   "outputs": [],
   "source": [
    "class Flight:\n",
    "    def __init__(self, start, dest, cost, start_time, landing_time, capacity):\n",
    "        self.start = start\n",
    "        self.dest = dest\n",
    "        self.cost = cost\n",
    "        self.start_time = start_time\n",
    "        self.landing_time = landing_time\n",
    "        self.capacity = capacity"
   ]
  },
  {
   "cell_type": "code",
   "execution_count": 2,
   "metadata": {},
   "outputs": [],
   "source": [
    "class Passenger:\n",
    "    def __init__(self, booking_id, name, dest, planned_departure_time, planned_arrival_time, flight_distance):\n",
    "        self.booking_id = booking_id\n",
    "        self.name = name\n",
    "        self.dest = dest\n",
    "        self.planned_departure_time = planned_departure_time\n",
    "        self.planned_arrival_time = planned_arrival_time\n",
    "        self.flight_distance = flight_distance"
   ]
  },
  {
   "cell_type": "code",
   "execution_count": 3,
   "metadata": {},
   "outputs": [],
   "source": [
    "def get_node_info_from_index(node_index, sg, nsg):\n",
    "    \"\"\" For a given qubit index, returns the corresponding time slice and the node label. \"\"\"\n",
    "\n",
    "    for time_slice in range(len(nsg)):\n",
    "        if node_index in nsg[time_slice]:\n",
    "\n",
    "            pos = nsg[time_slice].index(node_index)\n",
    "            node_label = sg[time_slice][pos]\n",
    "\n",
    "            return time_slice, node_label"
   ]
  },
  {
   "cell_type": "code",
   "execution_count": 4,
   "metadata": {},
   "outputs": [],
   "source": [
    "def result_evaluation(result, offset, sg, nsg, cost_matrix):\n",
    "    \"\"\"\n",
    "    For a given qubit string, returns an explanation of the nodes that are passed per time slice.\n",
    "    \"\"\"\n",
    "    counter = 0\n",
    "    previous_node = None\n",
    "    total_cost = 0\n",
    "    solution_not_valid = False\n",
    "\n",
    "    for i in range(len(result)):\n",
    "        if result[i] == '1':\n",
    "            time_slice, node_label = get_node_info_from_index(i + offset, sg, nsg)\n",
    "            if time_slice != counter:\n",
    "                solution_not_valid = True\n",
    "\n",
    "            if counter == 0:\n",
    "                previous_node = node_label\n",
    "            else:\n",
    "                cost = cost_matrix[previous_node][node_label]\n",
    "                total_cost += cost\n",
    "                print(('\\t\\t\\t\\tcost: {}').format(cost))\n",
    "                previous_node = node_label\n",
    "\n",
    "\n",
    "            print(('node {} at time slice {}').format(node_label, time_slice))\n",
    "\n",
    "            counter += 1\n",
    "\n",
    "            \n",
    "    print(('\\ntotal cost: {}').format(total_cost))\n",
    "    if total_cost >= 500 or solution_not_valid:\n",
    "        print('\\nIt seems like no valid solution could be found. This solution disregards at least one constraint.')\n",
    "\n",
    "    return"
   ]
  },
  {
   "cell_type": "code",
   "execution_count": 5,
   "metadata": {},
   "outputs": [],
   "source": [
    "def get_unique_nodes(edge_list):\n",
    "    \"\"\"\n",
    "    Creates a list of all unique nodes appearing in a given graph.\n",
    "    The start node is added by default; every other node is only included\n",
    "    if it can be reached from another node. Isolated nodes will not be \n",
    "    added to the list, unless they happen to be the start node.\n",
    "    \"\"\"\n",
    "    \n",
    "    nr_nodes = 0\n",
    "    unique_nodes = []\n",
    "\n",
    "    for edge in edge_list:\n",
    "        if edge[0] not in unique_nodes:\n",
    "            unique_nodes.append(edge[0])\n",
    "        if edge[1] not in unique_nodes:\n",
    "            unique_nodes.append(edge[1])\n",
    "\n",
    "    return unique_nodes"
   ]
  },
  {
   "cell_type": "code",
   "execution_count": 6,
   "metadata": {},
   "outputs": [],
   "source": [
    "def construct_sliced_graph(flight_dict, start, dest):\n",
    "    \"\"\"\n",
    "    Constructs a two-dimensional array from a list of edges. Each subarray represents \n",
    "    one time slice. The returned array contains the specified start node in the \n",
    "    first sub-array; based on this start node, every node that can be reached in \n",
    "    n steps is present in the nth subarray. Nodes that can be reached in a different \n",
    "    amount of steps are present in every fitting subarray.\n",
    "    \"\"\"\n",
    "\n",
    "    # we define a new dict 'flights' here, this is local\n",
    "    # gets updated with the zero-cost edge with both start and destination = dest\n",
    "    flight_dict.update({'Z' + str(dest) : Flight(dest, dest, 0,0,0,0)})\n",
    "    flights = flight_dict.copy()\n",
    "    \n",
    "    # every supplementary flight Z gets removed except for the one relevant here\n",
    "    for f in list(flights.keys()):\n",
    "        if f[0] == 'Z' and f[1:] != str(dest):\n",
    "            del flights[f]\n",
    "\n",
    "\n",
    "    sg = []\n",
    "    sg.append([flight for flight in flights if flights[flight].start == start])\n",
    "\n",
    "    nr_unique_nodes = len(get_unique_nodes(flights))\n",
    "\n",
    "    for k in range(nr_unique_nodes):\n",
    "        if len(sg[k]) != 0 and not (len(sg[k]) == 1 and flights[sg[k][0]].dest == dest):\n",
    "            sg.append([])\n",
    "            for f1 in flights:\n",
    "                for f2 in sg[k]:\n",
    "                    if flights[f1].start == flights[f2].dest:\n",
    "                        sg[k+1].append(f1)\n",
    "                        break \n",
    "        else:\n",
    "            break\n",
    "\n",
    "    # sort out any flights in the last slice that do not lead to destination\n",
    "    sg[-1] = [f for f in sg[-1] if flights[f].dest == dest]\n",
    "\n",
    "    # going back, we can eliminate edges (flights) that won't lead \n",
    "    # to places that the flights in the next slice depart from, \n",
    "    # a.k.a. dead ends\n",
    "\n",
    "    for i in range(len(sg) - 1):\n",
    "        edges_to_remove = []\n",
    "        index = len(sg) - 1 - i  # since we count backwards\n",
    "\n",
    "        for j in sg[index - 1]:\n",
    "            leads_to_next_slice = 0  # number of edges in the next slice that sg[index-1][j] is connected to\n",
    "            dest_j = flights[j].dest\n",
    "            for k in sg[index]:\n",
    "\n",
    "                # for each node in the next slice, add 1 if sg[index-1][j] is connected to it, 0 if not\n",
    "                if dest_j == flights[k].start:\n",
    "                    leads_to_next_slice += 1\n",
    "                \n",
    "\n",
    "            # if leads_to_next_slice is zero, it means sg[index-1][j] is not connected to any node in the next slice; essentially a dead end. \n",
    "            # it is removed, and any node in the previous slice that only connected to it will thus also be a dead end, and will be removed. etc., etc.\n",
    "            if leads_to_next_slice == 0:\n",
    "                edges_to_remove.append(j)\n",
    "\n",
    "        for edge in edges_to_remove:\n",
    "            sg[index-1].remove(edge)\n",
    "\n",
    "    slices_to_remove = []\n",
    "    for i in range(len(sg)):\n",
    "        index = len(sg) - 1 - i\n",
    "\n",
    "        if len(sg[index]) == 1 and flights[sg[index][0]].dest == dest:\n",
    "            slices_to_remove.append(index)\n",
    "        else:\n",
    "            break\n",
    "    \n",
    "    for i in slices_to_remove:\n",
    "        del sg[i]\n",
    "\n",
    "    return sg"
   ]
  },
  {
   "cell_type": "code",
   "execution_count": 7,
   "metadata": {},
   "outputs": [],
   "source": [
    "def construct_numbered_sliced_graph(sg, offset):\n",
    "    \"\"\"\n",
    "    Based on a two-dimensional array that constructed time slices from a graph,\n",
    "    renumbers the contents by giving each element its index in the corresponding \n",
    "    flattened array. Since the numbered sliced graph is used for getting the qubit \n",
    "    indices of the nodes, and since there are several sliced graphs, an offset is\n",
    "    necessary.\n",
    "    Example: With input ([[0], [1, 3], [2, 3]], 0), output would be [[0], [1, 2], [3, 4]].\n",
    "    With input ([[0], [1, 3], [2, 3], [4, 3]], 5), output would be [[5], [6, 7], [8, 9], [10, 11]].\n",
    "    \"\"\"\n",
    "    \n",
    "    nsg = [] # numbered sliced graph\n",
    "    node_counter = 0\n",
    "\n",
    "    for m in range(len(sg)):\n",
    "        nsg.append([])\n",
    "        for n in range(len(sg[m])):\n",
    "            nsg[m].append(node_counter + offset)\n",
    "            node_counter+=1\n",
    "    \n",
    "    return nsg, node_counter"
   ]
  },
  {
   "cell_type": "code",
   "execution_count": 8,
   "metadata": {},
   "outputs": [],
   "source": [
    "def flight_cost(flight):\n",
    "    \"\"\"\n",
    "    Returns the flight cost for a given flight, identified by its flight number.\n",
    "    \"\"\"\n",
    "    \n",
    "    return flights[flight].cost"
   ]
  },
  {
   "cell_type": "code",
   "execution_count": 9,
   "metadata": {},
   "outputs": [],
   "source": [
    "def transfer_check(flight_1, flight_2, passenger_index):\n",
    "    \"\"\"\n",
    "    For two given flights, checks if the time inbetween is \n",
    "    smaller than the minimum transfer time. If yes, returns \n",
    "    the specified penalty value. If no, returns 0. If the\n",
    "    flights are not connecting flights, returns 0.\n",
    "    \"\"\"\n",
    "\n",
    "    dest_flight_1 = flights[flight_1].dest\n",
    "    start_flight_2 = flights[flight_2].start\n",
    "\n",
    "    destination = passengers[passenger_index].dest\n",
    "\n",
    "    if dest_flight_1 == start_flight_2 and dest_flight_1 == destination:\n",
    "        return 0\n",
    "    elif dest_flight_1 != start_flight_2: # the flights are not connecting flights\n",
    "        return penalty\n",
    "    else:\n",
    "        landing_time = flights[flight_1].landing_time\n",
    "        start_time = flights[flight_2].start_time\n",
    "\n",
    "        if start_time - landing_time < 1:\n",
    "            return penalty\n",
    "        else:\n",
    "            return 0"
   ]
  },
  {
   "source": [
    "def transfer_time(flight_1, flight_2):\n",
    "    \"\"\"\n",
    "    For two given flights, returns the time transfer time.\n",
    "    If flights aren't connected or the transfer time is \n",
    "    negative (second flight starts earlier than first one\n",
    "    lands), returns 0.\n",
    "    \"\"\"\n",
    "\n",
    "    dest_flight_1 = flights[flight_1].dest\n",
    "    start_flight_2 = flights[flight_2].start\n",
    "\n",
    "    if dest_flight_1 != start_flight_2:\n",
    "        return 0\n",
    "\n",
    "    landing_time_flight_1 = flights.get(flight_1).landing_time\n",
    "    start_time_flight_2 = flights.get(flight_2).start_time\n",
    "\n",
    "    transfer_duration = start_time_flight_2 - landing_time_flight_1\n",
    "\n",
    "    if transfer_duration < 0:\n",
    "        return 0\n",
    "    else:\n",
    "        return transfer_duration"
   ],
   "cell_type": "code",
   "metadata": {},
   "execution_count": 10,
   "outputs": []
  },
  {
   "cell_type": "code",
   "execution_count": 11,
   "metadata": {},
   "outputs": [],
   "source": [
    "def connection_check(flight_1, flight_2):\n",
    "    \"\"\"\n",
    "    For two given flights, checks if the destination of\n",
    "    the first is the start of the second, i.e. if they are\n",
    "    connecting flights. If yes, return 0, if not, return\n",
    "    the specified penalty value.\n",
    "    \"\"\"\n",
    "\n",
    "    destination = flights[flight_1].landing_time\n",
    "    start = flights[flight_2].start_time\n",
    "\n",
    "    if destination != start:\n",
    "        return penalty\n",
    "    else:\n",
    "        return 0"
   ]
  },
  {
   "source": [
    "#def capacity_polynomial(flight, nrpassengers):\n",
    "\n",
    "#    if flight[0] == 'Z':\n",
    "#        return 0\n",
    "#    \n",
    "#    qubit_indices = []\n",
    "\n",
    "#    for k in range(len(passengers)):\n",
    "#        for c in range(len(test_sg[k])):\n",
    "#            for e in range(len(test_sg[k][c])):\n",
    "#                if test_sg[k][c][e] == flight:\n",
    "#                    qubit_indices.append(X[test_nsg[k][c][e]])\n",
    "    \n",
    "#    capacity = flights[flight].capacity\n",
    "\n",
    "#    sum_vars = 0\n",
    "#    for i in qubit_indices:\n",
    "#        sum_vars += i\n",
    "\n",
    "#    global nr_qubits\n",
    "\n",
    "#    nr_addends = nrpassengers if nrpassengers < capacity else capacity # maybe one could just reference the passenger var\n",
    "#    nr_addends = nr_addends if nr_addends < len(qubit_indices) else len(qubit_indices)\n",
    "\n",
    "#    if nr_addends == 0:\n",
    "#        return 0  # this is okay if all flights with capacity 0 are sorted out at the beginning\n",
    "#    else:\n",
    "#        # we need nr_addends - 1 vars\n",
    "#        polynomial = 0\n",
    "#        minuends = [0]\n",
    "\n",
    "#        for i in qubit_indices:\n",
    "#            minuends[0] += i \n",
    "\n",
    "#        for i in range(1, nr_addends):\n",
    "#            minuends.append(0)\n",
    "#            for j in range(i, nr_addends):\n",
    "#                minuends[i] += X[nr_qubits + j - 1]\n",
    "#        minuends.append(0)\n",
    "\n",
    "#        print(minuends)\n",
    "            \n",
    "#        for i in range(len(minuends) - 1):\n",
    "#            polynomial += P * ((minuends[i] - (nr_addends - i)) * (minuends[i] - minuends[i + 1]))\n",
    "\n",
    "\n",
    "#        nr_qubits += nr_addends - 1\n",
    "\n",
    "#        return polynomial"
   ],
   "cell_type": "code",
   "metadata": {},
   "execution_count": 12,
   "outputs": []
  },
  {
   "cell_type": "code",
   "execution_count": 15,
   "metadata": {},
   "outputs": [],
   "source": [
    "def waiting_time(passenger, flight):\n",
    "    wait = flights[flight].start_time - passengers[passenger].planned_departure_time\n",
    "\n",
    "    # this can be adapted. maybe it makes sense to use the absolute value of wait, not sure\n",
    "    if wait < 0 or flight[0] == 'Z':\n",
    "        wait = 0\n",
    "    \n",
    "    return wait"
   ]
  },
  {
   "cell_type": "code",
   "execution_count": 13,
   "metadata": {},
   "outputs": [],
   "source": [
    "def get_qubit_indices(flight):\n",
    "    qubit_indices = []\n",
    "\n",
    "    for k in range(len(passengers)):\n",
    "        for c in range(len(test_sg[k])):\n",
    "            for e in range(len(test_sg[k][c])):\n",
    "                if test_sg[k][c][e] == flight:\n",
    "                    qubit_indices.append(test_nsg[k][c][e])\n",
    "\n",
    "    return qubit_indices"
   ]
  },
  {
   "cell_type": "code",
   "execution_count": 14,
   "metadata": {},
   "outputs": [],
   "source": [
    "def add_capacity_constraints(cost_func, flights, nrpassengers):\n",
    "    for flight in flights:\n",
    "        if flight[0] != 'Z':\n",
    "\n",
    "            capacity = flights[flight].capacity\n",
    "            upper_bound = nrpassengers if nrpassengers < capacity else capacity\n",
    "            \n",
    "            qubit_indices = get_qubit_indices(flight)\n",
    "\n",
    "            if upper_bound > len(qubit_indices):\n",
    "                upper_bound = len(qubit_indices)\n",
    "\n",
    "            if len(qubit_indices) > upper_bound:\n",
    "\n",
    "                # specifies which qubits will be summed up for the constraint. \n",
    "                # the coefficients for any qubit are always 1, since we just add them up\n",
    "                linear_coefficients = {} \n",
    "\n",
    "                for q in qubit_indices:\n",
    "                    qubit_name = 'X_' + str(q)\n",
    "                    linear_coefficients.update({q: 1})\n",
    "\n",
    "                cost_func.linear_constraint(linear=linear_coefficients, sense='<=', rhs=upper_bound, name=('capacity_constraint_' + flight))"
   ]
  },
  {
   "cell_type": "code",
   "execution_count": 16,
   "metadata": {},
   "outputs": [],
   "source": [
    "import sympy as sym\n",
    "import matplotlib.pyplot as plt\n",
    "import pandas as pd\n",
    "import time\n",
    "import networkx as nx\n",
    "import matplotlib.pyplot as plt"
   ]
  },
  {
   "cell_type": "code",
   "execution_count": 17,
   "metadata": {},
   "outputs": [],
   "source": [
    "# data\n",
    "edge_data = [\n",
    "    ('A11', 0, 1, 160, 8, 10, 2),\n",
    "    ('A12', 0, 2, 60, 8.5, 9.5, 2), \n",
    "    ('A13', 0, 3, 215, 7.5, 10.5, 1), \n",
    "    ('A14', 2, 1, 80, 10.5, 12, 2), \n",
    "    ('A15', 2, 3, 75, 10, 11, 2),\n",
    "    ('A16', 1, 3, 40, 13, 14, 1)\n",
    "    ]\n",
    "\n",
    "# cost, without fluggastverordnung:\n",
    "## passenger 1: A11\n",
    "## passenger 2: A12, A14\n",
    "## passenger 3: A12, A14, A16\n",
    "\n",
    "# cost, with fluggastverordnung:\n",
    "## passenger 1: A11\n",
    "## passenger 2: A12, A14\n",
    "## passenger 3: A13\n",
    "\n",
    "# time:\n",
    "## passenger 1: A11\n",
    "## passenger 2: A11\n",
    "## passenger 3: A13\n",
    "\n",
    "# removing flights with 0 capacity\n",
    "edge_data = [edge for edge in edge_data if edge[6] > 0]\n",
    "\n",
    "flights = {}\n",
    "\n",
    "for edge in edge_data:\n",
    "    flights.update({edge[0] : Flight(*edge[1:])})\n",
    "\n",
    "\n",
    "# not a dict because we use the passengers' indices in this list rather than a booking id for identification. order is important here\n",
    "passengers = [\n",
    "    Passenger(\"HX7R2W\", \"Akiko Takeda\", 1, 8, 9, 340),\n",
    "    Passenger(\"L5D32X\", \"B\", 1, 8.5, 10.5, 400),\n",
    "    Passenger(\"N7LR19\", \"C\", 3, 7, 8.5, 610)\n",
    "]\n",
    "\n",
    "start_node = 0\n",
    "penalty = 5000"
   ]
  },
  {
   "cell_type": "code",
   "execution_count": 18,
   "metadata": {},
   "outputs": [],
   "source": [
    "#display_graph = nx.DiGraph()  # create an nx instance of a directed graph\n",
    "#edge_labels = {}\n",
    "\n",
    "#for edge in edge_data:\n",
    "#    edge_labels.update({(edge[1], edge[2]) : edge[0]})\n",
    "\n",
    "#    display_graph.add_weighted_edges_from([\n",
    "#        edge[1:4]\n",
    "#        ])"
   ]
  },
  {
   "cell_type": "code",
   "execution_count": 19,
   "metadata": {},
   "outputs": [
    {
     "output_type": "execute_result",
     "data": {
      "text/plain": [
       "17"
      ]
     },
     "metadata": {},
     "execution_count": 19
    }
   ],
   "source": [
    "test_sg = []\n",
    "test_nsg = []\n",
    "nodes_total = 0\n",
    "\n",
    "for k in range(len(passengers)):\n",
    "    test_sg.append(construct_sliced_graph(flights, start_node, passengers[k].dest))\n",
    "\n",
    "    numbered_subgraph, nr_nodes_subgraph = construct_numbered_sliced_graph(test_sg[k], offset=nodes_total)\n",
    "    test_nsg.append(numbered_subgraph)\n",
    "\n",
    "    nodes_total += nr_nodes_subgraph\n",
    "\n",
    "nr_qubits = nodes_total\n",
    "nr_qubits"
   ]
  },
  {
   "cell_type": "code",
   "execution_count": 20,
   "metadata": {},
   "outputs": [],
   "source": [
    "def fgrvo_penalties(passengers, flights):\n",
    "    \"\"\"\n",
    "    Simplified version of the EU regulations on flight annulations.\n",
    "    Returns a dict: keys are the passenger index and the flight number,\n",
    "    value is the penalty. In cases where the flight leads to the passenger's\n",
    "    destination, the penalty is determined, in any other case, the value is 0.\n",
    "    \"\"\"\n",
    "    fgrvo_dict = {}\n",
    "\n",
    "    for k in range(len(passengers)):\n",
    "        passenger = passengers[k]\n",
    "\n",
    "        for f in flights:\n",
    "            flight = flights[f]\n",
    "            if f[0] == \"Z\":\n",
    "                penalty = 0\n",
    "        \n",
    "            elif passenger.dest == flight.dest:\n",
    "                if passenger.flight_distance <= 1500:\n",
    "                    if flight.landing_time - passenger.planned_arrival_time <= 2:\n",
    "                        penalty = 125\n",
    "                    else:\n",
    "                        penalty = 250\n",
    "                elif passenger.flight_distance <= 3500:\n",
    "                    if flight.landing_time - passenger.planned_arrival_time <= 3:\n",
    "                        penalty = 200\n",
    "                    else:\n",
    "                        penalty = 400\n",
    "                elif passenger.flight_distance > 3500:\n",
    "                    if flight.landing_time - passenger.planned_arrival_time <= 4:\n",
    "                        penalty = 300\n",
    "                    else:\n",
    "                        penalty = 600\n",
    "                else:\n",
    "                    penalty = 0\n",
    "                \n",
    "            else:\n",
    "                penalty = 0\n",
    "                \n",
    "                \n",
    "            fgrvo_dict.update({ fgrvo[k, f] : penalty })\n",
    "\n",
    "    return fgrvo_dict"
   ]
  },
  {
   "cell_type": "code",
   "execution_count": 21,
   "metadata": {},
   "outputs": [],
   "source": [
    "k = sym.symbols('k') # passengers\n",
    "c = sym.symbols('c') # slices\n",
    "e = sym.symbols('e') # edges\n",
    "f = sym.symbols('f') # edges\n",
    "X = sym.IndexedBase('X') # binary vars for qubits\n",
    "P = sym.symbols('P') # penalty\n",
    "\n",
    "edge1 = sym.symbols('edge1') # edges\n",
    "edge2 = sym.symbols('edge2') # edges\n",
    "\n",
    "nrpassengers = sym.symbols('nrpassengers')\n",
    "nrflights = sym.symbols('nrflights')\n",
    "\n",
    "nrslices = sym.IndexedBase('nrslices')\n",
    "nredges = sym.IndexedBase('nredges')\n",
    "\n",
    "sg = sym.IndexedBase('sg')\n",
    "nsg = sym.IndexedBase('nsg')\n",
    "\n",
    "validtransfer = sym.IndexedBase('validtransfer')\n",
    "transfertime = sym.IndexedBase('transfertime')\n",
    "connection = sym.IndexedBase('connection')\n",
    "cost = sym.IndexedBase('cost')\n",
    "flightduration = sym.IndexedBase('flightduration')\n",
    "capacity = sym.IndexedBase('capacity')\n",
    "fgrvo = sym.IndexedBase('fgrvo')\n",
    "waitingtime = sym.IndexedBase('waitingtime')\n",
    "\n",
    "flightlist = sym.IndexedBase('flightlist')"
   ]
  },
  {
   "cell_type": "code",
   "execution_count": 22,
   "metadata": {},
   "outputs": [
    {
     "output_type": "execute_result",
     "data": {
      "text/plain": [
       "Sum(Sum(P*(Sum(X[nsg[k, c, e]], (e, 0, nredges[k, c] - 1)) - 1)**2, (c, 0, nrslices[k] - 1)) + 2*Sum(0.5*Sum(X[nsg[k, c, e]]*cost[sg[k, c, e]], (e, 0, nredges[k, c] - 1)), (c, 0, nrslices[k] - 1)) + Sum(2*Sum(0.5*Sum(X[nsg[k, c + 1, edge2]]*X[nsg[k, c, edge1]]*validtransfer[sg[k, c, edge1], sg[k, c + 1, edge2], k], (edge2, 0, nredges[k, c + 1] - 1)), (edge1, 0, nredges[k, c] - 1)), (c, 0, nrslices[k] - 2)), (k, 0, nrpassengers - 1))"
      ],
      "text/latex": "$\\displaystyle \\sum_{k=0}^{nrpassengers - 1} \\left(\\sum_{c=0}^{{nrslices}_{k} - 1} P \\left(\\sum_{e=0}^{{nredges}_{k,c} - 1} {X}_{{nsg}_{k,c,e}} - 1\\right)^{2} + 2 \\sum_{c=0}^{{nrslices}_{k} - 1} 0.5 \\sum_{e=0}^{{nredges}_{k,c} - 1} {X}_{{nsg}_{k,c,e}} {cost}_{{sg}_{k,c,e}} + \\sum_{c=0}^{{nrslices}_{k} - 2} 2 \\sum_{edge_{1}=0}^{{nredges}_{k,c} - 1} 0.5 \\sum_{edge_{2}=0}^{{nredges}_{k,c + 1} - 1} {X}_{{nsg}_{k,c + 1,edge_{2}}} {X}_{{nsg}_{k,c,edge_{1}}} {validtransfer}_{{sg}_{k,c,edge_{1}},{sg}_{k,c + 1,edge_{2}},k}\\right)$"
     },
     "metadata": {},
     "execution_count": 22
    }
   ],
   "source": [
    "# only one flight in each time slice\n",
    "# cost of flights\n",
    "# enough transfer time\n",
    "# fgrvo!\n",
    "cost_function = sym.Sum(\n",
    "    sym.Sum(\n",
    "        P * (sym.Sum(\n",
    "            X[nsg[k,c,e]]\n",
    "            , (e, 0, nredges[k,c]-1)\n",
    "            ) - 1)**2\n",
    "        , (c, 0, nrslices[k]-1)\n",
    "    ) + 2 *\n",
    "    sym.Sum(\n",
    "        0.5 *\n",
    "        sym.Sum(\n",
    "            X[nsg[k,c,e]] * cost[sg[k,c,e]] \n",
    "    \n",
    "            , (e, 0, nredges[k,c]-1)\n",
    "    )\n",
    "        , (c, 0, nrslices[k]-1)\n",
    "    )\n",
    "    +\n",
    "    sym.Sum( 2 *\n",
    "        sym.Sum( 0.5 *\n",
    "            sym.Sum(\n",
    "                (X[nsg[k,c,edge1]] * X[nsg[k,c+1,edge2]] * validtransfer[sg[k,c,edge1], sg[k,c+1,edge2], k])\n",
    "                \n",
    "                , (edge2, 0, nredges[k,c+1]-1)\n",
    "            )\n",
    "            , (edge1, 0, nredges[k,c]-1)\n",
    "        )\n",
    "        , (c, 0, nrslices[k]-2)\n",
    "    )\n",
    "    \n",
    "    \n",
    "    , (k, 0, nrpassengers-1) \n",
    ")\n",
    "cost_function"
   ]
  },
  {
   "cell_type": "code",
   "execution_count": 23,
   "metadata": {},
   "outputs": [
    {
     "output_type": "execute_result",
     "data": {
      "text/plain": [
       "Sum(Sum(P*(Sum(X[nsg[k, c, e]], (e, 0, nredges[k, c] - 1)) - 1)**2, (c, 0, nrslices[k] - 1)) + 2*Sum(0.5*Sum(X[nsg[k, c, e]]*cost[sg[k, c, e]], (e, 0, nredges[k, c] - 1)), (c, 0, nrslices[k] - 1)) + Sum(2*Sum(0.5*Sum(X[nsg[k, c + 1, edge2]]*X[nsg[k, c, edge1]]*validtransfer[sg[k, c, edge1], sg[k, c + 1, edge2], k], (edge2, 0, nredges[k, c + 1] - 1)), (edge1, 0, nredges[k, c] - 1)), (c, 0, nrslices[k] - 2)), (k, 0, nrpassengers - 1))"
      ],
      "text/latex": "$\\displaystyle \\sum_{k=0}^{nrpassengers - 1} \\left(\\sum_{c=0}^{{nrslices}_{k} - 1} P \\left(\\sum_{e=0}^{{nredges}_{k,c} - 1} {X}_{{nsg}_{k,c,e}} - 1\\right)^{2} + 2 \\sum_{c=0}^{{nrslices}_{k} - 1} 0.5 \\sum_{e=0}^{{nredges}_{k,c} - 1} {X}_{{nsg}_{k,c,e}} {cost}_{{sg}_{k,c,e}} + \\sum_{c=0}^{{nrslices}_{k} - 2} 2 \\sum_{edge_{1}=0}^{{nredges}_{k,c} - 1} 0.5 \\sum_{edge_{2}=0}^{{nredges}_{k,c + 1} - 1} {X}_{{nsg}_{k,c + 1,edge_{2}}} {X}_{{nsg}_{k,c,edge_{1}}} {validtransfer}_{{sg}_{k,c,edge_{1}},{sg}_{k,c + 1,edge_{2}},k}\\right)$"
     },
     "metadata": {},
     "execution_count": 23
    }
   ],
   "source": [
    "# only one flight in each time slice\n",
    "# cost of flights\n",
    "# enough transfer time\n",
    "# fgrvo\n",
    "cost_function_fgrvo = sym.Sum(\n",
    "    sym.Sum(\n",
    "        P * (sym.Sum(\n",
    "            X[nsg[k,c,e]]\n",
    "            , (e, 0, nredges[k,c]-1)\n",
    "            ) - 1)**2\n",
    "        , (c, 0, nrslices[k]-1)\n",
    "    ) + 2 *\n",
    "    sym.Sum(\n",
    "        0.5 *\n",
    "        sym.Sum(\n",
    "            X[nsg[k,c,e]] * cost[sg[k,c,e]] \n",
    "    \n",
    "            , (e, 0, nredges[k,c]-1)\n",
    "    )\n",
    "        , (c, 0, nrslices[k]-1)\n",
    "    ) + 2 *\n",
    "    sym.Sum(\n",
    "        0.5 *\n",
    "        sym.Sum(\n",
    "            X[nsg[k,c,e]] * fgrvo[k, sg[k,c,e]]\n",
    "    \n",
    "            , (e, 0, nredges[k,c]-1)\n",
    "    )\n",
    "        , (c, 0, nrslices[k]-1)\n",
    "    )   \n",
    "    +\n",
    "\n",
    "    sym.Sum( 2 *\n",
    "        sym.Sum( 0.5 *\n",
    "            sym.Sum(\n",
    "                (X[nsg[k,c,edge1]] * X[nsg[k,c+1,edge2]] * validtransfer[sg[k,c,edge1], sg[k,c+1,edge2], k])\n",
    "                \n",
    "                , (edge2, 0, nredges[k,c+1]-1)\n",
    "            )\n",
    "            , (edge1, 0, nredges[k,c]-1)\n",
    "        )\n",
    "        , (c, 0, nrslices[k]-2)\n",
    "    )\n",
    "    \n",
    "    , (k, 0, nrpassengers-1) \n",
    ")\n",
    "cost_function"
   ]
  },
  {
   "source": [
    "# takes total duration per passenger as metric instead of cost\n",
    "cost_function_time = sym.Sum(\n",
    "    sym.Sum(\n",
    "        P * (sym.Sum(\n",
    "            X[nsg[k,c,e]]\n",
    "            , (e, 0, nredges[k,c]-1)\n",
    "            ) - 1)**2\n",
    "        , (c, 0, nrslices[k]-1)\n",
    "    ) + 2 *\n",
    "    sym.Sum(\n",
    "        0.5 *\n",
    "        sym.Sum(\n",
    "            X[nsg[k,c,e]] * flightduration[sg[k,c,e]], (e, 0, nredges[k,c]-1)\n",
    "    )\n",
    "        , (c, 0, nrslices[k]-1)\n",
    "    ) \n",
    "    + \n",
    "\n",
    "    sym.Sum( 2 *\n",
    "        sym.Sum( 0.5 *\n",
    "            sym.Sum(\n",
    "                (X[nsg[k,c,edge1]] * X[nsg[k,c+1,edge2]] * validtransfer[sg[k,c,edge1], sg[k,c+1,edge2], k])\n",
    "\n",
    "                \n",
    "                , (edge2, 0, nredges[k,c+1]-1)\n",
    "            )\n",
    "            , (edge1, 0, nredges[k,c]-1)\n",
    "        )\n",
    "        , (c, 0, nrslices[k]-2)\n",
    "    ) + \n",
    "\n",
    "    sym.Sum( 200 *\n",
    "        sym.Sum( 0.5 *\n",
    "            sym.Sum(\n",
    "                X[nsg[k,c,edge1]] * X[nsg[k,c+1,edge2]] * transfertime[sg[k,c,edge1], sg[k,c+1,edge2]]\n",
    "\n",
    "                \n",
    "                , (edge2, 0, nredges[k,c+1]-1)\n",
    "            )\n",
    "            , (edge1, 0, nredges[k,c]-1)\n",
    "        )\n",
    "        , (c, 0, nrslices[k]-2)\n",
    "    ) +\n",
    "    sym.Sum( X[nsg[k, 0, e]] * waitingtime[k, sg[k, 0, e]]  , (e, 0, nredges[k, 0] - 1))\n",
    "    \n",
    "    \n",
    "    , (k, 0, nrpassengers-1) \n",
    ")\n",
    "cost_function_time"
   ],
   "cell_type": "code",
   "metadata": {},
   "execution_count": 24,
   "outputs": [
    {
     "output_type": "execute_result",
     "data": {
      "text/plain": [
       "Sum(Sum(P*(Sum(X[nsg[k, c, e]], (e, 0, nredges[k, c] - 1)) - 1)**2, (c, 0, nrslices[k] - 1)) + Sum(X[nsg[k, 0, e]]*waitingtime[k, sg[k, 0, e]], (e, 0, nredges[k, 0] - 1)) + 2*Sum(0.5*Sum(X[nsg[k, c, e]]*flightduration[sg[k, c, e]], (e, 0, nredges[k, c] - 1)), (c, 0, nrslices[k] - 1)) + Sum(200*Sum(0.5*Sum(X[nsg[k, c + 1, edge2]]*X[nsg[k, c, edge1]]*transfertime[sg[k, c, edge1], sg[k, c + 1, edge2]], (edge2, 0, nredges[k, c + 1] - 1)), (edge1, 0, nredges[k, c] - 1)), (c, 0, nrslices[k] - 2)) + Sum(2*Sum(0.5*Sum(X[nsg[k, c + 1, edge2]]*X[nsg[k, c, edge1]]*validtransfer[sg[k, c, edge1], sg[k, c + 1, edge2], k], (edge2, 0, nredges[k, c + 1] - 1)), (edge1, 0, nredges[k, c] - 1)), (c, 0, nrslices[k] - 2)), (k, 0, nrpassengers - 1))"
      ],
      "text/latex": "$\\displaystyle \\sum_{k=0}^{nrpassengers - 1} \\left(\\sum_{c=0}^{{nrslices}_{k} - 1} P \\left(\\sum_{e=0}^{{nredges}_{k,c} - 1} {X}_{{nsg}_{k,c,e}} - 1\\right)^{2} + \\sum_{e=0}^{{nredges}_{k,0} - 1} {X}_{{nsg}_{k,0,e}} {waitingtime}_{k,{sg}_{k,0,e}} + 2 \\sum_{c=0}^{{nrslices}_{k} - 1} 0.5 \\sum_{e=0}^{{nredges}_{k,c} - 1} {X}_{{nsg}_{k,c,e}} {flightduration}_{{sg}_{k,c,e}} + \\sum_{c=0}^{{nrslices}_{k} - 2} 200 \\sum_{edge_{1}=0}^{{nredges}_{k,c} - 1} 0.5 \\sum_{edge_{2}=0}^{{nredges}_{k,c + 1} - 1} {X}_{{nsg}_{k,c + 1,edge_{2}}} {X}_{{nsg}_{k,c,edge_{1}}} {transfertime}_{{sg}_{k,c,edge_{1}},{sg}_{k,c + 1,edge_{2}}} + \\sum_{c=0}^{{nrslices}_{k} - 2} 2 \\sum_{edge_{1}=0}^{{nredges}_{k,c} - 1} 0.5 \\sum_{edge_{2}=0}^{{nredges}_{k,c + 1} - 1} {X}_{{nsg}_{k,c + 1,edge_{2}}} {X}_{{nsg}_{k,c,edge_{1}}} {validtransfer}_{{sg}_{k,c,edge_{1}},{sg}_{k,c + 1,edge_{2}},k}\\right)$"
     },
     "metadata": {},
     "execution_count": 24
    }
   ]
  },
  {
   "cell_type": "code",
   "execution_count": 25,
   "metadata": {},
   "outputs": [],
   "source": [
    "single_values_dict = {\n",
    "    P: penalty,\n",
    "    nrpassengers: len(passengers), \n",
    "    nrflights: len(flights)\n",
    "    }\n",
    "\n",
    "nsg_dict = {\n",
    "    nsg[k,c,e]: test_nsg[k][c][e] \n",
    "    for k in range(len(passengers)) \n",
    "    for c in range(len(test_nsg[k])) \n",
    "    for e in range(len(test_nsg[k][c]))\n",
    "}\n",
    "\n",
    "sg_dict = {\n",
    "    sg[k,c,e]: test_sg[k][c][e] \n",
    "    for k in range(len(passengers)) \n",
    "    for c in range(len(test_sg[k])) \n",
    "    for e in range(len(test_sg[k][c]))\n",
    "}\n",
    "\n",
    "nr_slices_dict = {\n",
    "    nrslices[k]: len(test_sg[k]) \n",
    "    for k in range(len(passengers))\n",
    "}\n",
    "\n",
    "nr_edges_dict = {\n",
    "    nredges[k,c]: len(test_sg[k][c]) \n",
    "    for k in range(len(passengers)) \n",
    "    for c in range(len(test_sg[k]))\n",
    "}\n",
    "\n",
    "cost_dict = {\n",
    "    cost[edge]: flight_cost(edge)\n",
    "    for k in range(len(passengers)) \n",
    "    for c in range(len(test_sg[k])) \n",
    "    for edge in test_sg[k][c]\n",
    "}\n",
    "\n",
    "valid_transfer_dict = {\n",
    "    validtransfer[edge1, edge2, k]: transfer_check(edge1, edge2, k) \n",
    "    for k in range(len(passengers)) \n",
    "    for c in range(len(test_sg[k]) - 1) \n",
    "    for edge1 in test_sg[k][c] \n",
    "    for edge2 in test_sg[k][c+1]\n",
    "}\n",
    "\n",
    "transfer_time_dict = {\n",
    "    transfertime[edge1, edge2]: transfer_time(edge1, edge2) \n",
    "    for k in range(len(passengers)) \n",
    "    for c in range(len(test_sg[k]) - 1) \n",
    "    for edge1 in test_sg[k][c] \n",
    "    for edge2 in test_sg[k][c+1]\n",
    "}\n",
    "\n",
    "flight_duration_dict = {\n",
    "    flightduration[f]: flights[f].landing_time - flights[f].start_time\n",
    "    for f in flights\n",
    "}\n",
    "\n",
    "fgrvo_dict = fgrvo_penalties(passengers, flights)\n",
    "\n",
    "waiting_time_dict = {\n",
    "    waitingtime[k, edge] : waiting_time(k, edge)\n",
    "    for k in range(len(passengers))\n",
    "    for edge in test_sg[k][0]\n",
    "}\n",
    "\n",
    "#flight_list_dict = {\n",
    "#    flightlist[f]: flight_list[f]\n",
    "#    for f in range(len(flights))\n",
    "#}"
   ]
  },
  {
   "cell_type": "code",
   "execution_count": 26,
   "metadata": {},
   "outputs": [
    {
     "output_type": "execute_result",
     "data": {
      "text/plain": [
       "{waitingtime[0, A11]: 0,\n",
       " waitingtime[0, A12]: 0.5,\n",
       " waitingtime[1, A11]: 0,\n",
       " waitingtime[1, A12]: 0.0,\n",
       " waitingtime[2, A11]: 1,\n",
       " waitingtime[2, A12]: 1.5,\n",
       " waitingtime[2, A13]: 0.5}"
      ]
     },
     "metadata": {},
     "execution_count": 26
    }
   ],
   "source": [
    "waiting_time_dict"
   ]
  },
  {
   "cell_type": "code",
   "execution_count": 29,
   "metadata": {},
   "outputs": [
    {
     "output_type": "stream",
     "name": "stdout",
     "text": [
      "22.945146083831787\n"
     ]
    },
    {
     "output_type": "execute_result",
     "data": {
      "text/plain": [
       "Poly(5000.0*X[0]**2 + 10000.0*X[0]*X[1] + 5000.0*X[0]*X[2] - 9998.0*X[0] + 5000.0*X[1]**2 + 100.0*X[1]*X[2] + 5000.0*X[1]*X[3] - 9998.5*X[1] + 5000.0*X[2]**2 + 10000.0*X[2]*X[3] - 9998.5*X[2] + 5000.0*X[3]**2 - 10000.0*X[3] + 5000.0*X[4]**2 + 10000.0*X[4]*X[5] + 5000.0*X[4]*X[6] - 9998.0*X[4] + 5000.0*X[5]**2 + 100.0*X[5]*X[6] + 5000.0*X[5]*X[7] - 9999.0*X[5] + 5000.0*X[6]**2 + 10000.0*X[6]*X[7] - 9998.5*X[6] + 5000.0*X[7]**2 - 10000.0*X[7] + 5000.0*X[8]**2 + 10000.0*X[8]*X[9] + 10000.0*X[8]*X[10] + 5000.0*X[8]*X[11] + 5000.0*X[8]*X[12] + 300.0*X[8]*X[13] + 5000.0*X[8]*X[14] - 9997.0*X[8] + 5000.0*X[9]**2 + 10000.0*X[9]*X[10] + 100.0*X[9]*X[11] + 5050.0*X[9]*X[12] + 5000.0*X[9]*X[13] + 5000.0*X[9]*X[14] - 9997.5*X[9] + 5000.0*X[10]**2 + 5000.0*X[10]*X[11] + 5000.0*X[10]*X[12] + 5000.0*X[10]*X[13] - 9996.5*X[10] + 5000.0*X[11]**2 + 10000.0*X[11]*X[12] + 10000.0*X[11]*X[13] + 10000.0*X[11]*X[14] + 100.0*X[11]*X[15] + 5000.0*X[11]*X[16] - 9998.5*X[11] + 5000.0*X[12]**2 + 10000.0*X[12]*X[13] + 10000.0*X[12]*X[14] + 5000.0*X[12]*X[15] - 9999.0*X[12] + 5000.0*X[13]**2 + 10000.0*X[13]*X[14] + 5000.0*X[13]*X[15] - 9999.0*X[13] + 5000.0*X[14]**2 + 5000.0*X[14]*X[15] - 10000.0*X[14] + 5000.0*X[15]**2 + 10000.0*X[15]*X[16] - 9999.0*X[15] + 5000.0*X[16]**2 - 10000.0*X[16] + 35000.0, X[0], X[1], X[2], X[3], X[4], X[5], X[6], X[7], X[8], X[9], X[10], X[11], X[12], X[13], X[14], X[15], X[16], domain='RR')"
      ],
      "text/latex": "$\\displaystyle \\operatorname{Poly}{\\left( 5000.0 {X}_{0}^{2} + 10000.0 {X}_{0}{X}_{1} + 5000.0 {X}_{0}{X}_{2} - 9998.0 {X}_{0} + 5000.0 {X}_{1}^{2} + 100.0 {X}_{1}{X}_{2} + 5000.0 {X}_{1}{X}_{3} - 9998.5 {X}_{1} + 5000.0 {X}_{2}^{2} + 10000.0 {X}_{2}{X}_{3} - 9998.5 {X}_{2} + 5000.0 {X}_{3}^{2} - 10000.0 {X}_{3} + 5000.0 {X}_{4}^{2} + 10000.0 {X}_{4}{X}_{5} + 5000.0 {X}_{4}{X}_{6} - 9998.0 {X}_{4} + 5000.0 {X}_{5}^{2} + 100.0 {X}_{5}{X}_{6} + 5000.0 {X}_{5}{X}_{7} - 9999.0 {X}_{5} + 5000.0 {X}_{6}^{2} + 10000.0 {X}_{6}{X}_{7} - 9998.5 {X}_{6} + 5000.0 {X}_{7}^{2} - 10000.0 {X}_{7} + 5000.0 {X}_{8}^{2} + 10000.0 {X}_{8}{X}_{9} + 10000.0 {X}_{8}{X}_{10} + 5000.0 {X}_{8}{X}_{11} + 5000.0 {X}_{8}{X}_{12} + 300.0 {X}_{8}{X}_{13} + 5000.0 {X}_{8}{X}_{14} - 9997.0 {X}_{8} + 5000.0 {X}_{9}^{2} + 10000.0 {X}_{9}{X}_{10} + 100.0 {X}_{9}{X}_{11} + 5050.0 {X}_{9}{X}_{12} + 5000.0 {X}_{9}{X}_{13} + 5000.0 {X}_{9}{X}_{14} - 9997.5 {X}_{9} + 5000.0 {X}_{10}^{2} + 5000.0 {X}_{10}{X}_{11} + 5000.0 {X}_{10}{X}_{12} + 5000.0 {X}_{10}{X}_{13} - 9996.5 {X}_{10} + 5000.0 {X}_{11}^{2} + 10000.0 {X}_{11}{X}_{12} + 10000.0 {X}_{11}{X}_{13} + 10000.0 {X}_{11}{X}_{14} + 100.0 {X}_{11}{X}_{15} + 5000.0 {X}_{11}{X}_{16} - 9998.5 {X}_{11} + 5000.0 {X}_{12}^{2} + 10000.0 {X}_{12}{X}_{13} + 10000.0 {X}_{12}{X}_{14} + 5000.0 {X}_{12}{X}_{15} - 9999.0 {X}_{12} + 5000.0 {X}_{13}^{2} + 10000.0 {X}_{13}{X}_{14} + 5000.0 {X}_{13}{X}_{15} - 9999.0 {X}_{13} + 5000.0 {X}_{14}^{2} + 5000.0 {X}_{14}{X}_{15} - 10000.0 {X}_{14} + 5000.0 {X}_{15}^{2} + 10000.0 {X}_{15}{X}_{16} - 9999.0 {X}_{15} + 5000.0 {X}_{16}^{2} - 10000.0 {X}_{16} + 35000.0, {X}_{0}, {X}_{1}, {X}_{2}, {X}_{3}, {X}_{4}, {X}_{5}, {X}_{6}, {X}_{7}, {X}_{8}, {X}_{9}, {X}_{10}, {X}_{11}, {X}_{12}, {X}_{13}, {X}_{14}, {X}_{15}, {X}_{16}, domain=\\mathbb{R} \\right)}$"
     },
     "metadata": {},
     "execution_count": 29
    }
   ],
   "source": [
    "# depending on the metric, either cost_function, cost_function_fgrvo or cost_function_time can be chosen here\n",
    "\n",
    "start = time.time()\n",
    "cost_poly = sym.Poly(cost_function_time\n",
    "                     .subs(single_values_dict)\n",
    "                     .doit()\n",
    "                     .subs(nr_slices_dict)\n",
    "                     .doit()\n",
    "                     .subs(nr_edges_dict)\n",
    "                     .doit()\n",
    "                     .subs(sg_dict)\n",
    "                     .subs(nsg_dict)\n",
    "                     .doit()\n",
    "                     .subs(valid_transfer_dict)\n",
    "                     .subs(transfer_time_dict)\n",
    "                     .subs(cost_dict)\n",
    "                     .subs(flight_duration_dict)\n",
    "                     .subs(fgrvo_dict)\n",
    "                     .subs(waiting_time_dict)\n",
    "                     .doit()\n",
    "                     .subs(single_values_dict)\n",
    "                     ,\n",
    "                     [X[i] for i in range(nr_qubits)])\n",
    "end = time.time()\n",
    "print(end-start)\n",
    "cost_poly"
   ]
  },
  {
   "cell_type": "code",
   "execution_count": 30,
   "metadata": {},
   "outputs": [
    {
     "output_type": "stream",
     "name": "stdout",
     "text": [
      "\\ This file has been generated by DOcplex\n\\ ENCODING=ISO-8859-1\n\\Problem name: CPLEX\n\nMinimize\n obj: - 9998 X_0 - 9998 X_1 - 9998 X_2 - 10000 X_3 - 9998 X_4 - 9999 X_5\n      - 9998 X_6 - 10000 X_7 - 9997 X_8 - 9997 X_9 - 9996 X_10 - 9998 X_11\n      - 9999 X_12 - 9999 X_13 - 10000 X_14 - 9999 X_15 - 10000 X_16 + [\n      10000 X_0^2 + 20000 X_0*X_1 + 10000 X_0*X_2 + 10000 X_1^2 + 200 X_1*X_2\n      + 10000 X_1*X_3 + 10000 X_2^2 + 20000 X_2*X_3 + 10000 X_3^2 + 10000 X_4^2\n      + 20000 X_4*X_5 + 10000 X_4*X_6 + 10000 X_5^2 + 200 X_5*X_6\n      + 10000 X_5*X_7 + 10000 X_6^2 + 20000 X_6*X_7 + 10000 X_7^2 + 10000 X_8^2\n      + 20000 X_8*X_9 + 20000 X_8*X_10 + 10000 X_8*X_11 + 10000 X_8*X_12\n      + 600 X_8*X_13 + 10000 X_8*X_14 + 10000 X_9^2 + 20000 X_9*X_10\n      + 200 X_9*X_11 + 10100 X_9*X_12 + 10000 X_9*X_13 + 10000 X_9*X_14\n      + 10000 X_10^2 + 10000 X_10*X_11 + 10000 X_10*X_12 + 10000 X_10*X_13\n      + 10000 X_11^2 + 20000 X_11*X_12 + 20000 X_11*X_13 + 20000 X_11*X_14\n      + 200 X_11*X_15 + 10000 X_11*X_16 + 10000 X_12^2 + 20000 X_12*X_13\n      + 20000 X_12*X_14 + 10000 X_12*X_15 + 10000 X_13^2 + 20000 X_13*X_14\n      + 10000 X_13*X_15 + 10000 X_14^2 + 10000 X_14*X_15 + 10000 X_15^2\n      + 20000 X_15*X_16 + 10000 X_16^2 ]/2\nSubject To\n\nBounds\n 0 <= X_0 <= 1\n 0 <= X_1 <= 1\n 0 <= X_2 <= 1\n 0 <= X_3 <= 1\n 0 <= X_4 <= 1\n 0 <= X_5 <= 1\n 0 <= X_6 <= 1\n 0 <= X_7 <= 1\n 0 <= X_8 <= 1\n 0 <= X_9 <= 1\n 0 <= X_10 <= 1\n 0 <= X_11 <= 1\n 0 <= X_12 <= 1\n 0 <= X_13 <= 1\n 0 <= X_14 <= 1\n 0 <= X_15 <= 1\n 0 <= X_16 <= 1\n\nBinaries\n X_0 X_1 X_2 X_3 X_4 X_5 X_6 X_7 X_8 X_9 X_10 X_11 X_12 X_13 X_14 X_15 X_16\nEnd\n\n"
     ]
    }
   ],
   "source": [
    "import qiskit\n",
    "from qiskit.algorithms import QAOA\n",
    "\n",
    "from qiskit_optimization.algorithms import MinimumEigenOptimizer, RecursiveMinimumEigenOptimizer, CplexOptimizer\n",
    "from qiskit.utils import QuantumInstance\n",
    "from qiskit_optimization.problems import QuadraticProgram\n",
    "\n",
    "# generate qiskit's cost function\n",
    "qiskit_cost_function = QuadraticProgram()\n",
    "\n",
    "# define qiskit variables \n",
    "for i in range(nr_qubits):#nrqubits in range here\n",
    "    qiskit_cost_function.binary_var('X_' + str(i))\n",
    "\n",
    "# specify qiskit cost function\n",
    "qiskit_cost_function.minimize(\n",
    "    linear = [int(cost_poly.coeff_monomial(X[i]**1)) for i in range(nr_qubits)],\n",
    "    quadratic = {\n",
    "        ('X_'+str(i), 'X_'+str(j)): cost_poly.coeff_monomial(X[i]**1 * X[j]**1)\n",
    "        for i in range(nr_qubits)\n",
    "        for j in range(i,nr_qubits)\n",
    "    }\n",
    "    )\n",
    "\n",
    "print(qiskit_cost_function.export_as_lp_string())"
   ]
  },
  {
   "cell_type": "code",
   "execution_count": 31,
   "metadata": {},
   "outputs": [
    {
     "output_type": "execute_result",
     "data": {
      "text/plain": [
       "[[['A11', 'A12'], ['A14', 'Z1']],\n",
       " [['A11', 'A12'], ['A14', 'Z1']],\n",
       " [['A11', 'A12', 'A13'], ['A14', 'A15', 'A16', 'Z3'], ['A16', 'Z3']]]"
      ]
     },
     "metadata": {},
     "execution_count": 31
    }
   ],
   "source": [
    "test_sg"
   ]
  },
  {
   "cell_type": "code",
   "execution_count": 32,
   "metadata": {},
   "outputs": [],
   "source": [
    "add_capacity_constraints(qiskit_cost_function, flights, len(passengers))"
   ]
  },
  {
   "cell_type": "code",
   "execution_count": 33,
   "metadata": {},
   "outputs": [
    {
     "output_type": "stream",
     "name": "stdout",
     "text": [
      "\\ This file has been generated by DOcplex\n\\ ENCODING=ISO-8859-1\n\\Problem name: CPLEX\n\nMinimize\n obj: - 9998 X_0 - 9998 X_1 - 9998 X_2 - 10000 X_3 - 9998 X_4 - 9999 X_5\n      - 9998 X_6 - 10000 X_7 - 9997 X_8 - 9997 X_9 - 9996 X_10 - 9998 X_11\n      - 9999 X_12 - 9999 X_13 - 10000 X_14 - 9999 X_15 - 10000 X_16 + [\n      10000 X_0^2 + 20000 X_0*X_1 + 10000 X_0*X_2 + 10000 X_1^2 + 200 X_1*X_2\n      + 10000 X_1*X_3 + 10000 X_2^2 + 20000 X_2*X_3 + 10000 X_3^2 + 10000 X_4^2\n      + 20000 X_4*X_5 + 10000 X_4*X_6 + 10000 X_5^2 + 200 X_5*X_6\n      + 10000 X_5*X_7 + 10000 X_6^2 + 20000 X_6*X_7 + 10000 X_7^2 + 10000 X_8^2\n      + 20000 X_8*X_9 + 20000 X_8*X_10 + 10000 X_8*X_11 + 10000 X_8*X_12\n      + 600 X_8*X_13 + 10000 X_8*X_14 + 10000 X_9^2 + 20000 X_9*X_10\n      + 200 X_9*X_11 + 10100 X_9*X_12 + 10000 X_9*X_13 + 10000 X_9*X_14\n      + 10000 X_10^2 + 10000 X_10*X_11 + 10000 X_10*X_12 + 10000 X_10*X_13\n      + 10000 X_11^2 + 20000 X_11*X_12 + 20000 X_11*X_13 + 20000 X_11*X_14\n      + 200 X_11*X_15 + 10000 X_11*X_16 + 10000 X_12^2 + 20000 X_12*X_13\n      + 20000 X_12*X_14 + 10000 X_12*X_15 + 10000 X_13^2 + 20000 X_13*X_14\n      + 10000 X_13*X_15 + 10000 X_14^2 + 10000 X_14*X_15 + 10000 X_15^2\n      + 20000 X_15*X_16 + 10000 X_16^2 ]/2\nSubject To\n capacity_constraint_A11: X_0 + X_4 + X_8 <= 2\n capacity_constraint_A12: X_1 + X_5 + X_9 <= 2\n capacity_constraint_A14: X_2 + X_6 + X_11 <= 2\n capacity_constraint_A16: X_13 + X_15 <= 1\n\nBounds\n 0 <= X_0 <= 1\n 0 <= X_1 <= 1\n 0 <= X_2 <= 1\n 0 <= X_3 <= 1\n 0 <= X_4 <= 1\n 0 <= X_5 <= 1\n 0 <= X_6 <= 1\n 0 <= X_7 <= 1\n 0 <= X_8 <= 1\n 0 <= X_9 <= 1\n 0 <= X_10 <= 1\n 0 <= X_11 <= 1\n 0 <= X_12 <= 1\n 0 <= X_13 <= 1\n 0 <= X_14 <= 1\n 0 <= X_15 <= 1\n 0 <= X_16 <= 1\n\nBinaries\n X_0 X_1 X_2 X_3 X_4 X_5 X_6 X_7 X_8 X_9 X_10 X_11 X_12 X_13 X_14 X_15 X_16\nEnd\n\n"
     ]
    }
   ],
   "source": [
    "print(qiskit_cost_function.export_as_lp_string())"
   ]
  },
  {
   "cell_type": "code",
   "execution_count": 34,
   "metadata": {},
   "outputs": [],
   "source": [
    "# execute QAOA on local simulator\n",
    "qaoa = QAOA(quantum_instance =\n",
    "             QuantumInstance(backend=qiskit.Aer.get_backend('qasm_simulator')))\n",
    "optimizer_qaoa = MinimumEigenOptimizer(qaoa)\n",
    "\n",
    "result_qaoa = optimizer_qaoa.solve(qiskit_cost_function)\n",
    "\n",
    "results = []\n",
    "\n",
    "for i in range(1):\n",
    "    result_qaoa = optimizer_qaoa.solve(qiskit_cost_function)\n",
    "    results.append(result_qaoa)"
   ]
  },
  {
   "cell_type": "code",
   "execution_count": 35,
   "metadata": {},
   "outputs": [
    {
     "output_type": "execute_result",
     "data": {
      "text/plain": [
       "optimal function value: -24790.0\n",
       "optimal value: [1. 0. 0. 1. 1. 0. 0. 1. 0. 1. 0. 1. 0. 0. 0. 1. 1.]\n",
       "status: SUCCESS"
      ]
     },
     "metadata": {},
     "execution_count": 35
    }
   ],
   "source": [
    "results[0]"
   ]
  },
  {
   "cell_type": "code",
   "execution_count": 36,
   "metadata": {},
   "outputs": [],
   "source": [
    "optimizer = CplexOptimizer() if CplexOptimizer.is_cplex_installed() else None\n",
    "\n",
    "results_classic = []\n",
    "\n",
    "for i in range(2):\n",
    "    result = optimizer.solve(qiskit_cost_function)\n",
    "    results_classic.append(result)"
   ]
  },
  {
   "cell_type": "code",
   "execution_count": 37,
   "metadata": {},
   "outputs": [
    {
     "output_type": "execute_result",
     "data": {
      "text/plain": [
       "[optimal function value: -34992.0\n",
       " optimal value: [ 1. -0.  0.  1.  1.  0.  0.  1. -0.  0.  1. -0.  0. -0.  1.  0.  1.]\n",
       " status: SUCCESS,\n",
       " optimal function value: -34992.0\n",
       " optimal value: [ 1. -0.  0.  1.  1.  0.  0.  1. -0.  0.  1. -0.  0. -0.  1.  0.  1.]\n",
       " status: SUCCESS]"
      ]
     },
     "metadata": {},
     "execution_count": 37
    }
   ],
   "source": [
    "results_classic"
   ]
  },
  {
   "cell_type": "code",
   "execution_count": 38,
   "metadata": {},
   "outputs": [
    {
     "output_type": "execute_result",
     "data": {
      "text/plain": [
       "[[['A11', 'A12'], ['A14', 'Z1']],\n",
       " [['A11', 'A12'], ['A14', 'Z1']],\n",
       " [['A11', 'A12', 'A13'], ['A14', 'A15', 'A16', 'Z3'], ['A16', 'Z3']]]"
      ]
     },
     "metadata": {},
     "execution_count": 38
    }
   ],
   "source": [
    "test_sg"
   ]
  },
  {
   "cell_type": "code",
   "execution_count": 39,
   "metadata": {},
   "outputs": [
    {
     "output_type": "execute_result",
     "data": {
      "text/plain": [
       "['10011001010100011']"
      ]
     },
     "metadata": {},
     "execution_count": 39
    }
   ],
   "source": [
    "qubit_results = []\n",
    "for result in results:\n",
    "    qubit_string = str(result.x).replace(' ', '').replace('.', '').replace('-', '')[1:-1]\n",
    "    qubit_results.append(qubit_string)\n",
    "qubit_results"
   ]
  },
  {
   "cell_type": "code",
   "execution_count": 40,
   "metadata": {},
   "outputs": [],
   "source": [
    "def interpret_results(result, offset):\n",
    "    for i in range(len(result)):\n",
    "        return\n",
    "        # qubit index is i + offset\n",
    "        # find the nsg entry equal to qubit index\n",
    "        # then get the sg entry\n",
    "        # and return the flight information\n"
   ]
  },
  {
   "source": [
    "- result for cost without fgrvo:\n",
    "- optimal function value: -34520.0\n",
    "- optimal value: [ 1.  0.  0.  1.  0.  1.  1.  0. -0.  1. -0.  1.  0.  0.  0.  1.  0.]\n",
    "- status: SUCCESS"
   ],
   "cell_type": "markdown",
   "metadata": {}
  },
  {
   "source": [
    "- result for cost with fgrvo:\n",
    "- optimal function value: -34112.0\n",
    "- optimal value: [ 1.  0.  0.  1.  0.  1.  1. -0. -0.  0.  1. -0.  0. -0.  1.  0.  1.]\n",
    "- status: SUCCESS"
   ],
   "cell_type": "markdown",
   "metadata": {}
  },
  {
   "source": [
    "- result for time cost:\n",
    "- optimal function value: -34593.0\n",
    "- optimal value: [ 1.  0.  0.  1.  1.  0.  0.  1.  0.  0.  1.  0. -0.  0.  1.  0.  1.]\n",
    "- status: SUCCESS"
   ],
   "cell_type": "markdown",
   "metadata": {}
  }
 ]
}