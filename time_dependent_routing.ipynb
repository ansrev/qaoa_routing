{
 "metadata": {
  "language_info": {
   "codemirror_mode": {
    "name": "ipython",
    "version": 3
   },
   "file_extension": ".py",
   "mimetype": "text/x-python",
   "name": "python",
   "nbconvert_exporter": "python",
   "pygments_lexer": "ipython3",
   "version": "3.7.3"
  },
  "orig_nbformat": 2,
  "kernelspec": {
   "name": "python3",
   "display_name": "Python 3.7.3 64-bit ('3.7.3': pyenv)"
  },
  "interpreter": {
   "hash": "447f5fa011c7c47899f91a0b2462b94e9399cdbf5b780c102584eca8c3cd54aa"
  }
 },
 "nbformat": 4,
 "nbformat_minor": 2,
 "cells": [
  {
   "cell_type": "markdown",
   "source": [
    "# Sektion 3 - Time-dependent routing"
   ],
   "metadata": {}
  },
  {
   "cell_type": "markdown",
   "source": [
    "## Functions"
   ],
   "metadata": {}
  },
  {
   "cell_type": "code",
   "execution_count": null,
   "source": [
    "def get_unique_nodes(edge_list):\n",
    "    \"\"\"\n",
    "    Assembles a list of all unique nodes appearing in a given graph.\n",
    "    The start node is added by default; every other node is only included\n",
    "    if it can be reached from another node. Isolated nodes will not be \n",
    "    added to the list, unless they happen to be the start node.\n",
    "    \"\"\"\n",
    "\n",
    "    nr_nodes = 0\n",
    "    unique_nodes = []\n",
    "    unique_nodes.append(0)\n",
    "\n",
    "    for edge in edge_list:\n",
    "        if edge[1] not in unique_nodes:\n",
    "            unique_nodes.append(edge[1])\n",
    "\n",
    "    return unique_nodes\n"
   ],
   "outputs": [],
   "metadata": {}
  },
  {
   "cell_type": "code",
   "execution_count": null,
   "source": [
    "def construct_sliced_graph(edge_list, start, dest):\n",
    "    \"\"\"\n",
    "    Constructs a two-dimensional array from a list of edges. Each subarray represents \n",
    "    one time slice. The returned array contains the specified start node in the \n",
    "    first sub-array; based on this start node, every node that can be reached in \n",
    "    n steps is present in the nth subarray. Nodes that can be reached in a different \n",
    "    amount of steps are present in every fitting subarray.\n",
    "    \"\"\"\n",
    "    sg = [] # sliced graph\n",
    "    sg.append([start])\n",
    "    node_counter = 1\n",
    "\n",
    "\n",
    "    total_nodes = len(get_unique_nodes(edge_list))\n",
    "\n",
    "    for k in range(total_nodes):\n",
    "    \n",
    "        if len(sg[k]) != 0 and not (len(sg[k]) == 1 and sg[k][0] == dest):\n",
    "            sg.append([])\n",
    "            for j in range(len(edge_list)):\n",
    "                # for a given edge j in the format a->b:\n",
    "                # if a is in previous slice and b is not in this slice, and if b is not the start node, add it to the slice\n",
    "                if edge_list[j][0] in sg[k] and edge_list[j][1] not in sg[k+1] and edge_list[j][1] != start:\n",
    "                    sg[k+1].append(edge_list[j][1])\n",
    "        else:\n",
    "            break\n",
    "\n",
    "    # necessary if graph is not acyclic\n",
    "    if dest in sg[-1]:\n",
    "        sg[-1] = [dest]\n",
    "    else:\n",
    "        return None \n",
    "        # TODO - error handling\n",
    "\n",
    "    # the last node is always the destination node.\n",
    "    # therefore we can eliminate all nodes in the next-to-last slice that do not lead to the destination node.\n",
    "    # going back that way, we can eliminate nodes that won't lead to our destination.\n",
    "    \n",
    "    nr_slices_to_remove = 0\n",
    "\n",
    "    for i in range(len(sg) - 1):\n",
    "        nodes_to_remove = []\n",
    "        index = len(sg) - 1 - i\n",
    "        for j in range(len(sg[index - 1])):\n",
    "            leads_to_next_slice = 0 # number of edges in the next slice that sg[index-1][j] is connected to\n",
    "            for k in range(len(sg[index])):\n",
    "\n",
    "                # for each node in the next slice, add 1 if sg[index-1][j] is connected to it, 0 if not\n",
    "                leads_to_next_slice += next((1 for u, v in enumerate(edge_list) if v[0] == sg[index-1][j] and v[1] == sg[index][k]), 0) \n",
    "\n",
    "            # if leads_to_next_slice is zero, it means sg[index-1][j] is not connected to any node in the next slice; essentially a dead end. \n",
    "            # it is removed, and any node in the previous slice that only connected to it will thus also be a dead end, and will be removed. etc., etc.\n",
    "            if leads_to_next_slice == 0:\n",
    "                nodes_to_remove.append(sg[index-1][j])\n",
    "\n",
    "        for node in nodes_to_remove:\n",
    "            sg[index-1].remove(node)\n",
    "\n",
    "    slices_to_remove = []\n",
    "    for i in range(len(sg)):\n",
    "        if len(sg[len(sg) - 1 - i]) == 1 and dest in sg[len(sg) - 1 - i]:\n",
    "            slices_to_remove.append(len(sg) - 1 - i)\n",
    "        else:\n",
    "            break\n",
    "    \n",
    "    if len(slices_to_remove) > 1:\n",
    "        for i in slices_to_remove[:-1]:\n",
    "            del sg[i]\n",
    "\n",
    "    return sg"
   ],
   "outputs": [],
   "metadata": {}
  },
  {
   "cell_type": "code",
   "execution_count": null,
   "source": [
    "def construct_numbered_sliced_graph(sg): \n",
    "    nsg = [] # numbered sliced graph\n",
    "    node_counter = 0\n",
    "\n",
    "    for m in range(len(sg)):\n",
    "        nsg.append([])\n",
    "        for n in range(len(sg[m])):\n",
    "            nsg[m].append(node_counter)\n",
    "            node_counter += 1\n",
    "    \n",
    "    return nsg"
   ],
   "outputs": [],
   "metadata": {}
  },
  {
   "cell_type": "code",
   "execution_count": null,
   "source": [
    "def construct_graph_matrix(edge_list):\n",
    "    \"\"\"\n",
    "    Constructs a dataframe that contains all edges present in \n",
    "    the graph. The returned dataframe can contain several edges \n",
    "    per two nodes. The entry at matrix[0][1] contains an array \n",
    "    of all edges that go from node 0 to node 1.\n",
    "    \"\"\"\n",
    "\n",
    "    node_labels = get_unique_nodes(edge_list)\n",
    "    graph_matrix = pd.DataFrame([[[] for _ in range(len(node_labels))] for _ in range(len(node_labels))], node_labels, node_labels)\n",
    "    \n",
    "    for edge in edge_list:\n",
    "        start = edge[0]\n",
    "        end = edge[1]\n",
    "        graph_matrix[start][end].append(edge)\n",
    "    \n",
    "    return graph_matrix"
   ],
   "outputs": [],
   "metadata": {}
  },
  {
   "cell_type": "code",
   "execution_count": null,
   "source": [
    "def construct_cost_matrix(edge_matrix):\n",
    "    \"\"\"\n",
    "    Constructs a dataframe that contains the cost for the edge \n",
    "    between any given pair of nodes a and b. If there is no \n",
    "    outgoing edge from a to b, the cost will be equal to the\n",
    "    fixed penalty value. If there is exactly one edge, its cost\n",
    "    will be used. If there are several, the smallest cost is \n",
    "    used.\n",
    "    \"\"\"\n",
    "\n",
    "    node_labels = edge_matrix.columns\n",
    "    cost_matrix = pd.DataFrame([[[] for _ in range(len(node_labels))] for _ in range(len(node_labels))], node_labels, node_labels)\n",
    "\n",
    "    for i in node_labels:\n",
    "        for j in node_labels:\n",
    "            entries = edge_matrix[i][j]\n",
    "            if len(entries) == 0:\n",
    "                cost_matrix[i][j] = (penalty_value)\n",
    "            elif len(entries) == 1:\n",
    "                cost_matrix[i][j] = (entries[0][2]) ### TODO -- anpassen\n",
    "            else:\n",
    "                best_cost = penalty_value # penalty by default bigger than the biggest edge cost\n",
    "                for entry in entries:\n",
    "                    if entry[2] < best_cost:\n",
    "                        best_cost = entry[2]\n",
    "                cost_matrix[i][j] = best_cost\n",
    "    return cost_matrix"
   ],
   "outputs": [],
   "metadata": {}
  },
  {
   "cell_type": "code",
   "execution_count": null,
   "source": [
    "def find_index(node, time_slice, sliced_graph):\n",
    "    \"\"\"\n",
    "    For a given node, time slice, and sliced graph, determines the qubit index \n",
    "    of the node. If the node is not present in the given slice in the graph, \n",
    "    returns -1.\n",
    "    \"\"\"\n",
    "    \n",
    "    numbered_graph = construct_numbered_sliced_graph(sliced_graph)\n",
    "    for i in range(len(sliced_graph[time_slice])):\n",
    "        if sliced_graph[time_slice][i] == node:\n",
    "            return numbered_graph[time_slice][i]\n",
    "    else:\n",
    "        return -1\n"
   ],
   "outputs": [],
   "metadata": {}
  },
  {
   "cell_type": "code",
   "execution_count": null,
   "source": [
    "def fix_nodes(start, destination, sliced_graph, cost_func):\n",
    "    \"\"\"\n",
    "    In the given cost function, fixes specific nodes according to already known \n",
    "    values for the qubits. The qubits representing the start and destination nodes \n",
    "    are fixed at 1; any other nodes in the last time slice are fixed at 0.\n",
    "    \"\"\"\n",
    "    \n",
    "    # set start node to 1\n",
    "    start_node_index = 'X_' + str(find_index(start, 0, sliced_graph))\n",
    "    cost_func.linear_constraint(linear={start_node_index: 1}, sense='==', rhs=1, name='start_node')\n",
    "\n",
    "    # set destination node to 1\n",
    "    dest_node_index = 'X_' + str(find_index(destination, -1, sliced_graph))\n",
    "    cost_func.linear_constraint(linear={dest_node_index: 1}, sense='==', rhs=1, name='destination_node')\n",
    "\n",
    "    # set any other nodes in the last slice to 0 # TODO -- is this section necessary?\n",
    "    #counter = 0\n",
    "    #for i in sliced_graph[-1]:\n",
    "    #    if i != destination:\n",
    "    #        index = 'X_' + str(find_index(i, -1, sliced_graph))\n",
    "    #        cost_func.linear_constraint(linear={index: 1}, sense='==', rhs=0, name=('last_slice_constraint_' + str(counter)))\n",
    "\n",
    "    # only the start node is in the first slice. so no iteration over other nodes needed\n",
    "\n",
    "    return"
   ],
   "outputs": [],
   "metadata": {}
  },
  {
   "cell_type": "code",
   "execution_count": null,
   "source": [
    "def get_node_info_from_index(qubit_index, sg, nsg):\n",
    "    \"\"\" For a given qubit index, returns the corresponding time slice and the node label. \"\"\"\n",
    "\n",
    "    for time_slice in range(len(nsg)):\n",
    "        if qubit_index in nsg[time_slice]:\n",
    "\n",
    "            pos = nsg[time_slice].index(qubit_index)\n",
    "            node_label = sg[time_slice][pos]\n",
    "\n",
    "            return time_slice, node_label"
   ],
   "outputs": [],
   "metadata": {}
  },
  {
   "cell_type": "code",
   "execution_count": null,
   "source": [
    "def result_evaluation(result, sg, nsg, cost_matrix):\n",
    "    \"\"\"\n",
    "    For a given qubit string, returns an explanation of the nodes that are passed per time slice.\n",
    "    \"\"\"\n",
    "    counter = 0\n",
    "    previous_node = None\n",
    "    total_cost = 0\n",
    "    solution_not_valid = False\n",
    "\n",
    "    for i in range(len(result)):\n",
    "        if result[i] == '1':\n",
    "            time_slice, node_label = get_node_info_from_index(i, sg, nsg)\n",
    "            if time_slice != counter:\n",
    "                solution_not_valid = True\n",
    "\n",
    "            if counter == 0:\n",
    "                previous_node = node_label\n",
    "            else:\n",
    "                cost = cost_matrix[previous_node][node_label]\n",
    "                total_cost += cost\n",
    "                print(('\\t\\t\\t\\tcost: {}').format(cost))\n",
    "                previous_node = node_label\n",
    "\n",
    "\n",
    "            print(('node {} at time slice {}').format(node_label, time_slice))\n",
    "\n",
    "            counter += 1\n",
    "\n",
    "            \n",
    "    print(('\\ntotal cost: {}').format(total_cost))\n",
    "    if total_cost >= 500 or solution_not_valid:\n",
    "        print('\\nIt seems like no valid solution could be found. This solution disregards at least one constraint.')\n",
    "\n",
    "    return"
   ],
   "outputs": [],
   "metadata": {}
  },
  {
   "cell_type": "markdown",
   "source": [
    "## Preprocessing"
   ],
   "metadata": {}
  },
  {
   "cell_type": "code",
   "execution_count": null,
   "source": [
    "import sympy as sym\n",
    "import matplotlib.pyplot as plt\n",
    "import pandas as pd"
   ],
   "outputs": [],
   "metadata": {}
  },
  {
   "cell_type": "code",
   "execution_count": null,
   "source": [
    "graph = [(0, 1, 6.0), (0, 2, 4.0), (0, 3, 1.0), (0, 5, 2.0), \n",
    "(1, 6, 1.0), \n",
    "(2, 4, 3.0), (2, 6, 2.0), (2, 9, 5.0), \n",
    "(3, 2, 2.0), (3, 4, 4.0), \n",
    "(4, 7, 4.0), (4, 9, 2.0), \n",
    "(5, 1, 5.0), \n",
    "(6, 8, 3.0), (6, 9, 3.0), \n",
    "(7, 9, 3.0),\n",
    "(9, 8, 4.0)]\n",
    "\n",
    "#graph = [(0, 1, 5.0), (0, 2, 4.0), (0, 3, 4.0), \n",
    "#(1, 4, 3.0), \n",
    "#(2, 1, 2.0), (2, 3, 1.0),\n",
    "#(3, 4, 2.0), (3, 5, 3.0), \n",
    "#(4, 6, 2.0),\n",
    "#(5, 7, 4.0)\n",
    "#]\n",
    "\n",
    "start_node = 0\n",
    "destination_node = 9\n",
    "penalty_value = 50"
   ],
   "outputs": [],
   "metadata": {}
  },
  {
   "cell_type": "code",
   "execution_count": null,
   "source": [
    "graph = [edge for edge in graph if edge[0] != destination_node and edge[1] != start_node] # discard all edges that go out from destination, and all edges that lead to start\n",
    "graph.append((destination_node, destination_node, 0.0))\n",
    "graph"
   ],
   "outputs": [],
   "metadata": {}
  },
  {
   "cell_type": "code",
   "execution_count": null,
   "source": [
    "unique_nodes = get_unique_nodes(graph)\n",
    "nr_nodes = len(unique_nodes)"
   ],
   "outputs": [],
   "metadata": {}
  },
  {
   "cell_type": "code",
   "execution_count": null,
   "source": [
    "test_sg = construct_sliced_graph(graph, start_node, destination_node)\n",
    "\n",
    "nr_qubits = 0\n",
    "for i in range(len(test_sg)):\n",
    "    for j in range(len(test_sg[i])):\n",
    "        nr_qubits += 1\n",
    "\n",
    "nr_qubits"
   ],
   "outputs": [],
   "metadata": {}
  },
  {
   "cell_type": "code",
   "execution_count": null,
   "source": [
    "test_sg"
   ],
   "outputs": [],
   "metadata": {}
  },
  {
   "cell_type": "code",
   "execution_count": null,
   "source": [
    "test_nsg = construct_numbered_sliced_graph(test_sg)\n",
    "test_nsg"
   ],
   "outputs": [],
   "metadata": {}
  },
  {
   "cell_type": "code",
   "execution_count": null,
   "source": [
    "matrix = construct_graph_matrix(graph)\n",
    "matrix"
   ],
   "outputs": [],
   "metadata": {}
  },
  {
   "cell_type": "code",
   "execution_count": null,
   "source": [
    "edge_cost_matrix = construct_cost_matrix(matrix)\n",
    "edge_cost_matrix"
   ],
   "outputs": [],
   "metadata": {}
  },
  {
   "cell_type": "code",
   "execution_count": null,
   "source": [
    "test_nsg = construct_numbered_sliced_graph(test_sg)\n",
    "test_nsg"
   ],
   "outputs": [],
   "metadata": {}
  },
  {
   "cell_type": "markdown",
   "source": [
    "## Cost Function"
   ],
   "metadata": {}
  },
  {
   "cell_type": "code",
   "execution_count": null,
   "source": [
    "X = sym.IndexedBase('X')\n",
    "c = sym.symbols('c')\n",
    "v = sym.symbols('v')\n",
    "y = sym.symbols('y')\n",
    "q = sym.symbols('q')\n",
    "w = sym.symbols('w')\n",
    "P = sym.symbols('P')\n",
    "\n",
    "d = sym.IndexedBase('d')\n",
    "\n",
    "sg = sym.IndexedBase('sg')\n",
    "nsg = sym.IndexedBase('nsg')\n",
    "\n",
    "nrslices = sym.symbols('nrslices')\n",
    "lenslice = sym.IndexedBase('lenslice')"
   ],
   "outputs": [],
   "metadata": {}
  },
  {
   "cell_type": "code",
   "execution_count": null,
   "source": [
    "cost_function = sym.Sum(                                # iteration over slices\n",
    "                    (sym.Sum(                           # iteration over nodes in that slice. in each slice, exactly one node needs to be passed\n",
    "                        X[nsg[c,v]],                    \n",
    "                        (v, 0, lenslice[c] - 1)\n",
    "                        )\n",
    "                        - 1 )**2 * P,\n",
    "\n",
    "                    (c, 0, nrslices-1)) + 0.5 * sym.Sum(   \n",
    "                        2 * (sym.Sum(  sym.Sum(  X[nsg[q,y]] * X[nsg[q+1,w]] * d[sg[q,y], sg[q+1,w]],  (w, 0, lenslice[q + 1] - 1) ) , (y, 0, lenslice[q] - 1))),\n",
    "                        (q, 0, nrslices - 2))\n",
    "\n",
    "# TODO. an dieser stelle derzeit noch ein workaround mit 0.5 * 2, da aus irgendeinem grund die dreifache summe ohne den zwischenfaktor 2 nicht evaluiert wird??\n",
    "                    \n",
    "cost_function"
   ],
   "outputs": [],
   "metadata": {}
  },
  {
   "cell_type": "code",
   "execution_count": null,
   "source": [
    "# translation of data into dictionaries for sympy\n",
    "single_valued_dict = {\n",
    "    nrslices: len(test_sg),\n",
    "    P: penalty_value\n",
    "    }\n",
    "\n",
    "numbered_sliced_graph_dict = {\n",
    "    nsg[i, j]: test_nsg[i][j] for i in range(len(test_nsg)) for j in range(len(test_nsg[i]))\n",
    "}\n",
    "\n",
    "sliced_graph_dict = {\n",
    "    sg[i, j]: test_sg[i][j] for i in range(len(test_sg)) for j in range(len(test_sg[i]))\n",
    "}\n",
    "\n",
    "len_slice_dict = {\n",
    "    lenslice[i]: len(test_sg[i]) for i in range(len(test_sg))\n",
    "}\n",
    "\n",
    "d_dict = {\n",
    "    d[i, j]: edge_cost_matrix[i][j] \n",
    "    for i in unique_nodes\n",
    "    for j in unique_nodes\n",
    "}\n",
    "\n",
    "# definition of the cost polynomial\n",
    "cost_poly = sym.Poly(cost_function\n",
    "                     .subs(single_valued_dict)\n",
    "                     .doit()\n",
    "                     .subs(len_slice_dict)\n",
    "                     .doit()\n",
    "                     .subs(numbered_sliced_graph_dict)\n",
    "                     .subs(sliced_graph_dict)\n",
    "                     .doit()\n",
    "                     .subs(d_dict)\n",
    "                     .doit(),\n",
    "                     [X[i] for i in range(nr_qubits)])\n",
    "cost_poly"
   ],
   "outputs": [],
   "metadata": {}
  },
  {
   "cell_type": "code",
   "execution_count": null,
   "source": [
    "edge_cost_matrix[0][2]"
   ],
   "outputs": [],
   "metadata": {}
  },
  {
   "cell_type": "markdown",
   "source": [
    "## QAOA"
   ],
   "metadata": {}
  },
  {
   "cell_type": "code",
   "execution_count": null,
   "source": [
    "import qiskit\n",
    "from qiskit.algorithms import QAOA, VQE\n",
    "import time\n",
    "\n",
    "from qiskit_optimization.algorithms import MinimumEigenOptimizer, RecursiveMinimumEigenOptimizer, CplexOptimizer, GroverOptimizer\n",
    "from qiskit.utils import QuantumInstance\n",
    "from qiskit_optimization.problems import QuadraticProgram\n",
    "from qiskit.algorithms.optimizers import COBYLA, L_BFGS_B, SPSA, SLSQP\n",
    "\n",
    "# generate qiskit's cost function\n",
    "qiskit_cost_function = QuadraticProgram()\n",
    "\n",
    "# define qiskit variables\n",
    "for i in range(nr_qubits):\n",
    "    qiskit_cost_function.binary_var('X_' + str(i))\n",
    "\n",
    "# specify qiskit cost function\n",
    "qiskit_cost_function.minimize(\n",
    "    linear = [int(cost_poly.coeff_monomial(X[i]**1)) for i in range(nr_qubits)],\n",
    "    quadratic = {\n",
    "        ('X_'+str(i), 'X_'+str(j)): cost_poly.coeff_monomial(X[i]**1 * X[j]**1)\n",
    "        for i in range(nr_qubits)\n",
    "        for j in range(i,nr_qubits)\n",
    "    }\n",
    "    )\n",
    "fix_nodes(start_node, destination_node, test_sg, qiskit_cost_function)\n",
    "\n",
    "print(qiskit_cost_function.export_as_lp_string())"
   ],
   "outputs": [],
   "metadata": {}
  },
  {
   "cell_type": "code",
   "execution_count": null,
   "source": [
    "def start_dest_constraints(vso, vti, cost_func):\n",
    "    \"\"\"\n",
    "    Adds constraints to ensure that there is exactly one outgoing edge from the start \n",
    "    and one incoming edge to the target vertex.\n",
    "    \"\"\"\n",
    "    linear_dict_start = {}\n",
    "    linear_dict_target = {}\n",
    "\n",
    "    for i in range(len(vso)):\n",
    "        linear_dict_start.update({'X_' + str(vso[i]): 1})\n",
    "\n",
    "    for i in range(len(vti)):\n",
    "        linear_dict_target.update({'X_' + str(vti[i]): 1})\n",
    "\n",
    "    cost_func.linear_constraint(linear=linear_dict_start, sense='==', rhs=1, name='start_one_out')\n",
    "    cost_func.linear_constraint(linear=linear_dict_target, sense='==', rhs=1, name='target_one_inc')\n",
    "\n",
    "    return"
   ],
   "outputs": [],
   "metadata": {}
  },
  {
   "cell_type": "code",
   "execution_count": null,
   "source": [
    "# execute QAOA on local simulator\n",
    "\n",
    "# https://qiskit.org/documentation/stubs/qiskit.algorithms.QAOA.html?highlight=qaoa\n",
    "\n",
    "# 'depth of circuit grows linearly with p times (at worst) the number of constraints'\n",
    "# https://arxiv.org/pdf/1411.4028.pdf\n",
    "\n",
    "optimizer = SPSA(maxiter=250)\n",
    "\n",
    "qaoa = QAOA(reps=25,optimizer=optimizer,quantum_instance =\n",
    "             QuantumInstance(backend=qiskit.Aer.get_backend('qasm_simulator')))\n",
    "optimizer_qaoa = MinimumEigenOptimizer(qaoa)\n",
    "\n",
    "results = []\n",
    "inter_time = time.time()\n",
    "\n",
    "for i in range(10):\n",
    "    result_qaoa = optimizer_qaoa.solve(qiskit_cost_function)\n",
    "    results.append(result_qaoa)\n",
    "    print(result_qaoa)\n",
    "    now = time.time()\n",
    "    print(now - inter_time)\n",
    "    inter_time = now\n"
   ],
   "outputs": [],
   "metadata": {}
  },
  {
   "cell_type": "markdown",
   "source": [
    "## Results"
   ],
   "metadata": {}
  },
  {
   "cell_type": "code",
   "execution_count": null,
   "source": [
    "# path cost: Wegkosten\n",
    "# actual_opt_cost: Optimierungskosten. Schließt Wegkosten und Penalty-Terms ein. Ist immer positiv.\n",
    "# path: qubit-ergebnis\n",
    "result_df = pd.DataFrame(columns = ['actual_opt_cost', 'path'])\n",
    "\n",
    "for r in results:\n",
    "\n",
    "    path_string = str(r.x).replace(' ', '').replace('.', '')[1:-1]\n",
    "\n",
    "    result_df = result_df.append({'actual_opt_cost': r.fval + 2 * penalty_value, 'path': path_string}, ignore_index=True)\n",
    "\n",
    "print(\"QAOA:\")\n",
    "print(result_df.sort_values(by=['actual_opt_cost']))"
   ],
   "outputs": [],
   "metadata": {}
  },
  {
   "cell_type": "code",
   "execution_count": null,
   "source": [
    "optimizer = CplexOptimizer() if CplexOptimizer.is_cplex_installed() else None\n",
    "\n",
    "results_classic = []\n",
    "\n",
    "for i in range(2):\n",
    "    result = optimizer.solve(qiskit_cost_function)\n",
    "    results_classic.append(result)\n",
    "results_classic"
   ],
   "outputs": [],
   "metadata": {}
  },
  {
   "cell_type": "code",
   "execution_count": null,
   "source": [
    "\n",
    "backend = qiskit.Aer.get_backend('qasm_simulator')\n",
    "\n",
    "optimizer_type = 'SPSA' # JRL was COBYLA\n",
    "maxiter = 500\n",
    "if optimizer_type == 'COBYLA':\n",
    "    optimizer = COBYLA(maxiter=maxiter) # JRL: was 500\n",
    "elif optimizer_type == 'L_BFGS_B':\n",
    "    optimizer = L_BFGS_B(maxfun=500)\n",
    "elif optimizer_type == 'SPSA':\n",
    "    optimizer = SPSA(maxiter=maxiter)\n",
    "elif optimizer_type == 'SLSQP':\n",
    "    optimizer = SLSQP(maxiter=maxiter)\n",
    "\n",
    "#reps = 3 # JRL: parameter p in QAOA "
   ],
   "outputs": [],
   "metadata": {}
  },
  {
   "cell_type": "code",
   "execution_count": null,
   "source": [
    "# JRL adding VQE\n",
    "from qiskit.circuit.library import TwoLocal\n",
    "ry = TwoLocal(nr_qubits, 'ry', 'cz', reps=15, entanglement='linear')\n",
    "vqe = VQE(ry, optimizer=optimizer, quantum_instance=QuantumInstance(backend=backend))\n",
    "\n",
    "optimizer_vqe = MinimumEigenOptimizer(vqe)\n",
    "\n",
    "results_vqe = []\n",
    "\n",
    "#for i in range(10):\n",
    "for i in range(10): # JRL\n",
    "    print(\"i \",i) # JRL\n",
    "    result_vqe = optimizer_vqe.solve(qiskit_cost_function)\n",
    "    results_vqe.append(result_vqe)\n",
    "    print(\"result_vqe \", result_vqe) # JRL\n"
   ],
   "outputs": [],
   "metadata": {}
  },
  {
   "cell_type": "code",
   "execution_count": null,
   "source": [
    "result_vqe_df = pd.DataFrame(columns = ['actual_opt_cost', 'path'])\n",
    "\n",
    "for r in results_vqe:\n",
    "    \n",
    "    path_string = str(r.x).replace(' ', '').replace('.', '')[1:-1]\n",
    "\n",
    "    result_vqe_df = result_vqe_df.append({'actual_opt_cost': r.fval + 6 * penalty_value, 'path': path_string}, ignore_index=True)\n",
    "\n",
    "print(\"VQE:\")\n",
    "print(result_vqe_df.sort_values(by=['actual_opt_cost']))"
   ],
   "outputs": [],
   "metadata": {}
  },
  {
   "cell_type": "code",
   "execution_count": null,
   "source": [
    "# Parameters\n",
    "print(\"TestP: \", penalty_value)\n",
    "print(\"optimizer_type:\", optimizer_type)\n",
    "print(\"maxiter: \", maxiter)"
   ],
   "outputs": [],
   "metadata": {}
  },
  {
   "cell_type": "code",
   "execution_count": null,
   "source": [
    "#result_df = pd.DataFrame(columns = ['optimization_cost', 'path'])\n",
    "#for r in results:\n",
    "#    result_string = str(r.x).replace(' ', '').replace('.', '').replace('-', '')[1:-1]\n",
    "#    result_df = result_df.append({'optimization_cost': r.fval, 'path': result_string}, ignore_index=True)\n",
    "#result_df"
   ],
   "outputs": [],
   "metadata": {}
  },
  {
   "cell_type": "code",
   "execution_count": null,
   "source": [
    "result_classic_df = pd.DataFrame(columns = ['optimization_cost', 'path'])\n",
    "for r in results_classic:\n",
    "    result_string = str(r.x).replace(' ', '').replace('.', '').replace('-', '')[1:-1]\n",
    "    result_classic_df = result_classic_df.append({'optimization_cost': r.fval + 4 * penalty_value, 'path': result_string}, ignore_index=True)\n",
    "result_classic_df"
   ],
   "outputs": [],
   "metadata": {}
  }
 ]
}