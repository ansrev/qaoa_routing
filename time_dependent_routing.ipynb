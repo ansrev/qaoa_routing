{
 "metadata": {
  "language_info": {
   "codemirror_mode": {
    "name": "ipython",
    "version": 3
   },
   "file_extension": ".py",
   "mimetype": "text/x-python",
   "name": "python",
   "nbconvert_exporter": "python",
   "pygments_lexer": "ipython3",
   "version": "3.7.3"
  },
  "orig_nbformat": 2,
  "kernelspec": {
   "name": "python373jvsc74a57bd0447f5fa011c7c47899f91a0b2462b94e9399cdbf5b780c102584eca8c3cd54aa",
   "display_name": "Python 3.7.3 64-bit ('3.7.3': pyenv)"
  }
 },
 "nbformat": 4,
 "nbformat_minor": 2,
 "cells": [
  {
   "source": [
    "# Sektion 3 - Time-dependent routing"
   ],
   "cell_type": "markdown",
   "metadata": {}
  },
  {
   "source": [
    "## Functions"
   ],
   "cell_type": "markdown",
   "metadata": {}
  },
  {
   "cell_type": "code",
   "execution_count": 1,
   "metadata": {},
   "outputs": [],
   "source": [
    "def get_unique_nodes(edge_list):\n",
    "    \"\"\"\n",
    "    Assembles a list of all unique nodes appearing in a given graph.\n",
    "    The start node is added by default; every other node is only included\n",
    "    if it can be reached from another node. Isolated nodes will not be \n",
    "    added to the list, unless they happen to be the start node.\n",
    "    \"\"\"\n",
    "\n",
    "    nr_nodes = 0\n",
    "    unique_nodes = []\n",
    "    unique_nodes.append(0)\n",
    "\n",
    "    for edge in edge_list:\n",
    "        if edge[1] not in unique_nodes:\n",
    "            unique_nodes.append(edge[1])\n",
    "\n",
    "    return unique_nodes\n"
   ]
  },
  {
   "cell_type": "code",
   "execution_count": 2,
   "metadata": {},
   "outputs": [],
   "source": [
    "#def construct_sliced_graph(edge_array):\n",
    "\n",
    "\n",
    "#    sg = [] # sliced graph\n",
    "#    sg.append([start_node])\n",
    "#    node_counter = 1\n",
    "\n",
    "\n",
    "#    total_nodes = get_unique_nodes(edge_array)\n",
    "\n",
    "#    for k in range(total_nodes):\n",
    "    \n",
    "#        if len(sg[k]) != 0 and not (len(sg[k]) == 1 and sg[k][0] == destination_node):\n",
    "#            sg.append([])       # nächste slice\n",
    "#            for j in range(len(edge_array)):\n",
    "#                if edge_array[j][0] in sg[k] and edge_array[j][1] not in sg[k+1] and edge_array[j][1] != start_node:\n",
    "#                    sg[k+1].append(edge_array[j][1])\n",
    "#        else:\n",
    "#            break\n",
    "    \n",
    "#    if len(sg[-1]) == 0:\n",
    "#        sg.pop(-1)\n",
    "#    return sg"
   ]
  },
  {
   "cell_type": "code",
   "execution_count": 3,
   "metadata": {},
   "outputs": [],
   "source": [
    "def construct_sliced_graph(edge_list, dest):\n",
    "    \"\"\"\n",
    "    Constructs a two-dimensional array from a list of edges. Each subarray represents \n",
    "    one time slice. The returned array contains the specified start node in the \n",
    "    first sub-array; based on this start node, every node that can be reached in \n",
    "    n steps is present in the nth subarray. Nodes that can be reached in a different \n",
    "    amount of steps are present in every fitting subarray.\n",
    "    \"\"\"\n",
    "    sg = [] # sliced graph\n",
    "    sg.append([start_node])\n",
    "    node_counter = 1\n",
    "\n",
    "\n",
    "    total_nodes = len(get_unique_nodes(edge_list))\n",
    "\n",
    "    for k in range(total_nodes):\n",
    "    \n",
    "        if len(sg[k]) != 0 and not (len(sg[k]) == 1 and sg[k][0] == dest):\n",
    "            sg.append([])\n",
    "            for j in range(len(edge_list)):\n",
    "                # for a given edge j in the format a->b:\n",
    "                # if a is in previous slice and b is not in this slice, and if b is not the start node, add it to the slice\n",
    "                if edge_list[j][0] in sg[k] and edge_list[j][1] not in sg[k+1] and edge_list[j][1] != start_node:\n",
    "                    sg[k+1].append(edge_list[j][1])\n",
    "        else:\n",
    "            break\n",
    "\n",
    "    # the last node is always the destination node.\n",
    "    # therefore we can eliminate all nodes in the next-to-last slice that do not lead to the destination node.\n",
    "    # going back that way, we can eliminate nodes that won't lead to our destination.\n",
    "    nr_slices_to_remove = 0\n",
    "\n",
    "    for i in range(len(sg) - 1):\n",
    "        nodes_to_remove = []\n",
    "        index = len(sg) - 1 - i\n",
    "        for j in range(len(sg[index - 1])):\n",
    "            leads_to_next_slice = 0 # number of edges in the next slice that sg[index-1][j] is connected to\n",
    "            for k in range(len(sg[index])):\n",
    "\n",
    "                # for each node in the next slice, add 1 if sg[index-1][j] is connected to it, 0 if not\n",
    "                leads_to_next_slice += next((1 for u, v in enumerate(edge_list) if v[0] == sg[index-1][j] and v[1] == sg[index][k]), 0) \n",
    "\n",
    "            # if leads_to_next_slice is zero, it means sg[index-1][j] is not connected to any node in the next slice; essentially a dead end. \n",
    "            # it is removed, and any node in the previous slice that only connected to it will thus also be a dead end, and will be removed. etc., etc.\n",
    "            if leads_to_next_slice == 0:\n",
    "                nodes_to_remove.append(sg[index-1][j])\n",
    "\n",
    "        for node in nodes_to_remove:\n",
    "            sg[index-1].remove(node)\n",
    "\n",
    "    slices_to_remove = []\n",
    "    for i in range(len(sg)):\n",
    "        if len(sg[len(sg) - 1 - i]) == 1 and dest in sg[len(sg) - 1 - i]:\n",
    "            slices_to_remove.append(len(sg) - 1 - i)\n",
    "        else:\n",
    "            break\n",
    "    \n",
    "    if len(slices_to_remove) > 1:\n",
    "        for i in slices_to_remove[:-1]:\n",
    "            del sg[i]\n",
    "            # print('deleted slice ' + str(i))\n",
    "\n",
    "    return sg"
   ]
  },
  {
   "cell_type": "code",
   "execution_count": 4,
   "metadata": {},
   "outputs": [],
   "source": [
    "def construct_numbered_sliced_graph(sg): \n",
    "    nsg = [] # numbered sliced graph\n",
    "    node_counter = 0\n",
    "\n",
    "    for m in range(len(sg)):\n",
    "        nsg.append([])\n",
    "        for n in range(len(sg[m])):\n",
    "            nsg[m].append(node_counter)\n",
    "            node_counter += 1\n",
    "    \n",
    "    return nsg"
   ]
  },
  {
   "cell_type": "code",
   "execution_count": 5,
   "metadata": {},
   "outputs": [],
   "source": [
    "#def construct_graph_matrix(edge_list):\n",
    "#    graph_matrix = [[[] for _ in range(nr_nodes)] for _ in range(nr_nodes)]\n",
    "    \n",
    "#    for edge in edge_list:\n",
    "#        start = edge[0]\n",
    "#        end = edge[1]\n",
    "#        graph_matrix[start][end].append(edge)\n",
    "    \n",
    "#    return graph_matrix"
   ]
  },
  {
   "cell_type": "code",
   "execution_count": 6,
   "metadata": {},
   "outputs": [],
   "source": [
    "def construct_graph_matrix(edge_list):\n",
    "    \"\"\"\n",
    "    Constructs a dataframe that contains all edges present in \n",
    "    the graph. The returned dataframe can contain several edges \n",
    "    per two nodes. The entry at matrix[0][1] contains an array \n",
    "    of all edges that go from node 0 to node 1.\n",
    "    \"\"\"\n",
    "\n",
    "    node_labels = get_unique_nodes(edge_list)\n",
    "    graph_matrix = pd.DataFrame([[[] for _ in range(len(node_labels))] for _ in range(len(node_labels))], node_labels, node_labels)\n",
    "    \n",
    "    for edge in edge_list:\n",
    "        start = edge[0]\n",
    "        end = edge[1]\n",
    "        graph_matrix[start][end].append(edge)\n",
    "    \n",
    "    return graph_matrix"
   ]
  },
  {
   "cell_type": "code",
   "execution_count": 7,
   "metadata": {},
   "outputs": [],
   "source": [
    "def construct_cost_matrix(edge_matrix):\n",
    "    \"\"\"\n",
    "    Constructs a dataframe that contains the cost for the edge \n",
    "    between any given pair of nodes a and b. If there is no \n",
    "    outgoing edge from a to b, the cost will be equal to the\n",
    "    fixed penalty value. If there is exactly one edge, its cost\n",
    "    will be used. If there are several, the smallest cost is \n",
    "    used.\n",
    "    \"\"\"\n",
    "\n",
    "    node_labels = edge_matrix.columns\n",
    "    cost_matrix = pd.DataFrame([[[] for _ in range(len(node_labels))] for _ in range(len(node_labels))], node_labels, node_labels)\n",
    "\n",
    "    for i in node_labels:\n",
    "        for j in node_labels:\n",
    "            entries = edge_matrix[i][j]\n",
    "            if len(entries) == 0:\n",
    "                cost_matrix[i][j] = (penalty_value)\n",
    "            elif len(entries) == 1:\n",
    "                cost_matrix[i][j] = (entries[0][2]) ### ebenfalls TODO. muss sich nach der struktur richten. ist aber eig keine priorität; es ist ok, das hier so zu hardcoden\n",
    "            else:\n",
    "                best_cost = penalty # penalty by default bigger than the biggest edge cost\n",
    "                for entry in entries:\n",
    "                    if entry[2] < best_cost:\n",
    "                        best_cost = entry[2]\n",
    "                cost_matrix[i].append(best_cost)\n",
    "    return cost_matrix"
   ]
  },
  {
   "cell_type": "code",
   "execution_count": 8,
   "metadata": {},
   "outputs": [],
   "source": [
    "def find_index(node, time_slice, sliced_graph):\n",
    "    \"\"\"\n",
    "    For a given node, time slice, and sliced graph, determines the qubit index \n",
    "    of the node. If the node is not present in the given slice in the graph, \n",
    "    returns -1.\n",
    "    \"\"\"\n",
    "    \n",
    "    numbered_graph = construct_numbered_sliced_graph(sliced_graph)\n",
    "    for i in range(len(sliced_graph[time_slice])):\n",
    "        if sliced_graph[time_slice][i] == node:\n",
    "            return numbered_graph[time_slice][i]\n",
    "    else:\n",
    "        return -1\n"
   ]
  },
  {
   "cell_type": "code",
   "execution_count": 9,
   "metadata": {},
   "outputs": [],
   "source": [
    "def fix_nodes(start, destination, sliced_graph, cost_func):\n",
    "    \"\"\"\n",
    "    In the given cost function, fixes specific nodes according to already known \n",
    "    values for the qubits. The qubits representing the start and destination nodes \n",
    "    are fixed at 1; any other nodes in the last time slice are fixed at 0.\n",
    "    \"\"\"\n",
    "    \n",
    "    start_node_index = 'X_' + str(find_index(start, 0, sliced_graph))\n",
    "    cost_func.linear_constraint(linear={start_node_index: 1}, sense='==', rhs=1, name='start_node')\n",
    "\n",
    "    dest_node_index = 'X_' + str(find_index(destination, -1, sliced_graph))\n",
    "    cost_func.linear_constraint(linear={dest_node_index: 1}, sense='==', rhs=1, name='destination_node')\n",
    "\n",
    "    counter = 0\n",
    "    for i in sliced_graph[-1]:\n",
    "        if i != destination:\n",
    "            index = 'X_' + str(find_index(i, -1, sliced_graph))\n",
    "            cost_func.linear_constraint(linear={index: 1}, sense='==', rhs=0, name=('last_slice_constraint_' + str(counter)))\n",
    "\n",
    "    # only the start node is in the first slice. so no iteration over other nodes needed\n",
    "\n",
    "    return"
   ]
  },
  {
   "cell_type": "code",
   "execution_count": 10,
   "metadata": {},
   "outputs": [],
   "source": [
    "def get_node_info_from_index(node_index, sg, nsg):\n",
    "    for time_slice in range(len(nsg)):\n",
    "        if node_index in nsg[time_slice]:\n",
    "\n",
    "            pos = nsg[time_slice].index(node_index)\n",
    "            node_label = sg[time_slice][pos]\n",
    "\n",
    "            return time_slice, node_label"
   ]
  },
  {
   "cell_type": "code",
   "execution_count": 11,
   "metadata": {},
   "outputs": [],
   "source": [
    "def result_evaluation(result, sg, nsg):\n",
    "    for i in range(len(result)):\n",
    "        if result[i] == '1':\n",
    "            time_slice, node_label = get_node_info_from_index(i, sg, nsg)\n",
    "            print(('node {} at time slice {}').format(node_label, time_slice))\n",
    "    return"
   ]
  },
  {
   "source": [
    "## Preprocessing"
   ],
   "cell_type": "markdown",
   "metadata": {}
  },
  {
   "cell_type": "code",
   "execution_count": 12,
   "metadata": {},
   "outputs": [],
   "source": [
    "import sympy as sym\n",
    "import matplotlib.pyplot as plt\n",
    "import pandas as pd"
   ]
  },
  {
   "cell_type": "code",
   "execution_count": 13,
   "metadata": {},
   "outputs": [],
   "source": [
    "graph = [(0, 5, 1.0), (0, 1, 1.0), (0, 3, 1.0), (0, 2, 1.0), (1, 6, 1.0), (2, 6, 1.0), (2, 9, 1.0), (2, 4, 1.0), (3, 4, 1.0), (3, 2, 1.0), (4, 9, 1.0), (4, 7, 1.0), (5, 1, 1.0), (6, 8, 1.0), (6, 9, 1.0), (7, 9, 1.0), (9, 8, 1.0)]\n",
    "\n",
    "start_node = 0\n",
    "destination_node = 9\n",
    "penalty_value = 500"
   ]
  },
  {
   "cell_type": "code",
   "execution_count": 14,
   "metadata": {},
   "outputs": [
    {
     "output_type": "execute_result",
     "data": {
      "text/plain": [
       "[(0, 5, 1.0),\n",
       " (0, 1, 1.0),\n",
       " (0, 3, 1.0),\n",
       " (0, 2, 1.0),\n",
       " (1, 6, 1.0),\n",
       " (2, 6, 1.0),\n",
       " (2, 9, 1.0),\n",
       " (2, 4, 1.0),\n",
       " (3, 4, 1.0),\n",
       " (3, 2, 1.0),\n",
       " (4, 9, 1.0),\n",
       " (4, 7, 1.0),\n",
       " (5, 1, 1.0),\n",
       " (6, 8, 1.0),\n",
       " (6, 9, 1.0),\n",
       " (7, 9, 1.0),\n",
       " (9, 9, 0.0)]"
      ]
     },
     "metadata": {},
     "execution_count": 14
    }
   ],
   "source": [
    "graph = [edge for edge in graph if edge[0] != destination_node and edge[1] != start_node] # discard all edges that go out from destination, and all edges that lead to start\n",
    "graph.append((destination_node, destination_node, 0.0))\n",
    "graph"
   ]
  },
  {
   "cell_type": "code",
   "execution_count": 15,
   "metadata": {},
   "outputs": [],
   "source": [
    "nr_nodes = len(get_unique_nodes(graph))"
   ]
  },
  {
   "cell_type": "code",
   "execution_count": 16,
   "metadata": {},
   "outputs": [
    {
     "output_type": "execute_result",
     "data": {
      "text/plain": [
       "17"
      ]
     },
     "metadata": {},
     "execution_count": 16
    }
   ],
   "source": [
    "test_sg = construct_sliced_graph(graph, destination_node)\n",
    "\n",
    "nr_qubits = 0\n",
    "for i in range(len(test_sg)):\n",
    "    for j in range(len(test_sg[i])):\n",
    "        nr_qubits += 1\n",
    "\n",
    "nr_qubits"
   ]
  },
  {
   "cell_type": "code",
   "execution_count": 17,
   "metadata": {},
   "outputs": [
    {
     "output_type": "execute_result",
     "data": {
      "text/plain": [
       "[[0], [5, 1, 3, 2], [6, 9, 4, 2, 1], [6, 9, 4, 7], [9, 7], [9]]"
      ]
     },
     "metadata": {},
     "execution_count": 17
    }
   ],
   "source": [
    "test_sg"
   ]
  },
  {
   "cell_type": "code",
   "execution_count": 18,
   "metadata": {},
   "outputs": [
    {
     "output_type": "execute_result",
     "data": {
      "text/plain": [
       "[[0], [1, 2, 3, 4], [5, 6, 7, 8, 9], [10, 11, 12, 13], [14, 15], [16]]"
      ]
     },
     "metadata": {},
     "execution_count": 18
    }
   ],
   "source": [
    "test_nsg = construct_numbered_sliced_graph(test_sg)\n",
    "test_nsg"
   ]
  },
  {
   "cell_type": "code",
   "execution_count": 19,
   "metadata": {},
   "outputs": [
    {
     "output_type": "execute_result",
     "data": {
      "text/plain": [
       "               0              5              1              3              2  \\\n",
       "0             []             []             []             []             []   \n",
       "5  [(0, 5, 1.0)]             []             []             []             []   \n",
       "1  [(0, 1, 1.0)]  [(5, 1, 1.0)]             []             []             []   \n",
       "3  [(0, 3, 1.0)]             []             []             []             []   \n",
       "2  [(0, 2, 1.0)]             []             []  [(3, 2, 1.0)]             []   \n",
       "6             []             []  [(1, 6, 1.0)]             []  [(2, 6, 1.0)]   \n",
       "9             []             []             []             []  [(2, 9, 1.0)]   \n",
       "4             []             []             []  [(3, 4, 1.0)]  [(2, 4, 1.0)]   \n",
       "7             []             []             []             []             []   \n",
       "8             []             []             []             []             []   \n",
       "\n",
       "               6              9              4              7   8  \n",
       "0             []             []             []             []  []  \n",
       "5             []             []             []             []  []  \n",
       "1             []             []             []             []  []  \n",
       "3             []             []             []             []  []  \n",
       "2             []             []             []             []  []  \n",
       "6             []             []             []             []  []  \n",
       "9  [(6, 9, 1.0)]  [(9, 9, 0.0)]  [(4, 9, 1.0)]  [(7, 9, 1.0)]  []  \n",
       "4             []             []             []             []  []  \n",
       "7             []             []  [(4, 7, 1.0)]             []  []  \n",
       "8  [(6, 8, 1.0)]             []             []             []  []  "
      ],
      "text/html": "<div>\n<style scoped>\n    .dataframe tbody tr th:only-of-type {\n        vertical-align: middle;\n    }\n\n    .dataframe tbody tr th {\n        vertical-align: top;\n    }\n\n    .dataframe thead th {\n        text-align: right;\n    }\n</style>\n<table border=\"1\" class=\"dataframe\">\n  <thead>\n    <tr style=\"text-align: right;\">\n      <th></th>\n      <th>0</th>\n      <th>5</th>\n      <th>1</th>\n      <th>3</th>\n      <th>2</th>\n      <th>6</th>\n      <th>9</th>\n      <th>4</th>\n      <th>7</th>\n      <th>8</th>\n    </tr>\n  </thead>\n  <tbody>\n    <tr>\n      <th>0</th>\n      <td>[]</td>\n      <td>[]</td>\n      <td>[]</td>\n      <td>[]</td>\n      <td>[]</td>\n      <td>[]</td>\n      <td>[]</td>\n      <td>[]</td>\n      <td>[]</td>\n      <td>[]</td>\n    </tr>\n    <tr>\n      <th>5</th>\n      <td>[(0, 5, 1.0)]</td>\n      <td>[]</td>\n      <td>[]</td>\n      <td>[]</td>\n      <td>[]</td>\n      <td>[]</td>\n      <td>[]</td>\n      <td>[]</td>\n      <td>[]</td>\n      <td>[]</td>\n    </tr>\n    <tr>\n      <th>1</th>\n      <td>[(0, 1, 1.0)]</td>\n      <td>[(5, 1, 1.0)]</td>\n      <td>[]</td>\n      <td>[]</td>\n      <td>[]</td>\n      <td>[]</td>\n      <td>[]</td>\n      <td>[]</td>\n      <td>[]</td>\n      <td>[]</td>\n    </tr>\n    <tr>\n      <th>3</th>\n      <td>[(0, 3, 1.0)]</td>\n      <td>[]</td>\n      <td>[]</td>\n      <td>[]</td>\n      <td>[]</td>\n      <td>[]</td>\n      <td>[]</td>\n      <td>[]</td>\n      <td>[]</td>\n      <td>[]</td>\n    </tr>\n    <tr>\n      <th>2</th>\n      <td>[(0, 2, 1.0)]</td>\n      <td>[]</td>\n      <td>[]</td>\n      <td>[(3, 2, 1.0)]</td>\n      <td>[]</td>\n      <td>[]</td>\n      <td>[]</td>\n      <td>[]</td>\n      <td>[]</td>\n      <td>[]</td>\n    </tr>\n    <tr>\n      <th>6</th>\n      <td>[]</td>\n      <td>[]</td>\n      <td>[(1, 6, 1.0)]</td>\n      <td>[]</td>\n      <td>[(2, 6, 1.0)]</td>\n      <td>[]</td>\n      <td>[]</td>\n      <td>[]</td>\n      <td>[]</td>\n      <td>[]</td>\n    </tr>\n    <tr>\n      <th>9</th>\n      <td>[]</td>\n      <td>[]</td>\n      <td>[]</td>\n      <td>[]</td>\n      <td>[(2, 9, 1.0)]</td>\n      <td>[(6, 9, 1.0)]</td>\n      <td>[(9, 9, 0.0)]</td>\n      <td>[(4, 9, 1.0)]</td>\n      <td>[(7, 9, 1.0)]</td>\n      <td>[]</td>\n    </tr>\n    <tr>\n      <th>4</th>\n      <td>[]</td>\n      <td>[]</td>\n      <td>[]</td>\n      <td>[(3, 4, 1.0)]</td>\n      <td>[(2, 4, 1.0)]</td>\n      <td>[]</td>\n      <td>[]</td>\n      <td>[]</td>\n      <td>[]</td>\n      <td>[]</td>\n    </tr>\n    <tr>\n      <th>7</th>\n      <td>[]</td>\n      <td>[]</td>\n      <td>[]</td>\n      <td>[]</td>\n      <td>[]</td>\n      <td>[]</td>\n      <td>[]</td>\n      <td>[(4, 7, 1.0)]</td>\n      <td>[]</td>\n      <td>[]</td>\n    </tr>\n    <tr>\n      <th>8</th>\n      <td>[]</td>\n      <td>[]</td>\n      <td>[]</td>\n      <td>[]</td>\n      <td>[]</td>\n      <td>[(6, 8, 1.0)]</td>\n      <td>[]</td>\n      <td>[]</td>\n      <td>[]</td>\n      <td>[]</td>\n    </tr>\n  </tbody>\n</table>\n</div>"
     },
     "metadata": {},
     "execution_count": 19
    }
   ],
   "source": [
    "matrix = construct_graph_matrix(graph)\n",
    "matrix"
   ]
  },
  {
   "cell_type": "code",
   "execution_count": 20,
   "metadata": {},
   "outputs": [
    {
     "output_type": "execute_result",
     "data": {
      "text/plain": [
       "     0    5    1    3    2    6    9    4    7    8\n",
       "0  500  500  500  500  500  500  500  500  500  500\n",
       "5    1  500  500  500  500  500  500  500  500  500\n",
       "1    1    1  500  500  500  500  500  500  500  500\n",
       "3    1  500  500  500  500  500  500  500  500  500\n",
       "2    1  500  500    1  500  500  500  500  500  500\n",
       "6  500  500    1  500    1  500  500  500  500  500\n",
       "9  500  500  500  500    1    1    0    1    1  500\n",
       "4  500  500  500    1    1  500  500  500  500  500\n",
       "7  500  500  500  500  500  500  500    1  500  500\n",
       "8  500  500  500  500  500    1  500  500  500  500"
      ],
      "text/html": "<div>\n<style scoped>\n    .dataframe tbody tr th:only-of-type {\n        vertical-align: middle;\n    }\n\n    .dataframe tbody tr th {\n        vertical-align: top;\n    }\n\n    .dataframe thead th {\n        text-align: right;\n    }\n</style>\n<table border=\"1\" class=\"dataframe\">\n  <thead>\n    <tr style=\"text-align: right;\">\n      <th></th>\n      <th>0</th>\n      <th>5</th>\n      <th>1</th>\n      <th>3</th>\n      <th>2</th>\n      <th>6</th>\n      <th>9</th>\n      <th>4</th>\n      <th>7</th>\n      <th>8</th>\n    </tr>\n  </thead>\n  <tbody>\n    <tr>\n      <th>0</th>\n      <td>500</td>\n      <td>500</td>\n      <td>500</td>\n      <td>500</td>\n      <td>500</td>\n      <td>500</td>\n      <td>500</td>\n      <td>500</td>\n      <td>500</td>\n      <td>500</td>\n    </tr>\n    <tr>\n      <th>5</th>\n      <td>1</td>\n      <td>500</td>\n      <td>500</td>\n      <td>500</td>\n      <td>500</td>\n      <td>500</td>\n      <td>500</td>\n      <td>500</td>\n      <td>500</td>\n      <td>500</td>\n    </tr>\n    <tr>\n      <th>1</th>\n      <td>1</td>\n      <td>1</td>\n      <td>500</td>\n      <td>500</td>\n      <td>500</td>\n      <td>500</td>\n      <td>500</td>\n      <td>500</td>\n      <td>500</td>\n      <td>500</td>\n    </tr>\n    <tr>\n      <th>3</th>\n      <td>1</td>\n      <td>500</td>\n      <td>500</td>\n      <td>500</td>\n      <td>500</td>\n      <td>500</td>\n      <td>500</td>\n      <td>500</td>\n      <td>500</td>\n      <td>500</td>\n    </tr>\n    <tr>\n      <th>2</th>\n      <td>1</td>\n      <td>500</td>\n      <td>500</td>\n      <td>1</td>\n      <td>500</td>\n      <td>500</td>\n      <td>500</td>\n      <td>500</td>\n      <td>500</td>\n      <td>500</td>\n    </tr>\n    <tr>\n      <th>6</th>\n      <td>500</td>\n      <td>500</td>\n      <td>1</td>\n      <td>500</td>\n      <td>1</td>\n      <td>500</td>\n      <td>500</td>\n      <td>500</td>\n      <td>500</td>\n      <td>500</td>\n    </tr>\n    <tr>\n      <th>9</th>\n      <td>500</td>\n      <td>500</td>\n      <td>500</td>\n      <td>500</td>\n      <td>1</td>\n      <td>1</td>\n      <td>0</td>\n      <td>1</td>\n      <td>1</td>\n      <td>500</td>\n    </tr>\n    <tr>\n      <th>4</th>\n      <td>500</td>\n      <td>500</td>\n      <td>500</td>\n      <td>1</td>\n      <td>1</td>\n      <td>500</td>\n      <td>500</td>\n      <td>500</td>\n      <td>500</td>\n      <td>500</td>\n    </tr>\n    <tr>\n      <th>7</th>\n      <td>500</td>\n      <td>500</td>\n      <td>500</td>\n      <td>500</td>\n      <td>500</td>\n      <td>500</td>\n      <td>500</td>\n      <td>1</td>\n      <td>500</td>\n      <td>500</td>\n    </tr>\n    <tr>\n      <th>8</th>\n      <td>500</td>\n      <td>500</td>\n      <td>500</td>\n      <td>500</td>\n      <td>500</td>\n      <td>1</td>\n      <td>500</td>\n      <td>500</td>\n      <td>500</td>\n      <td>500</td>\n    </tr>\n  </tbody>\n</table>\n</div>"
     },
     "metadata": {},
     "execution_count": 20
    }
   ],
   "source": [
    "edge_cost_matrix = construct_cost_matrix(matrix)\n",
    "edge_cost_matrix"
   ]
  },
  {
   "cell_type": "code",
   "execution_count": 21,
   "metadata": {},
   "outputs": [
    {
     "output_type": "execute_result",
     "data": {
      "text/plain": [
       "[[0], [1, 2, 3, 4], [5, 6, 7, 8, 9], [10, 11, 12, 13], [14, 15], [16]]"
      ]
     },
     "metadata": {},
     "execution_count": 21
    }
   ],
   "source": [
    "test_nsg = construct_numbered_sliced_graph(test_sg)\n",
    "test_nsg"
   ]
  },
  {
   "source": [
    "## Cost Function"
   ],
   "cell_type": "markdown",
   "metadata": {}
  },
  {
   "cell_type": "code",
   "execution_count": 22,
   "metadata": {},
   "outputs": [],
   "source": [
    "X = sym.IndexedBase('X')\n",
    "c = sym.symbols('c')\n",
    "v = sym.symbols('v')\n",
    "y = sym.symbols('y')\n",
    "q = sym.symbols('q')\n",
    "w = sym.symbols('w')\n",
    "\n",
    "\n",
    "d = sym.IndexedBase('d')\n",
    "sg = sym.IndexedBase('sg')\n",
    "\n",
    "slicedgraph = sym.IndexedBase('slicedgraph')\n",
    "nsg = sym.IndexedBase('nsg')\n",
    "nrslices = sym.symbols('nrslices')\n",
    "lenslice = sym.IndexedBase('lenslice')"
   ]
  },
  {
   "cell_type": "code",
   "execution_count": 23,
   "metadata": {},
   "outputs": [
    {
     "output_type": "execute_result",
     "data": {
      "text/plain": [
       "Sum(1501*(Sum(X[nsg[c, v]], (v, 0, lenslice[c] - 1)) - 1)**2, (c, 0, nrslices - 1)) + 0.5*Sum(2*Sum(X[nsg[q + 1, w]]*X[nsg[q, y]]*d[sg[q, y], sg[q + 1, w]], (w, 0, lenslice[q + 1] - 1), (y, 0, lenslice[q] - 1)), (q, 0, nrslices - 2))"
      ],
      "text/latex": "$\\displaystyle \\sum_{c=0}^{nrslices - 1} 1501 \\left(\\sum_{v=0}^{{lenslice}_{c} - 1} {X}_{{nsg}_{c,v}} - 1\\right)^{2} + 0.5 \\sum_{q=0}^{nrslices - 2} 2 \\sum_{\\substack{0 \\leq w \\leq {lenslice}_{q + 1} - 1\\\\0 \\leq y \\leq {lenslice}_{q} - 1}} {X}_{{nsg}_{q + 1,w}} {X}_{{nsg}_{q,y}} {d}_{{sg}_{q,y},{sg}_{q + 1,w}}$"
     },
     "metadata": {},
     "execution_count": 23
    }
   ],
   "source": [
    "cost_function = sym.Sum(                                # iteration over slices\n",
    "                    (sym.Sum(                           # iteration over nodes in that slice. in each slice, exactly one node needs to be passed. change later to 0 or 1\n",
    "                        X[nsg[c,v]],                    # zugehörige binary variable\n",
    "                        (v, 0, lenslice[c] - 1)\n",
    "                        )\n",
    "                        - 1 )**2 * 1501,\n",
    "\n",
    "                    (c, 0, nrslices-1)) + 0.5 * sym.Sum(   \n",
    "                        2 * (sym.Sum(  sym.Sum(  X[nsg[q,y]] * X[nsg[q+1,w]] * d[sg[q,y], sg[q+1,w]],  (w, 0, lenslice[q + 1] - 1) ) , (y, 0, lenslice[q] - 1))),\n",
    "                        (q, 0, nrslices - 2))\n",
    "\n",
    "# TODO. an dieser stelle derzeit noch ein workaround mit 0.5 * 2, da aus irgendeinem grund die dreifache summe ohne den zwischenfaktor 2 nicht evaluiert wird??\n",
    "                    \n",
    "cost_function"
   ]
  },
  {
   "cell_type": "code",
   "execution_count": 24,
   "metadata": {},
   "outputs": [
    {
     "output_type": "execute_result",
     "data": {
      "text/plain": [
       "Poly(1501.0*X[0]**2 + 1.0*X[0]*X[1] + 1.0*X[0]*X[2] + 1.0*X[0]*X[3] + 1.0*X[0]*X[4] - 3002.0*X[0] + 1501.0*X[1]**2 + 3002.0*X[1]*X[2] + 3002.0*X[1]*X[3] + 3002.0*X[1]*X[4] + 500.0*X[1]*X[5] + 500.0*X[1]*X[6] + 500.0*X[1]*X[7] + 500.0*X[1]*X[8] + 1.0*X[1]*X[9] - 3002.0*X[1] + 1501.0*X[2]**2 + 3002.0*X[2]*X[3] + 3002.0*X[2]*X[4] + 1.0*X[2]*X[5] + 500.0*X[2]*X[6] + 500.0*X[2]*X[7] + 500.0*X[2]*X[8] + 500.0*X[2]*X[9] - 3002.0*X[2] + 1501.0*X[3]**2 + 3002.0*X[3]*X[4] + 500.0*X[3]*X[5] + 500.0*X[3]*X[6] + 1.0*X[3]*X[7] + 1.0*X[3]*X[8] + 500.0*X[3]*X[9] - 3002.0*X[3] + 1501.0*X[4]**2 + 1.0*X[4]*X[5] + 1.0*X[4]*X[6] + 1.0*X[4]*X[7] + 500.0*X[4]*X[8] + 500.0*X[4]*X[9] - 3002.0*X[4] + 1501.0*X[5]**2 + 3002.0*X[5]*X[6] + 3002.0*X[5]*X[7] + 3002.0*X[5]*X[8] + 3002.0*X[5]*X[9] + 500.0*X[5]*X[10] + 1.0*X[5]*X[11] + 500.0*X[5]*X[12] + 500.0*X[5]*X[13] - 3002.0*X[5] + 1501.0*X[6]**2 + 3002.0*X[6]*X[7] + 3002.0*X[6]*X[8] + 3002.0*X[6]*X[9] + 500.0*X[6]*X[10] + 500.0*X[6]*X[12] + 500.0*X[6]*X[13] - 3002.0*X[6] + 1501.0*X[7]**2 + 3002.0*X[7]*X[8] + 3002.0*X[7]*X[9] + 500.0*X[7]*X[10] + 1.0*X[7]*X[11] + 500.0*X[7]*X[12] + 1.0*X[7]*X[13] - 3002.0*X[7] + 1501.0*X[8]**2 + 3002.0*X[8]*X[9] + 1.0*X[8]*X[10] + 1.0*X[8]*X[11] + 1.0*X[8]*X[12] + 500.0*X[8]*X[13] - 3002.0*X[8] + 1501.0*X[9]**2 + 1.0*X[9]*X[10] + 500.0*X[9]*X[11] + 500.0*X[9]*X[12] + 500.0*X[9]*X[13] - 3002.0*X[9] + 1501.0*X[10]**2 + 3002.0*X[10]*X[11] + 3002.0*X[10]*X[12] + 3002.0*X[10]*X[13] + 1.0*X[10]*X[14] + 500.0*X[10]*X[15] - 3002.0*X[10] + 1501.0*X[11]**2 + 3002.0*X[11]*X[12] + 3002.0*X[11]*X[13] + 500.0*X[11]*X[15] - 3002.0*X[11] + 1501.0*X[12]**2 + 3002.0*X[12]*X[13] + 1.0*X[12]*X[14] + 1.0*X[12]*X[15] - 3002.0*X[12] + 1501.0*X[13]**2 + 1.0*X[13]*X[14] + 500.0*X[13]*X[15] - 3002.0*X[13] + 1501.0*X[14]**2 + 3002.0*X[14]*X[15] - 3002.0*X[14] + 1501.0*X[15]**2 + 1.0*X[15]*X[16] - 3002.0*X[15] + 1501.0*X[16]**2 - 3002.0*X[16] + 9006.0, X[0], X[1], X[2], X[3], X[4], X[5], X[6], X[7], X[8], X[9], X[10], X[11], X[12], X[13], X[14], X[15], X[16], domain='RR')"
      ],
      "text/latex": "$\\displaystyle \\operatorname{Poly}{\\left( 1501.0 {X}_{0}^{2} + 1.0 {X}_{0}{X}_{1} + 1.0 {X}_{0}{X}_{2} + 1.0 {X}_{0}{X}_{3} + 1.0 {X}_{0}{X}_{4} - 3002.0 {X}_{0} + 1501.0 {X}_{1}^{2} + 3002.0 {X}_{1}{X}_{2} + 3002.0 {X}_{1}{X}_{3} + 3002.0 {X}_{1}{X}_{4} + 500.0 {X}_{1}{X}_{5} + 500.0 {X}_{1}{X}_{6} + 500.0 {X}_{1}{X}_{7} + 500.0 {X}_{1}{X}_{8} + 1.0 {X}_{1}{X}_{9} - 3002.0 {X}_{1} + 1501.0 {X}_{2}^{2} + 3002.0 {X}_{2}{X}_{3} + 3002.0 {X}_{2}{X}_{4} + 1.0 {X}_{2}{X}_{5} + 500.0 {X}_{2}{X}_{6} + 500.0 {X}_{2}{X}_{7} + 500.0 {X}_{2}{X}_{8} + 500.0 {X}_{2}{X}_{9} - 3002.0 {X}_{2} + 1501.0 {X}_{3}^{2} + 3002.0 {X}_{3}{X}_{4} + 500.0 {X}_{3}{X}_{5} + 500.0 {X}_{3}{X}_{6} + 1.0 {X}_{3}{X}_{7} + 1.0 {X}_{3}{X}_{8} + 500.0 {X}_{3}{X}_{9} - 3002.0 {X}_{3} + 1501.0 {X}_{4}^{2} + 1.0 {X}_{4}{X}_{5} + 1.0 {X}_{4}{X}_{6} + 1.0 {X}_{4}{X}_{7} + 500.0 {X}_{4}{X}_{8} + 500.0 {X}_{4}{X}_{9} - 3002.0 {X}_{4} + 1501.0 {X}_{5}^{2} + 3002.0 {X}_{5}{X}_{6} + 3002.0 {X}_{5}{X}_{7} + 3002.0 {X}_{5}{X}_{8} + 3002.0 {X}_{5}{X}_{9} + 500.0 {X}_{5}{X}_{10} + 1.0 {X}_{5}{X}_{11} + 500.0 {X}_{5}{X}_{12} + 500.0 {X}_{5}{X}_{13} - 3002.0 {X}_{5} + 1501.0 {X}_{6}^{2} + 3002.0 {X}_{6}{X}_{7} + 3002.0 {X}_{6}{X}_{8} + 3002.0 {X}_{6}{X}_{9} + 500.0 {X}_{6}{X}_{10} + 500.0 {X}_{6}{X}_{12} + 500.0 {X}_{6}{X}_{13} - 3002.0 {X}_{6} + 1501.0 {X}_{7}^{2} + 3002.0 {X}_{7}{X}_{8} + 3002.0 {X}_{7}{X}_{9} + 500.0 {X}_{7}{X}_{10} + 1.0 {X}_{7}{X}_{11} + 500.0 {X}_{7}{X}_{12} + 1.0 {X}_{7}{X}_{13} - 3002.0 {X}_{7} + 1501.0 {X}_{8}^{2} + 3002.0 {X}_{8}{X}_{9} + 1.0 {X}_{8}{X}_{10} + 1.0 {X}_{8}{X}_{11} + 1.0 {X}_{8}{X}_{12} + 500.0 {X}_{8}{X}_{13} - 3002.0 {X}_{8} + 1501.0 {X}_{9}^{2} + 1.0 {X}_{9}{X}_{10} + 500.0 {X}_{9}{X}_{11} + 500.0 {X}_{9}{X}_{12} + 500.0 {X}_{9}{X}_{13} - 3002.0 {X}_{9} + 1501.0 {X}_{10}^{2} + 3002.0 {X}_{10}{X}_{11} + 3002.0 {X}_{10}{X}_{12} + 3002.0 {X}_{10}{X}_{13} + 1.0 {X}_{10}{X}_{14} + 500.0 {X}_{10}{X}_{15} - 3002.0 {X}_{10} + 1501.0 {X}_{11}^{2} + 3002.0 {X}_{11}{X}_{12} + 3002.0 {X}_{11}{X}_{13} + 500.0 {X}_{11}{X}_{15} - 3002.0 {X}_{11} + 1501.0 {X}_{12}^{2} + 3002.0 {X}_{12}{X}_{13} + 1.0 {X}_{12}{X}_{14} + 1.0 {X}_{12}{X}_{15} - 3002.0 {X}_{12} + 1501.0 {X}_{13}^{2} + 1.0 {X}_{13}{X}_{14} + 500.0 {X}_{13}{X}_{15} - 3002.0 {X}_{13} + 1501.0 {X}_{14}^{2} + 3002.0 {X}_{14}{X}_{15} - 3002.0 {X}_{14} + 1501.0 {X}_{15}^{2} + 1.0 {X}_{15}{X}_{16} - 3002.0 {X}_{15} + 1501.0 {X}_{16}^{2} - 3002.0 {X}_{16} + 9006.0, {X}_{0}, {X}_{1}, {X}_{2}, {X}_{3}, {X}_{4}, {X}_{5}, {X}_{6}, {X}_{7}, {X}_{8}, {X}_{9}, {X}_{10}, {X}_{11}, {X}_{12}, {X}_{13}, {X}_{14}, {X}_{15}, {X}_{16}, domain=\\mathbb{R} \\right)}$"
     },
     "metadata": {},
     "execution_count": 24
    }
   ],
   "source": [
    "# translation of data into dictionaries for sympy\n",
    "single_valued_dict = {\n",
    "    nrslices: len(test_sg)\n",
    "    }\n",
    "\n",
    "numbered_sliced_graph_dict = {\n",
    "    nsg[i, j]: test_nsg[i][j] for i in range(len(test_nsg)) for j in range(len(test_nsg[i]))\n",
    "}\n",
    "\n",
    "sliced_graph_dict = {\n",
    "    sg[i, j]: test_sg[i][j] for i in range(len(test_sg)) for j in range(len(test_sg[i]))\n",
    "}\n",
    "\n",
    "len_slice_dict = {\n",
    "    lenslice[i]: len(test_sg[i]) for i in range(len(test_sg))\n",
    "}\n",
    "\n",
    "d_dict = {\n",
    "    d[i, j]: edge_cost_matrix[i][j] \n",
    "    for i in range(nr_nodes)\n",
    "    for j in range(nr_nodes)\n",
    "}\n",
    "\n",
    "# definition of the cost polynomial\n",
    "cost_poly = sym.Poly(cost_function\n",
    "                     .subs(single_valued_dict)\n",
    "                     .doit()\n",
    "                     .subs(len_slice_dict)\n",
    "                     .doit()\n",
    "                     .subs(numbered_sliced_graph_dict)\n",
    "                     .subs(sliced_graph_dict)\n",
    "                     .doit()\n",
    "                     .subs(d_dict)\n",
    "                     .doit(),\n",
    "                     [X[i] for i in range(nr_qubits)])\n",
    "cost_poly"
   ]
  },
  {
   "source": [
    "## QAOA"
   ],
   "cell_type": "markdown",
   "metadata": {}
  },
  {
   "cell_type": "code",
   "execution_count": 25,
   "metadata": {},
   "outputs": [
    {
     "output_type": "stream",
     "name": "stdout",
     "text": [
      "\\ This file has been generated by DOcplex\n\\ ENCODING=ISO-8859-1\n\\Problem name: CPLEX\n\nMinimize\n obj: - 3002 X_0 - 3002 X_1 - 3002 X_2 - 3002 X_3 - 3002 X_4 - 3002 X_5\n      - 3002 X_6 - 3002 X_7 - 3002 X_8 - 3002 X_9 - 3002 X_10 - 3002 X_11\n      - 3002 X_12 - 3002 X_13 - 3002 X_14 - 3002 X_15 - 3002 X_16 + [ 3002 X_0^2\n      + 2 X_0*X_1 + 2 X_0*X_2 + 2 X_0*X_3 + 2 X_0*X_4 + 3002 X_1^2\n      + 6004 X_1*X_2 + 6004 X_1*X_3 + 6004 X_1*X_4 + 1000 X_1*X_5 + 1000 X_1*X_6\n      + 1000 X_1*X_7 + 1000 X_1*X_8 + 2 X_1*X_9 + 3002 X_2^2 + 6004 X_2*X_3\n      + 6004 X_2*X_4 + 2 X_2*X_5 + 1000 X_2*X_6 + 1000 X_2*X_7 + 1000 X_2*X_8\n      + 1000 X_2*X_9 + 3002 X_3^2 + 6004 X_3*X_4 + 1000 X_3*X_5 + 1000 X_3*X_6\n      + 2 X_3*X_7 + 2 X_3*X_8 + 1000 X_3*X_9 + 3002 X_4^2 + 2 X_4*X_5\n      + 2 X_4*X_6 + 2 X_4*X_7 + 1000 X_4*X_8 + 1000 X_4*X_9 + 3002 X_5^2\n      + 6004 X_5*X_6 + 6004 X_5*X_7 + 6004 X_5*X_8 + 6004 X_5*X_9\n      + 1000 X_5*X_10 + 2 X_5*X_11 + 1000 X_5*X_12 + 1000 X_5*X_13 + 3002 X_6^2\n      + 6004 X_6*X_7 + 6004 X_6*X_8 + 6004 X_6*X_9 + 1000 X_6*X_10\n      + 1000 X_6*X_12 + 1000 X_6*X_13 + 3002 X_7^2 + 6004 X_7*X_8 + 6004 X_7*X_9\n      + 1000 X_7*X_10 + 2 X_7*X_11 + 1000 X_7*X_12 + 2 X_7*X_13 + 3002 X_8^2\n      + 6004 X_8*X_9 + 2 X_8*X_10 + 2 X_8*X_11 + 2 X_8*X_12 + 1000 X_8*X_13\n      + 3002 X_9^2 + 2 X_9*X_10 + 1000 X_9*X_11 + 1000 X_9*X_12 + 1000 X_9*X_13\n      + 3002 X_10^2 + 6004 X_10*X_11 + 6004 X_10*X_12 + 6004 X_10*X_13\n      + 2 X_10*X_14 + 1000 X_10*X_15 + 3002 X_11^2 + 6004 X_11*X_12\n      + 6004 X_11*X_13 + 1000 X_11*X_15 + 3002 X_12^2 + 6004 X_12*X_13\n      + 2 X_12*X_14 + 2 X_12*X_15 + 3002 X_13^2 + 2 X_13*X_14 + 1000 X_13*X_15\n      + 3002 X_14^2 + 6004 X_14*X_15 + 3002 X_15^2 + 2 X_15*X_16 + 3002 X_16^2\n      ]/2\nSubject To\n start_node: X_0 = 1\n destination_node: X_16 = 1\n\nBounds\n 0 <= X_0 <= 1\n 0 <= X_1 <= 1\n 0 <= X_2 <= 1\n 0 <= X_3 <= 1\n 0 <= X_4 <= 1\n 0 <= X_5 <= 1\n 0 <= X_6 <= 1\n 0 <= X_7 <= 1\n 0 <= X_8 <= 1\n 0 <= X_9 <= 1\n 0 <= X_10 <= 1\n 0 <= X_11 <= 1\n 0 <= X_12 <= 1\n 0 <= X_13 <= 1\n 0 <= X_14 <= 1\n 0 <= X_15 <= 1\n 0 <= X_16 <= 1\n\nBinaries\n X_0 X_1 X_2 X_3 X_4 X_5 X_6 X_7 X_8 X_9 X_10 X_11 X_12 X_13 X_14 X_15 X_16\nEnd\n\n"
     ]
    }
   ],
   "source": [
    "import qiskit\n",
    "from qiskit.algorithms import QAOA\n",
    "\n",
    "from qiskit_optimization.algorithms import MinimumEigenOptimizer, RecursiveMinimumEigenOptimizer, CplexOptimizer, GroverOptimizer\n",
    "from qiskit.utils import QuantumInstance\n",
    "from qiskit_optimization.problems import QuadraticProgram\n",
    "\n",
    "# generate qiskit's cost function\n",
    "qiskit_cost_function = QuadraticProgram()\n",
    "\n",
    "# define qiskit variables\n",
    "for i in range(nr_qubits):\n",
    "    qiskit_cost_function.binary_var('X_' + str(i))\n",
    "\n",
    "# specify qiskit cost function\n",
    "qiskit_cost_function.minimize(\n",
    "    linear = [int(cost_poly.coeff_monomial(X[i]**1)) for i in range(nr_qubits)],\n",
    "    quadratic = {\n",
    "        ('X_'+str(i), 'X_'+str(j)): cost_poly.coeff_monomial(X[i]**1 * X[j]**1)\n",
    "        for i in range(nr_qubits)\n",
    "        for j in range(i,nr_qubits)\n",
    "    }\n",
    "    )\n",
    "fix_nodes(start_node, destination_node, test_sg, qiskit_cost_function)\n",
    "\n",
    "print(qiskit_cost_function.export_as_lp_string())"
   ]
  },
  {
   "source": [
    "# execute QAOA on local simulator\n",
    "\n",
    "# https://qiskit.org/documentation/stubs/qiskit.algorithms.QAOA.html?highlight=qaoa\n",
    "\n",
    "# 'depth of circuit grows linearly with p times (at worst) the number of constraints'\n",
    "# https://arxiv.org/pdf/1411.4028.pdf\n",
    "\n",
    "qaoa = QAOA(reps=10,quantum_instance =\n",
    "             QuantumInstance(backend=qiskit.Aer.get_backend('qasm_simulator'), skip_qobj_validation=False))\n",
    "optimizer_qaoa = MinimumEigenOptimizer(qaoa)\n",
    "\n",
    "results = []\n",
    "\n",
    "for i in range(1):\n",
    "    result_qaoa = optimizer_qaoa.solve(qiskit_cost_function)\n",
    "    results.append(result_qaoa)"
   ],
   "cell_type": "code",
   "metadata": {},
   "execution_count": 26,
   "outputs": []
  },
  {
   "source": [
    "## Results"
   ],
   "cell_type": "markdown",
   "metadata": {}
  },
  {
   "cell_type": "code",
   "execution_count": 30,
   "metadata": {},
   "outputs": [
    {
     "output_type": "execute_result",
     "data": {
      "text/plain": [
       "[optimal function value: -9003.0\n",
       " optimal value: [1. 0. 0. 0. 1. 1. 0. 0. 0. 0. 0. 1. 0. 0. 1. 0. 1.]\n",
       " status: SUCCESS]"
      ]
     },
     "metadata": {},
     "execution_count": 30
    }
   ],
   "source": [
    "results"
   ]
  },
  {
   "cell_type": "code",
   "execution_count": 31,
   "metadata": {},
   "outputs": [
    {
     "output_type": "execute_result",
     "data": {
      "text/plain": [
       "-9003.0"
      ]
     },
     "metadata": {},
     "execution_count": 31
    }
   ],
   "source": [
    "average_cost = 0\n",
    "for r in results:\n",
    "    average_cost += r.fval\n",
    "average_cost / len(results)"
   ]
  },
  {
   "cell_type": "code",
   "execution_count": 32,
   "metadata": {},
   "outputs": [],
   "source": [
    "optimizer = CplexOptimizer() if CplexOptimizer.is_cplex_installed() else None\n",
    "\n",
    "results_classic = []\n",
    "\n",
    "for i in range(20):\n",
    "    result = optimizer.solve(qiskit_cost_function)\n",
    "    results_classic.append(result)"
   ]
  },
  {
   "cell_type": "code",
   "execution_count": 34,
   "metadata": {},
   "outputs": [
    {
     "output_type": "execute_result",
     "data": {
      "text/plain": [
       "-9004.0"
      ]
     },
     "metadata": {},
     "execution_count": 34
    }
   ],
   "source": [
    "average_cost_classic = 0\n",
    "for r in results_classic:\n",
    "    average_cost_classic += r.fval\n",
    "average_cost_classic / len(results_classic)"
   ]
  },
  {
   "source": [
    "qubit_results = []\n",
    "for result in results:\n",
    "    qubit_string = str(result.x).replace(' ', '').replace('.', '').replace('-', '')[1:-1]\n",
    "    qubit_results.append(qubit_string)"
   ],
   "cell_type": "code",
   "metadata": {},
   "execution_count": 35,
   "outputs": []
  },
  {
   "cell_type": "code",
   "execution_count": 36,
   "metadata": {},
   "outputs": [
    {
     "output_type": "display_data",
     "data": {
      "text/plain": "<Figure size 432x288 with 1 Axes>",
      "image/svg+xml": "<?xml version=\"1.0\" encoding=\"utf-8\" standalone=\"no\"?>\n<!DOCTYPE svg PUBLIC \"-//W3C//DTD SVG 1.1//EN\"\n  \"http://www.w3.org/Graphics/SVG/1.1/DTD/svg11.dtd\">\n<!-- Created with matplotlib (https://matplotlib.org/) -->\n<svg height=\"347.0025pt\" version=\"1.1\" viewBox=\"0 0 372.103125 347.0025\" width=\"372.103125pt\" xmlns=\"http://www.w3.org/2000/svg\" xmlns:xlink=\"http://www.w3.org/1999/xlink\">\n <metadata>\n  <rdf:RDF xmlns:cc=\"http://creativecommons.org/ns#\" xmlns:dc=\"http://purl.org/dc/elements/1.1/\" xmlns:rdf=\"http://www.w3.org/1999/02/22-rdf-syntax-ns#\">\n   <cc:Work>\n    <dc:type rdf:resource=\"http://purl.org/dc/dcmitype/StillImage\"/>\n    <dc:date>2021-07-07T19:05:31.304502</dc:date>\n    <dc:format>image/svg+xml</dc:format>\n    <dc:creator>\n     <cc:Agent>\n      <dc:title>Matplotlib v3.3.2, https://matplotlib.org/</dc:title>\n     </cc:Agent>\n    </dc:creator>\n   </cc:Work>\n  </rdf:RDF>\n </metadata>\n <defs>\n  <style type=\"text/css\">*{stroke-linecap:butt;stroke-linejoin:round;}</style>\n </defs>\n <g id=\"figure_1\">\n  <g id=\"patch_1\">\n   <path d=\"M 0 347.0025 \nL 372.103125 347.0025 \nL 372.103125 0 \nL 0 0 \nz\n\" style=\"fill:none;\"/>\n  </g>\n  <g id=\"axes_1\">\n   <g id=\"patch_2\">\n    <path d=\"M 30.103125 224.64 \nL 364.903125 224.64 \nL 364.903125 7.2 \nL 30.103125 7.2 \nz\n\" style=\"fill:#ffffff;\"/>\n   </g>\n   <g id=\"patch_3\">\n    <path clip-path=\"url(#pf5d2a9df18)\" d=\"M 45.321307 224.64 \nL 349.684943 224.64 \nL 349.684943 17.554286 \nL 45.321307 17.554286 \nz\n\" style=\"fill:#1f77b4;\"/>\n   </g>\n   <g id=\"matplotlib.axis_1\">\n    <g id=\"xtick_1\">\n     <g id=\"line2d_1\">\n      <defs>\n       <path d=\"M 0 0 \nL 0 3.5 \n\" id=\"me0b11e762c\" style=\"stroke:#000000;stroke-width:0.8;\"/>\n      </defs>\n      <g>\n       <use style=\"stroke:#000000;stroke-width:0.8;\" x=\"197.503125\" xlink:href=\"#me0b11e762c\" y=\"224.64\"/>\n      </g>\n     </g>\n     <g id=\"text_1\">\n      <!-- 10001100000100101 -->\n      <g transform=\"translate(200.2625 339.8025)rotate(-90)scale(0.1 -0.1)\">\n       <defs>\n        <path d=\"M 12.40625 8.296875 \nL 28.515625 8.296875 \nL 28.515625 63.921875 \nL 10.984375 60.40625 \nL 10.984375 69.390625 \nL 28.421875 72.90625 \nL 38.28125 72.90625 \nL 38.28125 8.296875 \nL 54.390625 8.296875 \nL 54.390625 0 \nL 12.40625 0 \nz\n\" id=\"DejaVuSans-49\"/>\n        <path d=\"M 31.78125 66.40625 \nQ 24.171875 66.40625 20.328125 58.90625 \nQ 16.5 51.421875 16.5 36.375 \nQ 16.5 21.390625 20.328125 13.890625 \nQ 24.171875 6.390625 31.78125 6.390625 \nQ 39.453125 6.390625 43.28125 13.890625 \nQ 47.125 21.390625 47.125 36.375 \nQ 47.125 51.421875 43.28125 58.90625 \nQ 39.453125 66.40625 31.78125 66.40625 \nz\nM 31.78125 74.21875 \nQ 44.046875 74.21875 50.515625 64.515625 \nQ 56.984375 54.828125 56.984375 36.375 \nQ 56.984375 17.96875 50.515625 8.265625 \nQ 44.046875 -1.421875 31.78125 -1.421875 \nQ 19.53125 -1.421875 13.0625 8.265625 \nQ 6.59375 17.96875 6.59375 36.375 \nQ 6.59375 54.828125 13.0625 64.515625 \nQ 19.53125 74.21875 31.78125 74.21875 \nz\n\" id=\"DejaVuSans-48\"/>\n       </defs>\n       <use xlink:href=\"#DejaVuSans-49\"/>\n       <use x=\"63.623047\" xlink:href=\"#DejaVuSans-48\"/>\n       <use x=\"127.246094\" xlink:href=\"#DejaVuSans-48\"/>\n       <use x=\"190.869141\" xlink:href=\"#DejaVuSans-48\"/>\n       <use x=\"254.492188\" xlink:href=\"#DejaVuSans-49\"/>\n       <use x=\"318.115234\" xlink:href=\"#DejaVuSans-49\"/>\n       <use x=\"381.738281\" xlink:href=\"#DejaVuSans-48\"/>\n       <use x=\"445.361328\" xlink:href=\"#DejaVuSans-48\"/>\n       <use x=\"508.984375\" xlink:href=\"#DejaVuSans-48\"/>\n       <use x=\"572.607422\" xlink:href=\"#DejaVuSans-48\"/>\n       <use x=\"636.230469\" xlink:href=\"#DejaVuSans-48\"/>\n       <use x=\"699.853516\" xlink:href=\"#DejaVuSans-49\"/>\n       <use x=\"763.476562\" xlink:href=\"#DejaVuSans-48\"/>\n       <use x=\"827.099609\" xlink:href=\"#DejaVuSans-48\"/>\n       <use x=\"890.722656\" xlink:href=\"#DejaVuSans-49\"/>\n       <use x=\"954.345703\" xlink:href=\"#DejaVuSans-48\"/>\n       <use x=\"1017.96875\" xlink:href=\"#DejaVuSans-49\"/>\n      </g>\n     </g>\n    </g>\n   </g>\n   <g id=\"matplotlib.axis_2\">\n    <g id=\"ytick_1\">\n     <g id=\"line2d_2\">\n      <defs>\n       <path d=\"M 0 0 \nL -3.5 0 \n\" id=\"m82fd37b6c8\" style=\"stroke:#000000;stroke-width:0.8;\"/>\n      </defs>\n      <g>\n       <use style=\"stroke:#000000;stroke-width:0.8;\" x=\"30.103125\" xlink:href=\"#m82fd37b6c8\" y=\"224.64\"/>\n      </g>\n     </g>\n     <g id=\"text_2\">\n      <!-- 0.0 -->\n      <g transform=\"translate(7.2 228.439219)scale(0.1 -0.1)\">\n       <defs>\n        <path d=\"M 10.6875 12.40625 \nL 21 12.40625 \nL 21 0 \nL 10.6875 0 \nz\n\" id=\"DejaVuSans-46\"/>\n       </defs>\n       <use xlink:href=\"#DejaVuSans-48\"/>\n       <use x=\"63.623047\" xlink:href=\"#DejaVuSans-46\"/>\n       <use x=\"95.410156\" xlink:href=\"#DejaVuSans-48\"/>\n      </g>\n     </g>\n    </g>\n    <g id=\"ytick_2\">\n     <g id=\"line2d_3\">\n      <g>\n       <use style=\"stroke:#000000;stroke-width:0.8;\" x=\"30.103125\" xlink:href=\"#m82fd37b6c8\" y=\"183.222857\"/>\n      </g>\n     </g>\n     <g id=\"text_3\">\n      <!-- 0.2 -->\n      <g transform=\"translate(7.2 187.022076)scale(0.1 -0.1)\">\n       <defs>\n        <path d=\"M 19.1875 8.296875 \nL 53.609375 8.296875 \nL 53.609375 0 \nL 7.328125 0 \nL 7.328125 8.296875 \nQ 12.9375 14.109375 22.625 23.890625 \nQ 32.328125 33.6875 34.8125 36.53125 \nQ 39.546875 41.84375 41.421875 45.53125 \nQ 43.3125 49.21875 43.3125 52.78125 \nQ 43.3125 58.59375 39.234375 62.25 \nQ 35.15625 65.921875 28.609375 65.921875 \nQ 23.96875 65.921875 18.8125 64.3125 \nQ 13.671875 62.703125 7.8125 59.421875 \nL 7.8125 69.390625 \nQ 13.765625 71.78125 18.9375 73 \nQ 24.125 74.21875 28.421875 74.21875 \nQ 39.75 74.21875 46.484375 68.546875 \nQ 53.21875 62.890625 53.21875 53.421875 \nQ 53.21875 48.921875 51.53125 44.890625 \nQ 49.859375 40.875 45.40625 35.40625 \nQ 44.1875 33.984375 37.640625 27.21875 \nQ 31.109375 20.453125 19.1875 8.296875 \nz\n\" id=\"DejaVuSans-50\"/>\n       </defs>\n       <use xlink:href=\"#DejaVuSans-48\"/>\n       <use x=\"63.623047\" xlink:href=\"#DejaVuSans-46\"/>\n       <use x=\"95.410156\" xlink:href=\"#DejaVuSans-50\"/>\n      </g>\n     </g>\n    </g>\n    <g id=\"ytick_3\">\n     <g id=\"line2d_4\">\n      <g>\n       <use style=\"stroke:#000000;stroke-width:0.8;\" x=\"30.103125\" xlink:href=\"#m82fd37b6c8\" y=\"141.805714\"/>\n      </g>\n     </g>\n     <g id=\"text_4\">\n      <!-- 0.4 -->\n      <g transform=\"translate(7.2 145.604933)scale(0.1 -0.1)\">\n       <defs>\n        <path d=\"M 37.796875 64.3125 \nL 12.890625 25.390625 \nL 37.796875 25.390625 \nz\nM 35.203125 72.90625 \nL 47.609375 72.90625 \nL 47.609375 25.390625 \nL 58.015625 25.390625 \nL 58.015625 17.1875 \nL 47.609375 17.1875 \nL 47.609375 0 \nL 37.796875 0 \nL 37.796875 17.1875 \nL 4.890625 17.1875 \nL 4.890625 26.703125 \nz\n\" id=\"DejaVuSans-52\"/>\n       </defs>\n       <use xlink:href=\"#DejaVuSans-48\"/>\n       <use x=\"63.623047\" xlink:href=\"#DejaVuSans-46\"/>\n       <use x=\"95.410156\" xlink:href=\"#DejaVuSans-52\"/>\n      </g>\n     </g>\n    </g>\n    <g id=\"ytick_4\">\n     <g id=\"line2d_5\">\n      <g>\n       <use style=\"stroke:#000000;stroke-width:0.8;\" x=\"30.103125\" xlink:href=\"#m82fd37b6c8\" y=\"100.388571\"/>\n      </g>\n     </g>\n     <g id=\"text_5\">\n      <!-- 0.6 -->\n      <g transform=\"translate(7.2 104.18779)scale(0.1 -0.1)\">\n       <defs>\n        <path d=\"M 33.015625 40.375 \nQ 26.375 40.375 22.484375 35.828125 \nQ 18.609375 31.296875 18.609375 23.390625 \nQ 18.609375 15.53125 22.484375 10.953125 \nQ 26.375 6.390625 33.015625 6.390625 \nQ 39.65625 6.390625 43.53125 10.953125 \nQ 47.40625 15.53125 47.40625 23.390625 \nQ 47.40625 31.296875 43.53125 35.828125 \nQ 39.65625 40.375 33.015625 40.375 \nz\nM 52.59375 71.296875 \nL 52.59375 62.3125 \nQ 48.875 64.0625 45.09375 64.984375 \nQ 41.3125 65.921875 37.59375 65.921875 \nQ 27.828125 65.921875 22.671875 59.328125 \nQ 17.53125 52.734375 16.796875 39.40625 \nQ 19.671875 43.65625 24.015625 45.921875 \nQ 28.375 48.1875 33.59375 48.1875 \nQ 44.578125 48.1875 50.953125 41.515625 \nQ 57.328125 34.859375 57.328125 23.390625 \nQ 57.328125 12.15625 50.6875 5.359375 \nQ 44.046875 -1.421875 33.015625 -1.421875 \nQ 20.359375 -1.421875 13.671875 8.265625 \nQ 6.984375 17.96875 6.984375 36.375 \nQ 6.984375 53.65625 15.1875 63.9375 \nQ 23.390625 74.21875 37.203125 74.21875 \nQ 40.921875 74.21875 44.703125 73.484375 \nQ 48.484375 72.75 52.59375 71.296875 \nz\n\" id=\"DejaVuSans-54\"/>\n       </defs>\n       <use xlink:href=\"#DejaVuSans-48\"/>\n       <use x=\"63.623047\" xlink:href=\"#DejaVuSans-46\"/>\n       <use x=\"95.410156\" xlink:href=\"#DejaVuSans-54\"/>\n      </g>\n     </g>\n    </g>\n    <g id=\"ytick_5\">\n     <g id=\"line2d_6\">\n      <g>\n       <use style=\"stroke:#000000;stroke-width:0.8;\" x=\"30.103125\" xlink:href=\"#m82fd37b6c8\" y=\"58.971429\"/>\n      </g>\n     </g>\n     <g id=\"text_6\">\n      <!-- 0.8 -->\n      <g transform=\"translate(7.2 62.770647)scale(0.1 -0.1)\">\n       <defs>\n        <path d=\"M 31.78125 34.625 \nQ 24.75 34.625 20.71875 30.859375 \nQ 16.703125 27.09375 16.703125 20.515625 \nQ 16.703125 13.921875 20.71875 10.15625 \nQ 24.75 6.390625 31.78125 6.390625 \nQ 38.8125 6.390625 42.859375 10.171875 \nQ 46.921875 13.96875 46.921875 20.515625 \nQ 46.921875 27.09375 42.890625 30.859375 \nQ 38.875 34.625 31.78125 34.625 \nz\nM 21.921875 38.8125 \nQ 15.578125 40.375 12.03125 44.71875 \nQ 8.5 49.078125 8.5 55.328125 \nQ 8.5 64.0625 14.71875 69.140625 \nQ 20.953125 74.21875 31.78125 74.21875 \nQ 42.671875 74.21875 48.875 69.140625 \nQ 55.078125 64.0625 55.078125 55.328125 \nQ 55.078125 49.078125 51.53125 44.71875 \nQ 48 40.375 41.703125 38.8125 \nQ 48.828125 37.15625 52.796875 32.3125 \nQ 56.78125 27.484375 56.78125 20.515625 \nQ 56.78125 9.90625 50.3125 4.234375 \nQ 43.84375 -1.421875 31.78125 -1.421875 \nQ 19.734375 -1.421875 13.25 4.234375 \nQ 6.78125 9.90625 6.78125 20.515625 \nQ 6.78125 27.484375 10.78125 32.3125 \nQ 14.796875 37.15625 21.921875 38.8125 \nz\nM 18.3125 54.390625 \nQ 18.3125 48.734375 21.84375 45.5625 \nQ 25.390625 42.390625 31.78125 42.390625 \nQ 38.140625 42.390625 41.71875 45.5625 \nQ 45.3125 48.734375 45.3125 54.390625 \nQ 45.3125 60.0625 41.71875 63.234375 \nQ 38.140625 66.40625 31.78125 66.40625 \nQ 25.390625 66.40625 21.84375 63.234375 \nQ 18.3125 60.0625 18.3125 54.390625 \nz\n\" id=\"DejaVuSans-56\"/>\n       </defs>\n       <use xlink:href=\"#DejaVuSans-48\"/>\n       <use x=\"63.623047\" xlink:href=\"#DejaVuSans-46\"/>\n       <use x=\"95.410156\" xlink:href=\"#DejaVuSans-56\"/>\n      </g>\n     </g>\n    </g>\n    <g id=\"ytick_6\">\n     <g id=\"line2d_7\">\n      <g>\n       <use style=\"stroke:#000000;stroke-width:0.8;\" x=\"30.103125\" xlink:href=\"#m82fd37b6c8\" y=\"17.554286\"/>\n      </g>\n     </g>\n     <g id=\"text_7\">\n      <!-- 1.0 -->\n      <g transform=\"translate(7.2 21.353504)scale(0.1 -0.1)\">\n       <use xlink:href=\"#DejaVuSans-49\"/>\n       <use x=\"63.623047\" xlink:href=\"#DejaVuSans-46\"/>\n       <use x=\"95.410156\" xlink:href=\"#DejaVuSans-48\"/>\n      </g>\n     </g>\n    </g>\n   </g>\n   <g id=\"patch_4\">\n    <path d=\"M 30.103125 224.64 \nL 30.103125 7.2 \n\" style=\"fill:none;stroke:#000000;stroke-linecap:square;stroke-linejoin:miter;stroke-width:0.8;\"/>\n   </g>\n   <g id=\"patch_5\">\n    <path d=\"M 364.903125 224.64 \nL 364.903125 7.2 \n\" style=\"fill:none;stroke:#000000;stroke-linecap:square;stroke-linejoin:miter;stroke-width:0.8;\"/>\n   </g>\n   <g id=\"patch_6\">\n    <path d=\"M 30.103125 224.64 \nL 364.903125 224.64 \n\" style=\"fill:none;stroke:#000000;stroke-linecap:square;stroke-linejoin:miter;stroke-width:0.8;\"/>\n   </g>\n   <g id=\"patch_7\">\n    <path d=\"M 30.103125 7.2 \nL 364.903125 7.2 \n\" style=\"fill:none;stroke:#000000;stroke-linecap:square;stroke-linejoin:miter;stroke-width:0.8;\"/>\n   </g>\n  </g>\n </g>\n <defs>\n  <clipPath id=\"pf5d2a9df18\">\n   <rect height=\"217.44\" width=\"334.8\" x=\"30.103125\" y=\"7.2\"/>\n  </clipPath>\n </defs>\n</svg>\n",
      "image/png": "[encoded data removed]"
     },
     "metadata": {
      "needs_background": "light"
     }
    },
    {
     "output_type": "display_data",
     "data": {
      "text/plain": "<Figure size 720x720 with 0 Axes>"
     },
     "metadata": {}
    }
   ],
   "source": [
    "plt.hist(qubit_results, bins = len(qubit_results))\n",
    "plt.xticks(rotation='vertical')\n",
    "plt.figure(figsize=(10,10)) \n",
    "plt.show()"
   ]
  },
  {
   "cell_type": "code",
   "execution_count": 37,
   "metadata": {},
   "outputs": [
    {
     "output_type": "stream",
     "name": "stdout",
     "text": [
      "node 0 at time slice 0\nnode 2 at time slice 1\nnode 6 at time slice 2\nnode 9 at time slice 3\nnode 9 at time slice 4\nnode 9 at time slice 5\n"
     ]
    }
   ],
   "source": [
    "result_evaluation(qubit_results[0], test_sg, test_nsg)"
   ]
  },
  {
   "cell_type": "code",
   "execution_count": null,
   "metadata": {},
   "outputs": [],
   "source": []
  }
 ]
}