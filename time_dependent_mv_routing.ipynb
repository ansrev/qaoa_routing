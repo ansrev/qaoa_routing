{
 "cells": [
  {
   "cell_type": "markdown",
   "metadata": {},
   "source": [
    "# Collision-Free Multi-Vehicle Routing"
   ]
  },
  {
   "cell_type": "markdown",
   "metadata": {},
   "source": [
    "## Functions "
   ]
  },
  {
   "cell_type": "code",
   "execution_count": null,
   "metadata": {},
   "outputs": [],
   "source": [
    "def get_unique_nodes(edge_list):\n",
    "    \"\"\"\n",
    "    Creates a list of all unique nodes appearing in a given graph.\n",
    "    The start node is added by default; every other node is only included\n",
    "    if it can be reached from another node. Isolated nodes will not be \n",
    "    added to the list, unless they happen to be the start node.\n",
    "    \"\"\"\n",
    "    \n",
    "    nr_nodes = 0\n",
    "    unique_nodes = []\n",
    "    unique_nodes.append(start_node)\n",
    "\n",
    "    for edge in edge_list:\n",
    "        if edge[1] not in unique_nodes:\n",
    "            unique_nodes.append(edge[1])\n",
    "\n",
    "    return unique_nodes\n"
   ]
  },
  {
   "cell_type": "code",
   "execution_count": null,
   "metadata": {},
   "outputs": [],
   "source": [
    "def construct_sliced_graph(edge_list, start, dest):\n",
    "    \"\"\"\n",
    "    Constructs a two-dimensional array from a list of edges. Each subarray represents \n",
    "    one time slice. The returned array contains the specified start node in the \n",
    "    first sub-array; based on this start node, every node that can be reached in \n",
    "    n steps is present in the nth subarray. Nodes that can be reached in a different \n",
    "    amount of steps are present in every fitting subarray.\n",
    "    \"\"\"\n",
    "\n",
    "    sg = [] # sliced graph\n",
    "    sg.append([start])\n",
    "    #node_counter = 1\n",
    "\n",
    "\n",
    "    nr_unique_nodes = len(get_unique_nodes(edge_list))\n",
    "\n",
    "    for k in range(nr_unique_nodes):\n",
    "    \n",
    "        if len(sg[k]) != 0 and not (len(sg[k]) == 1 and sg[k][0] == dest):\n",
    "            sg.append([])\n",
    "            for j in range(len(edge_list)):\n",
    "                # for a given edge j in the format a->b:\n",
    "                # if a is in previous slice and b is not in this slice, and if b is not the start node, add it to the slice\n",
    "                if edge_list[j][0] in sg[k] and edge_list[j][1] not in sg[k+1] and edge_list[j][1] != start:\n",
    "                    sg[k+1].append(edge_list[j][1])\n",
    "        else:\n",
    "            break\n",
    "\n",
    "\n",
    "    # necessary if graph is not acyclic\n",
    "    if dest in sg[-1]:\n",
    "        sg[-1] = [dest]\n",
    "    else:\n",
    "        return None \n",
    "        # TODO - error handling\n",
    "\n",
    "    # the last node is always the destination node,\n",
    "    # therefore we can eliminate all nodes in the next-to-last slice that do not lead to the destination node.\n",
    "    # going back that way, we can eliminate nodes that won't lead to our destination.\n",
    "    nr_slices_to_remove = 0\n",
    "\n",
    "    for i in range(len(sg) - 1):\n",
    "        nodes_to_remove = []\n",
    "        index = len(sg) - 1 - i\n",
    "        for j in range(len(sg[index - 1])):\n",
    "            leads_to_next_slice = 0 # number of edges in the next slice that sg[index-1][j] is connected to\n",
    "            for k in range(len(sg[index])):\n",
    "\n",
    "                # for each node in the next slice, add 1 if sg[index-1][j] is connected to it, 0 if not\n",
    "                leads_to_next_slice += next((1 for u, v in enumerate(edge_list) if v[0] == sg[index-1][j] and v[1] == sg[index][k]), 0) \n",
    "\n",
    "            # if leads_to_next_slice is zero, it means sg[index-1][j] is not connected to any node in the next slice; essentially a dead end. \n",
    "            # it is removed, and any node in the previous slice that only connected to it will thus also be a dead end, and will be removed. etc., etc.\n",
    "            if leads_to_next_slice == 0:\n",
    "                nodes_to_remove.append(sg[index-1][j])\n",
    "\n",
    "        for node in nodes_to_remove:\n",
    "            sg[index-1].remove(node)\n",
    "\n",
    "    slices_to_remove = []\n",
    "    for i in range(len(sg)):\n",
    "        if len(sg[len(sg) - 1 - i]) == 1 and dest in sg[len(sg) - 1 - i]:\n",
    "            slices_to_remove.append(len(sg) - 1 - i)\n",
    "        else:\n",
    "            break\n",
    "    \n",
    "    if len(slices_to_remove) > 1:\n",
    "        for i in slices_to_remove[:-1]:\n",
    "            del sg[i]\n",
    "            # print('deleted slice ' + str(i))\n",
    "\n",
    "    return sg"
   ]
  },
  {
   "cell_type": "code",
   "execution_count": null,
   "metadata": {},
   "outputs": [],
   "source": [
    "def construct_numbered_sliced_graph(sg, offset):\n",
    "    \"\"\"\n",
    "    Based on a two-dimensional array that constructed time slices from a graph,\n",
    "    renumbers the contents by giving each element its index in the corresponding \n",
    "    flattened array. Since the numbered sliced graph is used for getting the qubit \n",
    "    indices of the nodes, and since there are several sliced graphs, an offset is\n",
    "    necessary.\n",
    "    Example: With input ([[0], [1, 3], [2, 3]], 0), output would be [[0], [1, 2], [3, 4]].\n",
    "    With input ([[0], [1, 3], [2, 3], [4, 3]], 5), output would be [[5], [6, 7], [8, 9], [10, 11]].\n",
    "    \"\"\"\n",
    "    \n",
    "    nsg = [] # numbered sliced graph\n",
    "    node_counter = 0\n",
    "\n",
    "    for m in range(len(sg)):\n",
    "        nsg.append([])\n",
    "        for n in range(len(sg[m])):\n",
    "            nsg[m].append(node_counter + offset)\n",
    "            node_counter+=1\n",
    "    \n",
    "    return nsg, node_counter"
   ]
  },
  {
   "cell_type": "code",
   "execution_count": null,
   "metadata": {},
   "outputs": [],
   "source": [
    "def construct_graph_matrix(edge_list):\n",
    "    \"\"\"\n",
    "    Constructs a dataframe that contains all edges present in \n",
    "    the graph. The returned dataframe can contain several edges \n",
    "    per two nodes. The entry at matrix[0][1] contains an array \n",
    "    of all edges that go from node 0 to node 1.\n",
    "    \"\"\"\n",
    "\n",
    "    node_labels = get_unique_nodes(edge_list)\n",
    "    graph_matrix = pd.DataFrame([[[] for _ in range(len(node_labels))] for _ in range(len(node_labels))], node_labels, node_labels)\n",
    "    \n",
    "    for edge in edge_list:\n",
    "        start = edge[0]\n",
    "        end = edge[1]\n",
    "        graph_matrix[start][end].append(edge)\n",
    "    \n",
    "    for i in range(nr_vehicles): # this is because here we use the graph's edges for all the vehicles, but we added the 0-weighted edges to the subgraphs before. they need to be added here as well. admittedly not elegant; might be changed later. also - check for duplicate dest nodes, and don't add the same 0-weight edge twice # TODO\n",
    "        dest = vehicles[i][1]\n",
    "        graph_matrix[dest][dest].append((dest, dest, 0.0))\n",
    "    \n",
    "    return graph_matrix"
   ]
  },
  {
   "cell_type": "code",
   "execution_count": null,
   "metadata": {},
   "outputs": [],
   "source": [
    "def construct_cost_matrix(edge_matrix):\n",
    "    \"\"\"\n",
    "    Constructs a dataframe that contains the cost for the edge \n",
    "    between any given pair of nodes a and b. If there is no \n",
    "    outgoing edge from a to b, the cost will be equal to the\n",
    "    fixed penalty value. If there is exactly one edge, its cost\n",
    "    will be used. If there are several, the smallest cost is \n",
    "    used.\n",
    "    \"\"\"\n",
    "\n",
    "    node_labels = edge_matrix.columns\n",
    "    cost_matrix = pd.DataFrame([[[] for _ in range(len(node_labels))] for _ in range(len(node_labels))], node_labels, node_labels)\n",
    "\n",
    "    for i in node_labels:\n",
    "        for j in node_labels:\n",
    "            entries = edge_matrix[i][j]\n",
    "            if len(entries) == 0:\n",
    "                cost_matrix[i][j] = (penalty_value)\n",
    "            elif len(entries) == 1:\n",
    "                cost_matrix[i][j] = (entries[0][2]) ### TODO -- anpassen\n",
    "            else:\n",
    "                best_cost = penalty_value # penalty by default bigger than the biggest edge cost\n",
    "                for entry in entries:\n",
    "                    if entry[2] < best_cost:\n",
    "                        best_cost = entry[2]\n",
    "                cost_matrix[i][j] = best_cost\n",
    "    return cost_matrix"
   ]
  },
  {
   "cell_type": "code",
   "execution_count": null,
   "metadata": {},
   "outputs": [],
   "source": [
    "def D_function(node, time_slice, nr_vehicles):\n",
    "    \"\"\"\n",
    "    This function computes 'the sum over all binary variables \n",
    "    associated to [a given node] which appear in the the same time \n",
    "    slice of multiple vehicles'.\n",
    "    \"\"\"\n",
    "\n",
    "    vehicles_at_position = 0\n",
    "    for i in range(nr_vehicles):\n",
    "        if len(test_sg[i]) > time_slice and node in test_sg[i][time_slice]: # using lazy evaluation here to first check if test_sg[i][c] exists # TODO - hardcoded subgraph var\n",
    "            index = find_index(node, time_slice, test_sg[i], test_nsg[i]) # TODO - hardcoded as well\n",
    "            vehicles_at_position += X[index]\n",
    "\n",
    "    return vehicles_at_position"
   ]
  },
  {
   "cell_type": "code",
   "execution_count": null,
   "metadata": {},
   "outputs": [],
   "source": [
    "def find_index(node, time_slice, sliced_graph, numbered_sliced_graph):\n",
    "    \"\"\"\n",
    "    For a given node, time slice, and sliced graph, determines the qubit index \n",
    "    of the node. If the node is not present in the given slice in the graph, \n",
    "    returns -1.\n",
    "    \"\"\"\n",
    "    \n",
    "    #numbered_graph = construct_numbered_sliced_graph(sliced_graph)\n",
    "\n",
    "    for i in range(len(sliced_graph[time_slice])):\n",
    "        if sliced_graph[time_slice][i] == node:\n",
    "            return numbered_sliced_graph[time_slice][i]\n",
    "    else:\n",
    "        return -1\n"
   ]
  },
  {
   "cell_type": "code",
   "execution_count": null,
   "metadata": {},
   "outputs": [],
   "source": [
    "def fix_nodes(start, destination, vehicle_index, sliced_graph, numbered_sg, cost_func):\n",
    "    \"\"\"\n",
    "    In the given cost function, fixes specific nodes according to already known \n",
    "    values for the qubits. The qubits representing the start and destination nodes \n",
    "    are fixed at 1; any other nodes in the last time slice are fixed at 0.\n",
    "    \"\"\"\n",
    "\n",
    "    # set start node to 1\n",
    "    start_node_index = 'X_' + str(find_index(start, 0, sliced_graph, numbered_sg))\n",
    "    cost_func.linear_constraint(linear={start_node_index: 1}, sense='==', rhs=1, name=('start_node' + '_veh_' + str(vehicle_index)))\n",
    "\n",
    "    # set destination node to 1\n",
    "    dest_node_index = 'X_' + str(find_index(destination, -1, sliced_graph, numbered_sg))\n",
    "    cost_func.linear_constraint(linear={dest_node_index: 1}, sense='==', rhs=1, name='destination_node' + '_veh_' + str(vehicle_index))\n",
    "\n",
    "    #not necessary since the last slice also only contains one node (destination node)\n",
    "    #counter = 0\n",
    "    #for i in sliced_graph[-1]:\n",
    "    #    if i != destination:\n",
    "    #        index = 'X_' + str(find_index(i, -1, sliced_graph))\n",
    "    #        cost_func.linear_constraint(linear={index: 1}, sense='==', rhs=0, name=('last_slice_constraint_' + str(counter)))\n",
    "\n",
    "    # the first slice only contains the start node. so no iteration over other nodes needed\n",
    "\n",
    "    return"
   ]
  },
  {
   "cell_type": "code",
   "execution_count": null,
   "metadata": {},
   "outputs": [],
   "source": [
    "def get_node_info_from_index(node_index, sg, nsg):\n",
    "    \"\"\" For a given qubit index, returns the corresponding time slice and the node label. \"\"\"\n",
    "\n",
    "    for time_slice in range(len(nsg)):\n",
    "        if node_index in nsg[time_slice]:\n",
    "\n",
    "            pos = nsg[time_slice].index(node_index)\n",
    "            node_label = sg[time_slice][pos]\n",
    "\n",
    "            return time_slice, node_label"
   ]
  },
  {
   "cell_type": "code",
   "execution_count": null,
   "metadata": {},
   "outputs": [],
   "source": [
    "#def result_evaluation(result, offset, sg, nsg):\n",
    "#    for i in range(len(result)):\n",
    "#        if result[i] == '1':\n",
    "#            time_slice, node_label = get_node_info_from_index(i + offset, sg, nsg)\n",
    "#            print(('node {} at time slice {}').format(node_label, time_slice))\n",
    "#    return"
   ]
  },
  {
   "cell_type": "code",
   "execution_count": null,
   "metadata": {},
   "outputs": [],
   "source": [
    "def result_evaluation(result, offset, sg, nsg, cost_matrix):\n",
    "    \"\"\"\n",
    "    For a given qubit string, returns an explanation of the nodes that are passed per time slice.\n",
    "    \"\"\"\n",
    "    counter = 0\n",
    "    previous_node = None\n",
    "    total_cost = 0\n",
    "    solution_not_valid = False\n",
    "\n",
    "    for i in range(len(result)):\n",
    "        if result[i] == '1':\n",
    "            time_slice, node_label = get_node_info_from_index(i + offset, sg, nsg)\n",
    "            if time_slice != counter:\n",
    "                solution_not_valid = True\n",
    "\n",
    "            if counter == 0:\n",
    "                previous_node = node_label\n",
    "            else:\n",
    "                cost = cost_matrix[previous_node][node_label]\n",
    "                total_cost += cost\n",
    "                print(('\\t\\t\\t\\tcost: {}').format(cost))\n",
    "                previous_node = node_label\n",
    "\n",
    "\n",
    "            print(('node {} at time slice {}').format(node_label, time_slice))\n",
    "\n",
    "            counter += 1\n",
    "\n",
    "            \n",
    "    print(('\\ntotal cost: {}').format(total_cost))\n",
    "    if total_cost >= 500 or solution_not_valid:\n",
    "        print('\\nIt seems like this solution is not valid; it disregards at least one constraint.')\n",
    "\n",
    "    return"
   ]
  },
  {
   "cell_type": "markdown",
   "metadata": {},
   "source": [
    "## Preprocessing"
   ]
  },
  {
   "cell_type": "code",
   "execution_count": null,
   "metadata": {},
   "outputs": [],
   "source": [
    "import sympy as sym\n",
    "import matplotlib.pyplot as plt\n",
    "import pandas as pd"
   ]
  },
  {
   "cell_type": "code",
   "execution_count": null,
   "metadata": {},
   "outputs": [],
   "source": [
    "#graph = [(0, 5, 1.0), (0, 1, 1.0), (0, 3, 1.0), (0, 2, 1.0), (1, 6, 1.0), (2, 6, 1.0), (2, 9, 1.0), (2, 4, 1.0), (3, 4, 1.0), (3, 2, 1.0), (4, 9, 1.0), (4, 7, 1.0), (5, 1, 1.0), (6, 8, 1.0), (6, 9, 1.0), (7, 9, 1.0), (9, 8, 1.0)]\n",
    "\n",
    "#graph = [ (0, 1, 1.0), (0, 3, 1.0), (0, 2, 1.0), (1, 6, 1.0), (2, 6, 1.0), (2, 9, 1.0), (2, 4, 1.0), (3, 4, 1.0), (3, 2, 1.0), (4, 9, 1.0), (4, 7, 1.0)]\n",
    "\n",
    "#graph = [ (0, 1, 1.0), (0, 3, 1.0), (0, 2, 1.0), (2, 1, 1.0), (2, 3, 1.0), (1, 4, 1.0), (3, 4, 1.0), (3, 5, 1.0), (4, 6, 1.0), (5, 4, 1.0), (5, 7, 1.0)]\n",
    "\n",
    "graph = [(0, 1, 6.0), (0, 2, 4.0), (0, 3, 1.0), (0, 5, 2.0), \n",
    "(1, 6, 1.0), \n",
    "(2, 4, 3.0), (2, 6, 2.0), (2, 9, 5.0), \n",
    "(3, 2, 2.0), (3, 4, 4.0), \n",
    "(4, 7, 4.0), (4, 9, 2.0), \n",
    "(5, 1, 5.0), \n",
    "(6, 8, 3.0), (6, 9, 3.0), \n",
    "(7, 9, 3.0),\n",
    "(9, 8, 4.0)]\n",
    "\n",
    "start_node = 0\n",
    "penalty_value = 50\n",
    "\n",
    "vehicles = [[0, 4], [0, 6]]\n",
    "nr_vehicles = len(vehicles)\n",
    "subgraphs = []\n",
    "nodes_in_subgraphs = []\n",
    "sliced_subgraphs = []"
   ]
  },
  {
   "cell_type": "code",
   "execution_count": null,
   "metadata": {},
   "outputs": [],
   "source": [
    "for i in range(nr_vehicles):\n",
    "    subgraph = [edge for edge in graph if edge[0] != vehicles[i][1]]\n",
    "    subgraph.append((vehicles[i][1], vehicles[i][1], 0.0))\n",
    "    subgraphs.append(subgraph)"
   ]
  },
  {
   "cell_type": "code",
   "execution_count": null,
   "metadata": {},
   "outputs": [],
   "source": [
    "unique_nodes = get_unique_nodes(graph)\n",
    "\n",
    "for i in range(nr_vehicles):\n",
    "    nodes_in_subgraphs.append(get_unique_nodes(subgraphs[i]))"
   ]
  },
  {
   "cell_type": "code",
   "execution_count": null,
   "metadata": {},
   "outputs": [],
   "source": [
    "test_sg = []\n",
    "test_nsg = []\n",
    "\n",
    "nodes_total = 0\n",
    "for i in range(nr_vehicles):\n",
    "    test_sg.append(construct_sliced_graph(subgraphs[i], vehicles[i][0], vehicles[i][1]))\n",
    "\n",
    "    numbered_subgraph, nr_nodes_subgraph = construct_numbered_sliced_graph(test_sg[i], offset=nodes_total)\n",
    "    test_nsg.append(numbered_subgraph)\n",
    "\n",
    "    nodes_total += nr_nodes_subgraph\n",
    "\n",
    "nr_qubits = nodes_total\n",
    "nr_qubits"
   ]
  },
  {
   "cell_type": "code",
   "execution_count": null,
   "metadata": {},
   "outputs": [],
   "source": [
    "test_sg"
   ]
  },
  {
   "cell_type": "code",
   "execution_count": null,
   "metadata": {},
   "outputs": [],
   "source": [
    "test_sg"
   ]
  },
  {
   "cell_type": "code",
   "execution_count": null,
   "metadata": {},
   "outputs": [],
   "source": [
    "test_nsg"
   ]
  },
  {
   "cell_type": "code",
   "execution_count": null,
   "metadata": {},
   "outputs": [],
   "source": [
    "# nur eine matrix mit allen edges nötig (?)\n",
    "matrix = construct_graph_matrix(graph)\n",
    "matrix"
   ]
  },
  {
   "cell_type": "code",
   "execution_count": null,
   "metadata": {},
   "outputs": [],
   "source": [
    "# not necessary, but allows for easier comprehension and changes in cost values;\n",
    "# if specific nodes should be discouraged from traversing, changes can be made \n",
    "# here instead of in the graph itself\n",
    "edge_cost_matrix = construct_cost_matrix(matrix)\n",
    "edge_cost_matrix"
   ]
  },
  {
   "cell_type": "code",
   "execution_count": null,
   "metadata": {},
   "outputs": [],
   "source": [
    "highest_slice_nr = 0\n",
    "for i in range(nr_vehicles):\n",
    "    if len(test_sg[i]) > highest_slice_nr:\n",
    "        highest_slice_nr = len(test_sg[i])"
   ]
  },
  {
   "cell_type": "markdown",
   "metadata": {},
   "source": [
    "## Cost Function"
   ]
  },
  {
   "cell_type": "code",
   "execution_count": null,
   "metadata": {},
   "outputs": [],
   "source": [
    "X = sym.IndexedBase('X')\n",
    "c = sym.symbols('c')\n",
    "v = sym.symbols('v')\n",
    "y = sym.symbols('y')\n",
    "w = sym.symbols('w')\n",
    "k = sym.symbols('k')\n",
    "P = sym.symbols('P')\n",
    "c_max = sym.symbols('c_max')\n",
    "\n",
    "nrvehicles = sym.symbols('nrvehicles')\n",
    "len_unique_nodes = sym.symbols('len_unique_nodes')\n",
    "\n",
    "uniques = sym.IndexedBase('uniques')\n",
    "\n",
    "d = sym.IndexedBase('d')\n",
    "D = sym.IndexedBase('D')\n",
    "\n",
    "sg = sym.IndexedBase('sg')\n",
    "nsg = sym.IndexedBase('nsg')\n",
    "\n",
    "#slicedgraph = sym.IndexedBase('slicedgraph')\n",
    "nrslices = sym.IndexedBase('nrslices')\n",
    "lenslice = sym.IndexedBase('lenslice')"
   ]
  },
  {
   "cell_type": "code",
   "execution_count": null,
   "metadata": {},
   "outputs": [],
   "source": [
    "cost_function = sym.Sum(\n",
    "                sym.Sum(                                # iteration over slices\n",
    "                    (sym.Sum(                           # iteration over nodes in that slice. in each slice, exactly one node needs to be passed. change later to 0 or 1\n",
    "                        X[nsg[k,c,v]],                  # zugehörige binary variable\n",
    "                        (v, 0, lenslice[k,c] - 1)\n",
    "                        )\n",
    "                        - 1 )**2 * P,\n",
    "\n",
    "                    (c, 0, nrslices[k]-1)) + 0.5 * sym.Sum(   \n",
    "                        2 * (sym.Sum(  sym.Sum(  X[nsg[k,c,y]] * X[nsg[k,c+1,w]] * d[sg[k,c,y], sg[k,c+1,w]],  (w, 0, lenslice[k,c + 1] - 1) ) , (y, 0, lenslice[k,c] - 1))),\n",
    "                        (c, 0, nrslices[k] - 2)), (k, 0, nrvehicles-1)) + P * sym.Sum( sym.Sum( ( D[uniques[v],c,nrvehicles] - 1) * D[uniques[v],c,nrvehicles] , (v, 1, len_unique_nodes-1))  , (c, 0, c_max - 1)) # v is one because we don't check for node 0, since they all start there\n",
    "\n",
    "# TODO. an dieser stelle derzeit noch ein workaround mit 0.5 * 2, da aus irgendeinem grund die dreifache summe ohne den zwischenfaktor 2 nicht evaluiert wird??\n",
    "                    \n",
    "cost_function"
   ]
  },
  {
   "cell_type": "code",
   "execution_count": null,
   "metadata": {},
   "outputs": [],
   "source": [
    "# translation of data into dictionaries for sympy\n",
    "single_valued_dict = {\n",
    "    #nrslices: len(test_sg),\n",
    "    nrvehicles: nr_vehicles,\n",
    "    P: penalty_value,\n",
    "    c_max: highest_slice_nr, # -1??? TODO\n",
    "    len_unique_nodes: len(unique_nodes)\n",
    "    }\n",
    "\n",
    "nr_slices_dict = {\n",
    "    nrslices[k]: len(test_sg[k]) for k in range(nr_vehicles)\n",
    "}\n",
    "\n",
    "unique_nodes_dict = {\n",
    "    uniques[v]: unique_nodes[v] for v in range(len(unique_nodes))\n",
    "}\n",
    "\n",
    "numbered_sliced_graph_dict = {\n",
    "    nsg[k, i, j]: test_nsg[k][i][j] for k in range(nr_vehicles) for i in range(len(test_nsg[k])) for j in range(len(test_nsg[k][i]))\n",
    "}\n",
    "\n",
    "D_function_dict = {\n",
    "    D[v, c, r]: D_function(v, c, r) for v in range(len(unique_nodes)) for c in range(highest_slice_nr) for r in range(nr_vehicles, nr_vehicles+1)\n",
    "}\n",
    "\n",
    "sliced_graph_dict = {\n",
    "    sg[k, i, j]: test_sg[k][i][j] for k in range(nr_vehicles) for i in range(len(test_sg[k])) for j in range(len(test_sg[k][i]))\n",
    "}\n",
    "\n",
    "len_slice_dict = {\n",
    "    lenslice[k, i]: len(test_sg[k][i]) for k in range(nr_vehicles) for i in range(len(test_sg[k]))\n",
    "}\n",
    "\n",
    "d_dict = {\n",
    "    d[i, j]: edge_cost_matrix[i][j] \n",
    "    for i in unique_nodes\n",
    "    for j in unique_nodes\n",
    "}\n",
    "\n",
    "# definition of the cost polynomial\n",
    "cost_poly = sym.Poly(cost_function\n",
    "                     .subs(single_valued_dict)\n",
    "                     .doit()\n",
    "                     .subs(nr_slices_dict)\n",
    "                     .doit()\n",
    "                     .subs(unique_nodes_dict)\n",
    "                     .doit()\n",
    "                     .subs(len_slice_dict)\n",
    "                     .doit()\n",
    "                     .subs(D_function_dict)\n",
    "                     .doit()\n",
    "                     .subs(numbered_sliced_graph_dict)\n",
    "                     .subs(sliced_graph_dict)\n",
    "                     .doit()\n",
    "                     .subs(d_dict)\n",
    "                     .doit(),\n",
    "                     [X[i] for i in range(nr_qubits)])\n",
    "cost_poly"
   ]
  },
  {
   "cell_type": "markdown",
   "metadata": {},
   "source": [
    "## Setup"
   ]
  },
  {
   "cell_type": "code",
   "execution_count": null,
   "metadata": {},
   "outputs": [],
   "source": [
    "import qiskit\n",
    "from qiskit.algorithms import QAOA, VQE\n",
    "\n",
    "from qiskit_optimization.algorithms import MinimumEigenOptimizer, RecursiveMinimumEigenOptimizer, CplexOptimizer\n",
    "from qiskit.utils import QuantumInstance\n",
    "from qiskit_optimization.problems import QuadraticProgram\n",
    "\n",
    "# generate qiskit's cost function\n",
    "qiskit_cost_function = QuadraticProgram()\n",
    "\n",
    "# define qiskit variables\n",
    "for i in range(nr_qubits):\n",
    "    qiskit_cost_function.binary_var('X_' + str(i))\n",
    "\n",
    "# specify qiskit cost function\n",
    "qiskit_cost_function.minimize(\n",
    "    linear = [int(cost_poly.coeff_monomial(X[i]**1)) for i in range(nr_qubits)],\n",
    "    quadratic = {\n",
    "        ('X_'+str(i), 'X_'+str(j)): cost_poly.coeff_monomial(X[i]**1 * X[j]**1)\n",
    "        for i in range(nr_qubits)\n",
    "        for j in range(i,nr_qubits)\n",
    "    }\n",
    "    )\n",
    "for i in range(nr_vehicles):\n",
    "    fix_nodes(vehicles[i][0], vehicles[i][1], i, test_sg[i], test_nsg[i], qiskit_cost_function)\n",
    "\n",
    "print(qiskit_cost_function.export_as_lp_string())"
   ]
  },
  {
   "cell_type": "code",
   "execution_count": null,
   "metadata": {},
   "outputs": [],
   "source": [
    "# this is not included in the cost function that will be passed to the algorithm, so it will be added later to get the actual result\n",
    "offset = cost_poly.coeff_monomial(1)\n",
    "offset"
   ]
  },
  {
   "cell_type": "markdown",
   "metadata": {},
   "source": [
    "## QAOA"
   ]
  },
  {
   "cell_type": "code",
   "execution_count": null,
   "metadata": {},
   "outputs": [],
   "source": [
    "# execute QAOA on local simulator\n",
    "maxiter = 200\n",
    "optimizer = SPSA(maxiter=maxiter) # JRL was COBYLA\n",
    "backend = qiskit.Aer.get_backend('qasm_simulator')\n",
    "\n",
    "qaoa = QAOA(optimizer=optimizer, quantum_instance =\n",
    "             QuantumInstance(backend=backend, skip_qobj_validation=False))\n",
    "optimizer_qaoa = MinimumEigenOptimizer(qaoa)\n",
    "\n",
    "result_qaoa = optimizer_qaoa.solve(qiskit_cost_function)\n",
    "\n",
    "results = []\n",
    "\n",
    "for i in range(10):\n",
    "    result_qaoa = optimizer_qaoa.solve(qiskit_cost_function)\n",
    "    print(result_qaoa)\n",
    "    results.append(result_qaoa)"
   ]
  },
  {
   "cell_type": "code",
   "execution_count": null,
   "metadata": {},
   "outputs": [],
   "source": [
    "result_df = pd.DataFrame(columns = ['actual_opt_cost', 'path'])\n",
    "\n",
    "for r in results:\n",
    "\n",
    "    path_string = str(r.x).replace(' ', '').replace('.', '')[1:-1]\n",
    "    result_df = result_df.append({'actual_opt_cost': r.fval + offset, 'path': path_string}, ignore_index=True)\n",
    "\n",
    "print(\"QAOA:\")\n",
    "print(result_df.sort_values(by=['actual_opt_cost']))"
   ]
  },
  {
   "cell_type": "code",
   "execution_count": null,
   "metadata": {},
   "outputs": [],
   "source": [
    "# first qubit result of the qaoa, shown as path\n",
    "for i in range(nr_vehicles):\n",
    "    section_start = test_nsg[i][0][0]\n",
    "    section_end = test_nsg[i][-1][-1] + 1\n",
    "    qubit_section_for_vehicle = qubit_results[0][section_start:section_end]\n",
    "\n",
    "    result_evaluation(qubit_section_for_vehicle, section_start, test_sg[i], test_nsg[i], edge_cost_matrix)"
   ]
  },
  {
   "cell_type": "markdown",
   "metadata": {},
   "source": [
    "## VQE"
   ]
  },
  {
   "cell_type": "code",
   "execution_count": null,
   "metadata": {},
   "outputs": [],
   "source": [
    "from qiskit.circuit.library import TwoLocal\n",
    "from qiskit.algorithms.optimizers import COBYLA, L_BFGS_B, SPSA, SLSQP\n",
    "\n",
    "backend = qiskit.Aer.get_backend('qasm_simulator')\n",
    "optimizer = SPSA(maxiter=200)\n",
    "ry = TwoLocal(nr_qubits, 'ry', 'cz', reps=10, entanglement='linear') # ansatz\n",
    "\n",
    "vqe = VQE(ry, optimizer=optimizer, quantum_instance=QuantumInstance(backend=backend))\n",
    "\n",
    "optimizer_vqe = MinimumEigenOptimizer(vqe)\n",
    "\n",
    "results_vqe = []\n",
    "\n",
    "for i in range(10):\n",
    "    result_vqe = optimizer_vqe.solve(qiskit_cost_function)\n",
    "    results_vqe.append(result_vqe)"
   ]
  },
  {
   "cell_type": "code",
   "execution_count": null,
   "metadata": {},
   "outputs": [],
   "source": [
    "# actual_opt_cost: optimization cost. includes path cost and incurred penalties. always > 0.\n",
    "# path: qubit-result\n",
    "result_df_vqe = pd.DataFrame(columns = ['actual_opt_cost', 'path'])\n",
    "\n",
    "for r in results_vqe:\n",
    "\n",
    "    path_string = str(r.x).replace(' ', '').replace('.', '')[1:-1]\n",
    "    result_df_vqe = result_df_vqe.append({'actual_opt_cost': r.fval + offset, 'path': path_string}, ignore_index=True)\n",
    "\n",
    "print(\"VQE:\")\n",
    "print(result_df_vqe.sort_values(by=['actual_opt_cost']))"
   ]
  },
  {
   "cell_type": "markdown",
   "metadata": {},
   "source": [
    "## CplexOptimizer"
   ]
  },
  {
   "cell_type": "code",
   "execution_count": null,
   "metadata": {},
   "outputs": [],
   "source": [
    "optimizer = CplexOptimizer() if CplexOptimizer.is_cplex_installed() else None\n",
    "results_classic = []\n",
    "\n",
    "for i in range(1):\n",
    "    result = optimizer.solve(qiskit_cost_function)\n",
    "    print(result)\n",
    "    results_classic.append(result)"
   ]
  },
  {
   "cell_type": "code",
   "execution_count": null,
   "metadata": {},
   "outputs": [],
   "source": [
    "# actual_opt_cost: optimization cost. includes path cost and incurred penalties. always > 0.\n",
    "# path: qubit-result\n",
    "result_df_classic = pd.DataFrame(columns = ['actual_opt_cost', 'path'])\n",
    "\n",
    "for r in results_classic:\n",
    "    path_string = str(r.x).replace(' ', '').replace('.', '')[1:-1]\n",
    "    result_df_classic = result_df_classic.append({'actual_opt_cost': r.fval + offset, 'path': path_string}, ignore_index=True)\n",
    "\n",
    "print(\"CPlexOptimizer:\")\n",
    "print(result_df_vqe.sort_values(by=['actual_opt_cost']))"
   ]
  }
 ],
 "metadata": {
  "interpreter": {
   "hash": "447f5fa011c7c47899f91a0b2462b94e9399cdbf5b780c102584eca8c3cd54aa"
  },
  "kernelspec": {
   "display_name": "Python 3",
   "language": "python",
   "name": "python3"
  },
  "language_info": {
   "codemirror_mode": {
    "name": "ipython",
    "version": 3
   },
   "file_extension": ".py",
   "mimetype": "text/x-python",
   "name": "python",
   "nbconvert_exporter": "python",
   "pygments_lexer": "ipython3",
   "version": "3.8.5"
  }
 },
 "nbformat": 4,
 "nbformat_minor": 2
}
