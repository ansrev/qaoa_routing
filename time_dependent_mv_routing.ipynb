{
 "cells": [
  {
   "cell_type": "markdown",
   "source": [
    "# Collision-Free Multi-Vehicle Routing"
   ],
   "metadata": {}
  },
  {
   "cell_type": "markdown",
   "source": [
    "## Functions "
   ],
   "metadata": {}
  },
  {
   "cell_type": "code",
   "execution_count": 137,
   "source": [
    "def get_unique_nodes(edge_list):\n",
    "    \"\"\"\n",
    "    Creates a list of all unique nodes appearing in a given graph.\n",
    "    The start node is added by default; every other node is only included\n",
    "    if it can be reached from another node. Isolated nodes will not be \n",
    "    added to the list, unless they happen to be the start node.\n",
    "    \"\"\"\n",
    "    \n",
    "    nr_nodes = 0\n",
    "    unique_nodes = []\n",
    "    unique_nodes.append(start_node)\n",
    "\n",
    "    for edge in edge_list:\n",
    "        if edge[1] not in unique_nodes:\n",
    "            unique_nodes.append(edge[1])\n",
    "\n",
    "    return unique_nodes\n"
   ],
   "outputs": [],
   "metadata": {}
  },
  {
   "cell_type": "code",
   "execution_count": 138,
   "source": [
    "def construct_sliced_graph(edge_list, start, dest):\n",
    "    \"\"\"\n",
    "    Constructs a two-dimensional array from a list of edges. Each subarray represents \n",
    "    one time slice. The returned array contains the specified start node in the \n",
    "    first sub-array; based on this start node, every node that can be reached in \n",
    "    n steps is present in the nth subarray. Nodes that can be reached in a different \n",
    "    amount of steps are present in every fitting subarray.\n",
    "    \"\"\"\n",
    "\n",
    "    sg = [] # sliced graph\n",
    "    sg.append([start])\n",
    "    #node_counter = 1\n",
    "\n",
    "\n",
    "    nr_unique_nodes = len(get_unique_nodes(edge_list))\n",
    "\n",
    "    for k in range(nr_unique_nodes):\n",
    "    \n",
    "        if len(sg[k]) != 0 and not (len(sg[k]) == 1 and sg[k][0] == dest):\n",
    "            sg.append([])\n",
    "            for j in range(len(edge_list)):\n",
    "                # for a given edge j in the format a->b:\n",
    "                # if a is in previous slice and b is not in this slice, and if b is not the start node, add it to the slice\n",
    "                if edge_list[j][0] in sg[k] and edge_list[j][1] not in sg[k+1] and edge_list[j][1] != start:\n",
    "                    sg[k+1].append(edge_list[j][1])\n",
    "        else:\n",
    "            break\n",
    "\n",
    "\n",
    "    # necessary if graph is not acyclic\n",
    "    if dest in sg[-1]:\n",
    "        sg[-1] = [dest]\n",
    "    else:\n",
    "        return None \n",
    "        # TODO - error handling\n",
    "\n",
    "    # the last node is always the destination node,\n",
    "    # therefore we can eliminate all nodes in the next-to-last slice that do not lead to the destination node.\n",
    "    # going back that way, we can eliminate nodes that won't lead to our destination.\n",
    "    nr_slices_to_remove = 0\n",
    "\n",
    "    for i in range(len(sg) - 1):\n",
    "        nodes_to_remove = []\n",
    "        index = len(sg) - 1 - i\n",
    "        for j in range(len(sg[index - 1])):\n",
    "            leads_to_next_slice = 0 # number of edges in the next slice that sg[index-1][j] is connected to\n",
    "            for k in range(len(sg[index])):\n",
    "\n",
    "                # for each node in the next slice, add 1 if sg[index-1][j] is connected to it, 0 if not\n",
    "                leads_to_next_slice += next((1 for u, v in enumerate(edge_list) if v[0] == sg[index-1][j] and v[1] == sg[index][k]), 0) \n",
    "\n",
    "            # if leads_to_next_slice is zero, it means sg[index-1][j] is not connected to any node in the next slice; essentially a dead end. \n",
    "            # it is removed, and any node in the previous slice that only connected to it will thus also be a dead end, and will be removed. etc., etc.\n",
    "            if leads_to_next_slice == 0:\n",
    "                nodes_to_remove.append(sg[index-1][j])\n",
    "\n",
    "        for node in nodes_to_remove:\n",
    "            sg[index-1].remove(node)\n",
    "\n",
    "    slices_to_remove = []\n",
    "    for i in range(len(sg)):\n",
    "        if len(sg[len(sg) - 1 - i]) == 1 and dest in sg[len(sg) - 1 - i]:\n",
    "            slices_to_remove.append(len(sg) - 1 - i)\n",
    "        else:\n",
    "            break\n",
    "    \n",
    "    if len(slices_to_remove) > 1:\n",
    "        for i in slices_to_remove[:-1]:\n",
    "            del sg[i]\n",
    "            # print('deleted slice ' + str(i))\n",
    "\n",
    "    return sg"
   ],
   "outputs": [],
   "metadata": {}
  },
  {
   "cell_type": "code",
   "execution_count": 139,
   "source": [
    "def construct_numbered_sliced_graph(sg, offset):\n",
    "    \"\"\"\n",
    "    Based on a two-dimensional array that contains time slices from a graph (sliced graph),\n",
    "    renumbers the contents by giving each element its index in the corresponding \n",
    "    flattened array. Since the numbered sliced graph is used for getting the qubit \n",
    "    indices of the nodes, and since there are several sliced graphs, an offset is\n",
    "    necessary.\n",
    "    Example: With input ([[0], [1, 3], [2, 3]], 0), output would be [[0], [1, 2], [3, 4]].\n",
    "    With input ([[0], [1, 3], [2, 3], [4, 3]], 5), output would be [[5], [6, 7], [8, 9], [10, 11]].\n",
    "    \"\"\"\n",
    "    \n",
    "    nsg = [] # numbered sliced graph\n",
    "    node_counter = 0\n",
    "\n",
    "    for m in range(len(sg)):\n",
    "        nsg.append([])\n",
    "        for n in range(len(sg[m])):\n",
    "            nsg[m].append(node_counter + offset)\n",
    "            node_counter+=1\n",
    "    \n",
    "    return nsg, node_counter"
   ],
   "outputs": [],
   "metadata": {}
  },
  {
   "cell_type": "code",
   "execution_count": 140,
   "source": [
    "def construct_graph_matrix(edge_list):\n",
    "    \"\"\"\n",
    "    Constructs a dataframe that contains all edges present in \n",
    "    the graph. The returned dataframe can contain several edges \n",
    "    per two nodes. The entry at matrix[0][1] contains an array \n",
    "    of all edges that go from node 0 to node 1.\n",
    "    \"\"\"\n",
    "\n",
    "    node_labels = get_unique_nodes(edge_list)\n",
    "    graph_matrix = pd.DataFrame([[[] for _ in range(len(node_labels))] for _ in range(len(node_labels))], node_labels, node_labels)\n",
    "    \n",
    "    for edge in edge_list:\n",
    "        start = edge[0]\n",
    "        end = edge[1]\n",
    "        graph_matrix[start][end].append(edge)\n",
    "    \n",
    "    for i in range(nr_vehicles): # this is because here we use the graph's edges for all the vehicles, but we added the 0-weighted edges to the subgraphs before. they need to be added here as well. admittedly not elegant; might be changed later. also - check for duplicate dest nodes, and don't add the same 0-weight edge twice # TODO\n",
    "        dest = vehicles[i][1]\n",
    "        graph_matrix[dest][dest].append((dest, dest, 0.0))\n",
    "    \n",
    "    return graph_matrix"
   ],
   "outputs": [],
   "metadata": {}
  },
  {
   "cell_type": "code",
   "execution_count": 141,
   "source": [
    "def construct_cost_matrix(edge_matrix):\n",
    "    \"\"\"\n",
    "    Constructs a dataframe that contains the cost for the edge \n",
    "    between any given pair of nodes a and b. If there is no \n",
    "    outgoing edge from a to b, the cost will be equal to the\n",
    "    fixed penalty value. If there is exactly one edge, its cost\n",
    "    will be used. If there are several, the smallest cost is \n",
    "    used.\n",
    "    \"\"\"\n",
    "\n",
    "    node_labels = edge_matrix.columns\n",
    "    cost_matrix = pd.DataFrame([[[] for _ in range(len(node_labels))] for _ in range(len(node_labels))], node_labels, node_labels)\n",
    "\n",
    "    for i in node_labels:\n",
    "        for j in node_labels:\n",
    "            entries = edge_matrix[i][j]\n",
    "            if len(entries) == 0:\n",
    "                cost_matrix[i][j] = (penalty_value)\n",
    "            elif len(entries) == 1:\n",
    "                cost_matrix[i][j] = (entries[0][2])\n",
    "            else:\n",
    "                best_cost = penalty_value # penalty by default bigger than the biggest edge cost\n",
    "                for entry in entries:\n",
    "                    if entry[2] < best_cost:\n",
    "                        best_cost = entry[2]\n",
    "                cost_matrix[i][j] = best_cost\n",
    "    return cost_matrix"
   ],
   "outputs": [],
   "metadata": {}
  },
  {
   "cell_type": "code",
   "execution_count": 142,
   "source": [
    "def D_function(node, time_slice, nr_vehicles):\n",
    "    \"\"\"\n",
    "    This function computes 'the sum over all binary variables \n",
    "    associated to [a given node] which appear in the the same time \n",
    "    slice of multiple vehicles'.\n",
    "    \"\"\"\n",
    "\n",
    "    vehicles_at_position = 0\n",
    "    for i in range(nr_vehicles):\n",
    "        if len(test_sg[i]) > time_slice and node in test_sg[i][time_slice]:\n",
    "            index = find_index(node, time_slice, test_sg[i], test_nsg[i])\n",
    "            vehicles_at_position += X[index]\n",
    "\n",
    "    return vehicles_at_position"
   ],
   "outputs": [],
   "metadata": {}
  },
  {
   "cell_type": "code",
   "execution_count": 143,
   "source": [
    "def find_index(node, time_slice, sliced_graph, numbered_sliced_graph):\n",
    "    \"\"\"\n",
    "    For a given node, time slice, and sliced graph, determines the qubit index \n",
    "    of the node. If the node is not present in the given slice in the graph, \n",
    "    returns -1.\n",
    "    \"\"\"\n",
    "    \n",
    "    for i in range(len(sliced_graph[time_slice])):\n",
    "        if sliced_graph[time_slice][i] == node:\n",
    "            return numbered_sliced_graph[time_slice][i]\n",
    "    else:\n",
    "        return -1\n"
   ],
   "outputs": [],
   "metadata": {}
  },
  {
   "cell_type": "code",
   "execution_count": 144,
   "source": [
    "def fix_nodes(start, destination, vehicle_index, sliced_graph, numbered_sg, cost_func):\n",
    "    \"\"\"\n",
    "    In the given cost function, fixes specific nodes according to already known \n",
    "    values for the qubits. The qubits representing the start and destination nodes \n",
    "    are fixed at 1; any other nodes in the last time slice are fixed at 0.\n",
    "    \"\"\"\n",
    "\n",
    "    # set start node to 1\n",
    "    start_node_index = 'X_' + str(find_index(start, 0, sliced_graph, numbered_sg))\n",
    "    cost_func.linear_constraint(linear={start_node_index: 1}, sense='==', rhs=1, name=('start_node' + '_veh_' + str(vehicle_index)))\n",
    "\n",
    "    # set destination node to 1\n",
    "    dest_node_index = 'X_' + str(find_index(destination, -1, sliced_graph, numbered_sg))\n",
    "    cost_func.linear_constraint(linear={dest_node_index: 1}, sense='==', rhs=1, name='destination_node' + '_veh_' + str(vehicle_index))\n",
    "\n",
    "    # no need to set other nodes in the first and last slice to 0 because there are none (see preprocessing).\n",
    "\n",
    "    return"
   ],
   "outputs": [],
   "metadata": {}
  },
  {
   "cell_type": "code",
   "execution_count": 145,
   "source": [
    "def get_node_info_from_index(node_index, sg, nsg):\n",
    "    \"\"\" For a given qubit index, returns the corresponding time slice and the node label. \"\"\"\n",
    "\n",
    "    for time_slice in range(len(nsg)):\n",
    "        if node_index in nsg[time_slice]:\n",
    "\n",
    "            pos = nsg[time_slice].index(node_index)\n",
    "            node_label = sg[time_slice][pos]\n",
    "\n",
    "            return time_slice, node_label"
   ],
   "outputs": [],
   "metadata": {}
  },
  {
   "cell_type": "code",
   "execution_count": 175,
   "source": [
    "def result_evaluation(result, offset, sg, nsg, cost_matrix):\n",
    "    \"\"\"\n",
    "    For a given qubit string, returns an explanation of the nodes that are passed per time slice.\n",
    "    \"\"\"\n",
    "    \n",
    "    counter = 0\n",
    "    previous_node = None\n",
    "    total_cost = 0\n",
    "    solution_not_valid = False\n",
    "\n",
    "    for i in range(len(result)):\n",
    "        if result[i] == '1':\n",
    "            time_slice, node_label = get_node_info_from_index(i + offset, sg, nsg)\n",
    "            if time_slice != counter:\n",
    "                solution_not_valid = True\n",
    "\n",
    "            if counter == 0:\n",
    "                previous_node = node_label\n",
    "            else:\n",
    "                cost = cost_matrix[previous_node][node_label]\n",
    "                total_cost += cost\n",
    "                print(('\\t\\t\\t\\tcost: {}').format(cost))\n",
    "                previous_node = node_label\n",
    "\n",
    "\n",
    "            print(('node {} at time slice {}').format(node_label, time_slice))\n",
    "\n",
    "            counter += 1\n",
    "\n",
    "            \n",
    "    print(('\\ntotal cost: {}').format(total_cost))\n",
    "    if total_cost >= penalty_value or solution_not_valid:\n",
    "        print('\\nIt seems like this solution is not valid; it disregards at least one constraint.')\n",
    "\n",
    "    return"
   ],
   "outputs": [],
   "metadata": {}
  },
  {
   "cell_type": "markdown",
   "source": [
    "## Preprocessing"
   ],
   "metadata": {}
  },
  {
   "cell_type": "code",
   "execution_count": 147,
   "source": [
    "import sympy as sym\n",
    "import matplotlib.pyplot as plt\n",
    "import pandas as pd"
   ],
   "outputs": [],
   "metadata": {}
  },
  {
   "cell_type": "code",
   "execution_count": 148,
   "source": [
    "# there are two examples defined in the following, each has a graph as a collection of edges with the format (start, end, edge weight)\n",
    "# as well as a defined start node and an array of vehicles [start, destination]\n",
    "# actually, it's kind of redundant to have the start node in there twice but you could set it up so that there is no predefined start node and instead,\n",
    "# only the vehicles' start nodes are taken into account. anyway, choose one of the examples below and comment the other out;\n",
    "# if you keep both uncommented the second one is executed.\n",
    "\n",
    "# the penalty value can be changed\n",
    "\n",
    "# --- first example ---\n",
    "graph = [(0, 1, 6.0), (0, 2, 4.0), (0, 3, 1.0), (0, 5, 2.0), \n",
    "(1, 6, 1.0), \n",
    "(2, 4, 3.0), (2, 6, 2.0), (2, 9, 5.0), \n",
    "(3, 2, 2.0), (3, 4, 4.0), \n",
    "(4, 7, 4.0), (4, 9, 2.0), \n",
    "(5, 1, 5.0), \n",
    "(6, 8, 3.0), (6, 9, 3.0), \n",
    "(7, 9, 3.0),\n",
    "(9, 8, 4.0)]\n",
    "\n",
    "start_node = 0\n",
    "vehicles = [[0, 4], [0, 6]]\n",
    "\n",
    "# --- second example ---\n",
    "\n",
    "graph = [(0, 1, 5.0), (0, 2, 4.0), (0, 3, 4.0),\n",
    "(1, 4, 3.0),\n",
    "(2, 1, 2.0), (2, 3, 1.0),\n",
    "(3, 4, 2.0), (3, 5, 3.0),\n",
    "(4, 6, 2.0), \n",
    "(5, 7, 4.0)\n",
    "]\n",
    "\n",
    "start_node = 0\n",
    "vehicles = [[0, 4], [0, 5]]"
   ],
   "outputs": [],
   "metadata": {}
  },
  {
   "cell_type": "code",
   "execution_count": 149,
   "source": [
    "penalty_value = 50\n",
    "\n",
    "nr_vehicles = len(vehicles)\n",
    "subgraphs = []\n",
    "nodes_in_subgraphs = []\n",
    "sliced_subgraphs = []"
   ],
   "outputs": [],
   "metadata": {}
  },
  {
   "cell_type": "code",
   "execution_count": 150,
   "source": [
    "for i in range(nr_vehicles):\n",
    "    subgraph = [edge for edge in graph if edge[0] != vehicles[i][1]]\n",
    "    subgraph.append((vehicles[i][1], vehicles[i][1], 0.0))\n",
    "    subgraphs.append(subgraph)"
   ],
   "outputs": [],
   "metadata": {}
  },
  {
   "cell_type": "code",
   "execution_count": 151,
   "source": [
    "unique_nodes = get_unique_nodes(graph)\n",
    "\n",
    "for i in range(nr_vehicles):\n",
    "    nodes_in_subgraphs.append(get_unique_nodes(subgraphs[i]))"
   ],
   "outputs": [],
   "metadata": {}
  },
  {
   "cell_type": "code",
   "execution_count": 152,
   "source": [
    "test_sg = []\n",
    "test_nsg = []\n",
    "\n",
    "nodes_total = 0\n",
    "for i in range(nr_vehicles):\n",
    "    test_sg.append(construct_sliced_graph(subgraphs[i], vehicles[i][0], vehicles[i][1]))\n",
    "\n",
    "    numbered_subgraph, nr_nodes_subgraph = construct_numbered_sliced_graph(test_sg[i], offset=nodes_total)\n",
    "    test_nsg.append(numbered_subgraph)\n",
    "\n",
    "    nodes_total += nr_nodes_subgraph\n",
    "\n",
    "nr_qubits = nodes_total\n",
    "nr_qubits"
   ],
   "outputs": [
    {
     "output_type": "execute_result",
     "data": {
      "text/plain": [
       "14"
      ]
     },
     "metadata": {},
     "execution_count": 152
    }
   ],
   "metadata": {}
  },
  {
   "cell_type": "code",
   "execution_count": 153,
   "source": [
    "test_sg"
   ],
   "outputs": [
    {
     "output_type": "execute_result",
     "data": {
      "text/plain": [
       "[[[0], [1, 2, 3], [4, 1, 3], [4]], [[0], [2, 3], [3, 5], [5]]]"
      ]
     },
     "metadata": {},
     "execution_count": 153
    }
   ],
   "metadata": {}
  },
  {
   "cell_type": "code",
   "execution_count": 154,
   "source": [
    "test_sg"
   ],
   "outputs": [
    {
     "output_type": "execute_result",
     "data": {
      "text/plain": [
       "[[[0], [1, 2, 3], [4, 1, 3], [4]], [[0], [2, 3], [3, 5], [5]]]"
      ]
     },
     "metadata": {},
     "execution_count": 154
    }
   ],
   "metadata": {}
  },
  {
   "cell_type": "code",
   "execution_count": 155,
   "source": [
    "test_nsg"
   ],
   "outputs": [
    {
     "output_type": "execute_result",
     "data": {
      "text/plain": [
       "[[[0], [1, 2, 3], [4, 5, 6], [7]], [[8], [9, 10], [11, 12], [13]]]"
      ]
     },
     "metadata": {},
     "execution_count": 155
    }
   ],
   "metadata": {}
  },
  {
   "cell_type": "code",
   "execution_count": 156,
   "source": [
    "matrix = construct_graph_matrix(graph)\n",
    "matrix"
   ],
   "outputs": [
    {
     "output_type": "execute_result",
     "data": {
      "text/plain": [
       "               0              1              2              3              4  \\\n",
       "0             []             []             []             []             []   \n",
       "1  [(0, 1, 5.0)]             []  [(2, 1, 2.0)]             []             []   \n",
       "2  [(0, 2, 4.0)]             []             []             []             []   \n",
       "3  [(0, 3, 4.0)]             []  [(2, 3, 1.0)]             []             []   \n",
       "4             []  [(1, 4, 3.0)]             []  [(3, 4, 2.0)]  [(4, 4, 0.0)]   \n",
       "5             []             []             []  [(3, 5, 3.0)]             []   \n",
       "6             []             []             []             []  [(4, 6, 2.0)]   \n",
       "7             []             []             []             []             []   \n",
       "\n",
       "               5   6   7  \n",
       "0             []  []  []  \n",
       "1             []  []  []  \n",
       "2             []  []  []  \n",
       "3             []  []  []  \n",
       "4             []  []  []  \n",
       "5  [(5, 5, 0.0)]  []  []  \n",
       "6             []  []  []  \n",
       "7  [(5, 7, 4.0)]  []  []  "
      ],
      "text/html": [
       "<div>\n",
       "<style scoped>\n",
       "    .dataframe tbody tr th:only-of-type {\n",
       "        vertical-align: middle;\n",
       "    }\n",
       "\n",
       "    .dataframe tbody tr th {\n",
       "        vertical-align: top;\n",
       "    }\n",
       "\n",
       "    .dataframe thead th {\n",
       "        text-align: right;\n",
       "    }\n",
       "</style>\n",
       "<table border=\"1\" class=\"dataframe\">\n",
       "  <thead>\n",
       "    <tr style=\"text-align: right;\">\n",
       "      <th></th>\n",
       "      <th>0</th>\n",
       "      <th>1</th>\n",
       "      <th>2</th>\n",
       "      <th>3</th>\n",
       "      <th>4</th>\n",
       "      <th>5</th>\n",
       "      <th>6</th>\n",
       "      <th>7</th>\n",
       "    </tr>\n",
       "  </thead>\n",
       "  <tbody>\n",
       "    <tr>\n",
       "      <th>0</th>\n",
       "      <td>[]</td>\n",
       "      <td>[]</td>\n",
       "      <td>[]</td>\n",
       "      <td>[]</td>\n",
       "      <td>[]</td>\n",
       "      <td>[]</td>\n",
       "      <td>[]</td>\n",
       "      <td>[]</td>\n",
       "    </tr>\n",
       "    <tr>\n",
       "      <th>1</th>\n",
       "      <td>[(0, 1, 5.0)]</td>\n",
       "      <td>[]</td>\n",
       "      <td>[(2, 1, 2.0)]</td>\n",
       "      <td>[]</td>\n",
       "      <td>[]</td>\n",
       "      <td>[]</td>\n",
       "      <td>[]</td>\n",
       "      <td>[]</td>\n",
       "    </tr>\n",
       "    <tr>\n",
       "      <th>2</th>\n",
       "      <td>[(0, 2, 4.0)]</td>\n",
       "      <td>[]</td>\n",
       "      <td>[]</td>\n",
       "      <td>[]</td>\n",
       "      <td>[]</td>\n",
       "      <td>[]</td>\n",
       "      <td>[]</td>\n",
       "      <td>[]</td>\n",
       "    </tr>\n",
       "    <tr>\n",
       "      <th>3</th>\n",
       "      <td>[(0, 3, 4.0)]</td>\n",
       "      <td>[]</td>\n",
       "      <td>[(2, 3, 1.0)]</td>\n",
       "      <td>[]</td>\n",
       "      <td>[]</td>\n",
       "      <td>[]</td>\n",
       "      <td>[]</td>\n",
       "      <td>[]</td>\n",
       "    </tr>\n",
       "    <tr>\n",
       "      <th>4</th>\n",
       "      <td>[]</td>\n",
       "      <td>[(1, 4, 3.0)]</td>\n",
       "      <td>[]</td>\n",
       "      <td>[(3, 4, 2.0)]</td>\n",
       "      <td>[(4, 4, 0.0)]</td>\n",
       "      <td>[]</td>\n",
       "      <td>[]</td>\n",
       "      <td>[]</td>\n",
       "    </tr>\n",
       "    <tr>\n",
       "      <th>5</th>\n",
       "      <td>[]</td>\n",
       "      <td>[]</td>\n",
       "      <td>[]</td>\n",
       "      <td>[(3, 5, 3.0)]</td>\n",
       "      <td>[]</td>\n",
       "      <td>[(5, 5, 0.0)]</td>\n",
       "      <td>[]</td>\n",
       "      <td>[]</td>\n",
       "    </tr>\n",
       "    <tr>\n",
       "      <th>6</th>\n",
       "      <td>[]</td>\n",
       "      <td>[]</td>\n",
       "      <td>[]</td>\n",
       "      <td>[]</td>\n",
       "      <td>[(4, 6, 2.0)]</td>\n",
       "      <td>[]</td>\n",
       "      <td>[]</td>\n",
       "      <td>[]</td>\n",
       "    </tr>\n",
       "    <tr>\n",
       "      <th>7</th>\n",
       "      <td>[]</td>\n",
       "      <td>[]</td>\n",
       "      <td>[]</td>\n",
       "      <td>[]</td>\n",
       "      <td>[]</td>\n",
       "      <td>[(5, 7, 4.0)]</td>\n",
       "      <td>[]</td>\n",
       "      <td>[]</td>\n",
       "    </tr>\n",
       "  </tbody>\n",
       "</table>\n",
       "</div>"
      ]
     },
     "metadata": {},
     "execution_count": 156
    }
   ],
   "metadata": {}
  },
  {
   "cell_type": "code",
   "execution_count": 157,
   "source": [
    "# not necessary, but allows for easier comprehension as well as changes in cost values;\n",
    "# if specific nodes should be discouraged from traversing, changes can be made \n",
    "# here instead of in the graph itself\n",
    "edge_cost_matrix = construct_cost_matrix(matrix)\n",
    "edge_cost_matrix"
   ],
   "outputs": [
    {
     "output_type": "execute_result",
     "data": {
      "text/plain": [
       "    0   1   2   3   4   5   6   7\n",
       "0  50  50  50  50  50  50  50  50\n",
       "1   5  50   2  50  50  50  50  50\n",
       "2   4  50  50  50  50  50  50  50\n",
       "3   4  50   1  50  50  50  50  50\n",
       "4  50   3  50   2   0  50  50  50\n",
       "5  50  50  50   3  50   0  50  50\n",
       "6  50  50  50  50   2  50  50  50\n",
       "7  50  50  50  50  50   4  50  50"
      ],
      "text/html": [
       "<div>\n",
       "<style scoped>\n",
       "    .dataframe tbody tr th:only-of-type {\n",
       "        vertical-align: middle;\n",
       "    }\n",
       "\n",
       "    .dataframe tbody tr th {\n",
       "        vertical-align: top;\n",
       "    }\n",
       "\n",
       "    .dataframe thead th {\n",
       "        text-align: right;\n",
       "    }\n",
       "</style>\n",
       "<table border=\"1\" class=\"dataframe\">\n",
       "  <thead>\n",
       "    <tr style=\"text-align: right;\">\n",
       "      <th></th>\n",
       "      <th>0</th>\n",
       "      <th>1</th>\n",
       "      <th>2</th>\n",
       "      <th>3</th>\n",
       "      <th>4</th>\n",
       "      <th>5</th>\n",
       "      <th>6</th>\n",
       "      <th>7</th>\n",
       "    </tr>\n",
       "  </thead>\n",
       "  <tbody>\n",
       "    <tr>\n",
       "      <th>0</th>\n",
       "      <td>50</td>\n",
       "      <td>50</td>\n",
       "      <td>50</td>\n",
       "      <td>50</td>\n",
       "      <td>50</td>\n",
       "      <td>50</td>\n",
       "      <td>50</td>\n",
       "      <td>50</td>\n",
       "    </tr>\n",
       "    <tr>\n",
       "      <th>1</th>\n",
       "      <td>5</td>\n",
       "      <td>50</td>\n",
       "      <td>2</td>\n",
       "      <td>50</td>\n",
       "      <td>50</td>\n",
       "      <td>50</td>\n",
       "      <td>50</td>\n",
       "      <td>50</td>\n",
       "    </tr>\n",
       "    <tr>\n",
       "      <th>2</th>\n",
       "      <td>4</td>\n",
       "      <td>50</td>\n",
       "      <td>50</td>\n",
       "      <td>50</td>\n",
       "      <td>50</td>\n",
       "      <td>50</td>\n",
       "      <td>50</td>\n",
       "      <td>50</td>\n",
       "    </tr>\n",
       "    <tr>\n",
       "      <th>3</th>\n",
       "      <td>4</td>\n",
       "      <td>50</td>\n",
       "      <td>1</td>\n",
       "      <td>50</td>\n",
       "      <td>50</td>\n",
       "      <td>50</td>\n",
       "      <td>50</td>\n",
       "      <td>50</td>\n",
       "    </tr>\n",
       "    <tr>\n",
       "      <th>4</th>\n",
       "      <td>50</td>\n",
       "      <td>3</td>\n",
       "      <td>50</td>\n",
       "      <td>2</td>\n",
       "      <td>0</td>\n",
       "      <td>50</td>\n",
       "      <td>50</td>\n",
       "      <td>50</td>\n",
       "    </tr>\n",
       "    <tr>\n",
       "      <th>5</th>\n",
       "      <td>50</td>\n",
       "      <td>50</td>\n",
       "      <td>50</td>\n",
       "      <td>3</td>\n",
       "      <td>50</td>\n",
       "      <td>0</td>\n",
       "      <td>50</td>\n",
       "      <td>50</td>\n",
       "    </tr>\n",
       "    <tr>\n",
       "      <th>6</th>\n",
       "      <td>50</td>\n",
       "      <td>50</td>\n",
       "      <td>50</td>\n",
       "      <td>50</td>\n",
       "      <td>2</td>\n",
       "      <td>50</td>\n",
       "      <td>50</td>\n",
       "      <td>50</td>\n",
       "    </tr>\n",
       "    <tr>\n",
       "      <th>7</th>\n",
       "      <td>50</td>\n",
       "      <td>50</td>\n",
       "      <td>50</td>\n",
       "      <td>50</td>\n",
       "      <td>50</td>\n",
       "      <td>4</td>\n",
       "      <td>50</td>\n",
       "      <td>50</td>\n",
       "    </tr>\n",
       "  </tbody>\n",
       "</table>\n",
       "</div>"
      ]
     },
     "metadata": {},
     "execution_count": 157
    }
   ],
   "metadata": {}
  },
  {
   "cell_type": "code",
   "execution_count": 158,
   "source": [
    "highest_slice_nr = 0\n",
    "for i in range(nr_vehicles):\n",
    "    if len(test_sg[i]) > highest_slice_nr:\n",
    "        highest_slice_nr = len(test_sg[i])"
   ],
   "outputs": [],
   "metadata": {}
  },
  {
   "cell_type": "markdown",
   "source": [
    "## Cost Function"
   ],
   "metadata": {}
  },
  {
   "cell_type": "code",
   "execution_count": 159,
   "source": [
    "# define all necessary variables\n",
    "\n",
    "X = sym.IndexedBase('X') # counter variable for qubits\n",
    "c = sym.symbols('c') # counter variable for slices\n",
    "v = sym.symbols('v') # counter variable for vertices (nodes)\n",
    "y = sym.symbols('y') # counter variable for vertices\n",
    "w = sym.symbols('w') # counter variable for vertices\n",
    "k = sym.symbols('k') # counter variable for vehicles\n",
    "P = sym.symbols('P') # penalty value\n",
    "c_max = sym.symbols('c_max') # max number of slices\n",
    "\n",
    "nrvehicles = sym.symbols('nrvehicles')\n",
    "len_unique_nodes = sym.symbols('len_unique_nodes') # number of unique vertices\n",
    "\n",
    "uniques = sym.IndexedBase('uniques') # used to access array of unique vertices\n",
    "\n",
    "d = sym.IndexedBase('d') # represents the function d, which returns the edge cost between two vertices\n",
    "D = sym.IndexedBase('D') # represents the function D_function (see above)\n",
    "\n",
    "sg = sym.IndexedBase('sg')\n",
    "nsg = sym.IndexedBase('nsg')\n",
    "\n",
    "nrslices = sym.IndexedBase('nrslices')\n",
    "lenslice = sym.IndexedBase('lenslice')"
   ],
   "outputs": [],
   "metadata": {}
  },
  {
   "cell_type": "code",
   "execution_count": 160,
   "source": [
    "cost_function = sym.Sum(\n",
    "                sym.Sum(                                \n",
    "                    (sym.Sum(  \n",
    "                        X[nsg[k,c,v]],            \n",
    "                        (v, 0, lenslice[k,c] - 1)\n",
    "                        )\n",
    "                        - 1 )**2 * P,\n",
    "\n",
    "                    (c, 0, nrslices[k]-1)) + 0.5 * sym.Sum(   \n",
    "                        2 * (sym.Sum(  sym.Sum(  X[nsg[k,c,y]] * X[nsg[k,c+1,w]] * d[sg[k,c,y], sg[k,c+1,w]],  (w, 0, lenslice[k,c + 1] - 1) ) , (y, 0, lenslice[k,c] - 1))),\n",
    "                        (c, 0, nrslices[k] - 2)), (k, 0, nrvehicles-1)) + P * sym.Sum( sym.Sum( ( D[uniques[v],c,nrvehicles] - 1) * D[uniques[v],c,nrvehicles] , (v, 1, len_unique_nodes-1))  , (c, 0, c_max - 1)) # v is one because we don't check for node 0, since they all start there\n",
    "\n",
    "# workaround -- multiplying with 0.5 and then 2, since sympy does not evaluate the triple sum otherwise\n",
    "                    \n",
    "cost_function"
   ],
   "outputs": [
    {
     "output_type": "execute_result",
     "data": {
      "text/plain": [
       "P*Sum((D[uniques[v], c, nrvehicles] - 1)*D[uniques[v], c, nrvehicles], (v, 1, len_unique_nodes - 1), (c, 0, c_max - 1)) + Sum(Sum(P*(Sum(X[nsg[k, c, v]], (v, 0, lenslice[k, c] - 1)) - 1)**2, (c, 0, nrslices[k] - 1)) + 0.5*Sum(2*Sum(X[nsg[k, c + 1, w]]*X[nsg[k, c, y]]*d[sg[k, c, y], sg[k, c + 1, w]], (w, 0, lenslice[k, c + 1] - 1), (y, 0, lenslice[k, c] - 1)), (c, 0, nrslices[k] - 2)), (k, 0, nrvehicles - 1))"
      ],
      "text/latex": [
       "$\\displaystyle P \\sum_{\\substack{1 \\leq v \\leq len_{unique nodes} - 1\\\\0 \\leq c \\leq c_{max} - 1}} \\left({D}_{{uniques}_{v},c,nrvehicles} - 1\\right) {D}_{{uniques}_{v},c,nrvehicles} + \\sum_{k=0}^{nrvehicles - 1} \\left(\\sum_{c=0}^{{nrslices}_{k} - 1} P \\left(\\sum_{v=0}^{{lenslice}_{k,c} - 1} {X}_{{nsg}_{k,c,v}} - 1\\right)^{2} + 0.5 \\sum_{c=0}^{{nrslices}_{k} - 2} 2 \\sum_{\\substack{0 \\leq w \\leq {lenslice}_{k,c + 1} - 1\\\\0 \\leq y \\leq {lenslice}_{k,c} - 1}} {X}_{{nsg}_{k,c + 1,w}} {X}_{{nsg}_{k,c,y}} {d}_{{sg}_{k,c,y},{sg}_{k,c + 1,w}}\\right)$"
      ]
     },
     "metadata": {},
     "execution_count": 160
    }
   ],
   "metadata": {}
  },
  {
   "cell_type": "code",
   "execution_count": 161,
   "source": [
    "# translation of data into dictionaries for sympy\n",
    "single_valued_dict = {\n",
    "    nrvehicles: nr_vehicles,\n",
    "    P: penalty_value,\n",
    "    c_max: highest_slice_nr,\n",
    "    len_unique_nodes: len(unique_nodes)\n",
    "    }\n",
    "\n",
    "nr_slices_dict = {\n",
    "    nrslices[k]: len(test_sg[k]) for k in range(nr_vehicles)\n",
    "}\n",
    "\n",
    "unique_nodes_dict = {\n",
    "    uniques[v]: unique_nodes[v] for v in range(len(unique_nodes))\n",
    "}\n",
    "\n",
    "numbered_sliced_graph_dict = {\n",
    "    nsg[k, i, j]: test_nsg[k][i][j] for k in range(nr_vehicles) for i in range(len(test_nsg[k])) for j in range(len(test_nsg[k][i]))\n",
    "}\n",
    "\n",
    "D_function_dict = {\n",
    "    D[v, c, r]: D_function(v, c, r) for v in range(len(unique_nodes)) for c in range(highest_slice_nr) for r in range(nr_vehicles, nr_vehicles+1)\n",
    "}\n",
    "\n",
    "sliced_graph_dict = {\n",
    "    sg[k, i, j]: test_sg[k][i][j] for k in range(nr_vehicles) for i in range(len(test_sg[k])) for j in range(len(test_sg[k][i]))\n",
    "}\n",
    "\n",
    "len_slice_dict = {\n",
    "    lenslice[k, i]: len(test_sg[k][i]) for k in range(nr_vehicles) for i in range(len(test_sg[k]))\n",
    "}\n",
    "\n",
    "d_dict = {\n",
    "    d[i, j]: edge_cost_matrix[i][j] \n",
    "    for i in unique_nodes\n",
    "    for j in unique_nodes\n",
    "}\n",
    "\n",
    "# definition of the cost polynomial\n",
    "cost_poly = sym.Poly(cost_function\n",
    "                     .subs(single_valued_dict)\n",
    "                     .doit()\n",
    "                     .subs(nr_slices_dict)\n",
    "                     .doit()\n",
    "                     .subs(unique_nodes_dict)\n",
    "                     .doit()\n",
    "                     .subs(len_slice_dict)\n",
    "                     .doit()\n",
    "                     .subs(D_function_dict)\n",
    "                     .doit()\n",
    "                     .subs(numbered_sliced_graph_dict)\n",
    "                     .subs(sliced_graph_dict)\n",
    "                     .doit()\n",
    "                     .subs(d_dict)\n",
    "                     .doit(),\n",
    "                     [X[i] for i in range(nr_qubits)])\n",
    "cost_poly\n",
    "\n",
    "# the only variables in the cost polynomial should be X_0, X_1, X_2 etc. if not, then some of the variables have not been evaluated; order of evaluation is important.\n",
    "# if the evaluation of parts of the polynomial depends on the evaluation of another, then doit() is necessary in between in order to evaluate that first part."
   ],
   "outputs": [
    {
     "output_type": "execute_result",
     "data": {
      "text/plain": [
       "Poly(50.0*X[0]**2 + 5.0*X[0]*X[1] + 4.0*X[0]*X[2] + 4.0*X[0]*X[3] - 100.0*X[0] + 100.0*X[1]**2 + 100.0*X[1]*X[2] + 100.0*X[1]*X[3] + 3.0*X[1]*X[4] + 50.0*X[1]*X[5] + 50.0*X[1]*X[6] - 150.0*X[1] + 100.0*X[2]**2 + 100.0*X[2]*X[3] + 50.0*X[2]*X[4] + 2.0*X[2]*X[5] + 1.0*X[2]*X[6] + 100.0*X[2]*X[9] - 150.0*X[2] + 100.0*X[3]**2 + 2.0*X[3]*X[4] + 50.0*X[3]*X[5] + 50.0*X[3]*X[6] + 100.0*X[3]*X[10] - 150.0*X[3] + 100.0*X[4]**2 + 100.0*X[4]*X[5] + 100.0*X[4]*X[6] - 150.0*X[4] + 100.0*X[5]**2 + 100.0*X[5]*X[6] + 3.0*X[5]*X[7] - 150.0*X[5] + 100.0*X[6]**2 + 2.0*X[6]*X[7] + 100.0*X[6]*X[11] - 150.0*X[6] + 100.0*X[7]**2 - 150.0*X[7] + 50.0*X[8]**2 + 4.0*X[8]*X[9] + 4.0*X[8]*X[10] - 100.0*X[8] + 100.0*X[9]**2 + 100.0*X[9]*X[10] + 1.0*X[9]*X[11] + 50.0*X[9]*X[12] - 150.0*X[9] + 100.0*X[10]**2 + 50.0*X[10]*X[11] + 3.0*X[10]*X[12] - 150.0*X[10] + 100.0*X[11]**2 + 100.0*X[11]*X[12] + 3.0*X[11]*X[13] - 150.0*X[11] + 100.0*X[12]**2 - 150.0*X[12] + 100.0*X[13]**2 - 150.0*X[13] + 400.0, X[0], X[1], X[2], X[3], X[4], X[5], X[6], X[7], X[8], X[9], X[10], X[11], X[12], X[13], domain='RR')"
      ],
      "text/latex": [
       "$\\displaystyle \\operatorname{Poly}{\\left( 50.0 {X}_{0}^{2} + 5.0 {X}_{0}{X}_{1} + 4.0 {X}_{0}{X}_{2} + 4.0 {X}_{0}{X}_{3} - 100.0 {X}_{0} + 100.0 {X}_{1}^{2} + 100.0 {X}_{1}{X}_{2} + 100.0 {X}_{1}{X}_{3} + 3.0 {X}_{1}{X}_{4} + 50.0 {X}_{1}{X}_{5} + 50.0 {X}_{1}{X}_{6} - 150.0 {X}_{1} + 100.0 {X}_{2}^{2} + 100.0 {X}_{2}{X}_{3} + 50.0 {X}_{2}{X}_{4} + 2.0 {X}_{2}{X}_{5} + 1.0 {X}_{2}{X}_{6} + 100.0 {X}_{2}{X}_{9} - 150.0 {X}_{2} + 100.0 {X}_{3}^{2} + 2.0 {X}_{3}{X}_{4} + 50.0 {X}_{3}{X}_{5} + 50.0 {X}_{3}{X}_{6} + 100.0 {X}_{3}{X}_{10} - 150.0 {X}_{3} + 100.0 {X}_{4}^{2} + 100.0 {X}_{4}{X}_{5} + 100.0 {X}_{4}{X}_{6} - 150.0 {X}_{4} + 100.0 {X}_{5}^{2} + 100.0 {X}_{5}{X}_{6} + 3.0 {X}_{5}{X}_{7} - 150.0 {X}_{5} + 100.0 {X}_{6}^{2} + 2.0 {X}_{6}{X}_{7} + 100.0 {X}_{6}{X}_{11} - 150.0 {X}_{6} + 100.0 {X}_{7}^{2} - 150.0 {X}_{7} + 50.0 {X}_{8}^{2} + 4.0 {X}_{8}{X}_{9} + 4.0 {X}_{8}{X}_{10} - 100.0 {X}_{8} + 100.0 {X}_{9}^{2} + 100.0 {X}_{9}{X}_{10} + 1.0 {X}_{9}{X}_{11} + 50.0 {X}_{9}{X}_{12} - 150.0 {X}_{9} + 100.0 {X}_{10}^{2} + 50.0 {X}_{10}{X}_{11} + 3.0 {X}_{10}{X}_{12} - 150.0 {X}_{10} + 100.0 {X}_{11}^{2} + 100.0 {X}_{11}{X}_{12} + 3.0 {X}_{11}{X}_{13} - 150.0 {X}_{11} + 100.0 {X}_{12}^{2} - 150.0 {X}_{12} + 100.0 {X}_{13}^{2} - 150.0 {X}_{13} + 400.0, {X}_{0}, {X}_{1}, {X}_{2}, {X}_{3}, {X}_{4}, {X}_{5}, {X}_{6}, {X}_{7}, {X}_{8}, {X}_{9}, {X}_{10}, {X}_{11}, {X}_{12}, {X}_{13}, domain=\\mathbb{R} \\right)}$"
      ]
     },
     "metadata": {},
     "execution_count": 161
    }
   ],
   "metadata": {}
  },
  {
   "cell_type": "markdown",
   "source": [
    "## Setup"
   ],
   "metadata": {}
  },
  {
   "cell_type": "code",
   "execution_count": 162,
   "source": [
    "import qiskit\n",
    "from qiskit.algorithms import QAOA, VQE\n",
    "\n",
    "from qiskit_optimization.algorithms import MinimumEigenOptimizer, RecursiveMinimumEigenOptimizer, CplexOptimizer\n",
    "from qiskit.utils import QuantumInstance\n",
    "from qiskit_optimization.problems import QuadraticProgram\n",
    "from qiskit.algorithms.optimizers import COBYLA, L_BFGS_B, SPSA, SLSQP\n",
    "\n",
    "\n",
    "# generate qiskit's cost function\n",
    "qiskit_cost_function = QuadraticProgram()\n",
    "\n",
    "# define qiskit variables\n",
    "for i in range(nr_qubits):\n",
    "    qiskit_cost_function.binary_var('X_' + str(i))\n",
    "\n",
    "# specify qiskit cost function\n",
    "qiskit_cost_function.minimize(\n",
    "    linear = [int(cost_poly.coeff_monomial(X[i]**1)) for i in range(nr_qubits)],\n",
    "    quadratic = {\n",
    "        ('X_'+str(i), 'X_'+str(j)): cost_poly.coeff_monomial(X[i]**1 * X[j]**1)\n",
    "        for i in range(nr_qubits)\n",
    "        for j in range(i,nr_qubits)\n",
    "    }\n",
    "    )\n",
    "for i in range(nr_vehicles):\n",
    "    fix_nodes(vehicles[i][0], vehicles[i][1], i, test_sg[i], test_nsg[i], qiskit_cost_function)\n",
    "\n",
    "print(qiskit_cost_function.export_as_lp_string())"
   ],
   "outputs": [
    {
     "output_type": "stream",
     "name": "stdout",
     "text": [
      "\\ This file has been generated by DOcplex\n",
      "\\ ENCODING=ISO-8859-1\n",
      "\\Problem name: CPLEX\n",
      "\n",
      "Minimize\n",
      " obj: - 100 X_0 - 150 X_1 - 150 X_2 - 150 X_3 - 150 X_4 - 150 X_5 - 150 X_6\n",
      "      - 150 X_7 - 100 X_8 - 150 X_9 - 150 X_10 - 150 X_11 - 150 X_12 - 150 X_13\n",
      "      + [ 100 X_0^2 + 10 X_0*X_1 + 8 X_0*X_2 + 8 X_0*X_3 + 200 X_1^2\n",
      "      + 200 X_1*X_2 + 200 X_1*X_3 + 6 X_1*X_4 + 100 X_1*X_5 + 100 X_1*X_6\n",
      "      + 200 X_2^2 + 200 X_2*X_3 + 100 X_2*X_4 + 4 X_2*X_5 + 2 X_2*X_6\n",
      "      + 200 X_2*X_9 + 200 X_3^2 + 4 X_3*X_4 + 100 X_3*X_5 + 100 X_3*X_6\n",
      "      + 200 X_3*X_10 + 200 X_4^2 + 200 X_4*X_5 + 200 X_4*X_6 + 200 X_5^2\n",
      "      + 200 X_5*X_6 + 6 X_5*X_7 + 200 X_6^2 + 4 X_6*X_7 + 200 X_6*X_11\n",
      "      + 200 X_7^2 + 100 X_8^2 + 8 X_8*X_9 + 8 X_8*X_10 + 200 X_9^2\n",
      "      + 200 X_9*X_10 + 2 X_9*X_11 + 100 X_9*X_12 + 200 X_10^2 + 100 X_10*X_11\n",
      "      + 6 X_10*X_12 + 200 X_11^2 + 200 X_11*X_12 + 6 X_11*X_13 + 200 X_12^2\n",
      "      + 200 X_13^2 ]/2\n",
      "Subject To\n",
      " start_node_veh_0: X_0 = 1\n",
      " destination_node_veh_0: X_7 = 1\n",
      " start_node_veh_1: X_8 = 1\n",
      " destination_node_veh_1: X_13 = 1\n",
      "\n",
      "Bounds\n",
      " 0 <= X_0 <= 1\n",
      " 0 <= X_1 <= 1\n",
      " 0 <= X_2 <= 1\n",
      " 0 <= X_3 <= 1\n",
      " 0 <= X_4 <= 1\n",
      " 0 <= X_5 <= 1\n",
      " 0 <= X_6 <= 1\n",
      " 0 <= X_7 <= 1\n",
      " 0 <= X_8 <= 1\n",
      " 0 <= X_9 <= 1\n",
      " 0 <= X_10 <= 1\n",
      " 0 <= X_11 <= 1\n",
      " 0 <= X_12 <= 1\n",
      " 0 <= X_13 <= 1\n",
      "\n",
      "Binaries\n",
      " X_0 X_1 X_2 X_3 X_4 X_5 X_6 X_7 X_8 X_9 X_10 X_11 X_12 X_13\n",
      "End\n",
      "\n"
     ]
    }
   ],
   "metadata": {}
  },
  {
   "cell_type": "code",
   "execution_count": 163,
   "source": [
    "# the offset is not included in the cost function that will be passed to the algorithm, so it will be added later to get the actual result\n",
    "# (only linear and quadratic terms are included)\n",
    "offset = cost_poly.coeff_monomial(1)\n",
    "offset"
   ],
   "outputs": [
    {
     "output_type": "execute_result",
     "data": {
      "text/plain": [
       "400.000000000000"
      ],
      "text/latex": [
       "$\\displaystyle 400.0$"
      ]
     },
     "metadata": {},
     "execution_count": 163
    }
   ],
   "metadata": {}
  },
  {
   "cell_type": "markdown",
   "source": [
    "## QAOA"
   ],
   "metadata": {}
  },
  {
   "cell_type": "code",
   "execution_count": 164,
   "source": [
    "# execute QAOA on local simulator\n",
    "maxiter = 200\n",
    "optimizer = SPSA(maxiter=maxiter) # JRL: was COBYLA\n",
    "backend = qiskit.Aer.get_backend('qasm_simulator')\n",
    "\n",
    "qaoa = QAOA(reps=10, optimizer=optimizer, quantum_instance =\n",
    "             QuantumInstance(backend=backend, skip_qobj_validation=False))\n",
    "optimizer_qaoa = MinimumEigenOptimizer(qaoa)\n",
    "\n",
    "result_qaoa = optimizer_qaoa.solve(qiskit_cost_function)\n",
    "\n",
    "results = []\n",
    "\n",
    "for i in range(10):\n",
    "    print(i)\n",
    "    result_qaoa = optimizer_qaoa.solve(qiskit_cost_function)\n",
    "    results.append(result_qaoa)"
   ],
   "outputs": [
    {
     "output_type": "stream",
     "name": "stdout",
     "text": [
      "0\n",
      "1\n",
      "2\n",
      "3\n",
      "4\n",
      "5\n",
      "6\n",
      "7\n",
      "8\n",
      "9\n"
     ]
    }
   ],
   "metadata": {}
  },
  {
   "cell_type": "code",
   "execution_count": 165,
   "source": [
    "result_df = pd.DataFrame(columns = ['actual_opt_cost', 'path'])\n",
    "\n",
    "for r in results:\n",
    "\n",
    "    path_string = str(r.x).replace(' ', '').replace('.', '')[1:-1]\n",
    "    result_df = result_df.append({'actual_opt_cost': r.fval + offset, 'path': path_string}, ignore_index=True)\n",
    "\n",
    "print(\"QAOA:\")\n",
    "print(result_df.sort_values(by=['actual_opt_cost']))"
   ],
   "outputs": [
    {
     "output_type": "stream",
     "name": "stdout",
     "text": [
      "QAOA:\n",
      "    actual_opt_cost            path\n",
      "6  15.0000000000000  11001001101011\n",
      "4  16.0000000000000  10100101101011\n",
      "7  16.0000000000000  10100101101011\n",
      "3  56.0000000000000  10011001100011\n",
      "5  56.0000000000000  10011001100011\n",
      "0  57.0000000000000  10100011100011\n",
      "1  59.0000000000000  10000011101011\n",
      "2  61.0000000000000  10101001101011\n",
      "8  62.0000000000000  11001001110011\n",
      "9  102.000000000000  10000011100011\n"
     ]
    }
   ],
   "metadata": {}
  },
  {
   "cell_type": "code",
   "execution_count": 176,
   "source": [
    "# sixth qubit result of the qaoa, shown as path\n",
    "for i in range(nr_vehicles):\n",
    "    section_start = test_nsg[i][0][0]\n",
    "    section_end = test_nsg[i][-1][-1] + 1\n",
    "    qubit_section_for_vehicle = result_df.iloc[6,1][section_start:section_end]\n",
    "\n",
    "    result_evaluation(qubit_section_for_vehicle, section_start, test_sg[i], test_nsg[i], edge_cost_matrix)"
   ],
   "outputs": [
    {
     "output_type": "stream",
     "name": "stdout",
     "text": [
      "node 0 at time slice 0\n",
      "\t\t\t\tcost: 5.0\n",
      "node 1 at time slice 1\n",
      "\t\t\t\tcost: 3.0\n",
      "node 4 at time slice 2\n",
      "\t\t\t\tcost: 0.0\n",
      "node 4 at time slice 3\n",
      "\n",
      "total cost: 8.0\n",
      "node 0 at time slice 0\n",
      "\t\t\t\tcost: 4.0\n",
      "node 3 at time slice 1\n",
      "\t\t\t\tcost: 3.0\n",
      "node 5 at time slice 2\n",
      "\t\t\t\tcost: 0.0\n",
      "node 5 at time slice 3\n",
      "\n",
      "total cost: 7.0\n"
     ]
    }
   ],
   "metadata": {}
  },
  {
   "cell_type": "markdown",
   "source": [
    "## VQE"
   ],
   "metadata": {}
  },
  {
   "cell_type": "code",
   "execution_count": 170,
   "source": [
    "from qiskit.circuit.library import TwoLocal\n",
    "from qiskit.algorithms.optimizers import COBYLA, L_BFGS_B, SPSA, SLSQP\n",
    "\n",
    "backend = qiskit.Aer.get_backend('qasm_simulator')\n",
    "optimizer = SPSA(maxiter=250)\n",
    "ry = TwoLocal(nr_qubits, 'ry', 'cz', reps=10, entanglement='linear') # ansatz\n",
    "\n",
    "vqe = VQE(ry, optimizer=optimizer, quantum_instance=QuantumInstance(backend=backend))\n",
    "\n",
    "optimizer_vqe = MinimumEigenOptimizer(vqe)\n",
    "\n",
    "results_vqe = []\n",
    "\n",
    "for i in range(10):\n",
    "    print(i)\n",
    "    result_vqe = optimizer_vqe.solve(qiskit_cost_function)\n",
    "    results_vqe.append(result_vqe)"
   ],
   "outputs": [
    {
     "output_type": "stream",
     "name": "stdout",
     "text": [
      "0\n",
      "1\n",
      "2\n",
      "3\n",
      "4\n",
      "5\n",
      "6\n",
      "7\n",
      "8\n",
      "9\n"
     ]
    }
   ],
   "metadata": {}
  },
  {
   "cell_type": "code",
   "execution_count": 171,
   "source": [
    "# actual_opt_cost: optimization cost. includes path cost and incurred penalties. always > 0.\n",
    "# path: qubit-result\n",
    "result_df_vqe = pd.DataFrame(columns = ['actual_opt_cost', 'path'])\n",
    "\n",
    "for r in results_vqe:\n",
    "\n",
    "    path_string = str(r.x).replace(' ', '').replace('.', '')[1:-1]\n",
    "    result_df_vqe = result_df_vqe.append({'actual_opt_cost': r.fval + offset, 'path': path_string}, ignore_index=True)\n",
    "\n",
    "print(\"VQE:\")\n",
    "print(result_df_vqe.sort_values(by=['actual_opt_cost']))"
   ],
   "outputs": [
    {
     "output_type": "stream",
     "name": "stdout",
     "text": [
      "VQE:\n",
      "    actual_opt_cost            path\n",
      "3  16.0000000000000  10100101101011\n",
      "9  59.0000000000000  10011001100101\n",
      "1  62.0000000000000  11001001110011\n",
      "7  62.0000000000000  10100101100101\n",
      "8  100.000000000000  10001001100011\n",
      "2  103.000000000000  10001001100101\n",
      "0  111.000000000000  10100001101101\n",
      "4  111.000000000000  11001001100111\n",
      "5  162.000000000000  10100111100001\n",
      "6  209.000000000000  10010111100011\n"
     ]
    }
   ],
   "metadata": {}
  },
  {
   "cell_type": "code",
   "execution_count": 177,
   "source": [
    "# print the fourth result of the vqe as a path\n",
    "# each vehicle's path gets evaluated separately, so this is why we need each result's section start and end\n",
    "for i in range(nr_vehicles):\n",
    "    section_start = test_nsg[i][0][0]\n",
    "    section_end = test_nsg[i][-1][-1] + 1\n",
    "\n",
    "    # for printing another result, change the first number in the iloc call\n",
    "    qubit_section_for_vehicle = result_df_vqe.iloc[4,1][section_start:section_end]\n",
    "\n",
    "    result_evaluation(qubit_section_for_vehicle, section_start, test_sg[i], test_nsg[i], edge_cost_matrix)"
   ],
   "outputs": [
    {
     "output_type": "stream",
     "name": "stdout",
     "text": [
      "node 0 at time slice 0\n",
      "\t\t\t\tcost: 5.0\n",
      "node 1 at time slice 1\n",
      "\t\t\t\tcost: 3.0\n",
      "node 4 at time slice 2\n",
      "\t\t\t\tcost: 0.0\n",
      "node 4 at time slice 3\n",
      "\n",
      "total cost: 8.0\n",
      "node 0 at time slice 0\n",
      "\t\t\t\tcost: 4.0\n",
      "node 3 at time slice 2\n",
      "\t\t\t\tcost: 3.0\n",
      "node 5 at time slice 2\n",
      "\t\t\t\tcost: 0.0\n",
      "node 5 at time slice 3\n",
      "\n",
      "total cost: 7.0\n",
      "\n",
      "It seems like this solution is not valid; it disregards at least one constraint.\n"
     ]
    }
   ],
   "metadata": {}
  },
  {
   "cell_type": "markdown",
   "source": [
    "## CplexOptimizer"
   ],
   "metadata": {}
  },
  {
   "cell_type": "code",
   "execution_count": 173,
   "source": [
    "# ------ CplexOptimizer needs to be installed for this and the next cell to work ------\n",
    "\n",
    "#optimizer = CplexOptimizer() if CplexOptimizer.is_cplex_installed() else None\n",
    "#results_classic = []\n",
    "\n",
    "#for i in range(1):\n",
    "#    result = optimizer.solve(qiskit_cost_function)\n",
    "#    print(result)\n",
    "#    results_classic.append(result)"
   ],
   "outputs": [],
   "metadata": {}
  },
  {
   "cell_type": "code",
   "execution_count": 174,
   "source": [
    "### actual_opt_cost: optimization cost. includes path cost and incurred penalties. always > 0.\n",
    "### path: qubit-result\n",
    "\n",
    "\n",
    "# result_df_classic = pd.DataFrame(columns = ['actual_opt_cost', 'path'])\n",
    "\n",
    "# for r in results_classic:\n",
    "#     path_string = str(r.x).replace(' ', '').replace('.', '')[1:-1]\n",
    "#     result_df_classic = result_df_classic.append({'actual_opt_cost': r.fval + offset, 'path': path_string}, ignore_index=True)\n",
    "\n",
    "# print(\"CPlexOptimizer:\")\n",
    "# print(result_df_vqe.sort_values(by=['actual_opt_cost']))"
   ],
   "outputs": [],
   "metadata": {}
  },
  {
   "cell_type": "markdown",
   "source": [
    "# to do\n",
    "- alle funktionen kommentieren -- done!!\n",
    "- bei allen drei cases die richtigen parameter eintragen\n",
    "- einmal tests laufen lassen\n",
    "- keine deutschen kommentare? -- checked!!\n",
    "- auf die test cases achten und für jeden case zwei graphen (und die richtigen anfangs- und endnodes) eintragen in separaten zellen - done"
   ],
   "metadata": {}
  }
 ],
 "metadata": {
  "interpreter": {
   "hash": "447f5fa011c7c47899f91a0b2462b94e9399cdbf5b780c102584eca8c3cd54aa"
  },
  "kernelspec": {
   "display_name": "Python 3",
   "language": "python",
   "name": "python3"
  },
  "language_info": {
   "codemirror_mode": {
    "name": "ipython",
    "version": 3
   },
   "file_extension": ".py",
   "mimetype": "text/x-python",
   "name": "python",
   "nbconvert_exporter": "python",
   "pygments_lexer": "ipython3",
   "version": "3.8.5"
  }
 },
 "nbformat": 4,
 "nbformat_minor": 2
}